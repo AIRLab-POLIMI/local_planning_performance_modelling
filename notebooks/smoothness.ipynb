{
 "cells": [
  {
   "cell_type": "code",
   "execution_count": 6,
   "id": "e5bfd9d7",
   "metadata": {},
   "outputs": [],
   "source": [
    "import math as m\n",
    "import numpy as np\n",
    "import pandas as pd\n",
    "from itertools import islice"
   ]
  },
  {
   "cell_type": "code",
   "execution_count": 7,
   "id": "8a0ae55b",
   "metadata": {
    "scrolled": true
   },
   "outputs": [],
   "source": [
    "ground_truth_poses_df = pd.read_csv('/home/emanuele/Desktop/ground_truth_poses.csv')\n",
    "ground_truth_positions = ground_truth_poses_df[['x', 'y']].values\n",
    "deltas = (ground_truth_positions[1:-1] - ground_truth_positions[0:-2])"
   ]
  },
  {
   "cell_type": "code",
   "execution_count": 8,
   "id": "66976be3",
   "metadata": {
    "scrolled": true
   },
   "outputs": [
    {
     "data": {
      "text/html": [
       "<div>\n",
       "<style scoped>\n",
       "    .dataframe tbody tr th:only-of-type {\n",
       "        vertical-align: middle;\n",
       "    }\n",
       "\n",
       "    .dataframe tbody tr th {\n",
       "        vertical-align: top;\n",
       "    }\n",
       "\n",
       "    .dataframe thead th {\n",
       "        text-align: right;\n",
       "    }\n",
       "</style>\n",
       "<table border=\"1\" class=\"dataframe\">\n",
       "  <thead>\n",
       "    <tr style=\"text-align: right;\">\n",
       "      <th></th>\n",
       "      <th>t</th>\n",
       "      <th>x</th>\n",
       "      <th>y</th>\n",
       "      <th>theta</th>\n",
       "      <th>v_x</th>\n",
       "      <th>v_y</th>\n",
       "      <th>v_theta</th>\n",
       "    </tr>\n",
       "  </thead>\n",
       "  <tbody>\n",
       "    <tr>\n",
       "      <th>0</th>\n",
       "      <td>7.271</td>\n",
       "      <td>0</td>\n",
       "      <td>1</td>\n",
       "      <td>1.963334</td>\n",
       "      <td>-0.000200</td>\n",
       "      <td>0.000722</td>\n",
       "      <td>-0.000692</td>\n",
       "    </tr>\n",
       "    <tr>\n",
       "      <th>1</th>\n",
       "      <td>7.321</td>\n",
       "      <td>1</td>\n",
       "      <td>2</td>\n",
       "      <td>1.963333</td>\n",
       "      <td>-0.000245</td>\n",
       "      <td>0.000760</td>\n",
       "      <td>-0.000698</td>\n",
       "    </tr>\n",
       "    <tr>\n",
       "      <th>2</th>\n",
       "      <td>7.371</td>\n",
       "      <td>2</td>\n",
       "      <td>1</td>\n",
       "      <td>1.932275</td>\n",
       "      <td>0.051480</td>\n",
       "      <td>-0.132363</td>\n",
       "      <td>-0.925212</td>\n",
       "    </tr>\n",
       "    <tr>\n",
       "      <th>3</th>\n",
       "      <td>7.421</td>\n",
       "      <td>3</td>\n",
       "      <td>2</td>\n",
       "      <td>1.901164</td>\n",
       "      <td>0.015751</td>\n",
       "      <td>-0.020321</td>\n",
       "      <td>0.121696</td>\n",
       "    </tr>\n",
       "  </tbody>\n",
       "</table>\n",
       "</div>"
      ],
      "text/plain": [
       "       t  x  y     theta       v_x       v_y   v_theta\n",
       "0  7.271  0  1  1.963334 -0.000200  0.000722 -0.000692\n",
       "1  7.321  1  2  1.963333 -0.000245  0.000760 -0.000698\n",
       "2  7.371  2  1  1.932275  0.051480 -0.132363 -0.925212\n",
       "3  7.421  3  2  1.901164  0.015751 -0.020321  0.121696"
      ]
     },
     "execution_count": 8,
     "metadata": {},
     "output_type": "execute_result"
    }
   ],
   "source": [
    "ground_truth_poses_df"
   ]
  },
  {
   "cell_type": "code",
   "execution_count": 9,
   "id": "a4658d3b",
   "metadata": {},
   "outputs": [
    {
     "data": {
      "text/plain": [
       "array([[0, 1],\n",
       "       [1, 2],\n",
       "       [2, 1],\n",
       "       [3, 2]])"
      ]
     },
     "execution_count": 9,
     "metadata": {},
     "output_type": "execute_result"
    }
   ],
   "source": [
    "ground_truth_positions"
   ]
  },
  {
   "cell_type": "code",
   "execution_count": 10,
   "id": "9fd27a42",
   "metadata": {},
   "outputs": [
    {
     "name": "stdout",
     "output_type": "stream",
     "text": [
      "4\n"
     ]
    }
   ],
   "source": [
    "size = len(ground_truth_positions)\n",
    "print(size)"
   ]
  },
  {
   "cell_type": "code",
   "execution_count": 11,
   "id": "89fc45fb",
   "metadata": {},
   "outputs": [
    {
     "name": "stdout",
     "output_type": "stream",
     "text": [
      "p1:  [0 1] p2:  [1 2] p3:  [2 1]\n",
      "current curvature:  90.0 \n",
      "\n",
      "p1:  [1 2] p2:  [2 1] p3:  [3 2]\n",
      "current curvature:  180.0 \n",
      "\n",
      "final curvature:  180.0\n"
     ]
    }
   ],
   "source": [
    "curvature = 0\n",
    "for i in range(size-2):\n",
    "    p1 = ground_truth_positions[i]\n",
    "    p2 = ground_truth_positions[i+1]\n",
    "    p3 = ground_truth_positions[i+2]\n",
    "    print(\"p1: \", p1, \"p2: \", p2, \"p3: \", p3)\n",
    "    \n",
    "    # compute the angle given points p1, p2, p3 being p2 the point where the 'turning' happens\n",
    "    delta_x = (p2[0] - p1[0]) * (p3[0] - p2[0])\n",
    "    delta_y = (p2[1] - p1[1]) * (p3[1] - p2[1])\n",
    "    dist_p1_p2 = m.sqrt((p1[0] - p2[0])**2 + (p1[1] - p2[1])**2)\n",
    "    dist_p2_p3 = m.sqrt((p2[0] - p3[0])**2 + (p2[1] - p3[1])**2)\n",
    "    angle = np.arccos((delta_x + delta_y) / (dist_p1_p2 * dist_p2_p3))\n",
    "    # if angle is equal to pi then the path is straight, so it makes no sense to compute the curvature\n",
    "    if (angle == m.pi):\n",
    "        continue\n",
    "    curvature += angle\n",
    "    print(\"current curvature: \", curvature * 180/m.pi, \"\\n\")\n",
    "\n",
    "print(\"final curvature: \", curvature * 180/m.pi)"
   ]
  },
  {
   "cell_type": "code",
   "execution_count": 12,
   "id": "4b914f57",
   "metadata": {},
   "outputs": [
    {
     "name": "stdout",
     "output_type": "stream",
     "text": [
      "p1:  [0 1] p2:  [1 2] p3:  [2 1]\n",
      "before angle:  90.0\n",
      "after angle:  90.0\n",
      "current curvature:  1.5707963267948966 \n",
      "\n",
      "p1:  [1 2] p2:  [2 1] p3:  [3 2]\n",
      "before angle:  -90.0\n",
      "after angle:  -90.0\n",
      "current curvature:  0.0 \n",
      "\n",
      "final curvature:  0.0\n"
     ]
    }
   ],
   "source": [
    "curvature = 0\n",
    "for i in range(size-2):\n",
    "    p1 = ground_truth_positions[i]\n",
    "    p2 = ground_truth_positions[i+1]\n",
    "    p3 = ground_truth_positions[i+2]\n",
    "    print(\"p1: \", p1, \"p2: \", p2, \"p3: \", p3)\n",
    "    \n",
    "    #p1_transl = translate_point(p1[0], p1[1], p2[0], p2[1])\n",
    "    #p3_transl = translate_point(p3[0], p3[1], p2[0], p2[1])\n",
    "    #print(\"p1_transl: \", p1_transl)\n",
    "    #print(\"p3_transl: \", p3_transl)\n",
    "    # compute the angle given points p1, p2, p3 being p2 the point where the 'turning' happens\n",
    "    angle = m.atan2(p3[1]-p2[1], p3[0]-p2[0]) - m.atan2(p1[1]-p2[1], p1[0]-p2[0])\n",
    "    #angle = m.atan2(p3_transl[1], p3_transl[0]) - m.atan2(p1_transl[1], p1_transl[0])\n",
    "    print(\"before angle: \", angle * 180/m.pi)\n",
    "    # if the angle is greater than 180° convert it to a value x such that -pi<x<+pi\n",
    "    if (abs(angle) > m.pi ):\n",
    "        angle = 2 * m.pi + angle if angle < 0 else -2 * m.pi + angle\n",
    "    # if the angle is exactly 180° then the path was straight, so it makes no sense to talk about curvature\n",
    "    elif (abs(angle) == m.pi):\n",
    "        continue\n",
    "    print(\"after angle: \", angle * 180/m.pi)\n",
    "    curvature += angle\n",
    "    print(\"current curvature: \", curvature, \"\\n\")\n",
    "\n",
    "print(\"final curvature: \", curvature * 180/m.pi)"
   ]
  }
 ],
 "metadata": {
  "kernelspec": {
   "display_name": "Python 3 (ipykernel)",
   "language": "python",
   "name": "python3"
  },
  "language_info": {
   "codemirror_mode": {
    "name": "ipython",
    "version": 3
   },
   "file_extension": ".py",
   "mimetype": "text/x-python",
   "name": "python",
   "nbconvert_exporter": "python",
   "pygments_lexer": "ipython3",
   "version": "3.8.10"
  },
  "vscode": {
   "interpreter": {
    "hash": "e7370f93d1d0cde622a1f8e1c04877d8463912d04d973331ad4851f04de6915a"
   }
  }
 },
 "nbformat": 4,
 "nbformat_minor": 5
}
