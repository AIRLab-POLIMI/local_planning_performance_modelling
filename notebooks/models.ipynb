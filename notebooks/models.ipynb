{
 "cells": [
  {
   "cell_type": "code",
   "execution_count": 1,
   "metadata": {},
   "outputs": [
    {
     "data": {
      "text/html": [
       "<style>.container { width:100% !important; }</style>"
      ],
      "text/plain": [
       "<IPython.core.display.HTML object>"
      ]
     },
     "metadata": {},
     "output_type": "display_data"
    }
   ],
   "source": [
    "from IPython.core.display import Markdown, display, HTML\n",
    "display(HTML(\"<style>.container { width:100% !important; }</style>\"))\n",
    "import ipywidgets as widgets\n",
    "from ipywidgets import interact, interact_manual\n",
    "\n",
    "import traceback\n",
    "import numpy as np\n",
    "import scipy.stats as ss\n",
    "import yaml\n",
    "import itertools\n",
    "import sys\n",
    "import os\n",
    "import subprocess\n",
    "from os import path\n",
    "import pickle\n",
    "import pandas as pd\n",
    "import matplotlib.pyplot as plt\n",
    "%matplotlib inline\n",
    "%config InlineBackend.figure_format = 'svg'\n",
    "\n",
    "from sklearn.linear_model import LinearRegression, TheilSenRegressor, RANSACRegressor, HuberRegressor\n",
    "from sklearn.metrics import mean_squared_error, r2_score\n",
    "from sklearn.preprocessing import PolynomialFeatures, StandardScaler\n",
    "from sklearn.pipeline import make_pipeline\n",
    "\n",
    "def printmd(*args):\n",
    "    display(Markdown(' '.join(map(str, args))))"
   ]
  },
  {
   "cell_type": "code",
   "execution_count": 2,
   "metadata": {
    "scrolled": true
   },
   "outputs": [],
   "source": [
    "# !ros2 run local_planning_performance_modelling compute_metrics -r \"~/ds/performance_modelling/output/test_local_planning/*\" -s"
   ]
  },
  {
   "cell_type": "code",
   "execution_count": 3,
   "metadata": {
    "scrolled": true
   },
   "outputs": [],
   "source": [
    "# !ros2 run local_planning_performance_modelling compute_metrics -r \"~/ds/performance_modelling/output/test_local_planning_gen_circles/*\" -s"
   ]
  },
  {
   "cell_type": "code",
   "execution_count": 4,
   "metadata": {
    "scrolled": false
   },
   "outputs": [],
   "source": [
    "local_planner_color = {'dwb': 'blue', 'rpp': 'orange', 'teb': 'green'}\n",
    "robot_model_color = {'hunter': 'cyan', 'turtle': 'green'}\n",
    "pd.options.display.width = 500\n",
    "pd.options.display.max_rows = 0\n",
    "pd.options.display.float_format = '{:,.3f}'.format\n",
    "plt.rcParams['figure.figsize'] = [10, 10]\n",
    "plt.rcParams['lines.linewidth'] = 2\n",
    "# plt.rcParams['lines.markersize'] = 3\n",
    "# plt.rcParams['lines.marker'] = 'o'\n",
    "\n",
    "# fg_color = 'white'\n",
    "# plt.rcParams['grid.color'] = 'gray'\n",
    "# plt.rcParams['text.color'] = fg_color\n",
    "# plt.rcParams['ytick.color'] = fg_color\n",
    "# plt.rcParams['xtick.color'] = fg_color\n",
    "# plt.rcParams['axes.labelcolor'] = fg_color\n",
    "# plt.rcParams['axes.edgecolor'] = fg_color\n",
    "\n",
    "# bg_color = \"#323a48\"\n",
    "# plt.rcParams['figure.facecolor'] = bg_color\n",
    "# plt.rcParams['axes.facecolor'] = bg_color\n",
    "# plt.rcParams['legend.facecolor'] = bg_color"
   ]
  },
  {
   "cell_type": "code",
   "execution_count": 5,
   "metadata": {
    "scrolled": false
   },
   "outputs": [
    {
     "data": {
      "text/markdown": [
       "## Number of Runs"
      ],
      "text/plain": [
       "<IPython.core.display.Markdown object>"
      ]
     },
     "metadata": {},
     "output_type": "display_data"
    },
    {
     "data": {
      "text/markdown": [
       "    3806"
      ],
      "text/plain": [
       "<IPython.core.display.Markdown object>"
      ]
     },
     "metadata": {},
     "output_type": "display_data"
    },
    {
     "data": {
      "text/markdown": [
       "## Run Parameters"
      ],
      "text/plain": [
       "<IPython.core.display.Markdown object>"
      ]
     },
     "metadata": {},
     "output_type": "display_data"
    },
    {
     "data": {
      "text/markdown": [
       "    amcl_alpha_factor                                                      [0.0, 0.5, 0.75, 1.0, 1.5, 2.0]"
      ],
      "text/plain": [
       "<IPython.core.display.Markdown object>"
      ]
     },
     "metadata": {},
     "output_type": "display_data"
    },
    {
     "data": {
      "text/markdown": [
       "    environment_name                                                       ['7A-2', 'airlab', 'fr079', 'intel', 'mexico', 'office_b']"
      ],
      "text/plain": [
       "<IPython.core.display.Markdown object>"
      ]
     },
     "metadata": {},
     "output_type": "display_data"
    },
    {
     "data": {
      "text/markdown": [
       "    global_planner_node                                                    ['navfn', 'smac']"
      ],
      "text/plain": [
       "<IPython.core.display.Markdown object>"
      ]
     },
     "metadata": {},
     "output_type": "display_data"
    },
    {
     "data": {
      "text/markdown": [
       "    local_planner_node                                                     ['dwb', 'rpp', 'teb']"
      ],
      "text/plain": [
       "<IPython.core.display.Markdown object>"
      ]
     },
     "metadata": {},
     "output_type": "display_data"
    },
    {
     "data": {
      "text/markdown": [
       "    localization_node                                                      ['amcl']"
      ],
      "text/plain": [
       "<IPython.core.display.Markdown object>"
      ]
     },
     "metadata": {},
     "output_type": "display_data"
    },
    {
     "data": {
      "text/markdown": [
       "    max_steering_angle_deg                                                 [20.0, 40.0, 90.0]"
      ],
      "text/plain": [
       "<IPython.core.display.Markdown object>"
      ]
     },
     "metadata": {},
     "output_type": "display_data"
    },
    {
     "data": {
      "text/markdown": [
       "    robot_model                                                            ['turtle']"
      ],
      "text/plain": [
       "<IPython.core.display.Markdown object>"
      ]
     },
     "metadata": {},
     "output_type": "display_data"
    },
    {
     "data": {
      "text/markdown": [
       "    run_index                                                              [0, 1, 2, 3, 4, 5, 6, 7, 8, 9]"
      ],
      "text/plain": [
       "<IPython.core.display.Markdown object>"
      ]
     },
     "metadata": {},
     "output_type": "display_data"
    },
    {
     "data": {
      "text/markdown": [
       "    beta_1                                                                 [0.0, 0.02, 0.05, 0.1]"
      ],
      "text/plain": [
       "<IPython.core.display.Markdown object>"
      ]
     },
     "metadata": {},
     "output_type": "display_data"
    },
    {
     "data": {
      "text/markdown": [
       "    beta_2                                                                 [0.0]"
      ],
      "text/plain": [
       "<IPython.core.display.Markdown object>"
      ]
     },
     "metadata": {},
     "output_type": "display_data"
    },
    {
     "data": {
      "text/markdown": [
       "    beta_3                                                                 [0.0, 0.02, 0.05, 0.1]"
      ],
      "text/plain": [
       "<IPython.core.display.Markdown object>"
      ]
     },
     "metadata": {},
     "output_type": "display_data"
    },
    {
     "data": {
      "text/markdown": [
       "    beta_4                                                                 [0.0]"
      ],
      "text/plain": [
       "<IPython.core.display.Markdown object>"
      ]
     },
     "metadata": {},
     "output_type": "display_data"
    },
    {
     "data": {
      "text/markdown": [
       "## Metrics"
      ],
      "text/plain": [
       "<IPython.core.display.Markdown object>"
      ]
     },
     "metadata": {},
     "output_type": "display_data"
    },
    {
     "data": {
      "text/markdown": [
       "    average_rotation_velocity                                              min:  0.0006123             avg:     0.1579             max:     0.6923             nan:        619"
      ],
      "text/plain": [
       "<IPython.core.display.Markdown object>"
      ]
     },
     "metadata": {},
     "output_type": "display_data"
    },
    {
     "data": {
      "text/markdown": [
       "    average_translation_velocity                                           min:  0.0007739             avg:     0.2175             max:     0.3032             nan:        619"
      ],
      "text/plain": [
       "<IPython.core.display.Markdown object>"
      ]
     },
     "metadata": {},
     "output_type": "display_data"
    },
    {
     "data": {
      "text/markdown": [
       "    collision_rate                                                         min:          0             avg:     0.1014             max:          1             nan:          0"
      ],
      "text/plain": [
       "<IPython.core.display.Markdown object>"
      ]
     },
     "metadata": {},
     "output_type": "display_data"
    },
    {
     "data": {
      "text/markdown": [
       "    collision_rate_version                                                 [2]"
      ],
      "text/plain": [
       "<IPython.core.display.Markdown object>"
      ]
     },
     "metadata": {},
     "output_type": "display_data"
    },
    {
     "data": {
      "text/markdown": [
       "    controller_cpu_time                                                    min:       0.78             avg:      76.55             max:      848.9             nan:          0"
      ],
      "text/plain": [
       "<IPython.core.display.Markdown object>"
      ]
     },
     "metadata": {},
     "output_type": "display_data"
    },
    {
     "data": {
      "text/markdown": [
       "    controller_max_memory                                                  min:      21.35             avg:      50.59             max:      78.79             nan:          0"
      ],
      "text/plain": [
       "<IPython.core.display.Markdown object>"
      ]
     },
     "metadata": {},
     "output_type": "display_data"
    },
    {
     "data": {
      "text/markdown": [
       "    cpu_time_and_max_memory_version                                        [1]"
      ],
      "text/plain": [
       "<IPython.core.display.Markdown object>"
      ]
     },
     "metadata": {},
     "output_type": "display_data"
    },
    {
     "data": {
      "text/markdown": [
       "    execution_time                                                         min:      0.078             avg:      76.93             max:        627             nan:          0"
      ],
      "text/plain": [
       "<IPython.core.display.Markdown object>"
      ]
     },
     "metadata": {},
     "output_type": "display_data"
    },
    {
     "data": {
      "text/markdown": [
       "    execution_time_version                                                 [1]"
      ],
      "text/plain": [
       "<IPython.core.display.Markdown object>"
      ]
     },
     "metadata": {},
     "output_type": "display_data"
    },
    {
     "data": {
      "text/markdown": [
       "    absolute_rotation_error                                                min:  0.0003956             avg:    0.03466             max:      1.831             nan:        685"
      ],
      "text/plain": [
       "<IPython.core.display.Markdown object>"
      ]
     },
     "metadata": {},
     "output_type": "display_data"
    },
    {
     "data": {
      "text/markdown": [
       "    localization_update_absolute_rotation_error_std                        min:          0             avg:    0.05557             max:      1.348             nan:        685"
      ],
      "text/plain": [
       "<IPython.core.display.Markdown object>"
      ]
     },
     "metadata": {},
     "output_type": "display_data"
    },
    {
     "data": {
      "text/markdown": [
       "    absolute_translation_error                                             min:   0.003454             avg:    0.09776             max:      3.029             nan:        685"
      ],
      "text/plain": [
       "<IPython.core.display.Markdown object>"
      ]
     },
     "metadata": {},
     "output_type": "display_data"
    },
    {
     "data": {
      "text/markdown": [
       "    localization_update_absolute_translation_error_std                     min:          0             avg:     0.0496             max:      3.775             nan:        685"
      ],
      "text/plain": [
       "<IPython.core.display.Markdown object>"
      ]
     },
     "metadata": {},
     "output_type": "display_data"
    },
    {
     "data": {
      "text/markdown": [
       "    localization_update_error_version                                      [1]"
      ],
      "text/plain": [
       "<IPython.core.display.Markdown object>"
      ]
     },
     "metadata": {},
     "output_type": "display_data"
    },
    {
     "data": {
      "text/markdown": [
       "    normalized_relative_rotation_error                                     min:   0.005315             avg:     0.2522             max:      12.29             nan:        685"
      ],
      "text/plain": [
       "<IPython.core.display.Markdown object>"
      ]
     },
     "metadata": {},
     "output_type": "display_data"
    },
    {
     "data": {
      "text/markdown": [
       "    localization_update_normalized_relative_rotation_error_std             min:          0             avg:      1.176             max:      43.93             nan:        685"
      ],
      "text/plain": [
       "<IPython.core.display.Markdown object>"
      ]
     },
     "metadata": {},
     "output_type": "display_data"
    },
    {
     "data": {
      "text/markdown": [
       "    normalized_relative_translation_error                                  min:    0.01102             avg:    0.07685             max:      3.082             nan:        685"
      ],
      "text/plain": [
       "<IPython.core.display.Markdown object>"
      ]
     },
     "metadata": {},
     "output_type": "display_data"
    },
    {
     "data": {
      "text/markdown": [
       "    localization_update_normalized_relative_translation_error_std          min:          0             avg:     0.1001             max:      9.121             nan:        685"
      ],
      "text/plain": [
       "<IPython.core.display.Markdown object>"
      ]
     },
     "metadata": {},
     "output_type": "display_data"
    },
    {
     "data": {
      "text/markdown": [
       "    localization_update_rate                                               min:     0.3253             avg:     0.9267             max:       32.4             nan:        684"
      ],
      "text/plain": [
       "<IPython.core.display.Markdown object>"
      ]
     },
     "metadata": {},
     "output_type": "display_data"
    },
    {
     "data": {
      "text/markdown": [
       "    localization_update_rate_std                                           min:          0             avg:     0.4419             max:      14.34             nan:        684"
      ],
      "text/plain": [
       "<IPython.core.display.Markdown object>"
      ]
     },
     "metadata": {},
     "output_type": "display_data"
    },
    {
     "data": {
      "text/markdown": [
       "    localization_update_rate_version                                       [1]"
      ],
      "text/plain": [
       "<IPython.core.display.Markdown object>"
      ]
     },
     "metadata": {},
     "output_type": "display_data"
    },
    {
     "data": {
      "text/markdown": [
       "    localization_update_relative_rotation_error_mean                       min:  0.0001701             avg:    0.01604             max:     0.6114             nan:        685"
      ],
      "text/plain": [
       "<IPython.core.display.Markdown object>"
      ]
     },
     "metadata": {},
     "output_type": "display_data"
    },
    {
     "data": {
      "text/markdown": [
       "    localization_update_relative_rotation_error_std                        min:          0             avg:    0.05006             max:     0.8738             nan:        685"
      ],
      "text/plain": [
       "<IPython.core.display.Markdown object>"
      ]
     },
     "metadata": {},
     "output_type": "display_data"
    },
    {
     "data": {
      "text/markdown": [
       "    localization_update_relative_translation_error_mean                    min:   0.001654             avg:    0.01146             max:      0.253             nan:        685"
      ],
      "text/plain": [
       "<IPython.core.display.Markdown object>"
      ]
     },
     "metadata": {},
     "output_type": "display_data"
    },
    {
     "data": {
      "text/markdown": [
       "    localization_update_relative_translation_error_std                     min:          0             avg:    0.01299             max:      1.529             nan:        685"
      ],
      "text/plain": [
       "<IPython.core.display.Markdown object>"
      ]
     },
     "metadata": {},
     "output_type": "display_data"
    },
    {
     "data": {
      "text/markdown": [
       "    motion_characteristics_version                                         [2.0]"
      ],
      "text/plain": [
       "<IPython.core.display.Markdown object>"
      ]
     },
     "metadata": {},
     "output_type": "display_data"
    },
    {
     "data": {
      "text/markdown": [
       "    odometry_error_alpha_1_mean                                            min:   1.43e-17             avg:     0.1108             max:      11.76             nan:        684"
      ],
      "text/plain": [
       "<IPython.core.display.Markdown object>"
      ]
     },
     "metadata": {},
     "output_type": "display_data"
    },
    {
     "data": {
      "text/markdown": [
       "    odometry_error_alpha_1_std                                             min:          0             avg:     0.2607             max:      44.74             nan:        684"
      ],
      "text/plain": [
       "<IPython.core.display.Markdown object>"
      ]
     },
     "metadata": {},
     "output_type": "display_data"
    },
    {
     "data": {
      "text/markdown": [
       "    odometry_error_alpha_2_mean                                            min:  4.546e-18             avg:     0.1505             max:      9.943             nan:        684"
      ],
      "text/plain": [
       "<IPython.core.display.Markdown object>"
      ]
     },
     "metadata": {},
     "output_type": "display_data"
    },
    {
     "data": {
      "text/markdown": [
       "    odometry_error_alpha_2_std                                             min:          0             avg:       0.34             max:      33.96             nan:        684"
      ],
      "text/plain": [
       "<IPython.core.display.Markdown object>"
      ]
     },
     "metadata": {},
     "output_type": "display_data"
    },
    {
     "data": {
      "text/markdown": [
       "    odometry_error_alpha_3_mean                                            min:  4.463e-17             avg:    0.07151             max:     0.8971             nan:        684"
      ],
      "text/plain": [
       "<IPython.core.display.Markdown object>"
      ]
     },
     "metadata": {},
     "output_type": "display_data"
    },
    {
     "data": {
      "text/markdown": [
       "    odometry_error_alpha_3_std                                             min:          0             avg:    0.02976             max:      1.184             nan:        684"
      ],
      "text/plain": [
       "<IPython.core.display.Markdown object>"
      ]
     },
     "metadata": {},
     "output_type": "display_data"
    },
    {
     "data": {
      "text/markdown": [
       "    odometry_error_alpha_4_mean                                            min:  2.374e-17             avg:     0.2637             max:      1.372             nan:        684"
      ],
      "text/plain": [
       "<IPython.core.display.Markdown object>"
      ]
     },
     "metadata": {},
     "output_type": "display_data"
    },
    {
     "data": {
      "text/markdown": [
       "    odometry_error_alpha_4_std                                             min:          0             avg:     0.2407             max:      1.326             nan:        684"
      ],
      "text/plain": [
       "<IPython.core.display.Markdown object>"
      ]
     },
     "metadata": {},
     "output_type": "display_data"
    },
    {
     "data": {
      "text/markdown": [
       "    odometry_error_version                                                 [2]"
      ],
      "text/plain": [
       "<IPython.core.display.Markdown object>"
      ]
     },
     "metadata": {},
     "output_type": "display_data"
    },
    {
     "data": {
      "text/markdown": [
       "    planner_cpu_time                                                       min:       0.32             avg:      25.32             max:        395             nan:          0"
      ],
      "text/plain": [
       "<IPython.core.display.Markdown object>"
      ]
     },
     "metadata": {},
     "output_type": "display_data"
    },
    {
     "data": {
      "text/markdown": [
       "    planner_max_memory                                                     min:      22.38             avg:      511.1             max:  3.116e+04             nan:          0"
      ],
      "text/plain": [
       "<IPython.core.display.Markdown object>"
      ]
     },
     "metadata": {},
     "output_type": "display_data"
    },
    {
     "data": {
      "text/markdown": [
       "    success_rate                                                           min:          0             avg:     0.6823             max:          1             nan:          0"
      ],
      "text/plain": [
       "<IPython.core.display.Markdown object>"
      ]
     },
     "metadata": {},
     "output_type": "display_data"
    },
    {
     "data": {
      "text/markdown": [
       "    success_rate_version                                                   [1]"
      ],
      "text/plain": [
       "<IPython.core.display.Markdown object>"
      ]
     },
     "metadata": {},
     "output_type": "display_data"
    },
    {
     "data": {
      "text/markdown": [
       "    system_cpu_time                                                        min:          3             avg:      112.8             max:       1005             nan:          0"
      ],
      "text/plain": [
       "<IPython.core.display.Markdown object>"
      ]
     },
     "metadata": {},
     "output_type": "display_data"
    },
    {
     "data": {
      "text/markdown": [
       "    system_max_memory                                                      min:      132.3             avg:      683.2             max:  3.134e+04             nan:          0"
      ],
      "text/plain": [
       "<IPython.core.display.Markdown object>"
      ]
     },
     "metadata": {},
     "output_type": "display_data"
    },
    {
     "data": {
      "text/markdown": [
       "    trajectory_length                                                      min:          0             avg:      17.38             max:      128.6             nan:          0"
      ],
      "text/plain": [
       "<IPython.core.display.Markdown object>"
      ]
     },
     "metadata": {},
     "output_type": "display_data"
    },
    {
     "data": {
      "text/markdown": [
       "    trajectory_length_version                                              [1]"
      ],
      "text/plain": [
       "<IPython.core.display.Markdown object>"
      ]
     },
     "metadata": {},
     "output_type": "display_data"
    },
    {
     "data": {
      "text/markdown": [
       "    translation_rotation_product                                           min:  4.984e-07             avg:    0.03357             max:     0.1587             nan:        619"
      ],
      "text/plain": [
       "<IPython.core.display.Markdown object>"
      ]
     },
     "metadata": {},
     "output_type": "display_data"
    },
    {
     "data": {
      "text/markdown": [
       "    average_velocity                                                       min:          0             avg:     0.1815             max:     0.2681             nan:          0"
      ],
      "text/plain": [
       "<IPython.core.display.Markdown object>"
      ]
     },
     "metadata": {},
     "output_type": "display_data"
    },
    {
     "data": {
      "text/markdown": [
       "    collisionless_success_rate                                             min:          0             avg:     0.6337             max:          1             nan:          0"
      ],
      "text/plain": [
       "<IPython.core.display.Markdown object>"
      ]
     },
     "metadata": {},
     "output_type": "display_data"
    },
    {
     "data": {
      "text/markdown": [
       "    norm_trajectory_length                                                 min:          0             avg:      1.001             max:      24.75             nan:          0"
      ],
      "text/plain": [
       "<IPython.core.display.Markdown object>"
      ]
     },
     "metadata": {},
     "output_type": "display_data"
    },
    {
     "data": {
      "text/markdown": [
       "    norm_execution_time                                                    min:  0.0007592             avg:      1.172             max:      30.75             nan:          0"
      ],
      "text/plain": [
       "<IPython.core.display.Markdown object>"
      ]
     },
     "metadata": {},
     "output_type": "display_data"
    }
   ],
   "source": [
    "# df = pd.read_csv(path.expanduser(\"~/ds/performance_modelling/output/test_local_planning_all/results.csv\"))\n",
    "# with open(path.expanduser(\"~/ds/performance_modelling/output/test_local_planning_all/results_info.yaml\")) as results_info_file:\n",
    "#     results_info = yaml.safe_load(results_info_file)\n",
    "\n",
    "df_real = pd.read_csv(path.expanduser(\"~/ds/performance_modelling/output/test_local_planning/results.csv\"))\n",
    "with open(path.expanduser(\"~/ds/performance_modelling/output/test_local_planning/results_info.yaml\")) as results_real_info_file:\n",
    "    results_real_info = yaml.safe_load(results_real_info_file)\n",
    "df_real = df_real[(df_real.amcl_alpha_factor.notna()) & (df_real.robot_model=='turtlebot3_waffle_performance_modelling')]\n",
    "\n",
    "df_gen = pd.read_csv(path.expanduser(\"~/ds/performance_modelling/output/test_local_planning_gen_circles/results.csv\"))\n",
    "with open(path.expanduser(\"~/ds/performance_modelling/output/test_local_planning_gen_circles/results_info.yaml\")) as results_gen_info_file:\n",
    "    results_gen_info = yaml.safe_load(results_gen_info_file)\n",
    "\n",
    "df = df_gen.append(df_real, sort=True)\n",
    "\n",
    "df.rename(inplace=True, columns={\n",
    "    'localization_update_absolute_translation_error_mean': 'absolute_translation_error',\n",
    "    'localization_update_absolute_rotation_error_mean': 'absolute_rotation_error',\n",
    "    'localization_update_normalized_relative_translation_error_mean': 'normalized_relative_translation_error',\n",
    "    'localization_update_normalized_relative_rotation_error_mean': 'normalized_relative_rotation_error',\n",
    "    'localization_update_rate_mean': 'localization_update_rate',\n",
    "})\n",
    "\n",
    "results_info = results_gen_info\n",
    "results_info['run_parameter_names'] += [i for i in results_real_info['run_parameter_names'] if i not in results_info['run_parameter_names']]\n",
    "\n",
    "# TEMP: only consider real localization\n",
    "df = df[df.localization_node != 'localization_generator']\n",
    "\n",
    "# df = df[df.amcl_alpha_factor.notna()]\n",
    "\n",
    "# turn odometry_error into beta_1..4\n",
    "results_info['run_parameter_names'] += ['beta_1', 'beta_2', 'beta_3', 'beta_4']\n",
    "results_info['run_parameter_names'].remove('odometry_error')\n",
    "for i in range(0, 4):\n",
    "    df[f'beta_{i+1}'] = df['odometry_error'].apply(lambda x: eval(x)[i])\n",
    "del df['odometry_error']\n",
    "\n",
    "df.loc[df.robot_model == 'turtlebot3_waffle_performance_modelling', 'robot_model'] = 'turtle'\n",
    "df.loc[df.robot_model == 'hunter2', 'robot_model'] = 'hunter'\n",
    "\n",
    "run_parameters = [c for c in list(df.columns) if c in results_info['run_parameter_names']]\n",
    "metrics_versions = [c for c in list(df.columns) if '_version' in c]\n",
    "everything_else = ['run_id', 'session_id', 'run_number']\n",
    "metrics = [c for c in df.columns if c not in metrics_versions + run_parameters + everything_else]\n",
    "metrics_and_versions = [c for c in list(df.columns) if '_version' in c or c in metrics]\n",
    "\n",
    "cpu_time_metrics = [c for c in metrics if 'cpu_time' in c]\n",
    "max_memory_metrics = [c for c in metrics if 'max_memory' in c]\n",
    "\n",
    "# add useful parameters\n",
    "df['session_id'] =  df['run_id'].apply(lambda x:  x.split('_')[1]+'_'+x.split('_')[2]+'_'+x.split('_')[3])\n",
    "df['run_number'] =  df['run_id'].apply(lambda x:  int(x.split('_')[5]))\n",
    "df[max_memory_metrics] = df[max_memory_metrics]/1024**2\n",
    "df.max_steering_angle_deg = df.max_steering_angle_deg.fillna(90)\n",
    "\n",
    "# add metrics from existing ones\n",
    "df['average_velocity'] = df['trajectory_length'] / df['execution_time']\n",
    "df['collisionless_success_rate'] = df['success_rate'] & (1 - df['collision_rate'])\n",
    "metrics += ['average_velocity', 'collisionless_success_rate']\n",
    "metrics_and_versions += ['average_velocity', 'collisionless_success_rate']\n",
    "\n",
    "# add aggregated data\n",
    "min_trajectory_length_group_df = df.groupby([\"environment_name\", \"run_index\", \"collisionless_success_rate\"])\n",
    "for (environment_name, run_index, collisionless_success_rate), group_df in min_trajectory_length_group_df:\n",
    "    df.loc[(df.environment_name == environment_name) & (df.run_index == run_index) & (collisionless_success_rate), 'min_trajectory_length'] = group_df.trajectory_length.min()\n",
    "df['norm_trajectory_length'] = df.trajectory_length / df.min_trajectory_length\n",
    "metrics += ['norm_trajectory_length']\n",
    "metrics_and_versions += ['norm_trajectory_length']\n",
    "\n",
    "min_execution_time_group_df = df.groupby([\"environment_name\", \"run_index\", \"collisionless_success_rate\"])\n",
    "for (environment_name, run_index, collisionless_success_rate), group_df in min_execution_time_group_df:\n",
    "    df.loc[(df.environment_name == environment_name) & (df.run_index == run_index) & (collisionless_success_rate), 'min_execution_time'] = group_df.execution_time.min()\n",
    "df['norm_execution_time'] = df.execution_time / df.min_execution_time\n",
    "metrics += ['norm_execution_time']\n",
    "metrics_and_versions += ['norm_execution_time']\n",
    "\n",
    "printmd(\"## Number of Runs\")\n",
    "printmd(f\"    {len(df.run_id.unique())}\")\n",
    "\n",
    "printmd(\"## Run Parameters\")\n",
    "for name in [run_parameter_name for run_parameter_name in run_parameters if 'localization_generator_' not in run_parameter_name]:\n",
    "    values = list(df[name].unique())\n",
    "    printmd(f\"    {name:<70}\", sorted(values))\n",
    "\n",
    "printmd(\"## Metrics\")\n",
    "for name in metrics_and_versions:\n",
    "    if name in metrics_versions:\n",
    "        if len(df[name].unique()) == 1:\n",
    "            printmd(f\"    {name:<70} {sorted(df[name].unique())}\")\n",
    "        else:\n",
    "            printmd(f\"<code><font style='background-color:yellow;font-family:monospace'>{name:<70}{sorted(df[name].unique())} </font></code> ⚠️\")\n",
    "    else:\n",
    "        printmd(f\"    {name:<70} min: {df[name].min(skipna=True):10.4g} {'avg':>15}: {df[name].mean(skipna=True):10.4g} {'max':>15}: {df[name].max(skipna=True):10.4g} {'nan':>15}: {sum(df[name].isna()):10.4g}\")"
   ]
  },
  {
   "cell_type": "code",
   "execution_count": 31,
   "metadata": {
    "scrolled": false
   },
   "outputs": [
    {
     "name": "stdout",
     "output_type": "stream",
     "text": [
      "nans 14164\n",
      "2287\n",
      "nans 0\n",
      "2176\n"
     ]
    },
    {
     "data": {
      "text/markdown": [
       "                 teb | +0.2884"
      ],
      "text/plain": [
       "<IPython.core.display.Markdown object>"
      ]
     },
     "metadata": {},
     "output_type": "display_data"
    },
    {
     "data": {
      "text/markdown": [
       "                 dwb | +0.0486"
      ],
      "text/plain": [
       "<IPython.core.display.Markdown object>"
      ]
     },
     "metadata": {},
     "output_type": "display_data"
    },
    {
     "data": {
      "text/markdown": [
       "                 rpp | +0.1847"
      ],
      "text/plain": [
       "<IPython.core.display.Markdown object>"
      ]
     },
     "metadata": {},
     "output_type": "display_data"
    }
   ],
   "source": [
    "df_s = df[(df.max_steering_angle_deg == 90.) & (df.robot_model == 'turtle') & (df.global_planner_node == 'navfn') & (df.localization_node == 'amcl')].copy()\n",
    "print(\"nans\", df_s.isna().sum().sum())\n",
    "# df_s.dropna(inplace=True)\n",
    "print(len(df_s))\n",
    "# df_lp_s = df[(df.collisionless_success_rate == 1) & (df.max_steering_angle_deg == 90.) & (df.robot_model == 'turtle') & (df.global_planner_node == 'navfn') & (df.localization_node == 'amcl')].copy()\n",
    "\n",
    "output_metrics = [df_s.collisionless_success_rate, df_s.collision_rate]\n",
    "# output_metrics = [df_lp_s.average_velocity, df_lp_s.norm_trajectory_length, df_lp_s.norm_execution_time]\n",
    "input_metrics = [df_s.absolute_translation_error, df_s.absolute_rotation_error, df_s.normalized_relative_translation_error, df_s.normalized_relative_rotation_error, df_s.localization_update_rate, df_s.beta_1], \n",
    "\n",
    "df_s = df_s[[\"local_planner_node\", \"collisionless_success_rate\", \"absolute_translation_error\", \"absolute_rotation_error\", \"normalized_relative_translation_error\", \"normalized_relative_rotation_error\", \"localization_update_rate\", \"beta_1\"]].copy()\n",
    "df_s.dropna(inplace=True)\n",
    "print(\"nans\", df_s.isna().sum().sum())\n",
    "\n",
    "output_metric = df_s.collisionless_success_rate\n",
    "\n",
    "num_polynomial_features = 2\n",
    "\n",
    "# model_agg = dict()\n",
    "model_all = dict()\n",
    "\n",
    "model_features = [\n",
    "    'absolute_translation_error',\n",
    "    'absolute_rotation_error',\n",
    "    'normalized_relative_translation_error',\n",
    "    'normalized_relative_rotation_error',\n",
    "    'localization_update_rate',\n",
    "    'beta_1',\n",
    "]\n",
    "\n",
    "print(len(list(zip(df_s.absolute_translation_error, df_s.absolute_rotation_error, df_s.normalized_relative_translation_error, df_s.normalized_relative_rotation_error, df_s.localization_update_rate, df_s.beta_1))))\n",
    "df_s['model_features'] = list(zip(df_s.absolute_translation_error, df_s.absolute_rotation_error, df_s.normalized_relative_translation_error, df_s.normalized_relative_rotation_error, df_s.localization_update_rate, df_s.beta_1))\n",
    "\n",
    "def features_transform(absolute_translation_error, absolute_rotation_error, normalized_relative_translation_error, normalized_relative_rotation_error, localization_update_rate, beta_1):\n",
    "    return np.array([absolute_translation_error, absolute_rotation_error, normalized_relative_translation_error, normalized_relative_rotation_error, localization_update_rate, beta_1])\n",
    "\n",
    "df_10 = df_s  # .sample(n=int(len(df_lp)/10.0), random_state=0)\n",
    "for local_planner_node in df.local_planner_node.unique():\n",
    "    X_all = features_transform(*np.array(list(df_10[df_10.local_planner_node == local_planner_node].model_features)).T).T\n",
    "    y_all = df_10[df_10.local_planner_node == local_planner_node][output_metric.name]\n",
    "\n",
    "    model_all[local_planner_node] = make_pipeline(StandardScaler(), PolynomialFeatures(num_polynomial_features, interaction_only=True), LinearRegression())\n",
    "    model_all[local_planner_node].fit(X_all, y_all);\n",
    "\n",
    "    y_pred_all = model_all[local_planner_node].predict(X_all)\n",
    "    r2_all = r2_score(y_all, y_pred_all)\n",
    "\n",
    "    printmd(f\"{local_planner_node:>20} | {r2_all:+0.4f}\")\n"
   ]
  },
  {
   "cell_type": "code",
   "execution_count": null,
   "metadata": {},
   "outputs": [],
   "source": []
  },
  {
   "cell_type": "code",
   "execution_count": null,
   "metadata": {},
   "outputs": [],
   "source": []
  },
  {
   "cell_type": "code",
   "execution_count": null,
   "metadata": {},
   "outputs": [],
   "source": []
  },
  {
   "cell_type": "code",
   "execution_count": null,
   "metadata": {},
   "outputs": [],
   "source": []
  },
  {
   "cell_type": "code",
   "execution_count": null,
   "metadata": {},
   "outputs": [],
   "source": []
  },
  {
   "cell_type": "code",
   "execution_count": null,
   "metadata": {},
   "outputs": [],
   "source": []
  },
  {
   "cell_type": "code",
   "execution_count": null,
   "metadata": {},
   "outputs": [],
   "source": []
  },
  {
   "cell_type": "code",
   "execution_count": null,
   "metadata": {},
   "outputs": [],
   "source": []
  },
  {
   "cell_type": "code",
   "execution_count": null,
   "metadata": {},
   "outputs": [],
   "source": []
  },
  {
   "cell_type": "code",
   "execution_count": null,
   "metadata": {},
   "outputs": [],
   "source": []
  },
  {
   "cell_type": "code",
   "execution_count": null,
   "metadata": {},
   "outputs": [],
   "source": []
  },
  {
   "cell_type": "code",
   "execution_count": null,
   "metadata": {},
   "outputs": [],
   "source": []
  },
  {
   "cell_type": "code",
   "execution_count": null,
   "metadata": {},
   "outputs": [],
   "source": []
  },
  {
   "cell_type": "code",
   "execution_count": null,
   "metadata": {},
   "outputs": [],
   "source": []
  },
  {
   "cell_type": "code",
   "execution_count": null,
   "metadata": {},
   "outputs": [],
   "source": []
  },
  {
   "cell_type": "code",
   "execution_count": null,
   "metadata": {},
   "outputs": [],
   "source": []
  },
  {
   "cell_type": "code",
   "execution_count": null,
   "metadata": {},
   "outputs": [],
   "source": []
  },
  {
   "cell_type": "code",
   "execution_count": null,
   "metadata": {},
   "outputs": [],
   "source": []
  },
  {
   "cell_type": "code",
   "execution_count": null,
   "metadata": {},
   "outputs": [],
   "source": []
  },
  {
   "cell_type": "code",
   "execution_count": null,
   "metadata": {},
   "outputs": [],
   "source": []
  },
  {
   "cell_type": "code",
   "execution_count": null,
   "metadata": {},
   "outputs": [],
   "source": []
  },
  {
   "cell_type": "code",
   "execution_count": null,
   "metadata": {},
   "outputs": [],
   "source": []
  },
  {
   "cell_type": "code",
   "execution_count": null,
   "metadata": {},
   "outputs": [],
   "source": []
  },
  {
   "cell_type": "code",
   "execution_count": null,
   "metadata": {},
   "outputs": [],
   "source": []
  },
  {
   "cell_type": "code",
   "execution_count": null,
   "metadata": {},
   "outputs": [],
   "source": []
  }
 ],
 "metadata": {
  "kernelspec": {
   "display_name": "Python 3",
   "language": "python",
   "name": "python3"
  },
  "language_info": {
   "codemirror_mode": {
    "name": "ipython",
    "version": 3
   },
   "file_extension": ".py",
   "mimetype": "text/x-python",
   "name": "python",
   "nbconvert_exporter": "python",
   "pygments_lexer": "ipython3",
   "version": "3.8.10"
  }
 },
 "nbformat": 4,
 "nbformat_minor": 4
}
