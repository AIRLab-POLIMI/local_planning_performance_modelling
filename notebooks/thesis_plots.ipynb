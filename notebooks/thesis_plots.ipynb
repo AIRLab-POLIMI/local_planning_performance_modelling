{
 "cells": [
  {
   "cell_type": "code",
   "execution_count": 1,
   "metadata": {},
   "outputs": [
    {
     "name": "stderr",
     "output_type": "stream",
     "text": [
      "/tmp/ipykernel_43770/4167336305.py:1: DeprecationWarning: Importing display from IPython.core.display is deprecated since IPython 7.14, please import from IPython display\n",
      "  from IPython.core.display import Markdown, display, HTML\n"
     ]
    },
    {
     "data": {
      "text/html": [
       "<style>.container { width:100% !important; }</style>"
      ],
      "text/plain": [
       "<IPython.core.display.HTML object>"
      ]
     },
     "metadata": {},
     "output_type": "display_data"
    }
   ],
   "source": [
    "from IPython.core.display import Markdown, display, HTML\n",
    "display(HTML(\"<style>.container { width:100% !important; }</style>\"))\n",
    "import ipywidgets as widgets\n",
    "from ipywidgets import interact, interact_manual\n",
    "\n",
    "import traceback\n",
    "import numpy as np\n",
    "import scipy.stats as ss\n",
    "import yaml\n",
    "import itertools\n",
    "import sys\n",
    "import os\n",
    "import subprocess\n",
    "from os import path\n",
    "import pickle\n",
    "import pandas as pd\n",
    "import matplotlib.pyplot as plt\n",
    "%matplotlib inline\n",
    "%config InlineBackend.figure_format = 'svg'\n",
    "\n",
    "from sklearn.linear_model import LinearRegression, TheilSenRegressor, RANSACRegressor, HuberRegressor\n",
    "from sklearn.metrics import mean_squared_error, r2_score\n",
    "from sklearn.preprocessing import PolynomialFeatures, StandardScaler\n",
    "from sklearn.pipeline import make_pipeline\n",
    "\n",
    "def printmd(*args):\n",
    "    display(Markdown(' '.join(map(str, args))))"
   ]
  },
  {
   "cell_type": "code",
   "execution_count": 2,
   "metadata": {
    "scrolled": false
   },
   "outputs": [],
   "source": [
    "# !ros2 run local_planning_performance_modelling compute_metrics -r \"~/ds/performance_modelling/output/test_local_planning/*\" -s"
   ]
  },
  {
   "cell_type": "code",
   "execution_count": 3,
   "metadata": {
    "scrolled": true
   },
   "outputs": [],
   "source": [
    "# !ros2 run local_planning_performance_modelling compute_metrics -r \"~/ds/performance_modelling/output/test_local_planning_gen_circles/*\" -s"
   ]
  },
  {
   "cell_type": "code",
   "execution_count": 4,
   "metadata": {
    "scrolled": false
   },
   "outputs": [],
   "source": [
    "local_planner_color = {'dwb': 'blue', 'rpp': 'orange', 'teb': 'green', 'rpp_bad': 'yellow'}\n",
    "local_planner_symbol = {'dwb': 'o', 'rpp': '^', 'teb': 'x', 'rpp_bad': 's'}\n",
    "robot_model_color = {'hunter': 'cyan', 'turtle': 'green'}\n",
    "pd.options.display.width = 500\n",
    "pd.options.display.max_rows = 0\n",
    "pd.options.display.float_format = '{:,.3f}'.format\n",
    "plt.rcParams['figure.figsize'] = [10, 10]\n",
    "plt.rcParams['lines.linewidth'] = 2\n",
    "# plt.rcParams['lines.markersize'] = 3\n",
    "# plt.rcParams['lines.marker'] = 'o'\n",
    "\n",
    "# fg_color = 'white'\n",
    "# plt.rcParams['grid.color'] = 'gray'\n",
    "# plt.rcParams['text.color'] = fg_color\n",
    "# plt.rcParams['ytick.color'] = fg_color\n",
    "# plt.rcParams['xtick.color'] = fg_color\n",
    "# plt.rcParams['axes.labelcolor'] = fg_color\n",
    "# plt.rcParams['axes.edgecolor'] = fg_color\n",
    "\n",
    "# bg_color = \"#323a48\"\n",
    "# plt.rcParams['figure.facecolor'] = bg_color\n",
    "# plt.rcParams['axes.facecolor'] = bg_color\n",
    "# plt.rcParams['legend.facecolor'] = bg_color"
   ]
  },
  {
   "cell_type": "code",
   "execution_count": 5,
   "metadata": {
    "scrolled": false
   },
   "outputs": [
    {
     "data": {
      "text/markdown": [
       "## Number of Runs"
      ],
      "text/plain": [
       "<IPython.core.display.Markdown object>"
      ]
     },
     "metadata": {},
     "output_type": "display_data"
    },
    {
     "data": {
      "text/markdown": [
       "    418"
      ],
      "text/plain": [
       "<IPython.core.display.Markdown object>"
      ]
     },
     "metadata": {},
     "output_type": "display_data"
    },
    {
     "data": {
      "text/markdown": [
       "## Run Parameters"
      ],
      "text/plain": [
       "<IPython.core.display.Markdown object>"
      ]
     },
     "metadata": {},
     "output_type": "display_data"
    },
    {
     "data": {
      "text/markdown": [
       "    amcl_alpha_factor                                                      [0.0, 1.0]"
      ],
      "text/plain": [
       "<IPython.core.display.Markdown object>"
      ]
     },
     "metadata": {},
     "output_type": "display_data"
    },
    {
     "data": {
      "text/markdown": [
       "    environment_name                                                       ['airlab', 'intel']"
      ],
      "text/plain": [
       "<IPython.core.display.Markdown object>"
      ]
     },
     "metadata": {},
     "output_type": "display_data"
    },
    {
     "data": {
      "text/markdown": [
       "    global_planner_node                                                    ['global_planner']"
      ],
      "text/plain": [
       "<IPython.core.display.Markdown object>"
      ]
     },
     "metadata": {},
     "output_type": "display_data"
    },
    {
     "data": {
      "text/markdown": [
       "    local_planner_node                                                     ['arena', 'dwa']"
      ],
      "text/plain": [
       "<IPython.core.display.Markdown object>"
      ]
     },
     "metadata": {},
     "output_type": "display_data"
    },
    {
     "data": {
      "text/markdown": [
       "    localization_node                                                      ['amcl']"
      ],
      "text/plain": [
       "<IPython.core.display.Markdown object>"
      ]
     },
     "metadata": {},
     "output_type": "display_data"
    },
    {
     "data": {
      "text/markdown": [
       "    robot_model                                                            ['turtle']"
      ],
      "text/plain": [
       "<IPython.core.display.Markdown object>"
      ]
     },
     "metadata": {},
     "output_type": "display_data"
    },
    {
     "data": {
      "text/markdown": [
       "    run_index                                                              [0, 1, 2, 3, 4, 5, 6, 7, 8, 9, 10, 11, 12, 13, 14, 15, 16]"
      ],
      "text/plain": [
       "<IPython.core.display.Markdown object>"
      ]
     },
     "metadata": {},
     "output_type": "display_data"
    },
    {
     "data": {
      "text/markdown": [
       "    run_replication_index                                                  [nan, 0.0, 1.0]"
      ],
      "text/plain": [
       "<IPython.core.display.Markdown object>"
      ]
     },
     "metadata": {},
     "output_type": "display_data"
    },
    {
     "data": {
      "text/markdown": [
       "    beta_1                                                                 [0.0, 0.02, 0.05, 0.1]"
      ],
      "text/plain": [
       "<IPython.core.display.Markdown object>"
      ]
     },
     "metadata": {},
     "output_type": "display_data"
    },
    {
     "data": {
      "text/markdown": [
       "    beta_2                                                                 [0.0]"
      ],
      "text/plain": [
       "<IPython.core.display.Markdown object>"
      ]
     },
     "metadata": {},
     "output_type": "display_data"
    },
    {
     "data": {
      "text/markdown": [
       "    beta_3                                                                 [0.0, 0.02, 0.05, 0.1]"
      ],
      "text/plain": [
       "<IPython.core.display.Markdown object>"
      ]
     },
     "metadata": {},
     "output_type": "display_data"
    },
    {
     "data": {
      "text/markdown": [
       "    beta_4                                                                 [0.0]"
      ],
      "text/plain": [
       "<IPython.core.display.Markdown object>"
      ]
     },
     "metadata": {},
     "output_type": "display_data"
    },
    {
     "data": {
      "text/markdown": [
       "    max_steering_angle_deg                                                 [90]"
      ],
      "text/plain": [
       "<IPython.core.display.Markdown object>"
      ]
     },
     "metadata": {},
     "output_type": "display_data"
    },
    {
     "data": {
      "text/markdown": [
       "## Metrics"
      ],
      "text/plain": [
       "<IPython.core.display.Markdown object>"
      ]
     },
     "metadata": {},
     "output_type": "display_data"
    },
    {
     "data": {
      "text/markdown": [
       "    collision_rate                                                         min:          0             avg:     0.1268             max:          1             nan:          0"
      ],
      "text/plain": [
       "<IPython.core.display.Markdown object>"
      ]
     },
     "metadata": {},
     "output_type": "display_data"
    },
    {
     "data": {
      "text/markdown": [
       "    collision_time                                                         min:       5.78             avg:      31.13             max:      133.3             nan:        365"
      ],
      "text/plain": [
       "<IPython.core.display.Markdown object>"
      ]
     },
     "metadata": {},
     "output_type": "display_data"
    },
    {
     "data": {
      "text/markdown": [
       "    collision_rate_version                                                 [3]"
      ],
      "text/plain": [
       "<IPython.core.display.Markdown object>"
      ]
     },
     "metadata": {},
     "output_type": "display_data"
    },
    {
     "data": {
      "text/markdown": [
       "    clearance                                                              min:        nan             avg:        nan             max:        nan             nan:        418"
      ],
      "text/plain": [
       "<IPython.core.display.Markdown object>"
      ]
     },
     "metadata": {},
     "output_type": "display_data"
    },
    {
     "data": {
      "text/markdown": [
       "    clearance_version                                                      [2]"
      ],
      "text/plain": [
       "<IPython.core.display.Markdown object>"
      ]
     },
     "metadata": {},
     "output_type": "display_data"
    },
    {
     "data": {
      "text/markdown": [
       "    minimum_clearance                                                      min:          0             avg:     0.9886             max:      1.862             nan:          0"
      ],
      "text/plain": [
       "<IPython.core.display.Markdown object>"
      ]
     },
     "metadata": {},
     "output_type": "display_data"
    },
    {
     "data": {
      "text/markdown": [
       "    average_clearance                                                      min:     0.1439             avg:       1.35             max:      2.254             nan:          0"
      ],
      "text/plain": [
       "<IPython.core.display.Markdown object>"
      ]
     },
     "metadata": {},
     "output_type": "display_data"
    },
    {
     "data": {
      "text/markdown": [
       "    median_clearance                                                       min:          0             avg:      1.301             max:       2.26             nan:          0"
      ],
      "text/plain": [
       "<IPython.core.display.Markdown object>"
      ]
     },
     "metadata": {},
     "output_type": "display_data"
    },
    {
     "data": {
      "text/markdown": [
       "    maximum_clearance                                                      min:     0.7892             avg:      1.915             max:      2.685             nan:          0"
      ],
      "text/plain": [
       "<IPython.core.display.Markdown object>"
      ]
     },
     "metadata": {},
     "output_type": "display_data"
    },
    {
     "data": {
      "text/markdown": [
       "    trajectory_length                                                      min:   0.001996             avg:      5.535             max:      24.79             nan:        254"
      ],
      "text/plain": [
       "<IPython.core.display.Markdown object>"
      ]
     },
     "metadata": {},
     "output_type": "display_data"
    },
    {
     "data": {
      "text/markdown": [
       "    trajectory_length_version                                              [1]"
      ],
      "text/plain": [
       "<IPython.core.display.Markdown object>"
      ]
     },
     "metadata": {},
     "output_type": "display_data"
    },
    {
     "data": {
      "text/markdown": [
       "    execution_time                                                         min:      1.047             avg:      57.41             max:      157.8             nan:        254"
      ],
      "text/plain": [
       "<IPython.core.display.Markdown object>"
      ]
     },
     "metadata": {},
     "output_type": "display_data"
    },
    {
     "data": {
      "text/markdown": [
       "    execution_time_version                                                 [1]"
      ],
      "text/plain": [
       "<IPython.core.display.Markdown object>"
      ]
     },
     "metadata": {},
     "output_type": "display_data"
    },
    {
     "data": {
      "text/markdown": [
       "    success_rate                                                           min:          0             avg:     0.2177             max:          1             nan:          0"
      ],
      "text/plain": [
       "<IPython.core.display.Markdown object>"
      ]
     },
     "metadata": {},
     "output_type": "display_data"
    },
    {
     "data": {
      "text/markdown": [
       "    success_rate_version                                                   [1]"
      ],
      "text/plain": [
       "<IPython.core.display.Markdown object>"
      ]
     },
     "metadata": {},
     "output_type": "display_data"
    },
    {
     "data": {
      "text/markdown": [
       "    odometry_error_alpha_1_mean                                            min:  6.538e-07             avg:    0.05405             max:      1.164             nan:        255"
      ],
      "text/plain": [
       "<IPython.core.display.Markdown object>"
      ]
     },
     "metadata": {},
     "output_type": "display_data"
    },
    {
     "data": {
      "text/markdown": [
       "    odometry_error_alpha_1_std                                             min:  7.387e-07             avg:     0.2713             max:      5.868             nan:        255"
      ],
      "text/plain": [
       "<IPython.core.display.Markdown object>"
      ]
     },
     "metadata": {},
     "output_type": "display_data"
    },
    {
     "data": {
      "text/markdown": [
       "    odometry_error_alpha_2_mean                                            min:  2.939e-06             avg:     0.0614             max:      1.699             nan:        255"
      ],
      "text/plain": [
       "<IPython.core.display.Markdown object>"
      ]
     },
     "metadata": {},
     "output_type": "display_data"
    },
    {
     "data": {
      "text/markdown": [
       "    odometry_error_alpha_2_std                                             min:  3.655e-06             avg:     0.2972             max:      8.364             nan:        255"
      ],
      "text/plain": [
       "<IPython.core.display.Markdown object>"
      ]
     },
     "metadata": {},
     "output_type": "display_data"
    },
    {
     "data": {
      "text/markdown": [
       "    odometry_error_alpha_3_mean                                            min:  0.0003439             avg:   0.004164             max:    0.08637             nan:        255"
      ],
      "text/plain": [
       "<IPython.core.display.Markdown object>"
      ]
     },
     "metadata": {},
     "output_type": "display_data"
    },
    {
     "data": {
      "text/markdown": [
       "    odometry_error_alpha_3_std                                             min:  0.0003899             avg:    0.01494             max:     0.4154             nan:        255"
      ],
      "text/plain": [
       "<IPython.core.display.Markdown object>"
      ]
     },
     "metadata": {},
     "output_type": "display_data"
    },
    {
     "data": {
      "text/markdown": [
       "    odometry_error_alpha_4_mean                                            min:  9.949e-05             avg:   0.002351             max:    0.05563             nan:        255"
      ],
      "text/plain": [
       "<IPython.core.display.Markdown object>"
      ]
     },
     "metadata": {},
     "output_type": "display_data"
    },
    {
     "data": {
      "text/markdown": [
       "    odometry_error_alpha_4_std                                             min:  9.137e-05             avg:    0.01002             max:     0.3269             nan:        255"
      ],
      "text/plain": [
       "<IPython.core.display.Markdown object>"
      ]
     },
     "metadata": {},
     "output_type": "display_data"
    },
    {
     "data": {
      "text/markdown": [
       "    odometry_error_version                                                 [2]"
      ],
      "text/plain": [
       "<IPython.core.display.Markdown object>"
      ]
     },
     "metadata": {},
     "output_type": "display_data"
    },
    {
     "data": {
      "text/markdown": [
       "    localization_update_absolute_translation_error_mean                    min:    0.09327             avg:     0.1815             max:      1.818             nan:        255"
      ],
      "text/plain": [
       "<IPython.core.display.Markdown object>"
      ]
     },
     "metadata": {},
     "output_type": "display_data"
    },
    {
     "data": {
      "text/markdown": [
       "    localization_update_absolute_translation_error_std                     min:   0.008292             avg:     0.0593             max:     0.4286             nan:        255"
      ],
      "text/plain": [
       "<IPython.core.display.Markdown object>"
      ]
     },
     "metadata": {},
     "output_type": "display_data"
    },
    {
     "data": {
      "text/markdown": [
       "    localization_update_absolute_rotation_error_mean                       min:   0.003973             avg:    0.02633             max:     0.9176             nan:        255"
      ],
      "text/plain": [
       "<IPython.core.display.Markdown object>"
      ]
     },
     "metadata": {},
     "output_type": "display_data"
    },
    {
     "data": {
      "text/markdown": [
       "    localization_update_absolute_rotation_error_std                        min:   0.002358             avg:    0.04671             max:     0.7649             nan:        255"
      ],
      "text/plain": [
       "<IPython.core.display.Markdown object>"
      ]
     },
     "metadata": {},
     "output_type": "display_data"
    },
    {
     "data": {
      "text/markdown": [
       "    localization_update_relative_translation_error_mean                    min:   0.005039             avg:    0.01713             max:     0.3423             nan:        255"
      ],
      "text/plain": [
       "<IPython.core.display.Markdown object>"
      ]
     },
     "metadata": {},
     "output_type": "display_data"
    },
    {
     "data": {
      "text/markdown": [
       "    localization_update_relative_translation_error_std                     min:   0.004485             avg:    0.01487             max:     0.4363             nan:        255"
      ],
      "text/plain": [
       "<IPython.core.display.Markdown object>"
      ]
     },
     "metadata": {},
     "output_type": "display_data"
    },
    {
     "data": {
      "text/markdown": [
       "    localization_update_relative_rotation_error_mean                       min:   0.002523             avg:    0.01652             max:     0.3498             nan:        255"
      ],
      "text/plain": [
       "<IPython.core.display.Markdown object>"
      ]
     },
     "metadata": {},
     "output_type": "display_data"
    },
    {
     "data": {
      "text/markdown": [
       "    localization_update_relative_rotation_error_std                        min:   0.001829             avg:    0.05122             max:     0.7738             nan:        255"
      ],
      "text/plain": [
       "<IPython.core.display.Markdown object>"
      ]
     },
     "metadata": {},
     "output_type": "display_data"
    },
    {
     "data": {
      "text/markdown": [
       "    localization_update_normalized_relative_translation_error_mean         min:    0.09467             avg:     0.2995             max:       2.76             nan:        255"
      ],
      "text/plain": [
       "<IPython.core.display.Markdown object>"
      ]
     },
     "metadata": {},
     "output_type": "display_data"
    },
    {
     "data": {
      "text/markdown": [
       "    localization_update_normalized_relative_translation_error_std          min:    0.06499             avg:     0.3523             max:      1.188             nan:        255"
      ],
      "text/plain": [
       "<IPython.core.display.Markdown object>"
      ]
     },
     "metadata": {},
     "output_type": "display_data"
    },
    {
     "data": {
      "text/markdown": [
       "    localization_update_normalized_relative_rotation_error_mean            min:    0.01803             avg:     0.1127             max:      1.368             nan:        255"
      ],
      "text/plain": [
       "<IPython.core.display.Markdown object>"
      ]
     },
     "metadata": {},
     "output_type": "display_data"
    },
    {
     "data": {
      "text/markdown": [
       "    localization_update_normalized_relative_rotation_error_std             min:    0.01218             avg:     0.3952             max:      6.262             nan:        255"
      ],
      "text/plain": [
       "<IPython.core.display.Markdown object>"
      ]
     },
     "metadata": {},
     "output_type": "display_data"
    },
    {
     "data": {
      "text/markdown": [
       "    localization_update_error_version                                      [4]"
      ],
      "text/plain": [
       "<IPython.core.display.Markdown object>"
      ]
     },
     "metadata": {},
     "output_type": "display_data"
    },
    {
     "data": {
      "text/markdown": [
       "    absolute_translation_error                                             min:    0.09327             avg:     0.1781             max:     0.3116             nan:        257"
      ],
      "text/plain": [
       "<IPython.core.display.Markdown object>"
      ]
     },
     "metadata": {},
     "output_type": "display_data"
    },
    {
     "data": {
      "text/markdown": [
       "    collisionless_localization_update_absolute_translation_error_std       min:   0.008292             avg:    0.05083             max:     0.1152             nan:        257"
      ],
      "text/plain": [
       "<IPython.core.display.Markdown object>"
      ]
     },
     "metadata": {},
     "output_type": "display_data"
    },
    {
     "data": {
      "text/markdown": [
       "    absolute_rotation_error                                                min:   0.003973             avg:    0.01529             max:     0.1755             nan:        257"
      ],
      "text/plain": [
       "<IPython.core.display.Markdown object>"
      ]
     },
     "metadata": {},
     "output_type": "display_data"
    },
    {
     "data": {
      "text/markdown": [
       "    collisionless_localization_update_absolute_rotation_error_std          min:   0.002358             avg:    0.03231             max:     0.5716             nan:        257"
      ],
      "text/plain": [
       "<IPython.core.display.Markdown object>"
      ]
     },
     "metadata": {},
     "output_type": "display_data"
    },
    {
     "data": {
      "text/markdown": [
       "    collisionless_localization_update_relative_translation_error_mean      min:   0.006627             avg:    0.01516             max:    0.03166             nan:        257"
      ],
      "text/plain": [
       "<IPython.core.display.Markdown object>"
      ]
     },
     "metadata": {},
     "output_type": "display_data"
    },
    {
     "data": {
      "text/markdown": [
       "    collisionless_localization_update_relative_translation_error_std       min:   0.004485             avg:    0.01094             max:    0.06229             nan:        257"
      ],
      "text/plain": [
       "<IPython.core.display.Markdown object>"
      ]
     },
     "metadata": {},
     "output_type": "display_data"
    },
    {
     "data": {
      "text/markdown": [
       "    collisionless_localization_update_relative_rotation_error_mean         min:   0.002523             avg:    0.01188             max:     0.2189             nan:        257"
      ],
      "text/plain": [
       "<IPython.core.display.Markdown object>"
      ]
     },
     "metadata": {},
     "output_type": "display_data"
    },
    {
     "data": {
      "text/markdown": [
       "    collisionless_localization_update_relative_rotation_error_std          min:   0.001829             avg:    0.03854             max:     0.6622             nan:        257"
      ],
      "text/plain": [
       "<IPython.core.display.Markdown object>"
      ]
     },
     "metadata": {},
     "output_type": "display_data"
    },
    {
     "data": {
      "text/markdown": [
       "    normalized_relative_translation_error                                  min:    0.09467             avg:     0.3067             max:      1.167             nan:        257"
      ],
      "text/plain": [
       "<IPython.core.display.Markdown object>"
      ]
     },
     "metadata": {},
     "output_type": "display_data"
    },
    {
     "data": {
      "text/markdown": [
       "    collisionless_localization_update_normalized_relative_translation_error_std min:    0.06499             avg:      0.348             max:      1.114             nan:        257"
      ],
      "text/plain": [
       "<IPython.core.display.Markdown object>"
      ]
     },
     "metadata": {},
     "output_type": "display_data"
    },
    {
     "data": {
      "text/markdown": [
       "    normalized_relative_rotation_error                                     min:    0.01803             avg:     0.1032             max:      1.546             nan:        257"
      ],
      "text/plain": [
       "<IPython.core.display.Markdown object>"
      ]
     },
     "metadata": {},
     "output_type": "display_data"
    },
    {
     "data": {
      "text/markdown": [
       "    collisionless_localization_update_normalized_relative_rotation_error_std min:    0.01218             avg:     0.3514             max:      6.867             nan:        257"
      ],
      "text/plain": [
       "<IPython.core.display.Markdown object>"
      ]
     },
     "metadata": {},
     "output_type": "display_data"
    },
    {
     "data": {
      "text/markdown": [
       "    collisionless_localization_update_error_version                        [1]"
      ],
      "text/plain": [
       "<IPython.core.display.Markdown object>"
      ]
     },
     "metadata": {},
     "output_type": "display_data"
    },
    {
     "data": {
      "text/markdown": [
       "    localization_update_rate                                               min:     0.2492             avg:       1.37             max:      4.426             nan:        255"
      ],
      "text/plain": [
       "<IPython.core.display.Markdown object>"
      ]
     },
     "metadata": {},
     "output_type": "display_data"
    },
    {
     "data": {
      "text/markdown": [
       "    localization_update_rate_std                                           min:   0.009428             avg:      2.091             max:      8.568             nan:        255"
      ],
      "text/plain": [
       "<IPython.core.display.Markdown object>"
      ]
     },
     "metadata": {},
     "output_type": "display_data"
    },
    {
     "data": {
      "text/markdown": [
       "    localization_update_rate_version                                       [1]"
      ],
      "text/plain": [
       "<IPython.core.display.Markdown object>"
      ]
     },
     "metadata": {},
     "output_type": "display_data"
    },
    {
     "data": {
      "text/markdown": [
       "    average_translation_velocity                                           min:    0.00164             avg:     0.1355             max:     0.2519             nan:        254"
      ],
      "text/plain": [
       "<IPython.core.display.Markdown object>"
      ]
     },
     "metadata": {},
     "output_type": "display_data"
    },
    {
     "data": {
      "text/markdown": [
       "    average_rotation_velocity                                              min:    0.02986             avg:     0.2201             max:     0.7999             nan:        254"
      ],
      "text/plain": [
       "<IPython.core.display.Markdown object>"
      ]
     },
     "metadata": {},
     "output_type": "display_data"
    },
    {
     "data": {
      "text/markdown": [
       "    translation_rotation_product                                           min:  0.0006224             avg:    0.04179             max:      1.657             nan:        254"
      ],
      "text/plain": [
       "<IPython.core.display.Markdown object>"
      ]
     },
     "metadata": {},
     "output_type": "display_data"
    },
    {
     "data": {
      "text/markdown": [
       "    average_translation_acceleration                                       min:    0.01105             avg:    0.08926             max:     0.2947             nan:        255"
      ],
      "text/plain": [
       "<IPython.core.display.Markdown object>"
      ]
     },
     "metadata": {},
     "output_type": "display_data"
    },
    {
     "data": {
      "text/markdown": [
       "    average_rotation_acceleration                                          min:    0.03896             avg:     0.2276             max:      1.198             nan:        255"
      ],
      "text/plain": [
       "<IPython.core.display.Markdown object>"
      ]
     },
     "metadata": {},
     "output_type": "display_data"
    },
    {
     "data": {
      "text/markdown": [
       "    translation_rotation_acceleration_product                              min:   0.002066             avg:     0.0581             max:       4.55             nan:        255"
      ],
      "text/plain": [
       "<IPython.core.display.Markdown object>"
      ]
     },
     "metadata": {},
     "output_type": "display_data"
    },
    {
     "data": {
      "text/markdown": [
       "    motion_characteristics_version                                         [4]"
      ],
      "text/plain": [
       "<IPython.core.display.Markdown object>"
      ]
     },
     "metadata": {},
     "output_type": "display_data"
    },
    {
     "data": {
      "text/markdown": [
       "    controller_cpu_time                                                    min:          0             avg:          0             max:          0             nan:          0"
      ],
      "text/plain": [
       "<IPython.core.display.Markdown object>"
      ]
     },
     "metadata": {},
     "output_type": "display_data"
    },
    {
     "data": {
      "text/markdown": [
       "    planner_cpu_time                                                       min:          0             avg:          0             max:          0             nan:          0"
      ],
      "text/plain": [
       "<IPython.core.display.Markdown object>"
      ]
     },
     "metadata": {},
     "output_type": "display_data"
    },
    {
     "data": {
      "text/markdown": [
       "    system_cpu_time                                                        min:       3.71             avg:      99.88             max:       2465             nan:          0"
      ],
      "text/plain": [
       "<IPython.core.display.Markdown object>"
      ]
     },
     "metadata": {},
     "output_type": "display_data"
    },
    {
     "data": {
      "text/markdown": [
       "    controller_max_memory                                                  min:          0             avg:          0             max:          0             nan:          0"
      ],
      "text/plain": [
       "<IPython.core.display.Markdown object>"
      ]
     },
     "metadata": {},
     "output_type": "display_data"
    },
    {
     "data": {
      "text/markdown": [
       "    planner_max_memory                                                     min:          0             avg:          0             max:          0             nan:          0"
      ],
      "text/plain": [
       "<IPython.core.display.Markdown object>"
      ]
     },
     "metadata": {},
     "output_type": "display_data"
    },
    {
     "data": {
      "text/markdown": [
       "    system_max_memory                                                      min:      220.2             avg:      531.2             max:      984.3             nan:          0"
      ],
      "text/plain": [
       "<IPython.core.display.Markdown object>"
      ]
     },
     "metadata": {},
     "output_type": "display_data"
    },
    {
     "data": {
      "text/markdown": [
       "    cpu_time_and_max_memory_version                                        [1]"
      ],
      "text/plain": [
       "<IPython.core.display.Markdown object>"
      ]
     },
     "metadata": {},
     "output_type": "display_data"
    },
    {
     "data": {
      "text/markdown": [
       "    average_velocity_atan                                                  min:     0.3686             avg:     0.7448             max:      1.566             nan:        254"
      ],
      "text/plain": [
       "<IPython.core.display.Markdown object>"
      ]
     },
     "metadata": {},
     "output_type": "display_data"
    },
    {
     "data": {
      "text/markdown": [
       "    average_velocity                                                       min:   0.001906             avg:     0.1111             max:     0.2605             nan:        254"
      ],
      "text/plain": [
       "<IPython.core.display.Markdown object>"
      ]
     },
     "metadata": {},
     "output_type": "display_data"
    },
    {
     "data": {
      "text/markdown": [
       "    norm_execution_time                                                    min:     0.2523             avg:      1.643             max:      9.279             nan:        260"
      ],
      "text/plain": [
       "<IPython.core.display.Markdown object>"
      ]
     },
     "metadata": {},
     "output_type": "display_data"
    }
   ],
   "source": [
    "# df = pd.read_csv(path.expanduser(\"~/ds/performance_modelling/output/test_local_planning_all/results.csv\"))\n",
    "# with open(path.expanduser(\"~/ds/performance_modelling/output/test_local_planning_all/results_info.yaml\")) as results_info_file:\n",
    "#     results_info = yaml.safe_load(results_info_file)\n",
    "\n",
    "df = pd.read_csv(path.expanduser(\"~/ds/performance_modelling/output/test_local_planning/results.csv\"))\n",
    "with open(path.expanduser(\"~/ds/performance_modelling/output/test_local_planning/results_info.yaml\")) as results_info_file:\n",
    "    results_info = yaml.safe_load(results_info_file)\n",
    "    \n",
    "df.rename(inplace=True, columns={\n",
    "    'collisionless_localization_update_absolute_translation_error_mean': 'absolute_translation_error',\n",
    "    'collisionless_localization_update_absolute_rotation_error_mean': 'absolute_rotation_error',\n",
    "    'collisionless_localization_update_normalized_relative_translation_error_mean': 'normalized_relative_translation_error',\n",
    "    'collisionless_localization_update_normalized_relative_rotation_error_mean': 'normalized_relative_rotation_error',\n",
    "    'localization_update_rate_mean': 'localization_update_rate',\n",
    "})\n",
    "\n",
    "\n",
    "# TEMP: only consider real localization\n",
    "df = df[df.localization_node != 'localization_generator']\n",
    "# df = df[df.amcl_alpha_factor == 1.0]\n",
    "\n",
    "# df = df[df.amcl_alpha_factor.notna()]\n",
    "\n",
    "# turn odometry_error into beta_1..4\n",
    "results_info['run_parameter_names'] += ['beta_1', 'beta_2', 'beta_3', 'beta_4']\n",
    "results_info['run_parameter_names'].remove('odometry_error')\n",
    "for i in range(0, 4):\n",
    "    df[f'beta_{i+1}'] = df['odometry_error'].apply(lambda x: eval(x)[i])\n",
    "del df['odometry_error']\n",
    "\n",
    "df.loc[df.robot_model == 'turtlebot3_waffle_performance_modelling', 'robot_model'] = 'turtle'\n",
    "df.loc[df.robot_model == 'hunter2', 'robot_model'] = 'hunter'\n",
    "\n",
    "run_parameters = [c for c in list(df.columns) if c in results_info['run_parameter_names']]\n",
    "run_parameters += ['max_steering_angle_deg']\n",
    "metrics_versions = [c for c in list(df.columns) if '_version' in c]\n",
    "everything_else = ['run_id', 'session_id', 'run_number', 'goal_index']\n",
    "metrics = [c for c in df.columns if c not in metrics_versions + run_parameters + everything_else]\n",
    "metrics_and_versions = [c for c in list(df.columns) if '_version' in c or c in metrics]\n",
    "\n",
    "cpu_time_metrics = [c for c in metrics if 'cpu_time' in c]\n",
    "max_memory_metrics = [c for c in metrics if 'max_memory' in c]\n",
    "\n",
    "# add useful parameters\n",
    "df['session_id'] =  df['run_id'].apply(lambda x:  x.split('_')[1]+'_'+x.split('_')[2]+'_'+x.split('_')[3])\n",
    "df['run_number'] =  df['run_id'].apply(lambda x:  int(x.split('_')[5]))\n",
    "df[max_memory_metrics] = df[max_memory_metrics]/1024**2\n",
    "#df.max_steering_angle_deg = df.max_steering_angle_deg.fillna(90)\n",
    "df['max_steering_angle_deg'] = 90    # crea una nuova colonna e riempie le righe con il valore 90\n",
    "df[\"run_index_str\"] = df['run_index'].apply(lambda x: str(x))\n",
    "df['goal_index'] = df.environment_name + '_' + df.run_index_str\n",
    "\n",
    "# add metrics from existing ones\n",
    "df['average_velocity'] = df['trajectory_length'] / df['execution_time']\n",
    "df['success_rate'] = df['success_rate'] & (1 - df['collision_rate'])\n",
    "\n",
    "metrics += ['average_velocity']\n",
    "metrics_and_versions += ['average_velocity']\n",
    "\n",
    "# add aggregated data\n",
    "#min_trajectory_length_group_df = df.groupby([\"environment_name\", \"run_index\", \"success_rate\"])\n",
    "#for (environment_name, run_index, success_rate), group_df in min_trajectory_length_group_df:\n",
    "#    df.loc[(df.environment_name == environment_name) & (df.run_index == run_index) & (success_rate), 'min_trajectory_length'] = group_df.trajectory_length.min()\n",
    "#    df.loc[(df.environment_name == environment_name) & (df.run_index == run_index) & (success_rate), 'std_trajectory_length'] = group_df.trajectory_length.std()\n",
    "#    df.loc[(df.environment_name == environment_name) & (df.run_index == run_index) & (success_rate), 'var_trajectory_length'] = group_df.trajectory_length.var()\n",
    "#    df.loc[(df.environment_name == environment_name) & (df.run_index == run_index) & (success_rate), 'mean_trajectory_length'] = group_df.trajectory_length.mean()\n",
    "#    df.loc[(df.environment_name == environment_name) & (df.run_index == run_index) & (success_rate), 'median_trajectory_length'] = group_df.trajectory_length.median()\n",
    "#df['norm_trajectory_length'] = df.trajectory_length / df.min_trajectory_length\n",
    "#df['norm_trajectory_length_std'] = df.trajectory_length / df.min_trajectory_length / df.std_trajectory_length\n",
    "#df['norm_trajectory_length_mean'] = df.trajectory_length / df.mean_trajectory_length\n",
    "#df['norm_trajectory_length_median'] = df.trajectory_length / df.median_trajectory_length\n",
    "#metrics += ['norm_trajectory_length']\n",
    "#metrics += ['min_trajectory_length']\n",
    "#metrics += ['mean_trajectory_length']\n",
    "#metrics += ['median_trajectory_length']\n",
    "#metrics += ['norm_trajectory_length_std']\n",
    "# metrics += ['norm_trajectory_length_mean']\n",
    "# metrics += ['norm_trajectory_length_median'] \n",
    "#metrics_and_versions += ['norm_trajectory_length']\n",
    "#metrics_and_versions += ['mean_trajectory_length']\n",
    "#metrics_and_versions += ['median_trajectory_length']\n",
    "#metrics_and_versions += ['norm_trajectory_length_std']\n",
    "#metrics_and_versions += ['norm_trajectory_length_mean']\n",
    "#metrics_and_versions += ['norm_trajectory_length_median']\n",
    "\n",
    "min_execution_time_group_df = df.groupby([\"environment_name\", \"run_index\", \"success_rate\"])\n",
    "for (environment_name, run_index, success_rate), group_df in min_execution_time_group_df:\n",
    "    df.loc[(df.environment_name == environment_name) & (df.run_index == run_index) & (success_rate), 'min_execution_time'] = group_df.execution_time.min()\n",
    "df['norm_execution_time'] = df.execution_time / df.min_execution_time\n",
    "metrics += ['norm_execution_time']\n",
    "metrics_and_versions += ['norm_execution_time']\n",
    "\n",
    "printmd(\"## Number of Runs\")\n",
    "printmd(f\"    {len(df.run_id.unique())}\")\n",
    "\n",
    "printmd(\"## Run Parameters\")\n",
    "for name in [run_parameter_name for run_parameter_name in run_parameters if 'localization_generator_' not in run_parameter_name]:\n",
    "    values = list(df[name].unique())\n",
    "    printmd(f\"    {name:<70}\", sorted(values))\n",
    "\n",
    "printmd(\"## Metrics\")\n",
    "for name in metrics_and_versions:\n",
    "    if name in metrics_versions:\n",
    "        if len(df[name].unique()) == 1:\n",
    "            printmd(f\"    {name:<70} {sorted(df[name].unique())}\")\n",
    "        else:\n",
    "            printmd(f\"<code><font style='background-color:yellow;font-family:monospace'>{name:<70}{sorted(df[name].unique())} </font></code> ⚠️\")\n",
    "    else:\n",
    "        printmd(f\"    {name:<70} min: {df[name].min(skipna=True):10.4g} {'avg':>15}: {df[name].mean(skipna=True):10.4g} {'max':>15}: {df[name].max(skipna=True):10.4g} {'nan':>15}: {sum(df[name].isna()):10.4g}\")"
   ]
  },
  {
   "cell_type": "code",
   "execution_count": 6,
   "metadata": {
    "scrolled": true
   },
   "outputs": [
    {
     "ename": "AttributeError",
     "evalue": "'DataFrame' object has no attribute 'norm_trajectory_length_std'",
     "output_type": "error",
     "traceback": [
      "\u001b[0;31m---------------------------------------------------------------------------\u001b[0m",
      "\u001b[0;31mAttributeError\u001b[0m                            Traceback (most recent call last)",
      "Cell \u001b[0;32mIn [6], line 1\u001b[0m\n\u001b[0;32m----> 1\u001b[0m df[\u001b[43mdf\u001b[49m\u001b[38;5;241;43m.\u001b[39;49m\u001b[43mnorm_trajectory_length_std\u001b[49m\u001b[38;5;241m.\u001b[39misna()][\u001b[38;5;124m'\u001b[39m\u001b[38;5;124mrun_id\u001b[39m\u001b[38;5;124m'\u001b[39m]\n",
      "File \u001b[0;32m/usr/lib/python3/dist-packages/pandas/core/generic.py:5179\u001b[0m, in \u001b[0;36mNDFrame.__getattr__\u001b[0;34m(self, name)\u001b[0m\n\u001b[1;32m   5177\u001b[0m \u001b[38;5;28;01mif\u001b[39;00m \u001b[38;5;28mself\u001b[39m\u001b[38;5;241m.\u001b[39m_info_axis\u001b[38;5;241m.\u001b[39m_can_hold_identifiers_and_holds_name(name):\n\u001b[1;32m   5178\u001b[0m     \u001b[38;5;28;01mreturn\u001b[39;00m \u001b[38;5;28mself\u001b[39m[name]\n\u001b[0;32m-> 5179\u001b[0m \u001b[38;5;28;01mreturn\u001b[39;00m \u001b[38;5;28;43mobject\u001b[39;49m\u001b[38;5;241;43m.\u001b[39;49m\u001b[38;5;21;43m__getattribute__\u001b[39;49m\u001b[43m(\u001b[49m\u001b[38;5;28;43mself\u001b[39;49m\u001b[43m,\u001b[49m\u001b[43m \u001b[49m\u001b[43mname\u001b[49m\u001b[43m)\u001b[49m\n",
      "\u001b[0;31mAttributeError\u001b[0m: 'DataFrame' object has no attribute 'norm_trajectory_length_std'"
     ]
    }
   ],
   "source": [
    "df[df.norm_trajectory_length_std.isna()]['run_id']\n"
   ]
  },
  {
   "cell_type": "code",
   "execution_count": null,
   "metadata": {},
   "outputs": [],
   "source": [
    "np.nan == np.nan"
   ]
  },
  {
   "cell_type": "code",
   "execution_count": null,
   "metadata": {},
   "outputs": [],
   "source": [
    "df[['run_id', 'collision_rate']]"
   ]
  },
  {
   "cell_type": "code",
   "execution_count": null,
   "metadata": {
    "scrolled": false
   },
   "outputs": [],
   "source": [
    "# restituisce tutte le righe aventi arena e collision rate pari a 1. Ho splittato in 2 istruzioni come consigliato su stackoverflow, per evitare warning.\n",
    "df2 = df[df.local_planner_node =='arena'] \n",
    "df2[df2.collision_rate == 1]\n",
    "\n",
    "# scarta riga se c'è un nan nella metrica"
   ]
  },
  {
   "cell_type": "code",
   "execution_count": null,
   "metadata": {},
   "outputs": [],
   "source": [
    "df[ (df.local_planner_node =='arena') & (df.collision_rate == 1) ] "
   ]
  },
  {
   "cell_type": "code",
   "execution_count": null,
   "metadata": {
    "scrolled": true
   },
   "outputs": [],
   "source": [
    "len(df2[df2.collision_rate == 1]) #restituisce il numero di righe"
   ]
  },
  {
   "cell_type": "code",
   "execution_count": null,
   "metadata": {},
   "outputs": [],
   "source": [
    "# alternativa se non si vogliono considerare i null values\n",
    "df2[df2.collision_rate == 1].count()"
   ]
  },
  {
   "cell_type": "code",
   "execution_count": null,
   "metadata": {
    "scrolled": true
   },
   "outputs": [],
   "source": [
    "printmd(\"## Overall performance values by robot model, local planner component, kinematic constraints, and localization component\")\n",
    "printmd(\"### Considering all runs (sorted by collisionless success rate)\")\n",
    "df.groupby(['robot_model', 'local_planner_node', 'max_steering_angle_deg', 'localization_node'])[[\"success_rate\", \"collision_rate\", \"average_velocity\", \"norm_trajectory_length\", \"norm_execution_time\"]].agg(['mean', 'count']).sort_values(('success_rate', 'mean'), ascending=False)"
   ]
  },
  {
   "cell_type": "code",
   "execution_count": null,
   "metadata": {
    "scrolled": false
   },
   "outputs": [],
   "source": [
    "printmd(\"### Only considering successful runs (sorted by norm trajectory length)\")\n",
    "df[df.success_rate == 1].groupby(['robot_model', 'local_planner_node', 'max_steering_angle_deg', 'localization_node'])[[\"success_rate\", \"collision_rate\", \"average_velocity\", \"norm_trajectory_length\", \"norm_execution_time\"]].agg(['mean', 'count']).sort_values(('norm_trajectory_length', 'mean'), ascending=True)"
   ]
  },
  {
   "cell_type": "code",
   "execution_count": null,
   "metadata": {
    "scrolled": false
   },
   "outputs": [],
   "source": [
    "printmd(\"### Only considering failed runs (sorted by collision rate)\")\n",
    "df[df.success_rate == 0].groupby(['robot_model', 'local_planner_node', 'max_steering_angle_deg', 'localization_node'])[[\"success_rate\", \"collision_rate\", \"average_velocity\", \"norm_trajectory_length\", \"norm_execution_time\"]].agg(['mean', 'count']).sort_values(('collision_rate', 'mean'), ascending=True)"
   ]
  },
  {
   "cell_type": "code",
   "execution_count": null,
   "metadata": {
    "scrolled": false
   },
   "outputs": [],
   "source": [
    "def bar_plot(metric_name, selected_df, y_columns=['robot_model', 'local_planner_node', 'global_planner_node', 'localization_node'], percentage=False, unit_symbol=None, higher_better=True):\n",
    "    bar_df = selected_df.groupby(y_columns)[metric_name].agg(['mean', 'count']).sort_values(by=('mean'), ascending=higher_better)\n",
    "    ax = (bar_df.sort_values(by=('mean'), ascending=higher_better)* (100 if percentage else 1) ).plot.barh(y=[('mean')], stacked=True, figsize=[10, 5], grid=True, legend=False)\n",
    "    ax.set_xlabel(metric_name.replace('_', ' ').replace(',', ', ') + (f\" [{unit_symbol}]\" if unit_symbol else \"\"))\n",
    "    ax.set_ylabel(ax.get_ylabel().replace('_', ' ').replace(',', ',\\n'))\n",
    "    plt.gcf().set_size_inches([5, 1])\n",
    "    plt.show()\n",
    "printmd(\"## success rate\")\n",
    "bar_plot(metric_name='success_rate', selected_df=df[(df.max_steering_angle_deg == 90.0)], percentage=True, higher_better=True, unit_symbol='%')\n",
    "printmd(\"## collision_rate\")\n",
    "bar_plot(metric_name='collision_rate', selected_df=df[(df.max_steering_angle_deg == 90.0)], percentage=True, higher_better=False, unit_symbol='%')\n",
    "printmd(\"## average_velocity, only successful runs\")\n",
    "bar_plot(metric_name='average_velocity', selected_df=df[(df.success_rate == 1) & (df.max_steering_angle_deg == 90.0)], higher_better=True, unit_symbol='m/s')\n",
    "printmd(\"## norm_trajectory_length, only successful runs\")\n",
    "bar_plot(metric_name='norm_trajectory_length', selected_df=df[(df.success_rate == 1) & (df.max_steering_angle_deg == 90.0)], higher_better=False, unit_symbol='m/m')\n",
    "printmd(\"## norm_execution_time, only successful runs\")\n",
    "bar_plot(metric_name='norm_execution_time', selected_df=df[(df.success_rate == 1) & (df.max_steering_angle_deg == 90.0)], higher_better=False, unit_symbol='s/s')"
   ]
  },
  {
   "cell_type": "code",
   "execution_count": null,
   "metadata": {
    "scrolled": false
   },
   "outputs": [],
   "source": [
    "max_scatter_points = 200\n",
    "def plot_in_out_metrics_bin_width_save(output_metric, input_metrics, bin_widths, min_bin_count, selected_df, out_dir, min_y=0.0, plot_all=True, scatter=True):\n",
    "    max_y = -np.inf\n",
    "#     scatter = False\n",
    "\n",
    "    for i, (input_metric, bin_width) in enumerate(zip(input_metrics, bin_widths)):\n",
    "        fig = plt.figure()\n",
    "\n",
    "        for localization_node in df.localization_node.unique():\n",
    "            for local_planner_node in df.local_planner_node.unique():\n",
    "                \n",
    "                df_lr = selected_df[\n",
    "                    (selected_df.localization_node == localization_node) & \n",
    "                    (selected_df.local_planner_node == local_planner_node) & \n",
    "                    selected_df[input_metric.name].notna() & \n",
    "                    selected_df[output_metric.name].notna()\n",
    "                ].copy()\n",
    "                if len(df_lr[input_metric.name]):\n",
    "                    if scatter:\n",
    "                        n = max(1, int(len(df_lr[input_metric.name])/max_scatter_points))\n",
    "                        plt.scatter(df_lr[input_metric.name][::n], df_lr[output_metric.name][::n], marker='.', s=0.25, color=local_planner_color[local_planner_node])\n",
    "                    \n",
    "                    if bin_width is not None:\n",
    "                        if isinstance(bin_width, str):\n",
    "                            _, bins = np.histogram(df_lr[input_metric.name], bins=bin_width)\n",
    "                        else:\n",
    "                            bins = np.arange(0., input_metric.max() + bin_width, bin_width)\n",
    "\n",
    "                        df_lr['x_range'] = pd.cut(df_lr[input_metric.name], bins, labels=bins[:-1]).astype('float')\n",
    "                        df_lr_g = df_lr.groupby('x_range').agg(['mean', 'count'])\n",
    "                        df_lr_g = df_lr_g[ df_lr_g[(output_metric.name, 'count')] > min_bin_count ]\n",
    "                        plt.plot(df_lr_g.index, df_lr_g[(output_metric.name, 'mean')], f'{local_planner_symbol[local_planner_node]}-', fillstyle='none', mfc=None, label=f'{local_planner_node}', linewidth=1, color=local_planner_color[local_planner_node])\n",
    "                    else:\n",
    "                        df_lr_g = df_lr.groupby(input_metric.name).agg(['mean', 'count'])\n",
    "                        df_lr_g = df_lr_g[ df_lr_g[(output_metric.name, 'count')] > min_bin_count ]\n",
    "                        plt.plot(df_lr_g.index, df_lr_g[(output_metric.name, 'mean')], f'{local_planner_symbol[local_planner_node]}-', fillstyle='none', mfc=None, label=f'{local_planner_node}', linewidth=1, color=local_planner_color[local_planner_node])\n",
    "                    max_y = max(max_y, df_lr_g[(output_metric.name, 'mean')].max())\n",
    "\n",
    "        if i == 0:\n",
    "            plt.legend()\n",
    "        plt.grid()\n",
    "        plt.xlabel(input_metric.name.replace('_', ' '))\n",
    "        plt.ylabel(output_metric.name.replace('_', ' '))\n",
    "        plt.ylim([min_y, max_y*1.1])\n",
    "        fig.set_size_inches([4, 4])\n",
    "        if not path.exists(out_dir):\n",
    "            os.makedirs(out_dir)\n",
    "        fig.savefig(out_dir + f\"/{output_metric.name}---{input_metric.name}.pdf\".replace('_', '-'), bbox_inches='tight')\n",
    "        plt.show()\n"
   ]
  },
  {
   "cell_type": "code",
   "execution_count": null,
   "metadata": {
    "scrolled": false
   },
   "outputs": [],
   "source": [
    "printmd(\"## Localization perf from system features\")\n",
    "\n",
    "d = df[(df.max_steering_angle_deg == 90.) & (df.robot_model == 'turtle') & (df.global_planner_node == 'navfn') & (df.localization_node == 'amcl')].copy()\n",
    "min_bin_count = 10\n",
    "input_metrics, bin_widths = zip(*[\n",
    "    [d.average_velocity, 0.02], \n",
    "    [d.average_translation_velocity, 0.02], \n",
    "    #[d.average_velocity_atan, 0.1],\n",
    "    [d.beta_1, None],\n",
    "])\n",
    "output_metrics = [\n",
    "    d.absolute_translation_error,\n",
    "    d.absolute_rotation_error,\n",
    "    d.normalized_relative_translation_error,\n",
    "    d.normalized_relative_rotation_error,\n",
    "]\n",
    "for output_metric in output_metrics:\n",
    "    printmd(f\"### {output_metric.name.replace('_', ' ')}\")\n",
    "    plot_in_out_metrics_bin_width_save(\n",
    "        output_metric=output_metric, \n",
    "        input_metrics=input_metrics, \n",
    "        bin_widths=bin_widths,\n",
    "        min_bin_count=min_bin_count,\n",
    "        selected_df=d,\n",
    "        out_dir=\"thesis_plots/localization\",\n",
    "    )\n",
    "\n",
    "\n",
    "printmd(\"## Localization perf from own parameters\")\n",
    "\n",
    "d = df[(df.max_steering_angle_deg == 90.) & (df.robot_model == 'turtle') & (df.global_planner_node == 'navfn') & (df.localization_node == 'amcl') & (df.amcl_alpha_factor != 0)].copy()\n",
    "min_bin_count = 10\n",
    "input_metrics, bin_widths = zip(*[\n",
    "    [d.amcl_alpha_factor, None],\n",
    "])\n",
    "output_metrics = [\n",
    "    d.absolute_translation_error,\n",
    "    d.absolute_rotation_error,\n",
    "    d.normalized_relative_translation_error,\n",
    "    d.normalized_relative_rotation_error,\n",
    "]\n",
    "for output_metric in output_metrics:\n",
    "    printmd(f\"### {output_metric.name.replace('_', ' ')}\")\n",
    "    plot_in_out_metrics_bin_width_save(\n",
    "        output_metric=output_metric, \n",
    "        input_metrics=input_metrics, \n",
    "        bin_widths=bin_widths,\n",
    "        min_bin_count=min_bin_count,\n",
    "        selected_df=d,\n",
    "        out_dir=\"thesis_plots/localization\",\n",
    "    )"
   ]
  },
  {
   "cell_type": "code",
   "execution_count": null,
   "metadata": {
    "scrolled": false
   },
   "outputs": [],
   "source": [
    "# printmd(\"## avg vel and avg vel atan are similar\")\n",
    "# d = df[(df.max_steering_angle_deg == 90.) & (df.robot_model == 'turtle') & (df.global_planner_node == 'navfn') & (df.localization_node == 'amcl')].copy()\n",
    "# input_metrics = [\n",
    "#     d.average_translation_velocity,\n",
    "#     d.average_rotation_velocity,\n",
    "#     d.average_velocity_atan,\n",
    "# ]\n",
    "# bin_widths = [0.02, 0.05, 0.1]\n",
    "# min_bin_count = 10\n",
    "# plot_in_out_metrics_bin_width_save(\n",
    "#     output_metric=d.average_translation_velocity, \n",
    "#     input_metrics=input_metrics, \n",
    "#     bin_widths=bin_widths,\n",
    "#     min_bin_count=min_bin_count,\n",
    "#     selected_df=d,\n",
    "#     scatter=True,\n",
    "#     out_dir=\"thesis_plots/motion_char_self_correlation\",\n",
    "# )\n",
    "# plot_in_out_metrics_bin_width_save(\n",
    "#     output_metric=d.average_rotation_velocity, \n",
    "#     input_metrics=input_metrics, \n",
    "#     bin_widths=bin_widths,\n",
    "#     min_bin_count=min_bin_count,\n",
    "#     selected_df=d,\n",
    "#     scatter=True,\n",
    "#     out_dir=\"thesis_plots/motion_char_self_correlation\",\n",
    "# )\n",
    "# plot_in_out_metrics_bin_width_save(\n",
    "#     output_metric=d.average_velocity_atan, \n",
    "#     input_metrics=input_metrics, \n",
    "#     bin_widths=bin_widths,\n",
    "#     min_bin_count=min_bin_count,\n",
    "#     selected_df=d,\n",
    "#     scatter=True,\n",
    "#     out_dir=\"thesis_plots/motion_char_self_correlation\",\n",
    "# )"
   ]
  },
  {
   "cell_type": "code",
   "execution_count": null,
   "metadata": {
    "scrolled": false
   },
   "outputs": [],
   "source": [
    "\n",
    "# print(df.goal_index)\n",
    "\n",
    "bin_widths = [None, None, None]\n",
    "d = df[(df.max_steering_angle_deg == 90.) & (df.robot_model == 'turtle') & (df.global_planner_node == 'navfn') & (df.localization_node == 'amcl')].copy()\n",
    "input_metrics = [\n",
    "    d.environment_name,\n",
    "    d.run_duplicate_index,\n",
    "    d.goal_index,\n",
    "]\n",
    "\n",
    "plot_in_out_metrics_bin_width_save(\n",
    "    output_metric=d.minimum_clearance, \n",
    "    input_metrics=input_metrics, \n",
    "    bin_widths=bin_widths,\n",
    "    min_bin_count=10,\n",
    "    selected_df=d,\n",
    "    plot_all=False,\n",
    "    scatter=False,\n",
    "    out_dir=\"thesis_plots/local_planner\",\n",
    ")\n",
    "plot_in_out_metrics_bin_width_save(\n",
    "    output_metric=d.average_velocity, \n",
    "    input_metrics=input_metrics, \n",
    "    bin_widths=bin_widths,\n",
    "    min_bin_count=10,\n",
    "    selected_df=d,\n",
    "    plot_all=False,\n",
    "    scatter=False,\n",
    "    out_dir=\"thesis_plots/local_planner\",\n",
    ")"
   ]
  },
  {
   "cell_type": "code",
   "execution_count": null,
   "metadata": {
    "scrolled": false
   },
   "outputs": [],
   "source": []
  },
  {
   "cell_type": "code",
   "execution_count": null,
   "metadata": {
    "scrolled": false
   },
   "outputs": [],
   "source": [
    "\n",
    "# printmd(\"### norm trajectory length ← absolute translation error doesn't work because when absolute translation error is very small, the trajectories are very short and a small change in trajectory length causes a big change in norm trajectory length\")\n",
    "\n",
    "# for e in df.environment_name.unique():\n",
    "#     printmd(f\"## {e}\")\n",
    "#     bin_widths = [0.01]\n",
    "#     min_bin_count = 10\n",
    "#     d = df[(df.success_rate == 1) & (df.max_steering_angle_deg == 90.) & (df.robot_model == 'turtle') & (df.global_planner_node == 'navfn') & (df.localization_node == 'amcl') & (df.environment_name == e)].copy()\n",
    "#     input_metrics = [\n",
    "#         d.absolute_translation_error, \n",
    "#     ]\n",
    "#     plot_in_out_metrics_bin_width_save(\n",
    "#         output_metric=d.min_trajectory_length, \n",
    "#         input_metrics=input_metrics, \n",
    "#         bin_widths=bin_widths,\n",
    "#         min_bin_count=min_bin_count,\n",
    "#         selected_df=d,\n",
    "#         plot_all=False,\n",
    "#         scatter=False,\n",
    "#         out_dir=f\"thesis_plots/local_planner/{e}\",\n",
    "#     )\n",
    "    \n",
    "#     plot_in_out_metrics_bin_width_save(\n",
    "#         output_metric=d.trajectory_length, \n",
    "#         input_metrics=input_metrics, \n",
    "#         bin_widths=bin_widths,\n",
    "#         min_bin_count=min_bin_count,\n",
    "#         selected_df=d,\n",
    "#         plot_all=False,\n",
    "#         scatter=False,\n",
    "#         out_dir=f\"thesis_plots/local_planner/{e}\",\n",
    "#     )\n",
    "#     plot_in_out_metrics_bin_width_save(\n",
    "#         output_metric=d.norm_trajectory_length, \n",
    "#         input_metrics=input_metrics, \n",
    "#         bin_widths=bin_widths,\n",
    "#         min_bin_count=min_bin_count,\n",
    "#         selected_df=d,\n",
    "#         plot_all=False,\n",
    "#         min_y=1.0,\n",
    "#         scatter=False,\n",
    "#         out_dir=f\"thesis_plots/local_planner/{e}\",\n",
    "#     )\n"
   ]
  },
  {
   "cell_type": "code",
   "execution_count": null,
   "metadata": {
    "scrolled": false
   },
   "outputs": [],
   "source": [
    "\n",
    "# printmd(\"### norm trajectory length, trajectory length ← other localization error metrics\")\n",
    "\n",
    "# for e in df.environment_name.unique():\n",
    "#     printmd(f\"## {e}\")\n",
    "#     bin_widths = [0.03]\n",
    "#     min_bin_count = 10\n",
    "#     d = df[(df.success_rate == 1) & (df.max_steering_angle_deg == 90.) & (df.robot_model == 'turtle') & (df.global_planner_node == 'navfn') & (df.localization_node == 'amcl') & (df.environment_name == e)].copy()\n",
    "#     input_metrics = [\n",
    "#         d.normalized_relative_rotation_error, \n",
    "#     ]\n",
    "#     plot_in_out_metrics_bin_width_save(\n",
    "#         output_metric=d.min_trajectory_length, \n",
    "#         input_metrics=input_metrics, \n",
    "#         bin_widths=bin_widths,\n",
    "#         min_bin_count=min_bin_count,\n",
    "#         selected_df=d,\n",
    "#         plot_all=False,\n",
    "#         scatter=False,\n",
    "#         out_dir=f\"thesis_plots/local_planner/{e}\",\n",
    "#     )\n",
    "#     plot_in_out_metrics_bin_width_save(\n",
    "#         output_metric=d.trajectory_length, \n",
    "#         input_metrics=input_metrics, \n",
    "#         bin_widths=bin_widths,\n",
    "#         min_bin_count=min_bin_count,\n",
    "#         selected_df=d,\n",
    "#         plot_all=False,\n",
    "#         scatter=False,\n",
    "#         out_dir=f\"thesis_plots/local_planner/{e}\",\n",
    "#     )\n",
    "#     plot_in_out_metrics_bin_width_save(\n",
    "#         output_metric=d.norm_trajectory_length, \n",
    "#         input_metrics=input_metrics, \n",
    "#         bin_widths=bin_widths,\n",
    "#         min_bin_count=min_bin_count,\n",
    "#         selected_df=d,\n",
    "#         plot_all=False,\n",
    "#         min_y=1.0,\n",
    "#         scatter=False,\n",
    "#         out_dir=f\"thesis_plots/local_planner/{e}\",\n",
    "#     )\n"
   ]
  },
  {
   "cell_type": "code",
   "execution_count": null,
   "metadata": {
    "scrolled": false
   },
   "outputs": [],
   "source": [
    "\n",
    "\n",
    "for e in df.environment_name.unique():\n",
    "    printmd(f\"## {e}\")\n",
    "    min_bin_count = 10\n",
    "    d = df[(df.max_steering_angle_deg == 90.) & (df.robot_model == 'turtle') & (df.global_planner_node == 'navfn') & (df.localization_node == 'amcl') & (df.environment_name == e)].copy()\n",
    "    bin_widths = [1, .1, .01]\n",
    "    input_metrics = [\n",
    "        d.maximum_clearance, \n",
    "        d.average_clearance, \n",
    "        d.minimum_clearance, \n",
    "    ]\n",
    "    plot_in_out_metrics_bin_width_save(\n",
    "        output_metric=d.average_velocity, \n",
    "        input_metrics=input_metrics, \n",
    "        bin_widths=bin_widths,\n",
    "        min_bin_count=min_bin_count,\n",
    "        selected_df=d,\n",
    "        min_y=0.0,\n",
    "        plot_all=False,\n",
    "        scatter=True,\n",
    "        out_dir=f\"thesis_plots/local_planner/{e}\",\n",
    "    )\n"
   ]
  },
  {
   "cell_type": "code",
   "execution_count": null,
   "metadata": {
    "scrolled": false
   },
   "outputs": [],
   "source": [
    "\n",
    "printmd(\"## Local Planning perf (also system features)\")\n",
    "\n",
    "min_bin_count = 10\n",
    "d = df[(df.success_rate == 1) & (df.max_steering_angle_deg == 90.) & (df.robot_model == 'turtle') & (df.global_planner_node == 'navfn') & (df.localization_node == 'amcl')].copy()\n",
    "input_metrics, bin_widths = zip(*[\n",
    "    [d.beta_1, None], \n",
    "    [d.amcl_alpha_factor, None],\n",
    "    [d.minimum_clearance, .1],\n",
    "    [d.average_clearance, 1],\n",
    "])\n",
    "plot_in_out_metrics_bin_width_save(\n",
    "    output_metric=d.average_velocity, \n",
    "    input_metrics=input_metrics, \n",
    "    bin_widths=bin_widths,\n",
    "    min_bin_count=min_bin_count,\n",
    "    selected_df=d,\n",
    "    plot_all=False,\n",
    "    scatter=True,\n",
    "    out_dir=\"thesis_plots/local_planner\",\n",
    ")\n",
    "plot_in_out_metrics_bin_width_save(\n",
    "    output_metric=d.average_velocity_atan, \n",
    "    input_metrics=input_metrics, \n",
    "    bin_widths=bin_widths,\n",
    "    min_bin_count=min_bin_count,\n",
    "    selected_df=d,\n",
    "    plot_all=False,\n",
    "    scatter=True,\n",
    "    out_dir=\"thesis_plots/local_planner\",\n",
    ")"
   ]
  },
  {
   "cell_type": "code",
   "execution_count": null,
   "metadata": {
    "scrolled": false
   },
   "outputs": [],
   "source": [
    "## plots_local_planner\n",
    "\n",
    "printmd(\"## Local Planning perf (not system features)\")\n",
    "\n",
    "min_bin_count = 10\n",
    "\n",
    "d = df[(df.max_steering_angle_deg == 90.) & (df.robot_model == 'turtle') & (df.global_planner_node == 'navfn') & (df.localization_node == 'amcl')].copy()\n",
    "input_metrics, bin_widths = zip(*[\n",
    "    [d.beta_1, None], \n",
    "    [d.amcl_alpha_factor, None],\n",
    "    [d.average_clearance, 1],\n",
    "])\n",
    "plot_in_out_metrics_bin_width_save(\n",
    "    output_metric=d.success_rate, \n",
    "    input_metrics=input_metrics, \n",
    "    bin_widths=bin_widths,\n",
    "    min_bin_count=min_bin_count,\n",
    "    selected_df=d,\n",
    "    out_dir=\"thesis_plots/local_planner\",\n",
    "    plot_all=False,\n",
    ")\n",
    "plot_in_out_metrics_bin_width_save(\n",
    "    output_metric=d.collision_rate, \n",
    "    input_metrics=input_metrics, \n",
    "    bin_widths=bin_widths,\n",
    "    min_bin_count=min_bin_count,\n",
    "    selected_df=d,\n",
    "    out_dir=\"thesis_plots/local_planner\",\n",
    "    plot_all=False,\n",
    ")\n",
    "\n",
    "d = df[(df.success_rate == 1) & (df.max_steering_angle_deg == 90.) & (df.robot_model == 'turtle') & (df.global_planner_node == 'navfn') & (df.localization_node == 'amcl')].copy()\n",
    "input_metrics, bin_widths = zip(*[\n",
    "    [d.beta_1, None], \n",
    "    [d.amcl_alpha_factor, None],\n",
    "    [d.minimum_clearance, .1],\n",
    "    [d.average_clearance, 1],\n",
    "])\n",
    "plot_in_out_metrics_bin_width_save(\n",
    "    output_metric=d.norm_trajectory_length, \n",
    "    input_metrics=input_metrics, \n",
    "    bin_widths=bin_widths,\n",
    "    min_bin_count=min_bin_count,\n",
    "    selected_df=d,\n",
    "    min_y=1.0,\n",
    "    plot_all=False,\n",
    "    out_dir=\"thesis_plots/local_planner\",\n",
    ")\n",
    "plot_in_out_metrics_bin_width_save(\n",
    "    output_metric=d.norm_execution_time, \n",
    "    input_metrics=input_metrics, \n",
    "    bin_widths=bin_widths,\n",
    "    min_bin_count=min_bin_count,\n",
    "    selected_df=d,\n",
    "    min_y=1.0,\n",
    "    plot_all=False,\n",
    "    out_dir=\"thesis_plots/local_planner\",\n",
    ")"
   ]
  },
  {
   "cell_type": "code",
   "execution_count": null,
   "metadata": {
    "scrolled": false
   },
   "outputs": [],
   "source": [
    "# ## plots_local_planner\n",
    "\n",
    "# min_bin_count = 10\n",
    "\n",
    "# d = df[(df.success_rate == 1) & (df.max_steering_angle_deg == 90.) & (df.robot_model == 'turtle') & (df.global_planner_node == 'navfn') & (df.localization_node == 'amcl')].copy()\n",
    "# input_metrics, bin_widths = zip(*[\n",
    "# #     [d.beta_1, None], \n",
    "# #     [d.amcl_alpha_factor, None],\n",
    "# #     [d.minimum_clearance, .1],\n",
    "# #     [d.average_clearance, 1],\n",
    "#     [d.absolute_translation_error, 0.05],\n",
    "#     [d.absolute_rotation_error, 0.01],\n",
    "#     [d.normalized_relative_translation_error, 0.05],\n",
    "#     [d.normalized_relative_rotation_error, 0.05],\n",
    "# ])\n",
    "\n",
    "# printmd(\"## norm_trajectory_length\")\n",
    "# plot_in_out_metrics_bin_width_save(\n",
    "#     output_metric=d.norm_trajectory_length, \n",
    "#     input_metrics=input_metrics, \n",
    "#     bin_widths=bin_widths,\n",
    "#     min_bin_count=min_bin_count,\n",
    "#     selected_df=d,\n",
    "#     min_y=1.0,\n",
    "#     plot_all=False,\n",
    "#     scatter=True,\n",
    "#     out_dir=\"thesis_plots/local_planner\",\n",
    "# )\n",
    "# printmd(\"## norm_trajectory_length_std\")\n",
    "# plot_in_out_metrics_bin_width_save(\n",
    "#     output_metric=d.norm_trajectory_length_std, \n",
    "#     input_metrics=input_metrics, \n",
    "#     bin_widths=bin_widths,\n",
    "#     min_bin_count=min_bin_count,\n",
    "#     selected_df=d,\n",
    "#     min_y=1.0,\n",
    "#     plot_all=False,\n",
    "#     scatter=True,\n",
    "#     out_dir=\"thesis_plots/local_planner\",\n",
    "# )\n",
    "# printmd(\"## norm_trajectory_length_mean\")\n",
    "# plot_in_out_metrics_bin_width_save(\n",
    "#     output_metric=d.norm_trajectory_length_mean, \n",
    "#     input_metrics=input_metrics, \n",
    "#     bin_widths=bin_widths,\n",
    "#     min_bin_count=min_bin_count,\n",
    "#     selected_df=d,\n",
    "# #     min_y=1.0,\n",
    "#     plot_all=False,\n",
    "#     scatter=True,\n",
    "#     out_dir=\"thesis_plots/local_planner\",\n",
    "# )\n",
    "# printmd(\"## norm_trajectory_length_median\")\n",
    "# plot_in_out_metrics_bin_width_save(\n",
    "#     output_metric=d.norm_trajectory_length_median, \n",
    "#     input_metrics=input_metrics, \n",
    "#     bin_widths=bin_widths,\n",
    "#     min_bin_count=min_bin_count,\n",
    "#     selected_df=d,\n",
    "# #     min_y=1.0,\n",
    "#     plot_all=False,\n",
    "#     scatter=True,\n",
    "#     out_dir=\"thesis_plots/local_planner\",\n",
    "# )"
   ]
  },
  {
   "cell_type": "code",
   "execution_count": null,
   "metadata": {
    "scrolled": false
   },
   "outputs": [],
   "source": [
    "df_s = df[(df.success_rate == 1) & (df.max_steering_angle_deg == 90.) & (df.robot_model == 'turtle') & (df.global_planner_node == 'navfn') & (df.localization_node == 'amcl')].copy()\n",
    "\n",
    "bins = np.arange(df_s.trajectory_length.min(), df_s.trajectory_length.max(), 5)\n",
    "df_s['trajectory_length_d'] = pd.cut(df_s.trajectory_length, bins, labels=bins[:-1]).astype('float')\n",
    "df_lr_g = df_s.groupby('trajectory_length_d').agg(['mean', 'count'])\n",
    "\n",
    "plt.plot(df_lr_g.index, df_lr_g[('absolute_translation_error', 'mean')], label='all', color='black', linewidth=4)\n",
    "\n",
    "for environment_name in df_s.environment_name.unique():\n",
    "    df_lr_g = df_s[df_s.environment_name == environment_name].groupby('trajectory_length_d').agg(['mean', 'count'])\n",
    "    plt.plot(df_lr_g.index, df_lr_g[('absolute_translation_error', 'mean')], label=environment_name)\n",
    "\n",
    "plt.xlabel('trajectory_length_d')\n",
    "plt.ylabel('absolute_translation_error')\n",
    "plt.legend()\n",
    "plt.grid()\n",
    "plt.show()"
   ]
  },
  {
   "cell_type": "code",
   "execution_count": null,
   "metadata": {},
   "outputs": [],
   "source": []
  },
  {
   "cell_type": "code",
   "execution_count": null,
   "metadata": {},
   "outputs": [],
   "source": []
  },
  {
   "cell_type": "code",
   "execution_count": null,
   "metadata": {},
   "outputs": [],
   "source": []
  },
  {
   "cell_type": "code",
   "execution_count": null,
   "metadata": {},
   "outputs": [],
   "source": []
  },
  {
   "cell_type": "code",
   "execution_count": null,
   "metadata": {},
   "outputs": [],
   "source": []
  },
  {
   "cell_type": "code",
   "execution_count": null,
   "metadata": {},
   "outputs": [],
   "source": []
  },
  {
   "cell_type": "code",
   "execution_count": null,
   "metadata": {},
   "outputs": [],
   "source": []
  },
  {
   "cell_type": "code",
   "execution_count": null,
   "metadata": {},
   "outputs": [],
   "source": []
  },
  {
   "cell_type": "code",
   "execution_count": null,
   "metadata": {},
   "outputs": [],
   "source": []
  },
  {
   "cell_type": "code",
   "execution_count": null,
   "metadata": {},
   "outputs": [],
   "source": []
  },
  {
   "cell_type": "code",
   "execution_count": null,
   "metadata": {},
   "outputs": [],
   "source": []
  },
  {
   "cell_type": "code",
   "execution_count": null,
   "metadata": {},
   "outputs": [],
   "source": []
  },
  {
   "cell_type": "code",
   "execution_count": null,
   "metadata": {},
   "outputs": [],
   "source": []
  },
  {
   "cell_type": "code",
   "execution_count": null,
   "metadata": {},
   "outputs": [],
   "source": []
  },
  {
   "cell_type": "code",
   "execution_count": null,
   "metadata": {},
   "outputs": [],
   "source": []
  },
  {
   "cell_type": "code",
   "execution_count": null,
   "metadata": {},
   "outputs": [],
   "source": []
  },
  {
   "cell_type": "code",
   "execution_count": null,
   "metadata": {},
   "outputs": [],
   "source": [
    "# "
   ]
  }
 ],
 "metadata": {
  "kernelspec": {
   "display_name": "Python 3 (ipykernel)",
   "language": "python",
   "name": "python3"
  },
  "language_info": {
   "codemirror_mode": {
    "name": "ipython",
    "version": 3
   },
   "file_extension": ".py",
   "mimetype": "text/x-python",
   "name": "python",
   "nbconvert_exporter": "python",
   "pygments_lexer": "ipython3",
   "version": "3.8.10"
  }
 },
 "nbformat": 4,
 "nbformat_minor": 4
}
