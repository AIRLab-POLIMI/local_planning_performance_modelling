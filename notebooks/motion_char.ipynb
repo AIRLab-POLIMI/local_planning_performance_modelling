{
 "cells": [
  {
   "cell_type": "code",
   "execution_count": 1,
   "metadata": {},
   "outputs": [
    {
     "data": {
      "text/html": [
       "<style>.container { width:100% !important; }</style>"
      ],
      "text/plain": [
       "<IPython.core.display.HTML object>"
      ]
     },
     "metadata": {},
     "output_type": "display_data"
    }
   ],
   "source": [
    "from IPython.core.display import Markdown, display, HTML\n",
    "display(HTML(\"<style>.container { width:100% !important; }</style>\"))\n",
    "import ipywidgets as widgets\n",
    "from ipywidgets import interact, interact_manual\n",
    "\n",
    "import traceback\n",
    "import numpy as np\n",
    "import scipy.stats as ss\n",
    "import yaml\n",
    "import itertools\n",
    "import sys\n",
    "import os\n",
    "import subprocess\n",
    "from os import path\n",
    "import pickle\n",
    "import pandas as pd\n",
    "import matplotlib.patches as patches\n",
    "import matplotlib.pyplot as plt\n",
    "%matplotlib inline\n",
    "%config InlineBackend.figure_format = 'svg'\n",
    "\n",
    "from sklearn.linear_model import LinearRegression, TheilSenRegressor, RANSACRegressor, HuberRegressor\n",
    "from sklearn.metrics import mean_squared_error, r2_score\n",
    "from sklearn.preprocessing import PolynomialFeatures, StandardScaler\n",
    "from sklearn.pipeline import make_pipeline\n",
    "\n",
    "def printmd(*args):\n",
    "    display(Markdown(' '.join(map(str, args))))"
   ]
  },
  {
   "cell_type": "code",
   "execution_count": 2,
   "metadata": {
    "scrolled": false
   },
   "outputs": [],
   "source": [
    "# !ros2 run local_planning_performance_modelling compute_metrics -r \"~/ds/performance_modelling/output/test_local_planning/*\""
   ]
  },
  {
   "cell_type": "code",
   "execution_count": 3,
   "metadata": {
    "scrolled": true
   },
   "outputs": [],
   "source": [
    "# !ros2 run local_planning_performance_modelling compute_metrics -r \"~/ds/performance_modelling/output/test_local_planning_gen_circles/*\" -s"
   ]
  },
  {
   "cell_type": "code",
   "execution_count": 21,
   "metadata": {
    "scrolled": false
   },
   "outputs": [],
   "source": [
    "local_planner_color = {'dwb': 'blue', 'rpp': 'orange', 'teb': 'green'}\n",
    "robot_model_color = {'hunter': 'cyan', 'turtle': 'green'}\n",
    "pd.options.display.width = 500\n",
    "pd.options.display.max_rows = 0\n",
    "pd.options.display.float_format = '{:,.3f}'.format\n",
    "plt.rcParams['figure.figsize'] = [18, 18]\n",
    "plt.rcParams['lines.linewidth'] = 2\n",
    "# plt.rcParams['lines.markersize'] = 3\n",
    "# plt.rcParams['lines.marker'] = 'x'\n",
    "plt.rcParams['scatter.marker'] = '.'\n",
    "\n",
    "# fg_color = 'white'\n",
    "# plt.rcParams['grid.color'] = 'gray'\n",
    "# plt.rcParams['text.color'] = fg_color\n",
    "# plt.rcParams['ytick.color'] = fg_color\n",
    "# plt.rcParams['xtick.color'] = fg_color\n",
    "# plt.rcParams['axes.labelcolor'] = fg_color\n",
    "# plt.rcParams['axes.edgecolor'] = fg_color\n",
    "\n",
    "# bg_color = \"#323a48\"\n",
    "# plt.rcParams['figure.facecolor'] = bg_color\n",
    "# plt.rcParams['axes.facecolor'] = bg_color\n",
    "# plt.rcParams['legend.facecolor'] = bg_color"
   ]
  },
  {
   "cell_type": "code",
   "execution_count": 22,
   "metadata": {
    "scrolled": false
   },
   "outputs": [],
   "source": [
    "df_real = pd.read_csv(path.expanduser(\"~/ds/performance_modelling/output/test_local_planning/results.csv\"))\n",
    "with open(path.expanduser(\"~/ds/performance_modelling/output/test_local_planning/results_info.yaml\")) as results_real_info_file:\n",
    "    results_real_info = yaml.safe_load(results_real_info_file)\n",
    "df_real = df_real[(df_real.amcl_alpha_factor.notna()) & (df_real.robot_model=='turtlebot3_waffle_performance_modelling')]\n",
    "df = df_real\n",
    "\n",
    "df.rename(inplace=True, columns={\n",
    "    'localization_update_absolute_translation_error_mean': 'absolute_translation_error',\n",
    "    'localization_update_absolute_rotation_error_mean': 'absolute_rotation_error',\n",
    "    'localization_update_normalized_relative_translation_error_mean': 'normalized_relative_translation_error',\n",
    "    'localization_update_normalized_relative_rotation_error_mean': 'normalized_relative_rotation_error',\n",
    "    'localization_update_rate_mean': 'localization_update_rate',\n",
    "})\n",
    "df.loc[df.robot_model == 'turtlebot3_waffle_performance_modelling', 'robot_model'] = 'turtle'\n",
    "df.loc[df.robot_model == 'hunter2', 'robot_model'] = 'hunter'\n",
    "df['session_id'] =  df['run_id'].apply(lambda x:  x.split('_')[1]+'_'+x.split('_')[2]+'_'+x.split('_')[3])\n",
    "df['run_number'] =  df['run_id'].apply(lambda x:  int(x.split('_')[5]))\n",
    "df.max_steering_angle_deg = df.max_steering_angle_deg.fillna(90)\n",
    "\n",
    "df = df[(df.max_steering_angle_deg == 90.) & (df.robot_model == 'turtle') & (df.global_planner_node == 'navfn') & (df.localization_node == 'amcl')].copy()"
   ]
  },
  {
   "cell_type": "code",
   "execution_count": 25,
   "metadata": {
    "scrolled": false
   },
   "outputs": [
    {
     "name": "stdout",
     "output_type": "stream",
     "text": [
      "\n",
      "mexico 0\n",
      "\n",
      "mexico 1\n",
      "\n",
      "mexico 3\n",
      "\n",
      "mexico 2\n",
      "\n",
      "mexico 5\n",
      "\n",
      "mexico 4\n",
      "\n",
      "mexico 6\n",
      "\n",
      "mexico 9\n",
      "\n",
      "mexico 8\n",
      "\n",
      "mexico 7\n",
      "\n",
      "intel 0\n",
      "\n",
      "intel 1\n",
      "\n",
      "intel 3\n",
      "\n",
      "intel 2\n",
      "\n",
      "intel 5\n",
      "\n",
      "intel 4\n",
      "\n",
      "intel 6\n",
      "\n",
      "intel 9\n",
      "\n",
      "intel 8\n",
      "\n",
      "intel 7\n",
      "\n",
      "fr079 0\n",
      "\n",
      "fr079 1\n",
      "\n",
      "fr079 3\n",
      "\n",
      "fr079 2\n",
      "\n",
      "fr079 5\n",
      "\n",
      "fr079 4\n",
      "\n",
      "fr079 6\n",
      "\n",
      "fr079 9\n",
      "\n",
      "fr079 8\n",
      "\n",
      "fr079 7\n",
      "\n",
      "airlab 0\n",
      "\n",
      "airlab 1\n",
      "\n",
      "airlab 3\n",
      "\n",
      "airlab 2\n",
      "\n",
      "airlab 5\n",
      "\n",
      "airlab 4\n",
      "\n",
      "airlab 6\n",
      "\n",
      "airlab 9\n",
      "\n",
      "airlab 8\n",
      "\n",
      "airlab 7\n",
      "\n",
      "office_b 0\n",
      "\n",
      "office_b 1\n",
      "\n",
      "office_b 3\n",
      "\n",
      "office_b 2\n",
      "\n",
      "office_b 5\n",
      "\n",
      "office_b 4\n",
      "\n",
      "office_b 6\n",
      "\n",
      "office_b 9\n",
      "\n",
      "office_b 8\n",
      "\n",
      "office_b 7\n",
      "\n",
      "7A-2 0\n",
      "\n",
      "7A-2 1\n",
      "\n",
      "7A-2 3\n",
      "\n",
      "7A-2 2\n",
      "\n",
      "7A-2 5\n",
      "\n",
      "7A-2 4\n",
      "\n",
      "7A-2 6\n",
      "\n",
      "7A-2 9\n",
      "\n",
      "7A-2 8\n",
      "\n",
      "7A-2 7\n"
     ]
    }
   ],
   "source": [
    "base_path = \"/home/enrico/ds/performance_modelling/output/test_local_planning/\"\n",
    "out_dir = \"plots/motions_plots/\"\n",
    "if not path.exists(out_dir):\n",
    "    os.makedirs(out_dir)\n",
    "\n",
    "# run_indices = [0, 1]\n",
    "run_indices = df.run_index.unique()\n",
    "# environment_names = ['7A-2']\n",
    "environment_names = df.environment_name.unique()\n",
    "local_planners = df.local_planner_node.unique()\n",
    "\n",
    "max_vel_x = 0.26\n",
    "max_vel_theta = 1.0\n",
    "num_points = 1000000\n",
    "for environment_name in environment_names:\n",
    "    for run_index in run_indices:\n",
    "        print()\n",
    "        print(environment_name, run_index)\n",
    "        df_s = df[(df.environment_name == environment_name) & (df.run_index == run_index)].copy()\n",
    "        for local_planner in local_planners:\n",
    "            run_ids = df_s[df_s.local_planner_node == local_planner].run_id\n",
    "            run_output_folders = list(map(lambda x: path.join(base_path, x), run_ids))\n",
    "            for i, run_output_folder in enumerate(run_output_folders):\n",
    "                ground_truth_poses_file_path = path.join(run_output_folder, \"benchmark_data\", \"ground_truth_poses.csv\")\n",
    "                run_events_file_path = path.join(run_output_folder, \"benchmark_data\", \"run_events.csv\")\n",
    "\n",
    "                # get timestamps info from run events\n",
    "                run_events_df = pd.read_csv(run_events_file_path, engine='python', sep=', ')\n",
    "                navigation_start_events = run_events_df[run_events_df.event == 'navigation_goal_accepted']\n",
    "                navigation_succeeded_events = run_events_df[(run_events_df.event == 'navigation_succeeded')]\n",
    "                navigation_failed_events = run_events_df[(run_events_df.event == 'navigation_failed')]\n",
    "\n",
    "                if len(navigation_start_events) != 1 or len(navigation_succeeded_events) + len(navigation_failed_events) != 1:\n",
    "                    continue\n",
    "\n",
    "                navigation_start_time = navigation_start_events.iloc[0].t\n",
    "                navigation_end_time = navigation_succeeded_events.iloc[0].t if len(navigation_succeeded_events) == 1 else navigation_failed_events.iloc[0].t\n",
    "\n",
    "                # get the dataframes for ground truth poses\n",
    "                ground_truth_poses_df = pd.read_csv(ground_truth_poses_file_path)                \n",
    "                n = int(len(ground_truth_poses_df) / num_points)\n",
    "                if n < 1:\n",
    "                    n = 1\n",
    "                ground_truth_poses_df = ground_truth_poses_df[(navigation_start_time <= ground_truth_poses_df.t) & (ground_truth_poses_df.t <= navigation_end_time)].iloc[::n, :]\n",
    "\n",
    "                plt.scatter(ground_truth_poses_df.v_theta, ground_truth_poses_df.v_x, marker='.', s=1**2, label=local_planner if i == 0 else None, color=local_planner_color[local_planner], alpha=0.5)#, rasterized=True)\n",
    "        \n",
    "        rect=patches.Rectangle((-max_vel_theta, -max_vel_x), 2*max_vel_theta, 2*max_vel_x, fill=False, color=\"black\", linewidth=1, alpha=0.5)\n",
    "        plt.gca().add_patch(rect)\n",
    "        \n",
    "        plt.xlabel('v_theta')\n",
    "        plt.ylabel('v_x')\n",
    "        plt.xlim([-2*max_vel_theta, 2*max_vel_theta])\n",
    "        plt.ylim([-2*max_vel_x, 2*max_vel_x])\n",
    "        plt.grid()\n",
    "        plt.legend()\n",
    "        plt.savefig(path.join(out_dir, f\"vel_theta_x_distribution_{environment_name}_{run_index}.png\"), bb_inches='tight')\n",
    "#         plt.show()\n",
    "        plt.close()"
   ]
  },
  {
   "cell_type": "code",
   "execution_count": null,
   "metadata": {},
   "outputs": [],
   "source": []
  },
  {
   "cell_type": "code",
   "execution_count": null,
   "metadata": {},
   "outputs": [],
   "source": []
  },
  {
   "cell_type": "code",
   "execution_count": null,
   "metadata": {},
   "outputs": [],
   "source": []
  },
  {
   "cell_type": "code",
   "execution_count": null,
   "metadata": {},
   "outputs": [],
   "source": []
  },
  {
   "cell_type": "code",
   "execution_count": null,
   "metadata": {},
   "outputs": [],
   "source": []
  },
  {
   "cell_type": "code",
   "execution_count": null,
   "metadata": {},
   "outputs": [],
   "source": []
  },
  {
   "cell_type": "code",
   "execution_count": null,
   "metadata": {},
   "outputs": [],
   "source": []
  },
  {
   "cell_type": "code",
   "execution_count": null,
   "metadata": {},
   "outputs": [],
   "source": []
  },
  {
   "cell_type": "code",
   "execution_count": null,
   "metadata": {},
   "outputs": [],
   "source": []
  },
  {
   "cell_type": "code",
   "execution_count": null,
   "metadata": {},
   "outputs": [],
   "source": []
  },
  {
   "cell_type": "code",
   "execution_count": null,
   "metadata": {},
   "outputs": [],
   "source": []
  },
  {
   "cell_type": "code",
   "execution_count": null,
   "metadata": {},
   "outputs": [],
   "source": []
  },
  {
   "cell_type": "code",
   "execution_count": null,
   "metadata": {},
   "outputs": [],
   "source": []
  },
  {
   "cell_type": "code",
   "execution_count": null,
   "metadata": {},
   "outputs": [],
   "source": []
  },
  {
   "cell_type": "code",
   "execution_count": null,
   "metadata": {},
   "outputs": [],
   "source": []
  },
  {
   "cell_type": "code",
   "execution_count": null,
   "metadata": {},
   "outputs": [],
   "source": []
  },
  {
   "cell_type": "code",
   "execution_count": null,
   "metadata": {},
   "outputs": [],
   "source": []
  },
  {
   "cell_type": "code",
   "execution_count": null,
   "metadata": {},
   "outputs": [],
   "source": []
  },
  {
   "cell_type": "code",
   "execution_count": null,
   "metadata": {},
   "outputs": [],
   "source": []
  }
 ],
 "metadata": {
  "kernelspec": {
   "display_name": "Python 3",
   "language": "python",
   "name": "python3"
  },
  "language_info": {
   "codemirror_mode": {
    "name": "ipython",
    "version": 3
   },
   "file_extension": ".py",
   "mimetype": "text/x-python",
   "name": "python",
   "nbconvert_exporter": "python",
   "pygments_lexer": "ipython3",
   "version": "3.8.10"
  }
 },
 "nbformat": 4,
 "nbformat_minor": 4
}
