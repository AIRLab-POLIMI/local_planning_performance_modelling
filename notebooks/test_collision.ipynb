{
 "cells": [
  {
   "cell_type": "code",
   "execution_count": 2,
   "metadata": {},
   "outputs": [
    {
     "name": "stderr",
     "output_type": "stream",
     "text": [
      "/tmp/ipykernel_13933/4167336305.py:1: DeprecationWarning: Importing display from IPython.core.display is deprecated since IPython 7.14, please import from IPython display\n",
      "  from IPython.core.display import Markdown, display, HTML\n"
     ]
    },
    {
     "data": {
      "text/html": [
       "<style>.container { width:100% !important; }</style>"
      ],
      "text/plain": [
       "<IPython.core.display.HTML object>"
      ]
     },
     "metadata": {},
     "output_type": "display_data"
    }
   ],
   "source": [
    "from IPython.core.display import Markdown, display, HTML\n",
    "display(HTML(\"<style>.container { width:100% !important; }</style>\"))\n",
    "import ipywidgets as widgets\n",
    "from ipywidgets import interact, interact_manual\n",
    "\n",
    "import traceback\n",
    "import numpy as np\n",
    "import scipy.stats as ss\n",
    "import yaml\n",
    "import itertools\n",
    "import sys\n",
    "import os\n",
    "import subprocess\n",
    "from os import path\n",
    "import pickle\n",
    "import pandas as pd\n",
    "import matplotlib.pyplot as plt\n",
    "%matplotlib inline\n",
    "%config InlineBackend.figure_format = 'svg'\n",
    "\n",
    "from sklearn.linear_model import LinearRegression, TheilSenRegressor, RANSACRegressor, HuberRegressor\n",
    "from sklearn.metrics import mean_squared_error, r2_score\n",
    "from sklearn.preprocessing import PolynomialFeatures, StandardScaler\n",
    "from sklearn.pipeline import make_pipeline\n",
    "\n",
    "def printmd(*args):\n",
    "    display(Markdown(' '.join(map(str, args))))"
   ]
  },
  {
   "cell_type": "code",
   "execution_count": 13,
   "metadata": {
    "scrolled": true
   },
   "outputs": [
    {
     "name": "stdout",
     "output_type": "stream",
     "text": [
      "start : compute_metrics  11% session_2022-07-29_12-46-23_384597_run_000000000\n",
      "start : compute_metrics  11% session_2022-07-29_12-56-08_037686_run_000000000\n",
      "start : compute_metrics  11% session_2022-08-11_15-16-16_261512_run_000000001\n",
      "start : compute_metrics  11% session_2022-08-11_15-38-35_112598_run_000000002\n",
      "start : compute_metrics  11% session_2022-08-12_12-32-54_864279_run_000000000\n",
      "start : compute_metrics  11% session_2022-08-12_12-34-05_726705_run_000000000\n",
      "start : compute_metrics  11% session_2022-08-12_12-56-06_683404_run_000000000\n",
      "start : compute_metrics  11% session_2022-08-12_13-15-32_973934_run_000000000\n",
      "start : compute_metrics  11% session_2022-08-12_13-15-32_973934_run_000000001\n",
      "\u001b[1m\u001b[34mcpu_time_and_max_memory: ps_snapshot files not found:\n",
      "/home/emanuelevivani/ds/performance_modelling/output/test_local_planning/session_2022-08-12_12-32-54_864279_run_000000000/benchmark_data/ps_snapshots/ps_*.pkl \n",
      "\u001b[0m\u001b[1m\u001b[34mtrajectory_length: event navigation_goal_accepted not in events file:\n",
      "/home/emanuelevivani/ds/performance_modelling/output/test_local_planning/session_2022-08-12_12-32-54_864279_run_000000000/benchmark_data/run_events.csv \n",
      "\u001b[0m\u001b[1m\u001b[34mexecution_time: event navigation_goal_accepted not in events file:\n",
      "/home/emanuelevivani/ds/performance_modelling/output/test_local_planning/session_2022-08-12_12-32-54_864279_run_000000000/benchmark_data/run_events.csv \n",
      "\u001b[0m\u001b[1m\u001b[34mtrajectory_length: events navigation_succeeded and navigation_failed not in events file:\n",
      "/home/emanuelevivani/ds/performance_modelling/output/test_local_planning/session_2022-08-11_15-16-16_261512_run_000000001/benchmark_data/run_events.csv \n",
      "\u001b[0m\u001b[1m\u001b[34mexecution_time: events navigation_succeeded and navigation_failed not in events file:\n",
      "/home/emanuelevivani/ds/performance_modelling/output/test_local_planning/session_2022-08-11_15-16-16_261512_run_000000001/benchmark_data/run_events.csv \n",
      "\u001b[0m\u001b[1m\u001b[34mtrajectory_length: event navigation_goal_accepted not in events file:\n",
      "/home/emanuelevivani/ds/performance_modelling/output/test_local_planning/session_2022-08-12_12-34-05_726705_run_000000000/benchmark_data/run_events.csv \n",
      "\u001b[0m\u001b[1m\u001b[34mexecution_time: event navigation_goal_accepted not in events file:\n",
      "/home/emanuelevivani/ds/performance_modelling/output/test_local_planning/session_2022-08-12_12-34-05_726705_run_000000000/benchmark_data/run_events.csv \n",
      "\u001b[0m/opt/ros/noetic/lib/python3/dist-packages/laser_geometry/laser_geometry.py:118: RuntimeWarning: invalid value encountered in multiply\n",
      "  output = ranges * self.__cos_sin_map\n",
      "/opt/ros/noetic/lib/python3/dist-packages/laser_geometry/laser_geometry.py:118: RuntimeWarning: invalid value encountered in multiply\n",
      "  output = ranges * self.__cos_sin_map\n",
      "\u001b[1m\u001b[34modometry_error: event navigation_goal_accepted not in events file:\n",
      "/home/emanuelevivani/ds/performance_modelling/output/test_local_planning/session_2022-08-12_12-32-54_864279_run_000000000/benchmark_data/run_events.csv \n",
      "\u001b[0m\u001b[1m\u001b[34mlocalization_update_error: event navigation_goal_accepted not in events file:\n",
      "/home/emanuelevivani/ds/performance_modelling/output/test_local_planning/session_2022-08-12_12-32-54_864279_run_000000000/benchmark_data/run_events.csv \n",
      "\u001b[0m\u001b[1m\u001b[34mlocalization_update_rate: event navigation_goal_accepted not in events file:\n",
      "/home/emanuelevivani/ds/performance_modelling/output/test_local_planning/session_2022-08-12_12-32-54_864279_run_000000000/benchmark_data/run_events.csv \n",
      "\u001b[0m\u001b[1m\u001b[34mmotion_characteristics: event navigation_goal_accepted not in events file:\n",
      "/home/emanuelevivani/ds/performance_modelling/output/test_local_planning/session_2022-08-12_12-32-54_864279_run_000000000/benchmark_data/run_events.csv \n",
      "\u001b[0mfinish: compute_metrics  11% session_2022-08-12_12-32-54_864279_run_000000000\n",
      "/opt/ros/noetic/lib/python3/dist-packages/laser_geometry/laser_geometry.py:118: RuntimeWarning: invalid value encountered in multiply\n",
      "  output = ranges * self.__cos_sin_map\n",
      "/opt/ros/noetic/lib/python3/dist-packages/laser_geometry/laser_geometry.py:118: RuntimeWarning: invalid value encountered in multiply\n",
      "  output = ranges * self.__cos_sin_map\n",
      "/opt/ros/noetic/lib/python3/dist-packages/laser_geometry/laser_geometry.py:118: RuntimeWarning: invalid value encountered in multiply\n",
      "  output = ranges * self.__cos_sin_map\n",
      "/opt/ros/noetic/lib/python3/dist-packages/laser_geometry/laser_geometry.py:118: RuntimeWarning: invalid value encountered in multiply\n",
      "  output = ranges * self.__cos_sin_map\n",
      "/opt/ros/noetic/lib/python3/dist-packages/laser_geometry/laser_geometry.py:118: RuntimeWarning: invalid value encountered in multiply\n",
      "  output = ranges * self.__cos_sin_map\n",
      "\u001b[1m\u001b[34modometry_error: event navigation_goal_accepted not in events file:\n",
      "/home/emanuelevivani/ds/performance_modelling/output/test_local_planning/session_2022-08-12_12-34-05_726705_run_000000000/benchmark_data/run_events.csv \n",
      "\u001b[0m\u001b[1m\u001b[34mlocalization_update_error: event navigation_goal_accepted not in events file:\n",
      "/home/emanuelevivani/ds/performance_modelling/output/test_local_planning/session_2022-08-12_12-34-05_726705_run_000000000/benchmark_data/run_events.csv \n",
      "\u001b[0m\u001b[1m\u001b[34mlocalization_update_rate: event navigation_goal_accepted not in events file:\n",
      "/home/emanuelevivani/ds/performance_modelling/output/test_local_planning/session_2022-08-12_12-34-05_726705_run_000000000/benchmark_data/run_events.csv \n",
      "\u001b[0m\u001b[1m\u001b[34mmotion_characteristics: event navigation_goal_accepted not in events file:\n",
      "/home/emanuelevivani/ds/performance_modelling/output/test_local_planning/session_2022-08-12_12-34-05_726705_run_000000000/benchmark_data/run_events.csv \n",
      "\u001b[0mfinish: compute_metrics  22% session_2022-08-12_12-34-05_726705_run_000000000\n",
      "/opt/ros/noetic/lib/python3/dist-packages/laser_geometry/laser_geometry.py:118: RuntimeWarning: invalid value encountered in multiply\n",
      "  output = ranges * self.__cos_sin_map\n",
      "/opt/ros/noetic/lib/python3/dist-packages/laser_geometry/laser_geometry.py:118: RuntimeWarning: invalid value encountered in multiply\n",
      "  output = ranges * self.__cos_sin_map\n",
      "\u001b[1m\u001b[34modometry_error: events navigation_succeeded and navigation_failed not in events file:\n",
      "/home/emanuelevivani/ds/performance_modelling/output/test_local_planning/session_2022-08-11_15-16-16_261512_run_000000001/benchmark_data/run_events.csv \n",
      "\u001b[0m\u001b[1m\u001b[34mlocalization_update_error: events navigation_succeeded and navigation_failed not in events file:\n",
      "/home/emanuelevivani/ds/performance_modelling/output/test_local_planning/session_2022-08-11_15-16-16_261512_run_000000001/benchmark_data/run_events.csv \n",
      "\u001b[0m\u001b[1m\u001b[34mlocalization_update_rate: events navigation_succeeded and navigation_failed not in events file:\n",
      "/home/emanuelevivani/ds/performance_modelling/output/test_local_planning/session_2022-08-11_15-16-16_261512_run_000000001/benchmark_data/run_events.csv \n",
      "\u001b[0m\u001b[1m\u001b[34mmotion_characteristics: events navigation_succeeded and navigation_failed not in events file:\n",
      "/home/emanuelevivani/ds/performance_modelling/output/test_local_planning/session_2022-08-11_15-16-16_261512_run_000000001/benchmark_data/run_events.csv \n",
      "\u001b[0mfinish: compute_metrics  33% session_2022-08-11_15-16-16_261512_run_000000001\n",
      "finish: compute_metrics  44% session_2022-08-11_15-38-35_112598_run_000000002\n",
      "finish: compute_metrics  55% session_2022-08-12_13-15-32_973934_run_000000001\n",
      "finish: compute_metrics  66% session_2022-08-12_12-56-06_683404_run_000000000\n",
      "finish: compute_metrics  77% session_2022-07-29_12-56-08_037686_run_000000000\n",
      "finish: compute_metrics  88% session_2022-08-12_13-15-32_973934_run_000000000\n",
      "finish: compute_metrics 100% session_2022-07-29_12-46-23_384597_run_000000000\n",
      "\u001b[1m\u001b[34mfinished computing metrics \n",
      "\u001b[0m\u001b[1m\u001b[34mfinished writing results \n",
      "\u001b[0m\u001b[1m\u001b[34mruns not completed: \n",
      "\u001b[0m\t/home/emanuelevivani/ds/performance_modelling/output/test_local_planning/session_2022-08-12_12-03-06_331546_run_000000000\n",
      "\t/home/emanuelevivani/ds/performance_modelling/output/test_local_planning/session_2022-08-12_12-36-35_636747_run_000000000\n",
      "\t/home/emanuelevivani/ds/performance_modelling/output/test_local_planning/session_2022-08-12_12-56-06_683404_run_000000001\n",
      "\t/home/emanuelevivani/ds/performance_modelling/output/test_local_planning/session_2022-08-12_13-15-32_973934_run_000000002\n"
     ]
    }
   ],
   "source": [
    "!rosrun local_planning_performance_modelling compute_metrics.py "
   ]
  },
  {
   "cell_type": "code",
   "execution_count": 16,
   "metadata": {
    "scrolled": false
   },
   "outputs": [
    {
     "data": {
      "text/markdown": [
       "## Number of Runs"
      ],
      "text/plain": [
       "<IPython.core.display.Markdown object>"
      ]
     },
     "metadata": {},
     "output_type": "display_data"
    },
    {
     "data": {
      "text/markdown": [
       "    9"
      ],
      "text/plain": [
       "<IPython.core.display.Markdown object>"
      ]
     },
     "metadata": {},
     "output_type": "display_data"
    },
    {
     "data": {
      "text/markdown": [
       "## Run Parameters"
      ],
      "text/plain": [
       "<IPython.core.display.Markdown object>"
      ]
     },
     "metadata": {},
     "output_type": "display_data"
    },
    {
     "data": {
      "text/markdown": [
       "    amcl_alpha_factor                                                      [0]"
      ],
      "text/plain": [
       "<IPython.core.display.Markdown object>"
      ]
     },
     "metadata": {},
     "output_type": "display_data"
    },
    {
     "data": {
      "text/markdown": [
       "    environment_name                                                       ['airlab']"
      ],
      "text/plain": [
       "<IPython.core.display.Markdown object>"
      ]
     },
     "metadata": {},
     "output_type": "display_data"
    },
    {
     "data": {
      "text/markdown": [
       "    global_planner_node                                                    ['global_planner']"
      ],
      "text/plain": [
       "<IPython.core.display.Markdown object>"
      ]
     },
     "metadata": {},
     "output_type": "display_data"
    },
    {
     "data": {
      "text/markdown": [
       "    local_planner_node                                                     ['arena', 'dwa']"
      ],
      "text/plain": [
       "<IPython.core.display.Markdown object>"
      ]
     },
     "metadata": {},
     "output_type": "display_data"
    },
    {
     "data": {
      "text/markdown": [
       "    localization_node                                                      ['amcl']"
      ],
      "text/plain": [
       "<IPython.core.display.Markdown object>"
      ]
     },
     "metadata": {},
     "output_type": "display_data"
    },
    {
     "data": {
      "text/markdown": [
       "    robot_model                                                            ['turtle']"
      ],
      "text/plain": [
       "<IPython.core.display.Markdown object>"
      ]
     },
     "metadata": {},
     "output_type": "display_data"
    },
    {
     "data": {
      "text/markdown": [
       "    run_index                                                              [2, 4, 5, 11, 14, 15, 16]"
      ],
      "text/plain": [
       "<IPython.core.display.Markdown object>"
      ]
     },
     "metadata": {},
     "output_type": "display_data"
    },
    {
     "data": {
      "text/markdown": [
       "    run_replication_index                                                  [nan, 0.0, 1.0]"
      ],
      "text/plain": [
       "<IPython.core.display.Markdown object>"
      ]
     },
     "metadata": {},
     "output_type": "display_data"
    },
    {
     "data": {
      "text/markdown": [
       "    alpha_1                                                                [0.0]"
      ],
      "text/plain": [
       "<IPython.core.display.Markdown object>"
      ]
     },
     "metadata": {},
     "output_type": "display_data"
    },
    {
     "data": {
      "text/markdown": [
       "    alpha_2                                                                [0.0]"
      ],
      "text/plain": [
       "<IPython.core.display.Markdown object>"
      ]
     },
     "metadata": {},
     "output_type": "display_data"
    },
    {
     "data": {
      "text/markdown": [
       "    alpha_3                                                                [0.0]"
      ],
      "text/plain": [
       "<IPython.core.display.Markdown object>"
      ]
     },
     "metadata": {},
     "output_type": "display_data"
    },
    {
     "data": {
      "text/markdown": [
       "    alpha_4                                                                [0.0]"
      ],
      "text/plain": [
       "<IPython.core.display.Markdown object>"
      ]
     },
     "metadata": {},
     "output_type": "display_data"
    },
    {
     "data": {
      "text/markdown": [
       "## Metrics"
      ],
      "text/plain": [
       "<IPython.core.display.Markdown object>"
      ]
     },
     "metadata": {},
     "output_type": "display_data"
    },
    {
     "data": {
      "text/markdown": [
       "    controller_cpu_time                                                    min:          0             avg:          0             max:          0]"
      ],
      "text/plain": [
       "<IPython.core.display.Markdown object>"
      ]
     },
     "metadata": {},
     "output_type": "display_data"
    },
    {
     "data": {
      "text/markdown": [
       "    planner_cpu_time                                                       min:          0             avg:          0             max:          0]"
      ],
      "text/plain": [
       "<IPython.core.display.Markdown object>"
      ]
     },
     "metadata": {},
     "output_type": "display_data"
    },
    {
     "data": {
      "text/markdown": [
       "    system_cpu_time                                                        min:      48.29             avg:      418.5             max:      669.7]"
      ],
      "text/plain": [
       "<IPython.core.display.Markdown object>"
      ]
     },
     "metadata": {},
     "output_type": "display_data"
    },
    {
     "data": {
      "text/markdown": [
       "    controller_max_memory                                                  min:          0             avg:          0             max:          0]"
      ],
      "text/plain": [
       "<IPython.core.display.Markdown object>"
      ]
     },
     "metadata": {},
     "output_type": "display_data"
    },
    {
     "data": {
      "text/markdown": [
       "    planner_max_memory                                                     min:          0             avg:          0             max:          0]"
      ],
      "text/plain": [
       "<IPython.core.display.Markdown object>"
      ]
     },
     "metadata": {},
     "output_type": "display_data"
    },
    {
     "data": {
      "text/markdown": [
       "    system_max_memory                                                      min:      369.1             avg:      443.1             max:      642.3]"
      ],
      "text/plain": [
       "<IPython.core.display.Markdown object>"
      ]
     },
     "metadata": {},
     "output_type": "display_data"
    },
    {
     "data": {
      "text/markdown": [
       "    cpu_time_and_max_memory_version                                        [1]"
      ],
      "text/plain": [
       "<IPython.core.display.Markdown object>"
      ]
     },
     "metadata": {},
     "output_type": "display_data"
    },
    {
     "data": {
      "text/markdown": [
       "    trajectory_length                                                      min:      1.798             avg:      5.849             max:      13.96]"
      ],
      "text/plain": [
       "<IPython.core.display.Markdown object>"
      ]
     },
     "metadata": {},
     "output_type": "display_data"
    },
    {
     "data": {
      "text/markdown": [
       "    trajectory_length_version                                              [1]"
      ],
      "text/plain": [
       "<IPython.core.display.Markdown object>"
      ]
     },
     "metadata": {},
     "output_type": "display_data"
    },
    {
     "data": {
      "text/markdown": [
       "    execution_time                                                         min:       25.6             avg:      53.36             max:      88.18]"
      ],
      "text/plain": [
       "<IPython.core.display.Markdown object>"
      ]
     },
     "metadata": {},
     "output_type": "display_data"
    },
    {
     "data": {
      "text/markdown": [
       "    execution_time_version                                                 [1]"
      ],
      "text/plain": [
       "<IPython.core.display.Markdown object>"
      ]
     },
     "metadata": {},
     "output_type": "display_data"
    },
    {
     "data": {
      "text/markdown": [
       "    success_rate                                                           min:          0             avg:     0.3333             max:          1]"
      ],
      "text/plain": [
       "<IPython.core.display.Markdown object>"
      ]
     },
     "metadata": {},
     "output_type": "display_data"
    },
    {
     "data": {
      "text/markdown": [
       "    success_rate_version                                                   [1]"
      ],
      "text/plain": [
       "<IPython.core.display.Markdown object>"
      ]
     },
     "metadata": {},
     "output_type": "display_data"
    },
    {
     "data": {
      "text/markdown": [
       "    collision_rate                                                         min:          0             avg:          0             max:          0]"
      ],
      "text/plain": [
       "<IPython.core.display.Markdown object>"
      ]
     },
     "metadata": {},
     "output_type": "display_data"
    },
    {
     "data": {
      "text/markdown": [
       "    collision_rate_version                                                 [2]"
      ],
      "text/plain": [
       "<IPython.core.display.Markdown object>"
      ]
     },
     "metadata": {},
     "output_type": "display_data"
    },
    {
     "data": {
      "text/markdown": [
       "    odometry_error_alpha_1_mean                                            min:   0.004573             avg:    0.01178             max:    0.02786]"
      ],
      "text/plain": [
       "<IPython.core.display.Markdown object>"
      ]
     },
     "metadata": {},
     "output_type": "display_data"
    },
    {
     "data": {
      "text/markdown": [
       "    odometry_error_alpha_1_std                                             min:   0.005157             avg:    0.02622             max:    0.08684]"
      ],
      "text/plain": [
       "<IPython.core.display.Markdown object>"
      ]
     },
     "metadata": {},
     "output_type": "display_data"
    },
    {
     "data": {
      "text/markdown": [
       "    odometry_error_alpha_2_mean                                            min:   0.008491             avg:    0.02103             max:    0.03043]"
      ],
      "text/plain": [
       "<IPython.core.display.Markdown object>"
      ]
     },
     "metadata": {},
     "output_type": "display_data"
    },
    {
     "data": {
      "text/markdown": [
       "    odometry_error_alpha_2_std                                             min:   0.006973             avg:    0.03802             max:    0.07316]"
      ],
      "text/plain": [
       "<IPython.core.display.Markdown object>"
      ]
     },
     "metadata": {},
     "output_type": "display_data"
    },
    {
     "data": {
      "text/markdown": [
       "    odometry_error_alpha_3_mean                                            min:   0.001455             avg:   0.005985             max:   0.008917]"
      ],
      "text/plain": [
       "<IPython.core.display.Markdown object>"
      ]
     },
     "metadata": {},
     "output_type": "display_data"
    },
    {
     "data": {
      "text/markdown": [
       "    odometry_error_alpha_3_std                                             min:   0.002035             avg:   0.009504             max:     0.0152]"
      ],
      "text/plain": [
       "<IPython.core.display.Markdown object>"
      ]
     },
     "metadata": {},
     "output_type": "display_data"
    },
    {
     "data": {
      "text/markdown": [
       "    odometry_error_alpha_4_mean                                            min:  0.0002293             avg:   0.004651             max:    0.01419]"
      ],
      "text/plain": [
       "<IPython.core.display.Markdown object>"
      ]
     },
     "metadata": {},
     "output_type": "display_data"
    },
    {
     "data": {
      "text/markdown": [
       "    odometry_error_alpha_4_std                                             min:  0.0005557             avg:   0.009368             max:    0.03472]"
      ],
      "text/plain": [
       "<IPython.core.display.Markdown object>"
      ]
     },
     "metadata": {},
     "output_type": "display_data"
    },
    {
     "data": {
      "text/markdown": [
       "    odometry_error_version                                                 [2]"
      ],
      "text/plain": [
       "<IPython.core.display.Markdown object>"
      ]
     },
     "metadata": {},
     "output_type": "display_data"
    },
    {
     "data": {
      "text/markdown": [
       "    localization_update_absolute_translation_error_mean                    min:     0.1036             avg:     0.1643             max:     0.2031]"
      ],
      "text/plain": [
       "<IPython.core.display.Markdown object>"
      ]
     },
     "metadata": {},
     "output_type": "display_data"
    },
    {
     "data": {
      "text/markdown": [
       "    localization_update_absolute_translation_error_std                     min:    0.01053             avg:      0.047             max:    0.07429]"
      ],
      "text/plain": [
       "<IPython.core.display.Markdown object>"
      ]
     },
     "metadata": {},
     "output_type": "display_data"
    },
    {
     "data": {
      "text/markdown": [
       "    localization_update_absolute_rotation_error_mean                       min:   0.006706             avg:     0.0123             max:    0.02107]"
      ],
      "text/plain": [
       "<IPython.core.display.Markdown object>"
      ]
     },
     "metadata": {},
     "output_type": "display_data"
    },
    {
     "data": {
      "text/markdown": [
       "    localization_update_absolute_rotation_error_std                        min:   0.004358             avg:   0.007736             max:     0.0103]"
      ],
      "text/plain": [
       "<IPython.core.display.Markdown object>"
      ]
     },
     "metadata": {},
     "output_type": "display_data"
    },
    {
     "data": {
      "text/markdown": [
       "    localization_update_relative_translation_error_mean                    min:   0.009866             avg:    0.01337             max:    0.01808]"
      ],
      "text/plain": [
       "<IPython.core.display.Markdown object>"
      ]
     },
     "metadata": {},
     "output_type": "display_data"
    },
    {
     "data": {
      "text/markdown": [
       "    localization_update_relative_translation_error_std                     min:     0.0083             avg:   0.009852             max:    0.01152]"
      ],
      "text/plain": [
       "<IPython.core.display.Markdown object>"
      ]
     },
     "metadata": {},
     "output_type": "display_data"
    },
    {
     "data": {
      "text/markdown": [
       "    localization_update_relative_rotation_error_mean                       min:   0.004019             avg:   0.004517             max:   0.004975]"
      ],
      "text/plain": [
       "<IPython.core.display.Markdown object>"
      ]
     },
     "metadata": {},
     "output_type": "display_data"
    },
    {
     "data": {
      "text/markdown": [
       "    localization_update_relative_rotation_error_std                        min:   0.002783             avg:   0.003515             max:   0.004137]"
      ],
      "text/plain": [
       "<IPython.core.display.Markdown object>"
      ]
     },
     "metadata": {},
     "output_type": "display_data"
    },
    {
     "data": {
      "text/markdown": [
       "    localization_update_normalized_relative_translation_error_mean         min:     0.1535             avg:     0.2698             max:     0.4258]"
      ],
      "text/plain": [
       "<IPython.core.display.Markdown object>"
      ]
     },
     "metadata": {},
     "output_type": "display_data"
    },
    {
     "data": {
      "text/markdown": [
       "    localization_update_normalized_relative_translation_error_std          min:     0.2407             avg:      0.347             max:     0.5133]"
      ],
      "text/plain": [
       "<IPython.core.display.Markdown object>"
      ]
     },
     "metadata": {},
     "output_type": "display_data"
    },
    {
     "data": {
      "text/markdown": [
       "    localization_update_normalized_relative_rotation_error_mean            min:      0.026             avg:     0.0383             max:    0.04979]"
      ],
      "text/plain": [
       "<IPython.core.display.Markdown object>"
      ]
     },
     "metadata": {},
     "output_type": "display_data"
    },
    {
     "data": {
      "text/markdown": [
       "    localization_update_normalized_relative_rotation_error_std             min:    0.02523             avg:    0.04475             max:    0.08372]"
      ],
      "text/plain": [
       "<IPython.core.display.Markdown object>"
      ]
     },
     "metadata": {},
     "output_type": "display_data"
    },
    {
     "data": {
      "text/markdown": [
       "    localization_update_error_version                                      [1]"
      ],
      "text/plain": [
       "<IPython.core.display.Markdown object>"
      ]
     },
     "metadata": {},
     "output_type": "display_data"
    },
    {
     "data": {
      "text/markdown": [
       "    localization_update_rate_mean                                          min:     0.7192             avg:      1.317             max:      2.002]"
      ],
      "text/plain": [
       "<IPython.core.display.Markdown object>"
      ]
     },
     "metadata": {},
     "output_type": "display_data"
    },
    {
     "data": {
      "text/markdown": [
       "    localization_update_rate_std                                           min:     0.5477             avg:      2.794             max:      5.111]"
      ],
      "text/plain": [
       "<IPython.core.display.Markdown object>"
      ]
     },
     "metadata": {},
     "output_type": "display_data"
    },
    {
     "data": {
      "text/markdown": [
       "    localization_update_rate_version                                       [1]"
      ],
      "text/plain": [
       "<IPython.core.display.Markdown object>"
      ]
     },
     "metadata": {},
     "output_type": "display_data"
    },
    {
     "data": {
      "text/markdown": [
       "    average_translation_velocity                                           min:    0.05562             avg:     0.1249             max:     0.2259]"
      ],
      "text/plain": [
       "<IPython.core.display.Markdown object>"
      ]
     },
     "metadata": {},
     "output_type": "display_data"
    },
    {
     "data": {
      "text/markdown": [
       "    average_rotation_velocity                                              min:    0.07591             avg:     0.1612             max:     0.2834]"
      ],
      "text/plain": [
       "<IPython.core.display.Markdown object>"
      ]
     },
     "metadata": {},
     "output_type": "display_data"
    },
    {
     "data": {
      "text/markdown": [
       "    translation_rotation_product                                           min:    0.01272             avg:    0.02646             max:    0.04069]"
      ],
      "text/plain": [
       "<IPython.core.display.Markdown object>"
      ]
     },
     "metadata": {},
     "output_type": "display_data"
    },
    {
     "data": {
      "text/markdown": [
       "    average_translation_acceleration                                       min:    0.05456             avg:     0.0829             max:      0.146]"
      ],
      "text/plain": [
       "<IPython.core.display.Markdown object>"
      ]
     },
     "metadata": {},
     "output_type": "display_data"
    },
    {
     "data": {
      "text/markdown": [
       "    average_rotation_acceleration                                          min:    0.06958             avg:     0.1948             max:     0.3805]"
      ],
      "text/plain": [
       "<IPython.core.display.Markdown object>"
      ]
     },
     "metadata": {},
     "output_type": "display_data"
    },
    {
     "data": {
      "text/markdown": [
       "    translation_rotation_acceleration_product                              min:   0.009935             avg:    0.02744             max:    0.06592]"
      ],
      "text/plain": [
       "<IPython.core.display.Markdown object>"
      ]
     },
     "metadata": {},
     "output_type": "display_data"
    },
    {
     "data": {
      "text/markdown": [
       "    motion_characteristics_version                                         [3]"
      ],
      "text/plain": [
       "<IPython.core.display.Markdown object>"
      ]
     },
     "metadata": {},
     "output_type": "display_data"
    },
    {
     "data": {
      "text/markdown": [
       "    mean_velocity                                                          min:    0.04446             avg:    0.09596             max:     0.1851]"
      ],
      "text/plain": [
       "<IPython.core.display.Markdown object>"
      ]
     },
     "metadata": {},
     "output_type": "display_data"
    }
   ],
   "source": [
    "df = pd.read_csv(path.expanduser(\"~/ds/performance_modelling/output/test_local_planning/results.csv\"))\n",
    "with open(path.expanduser(\"~/ds/performance_modelling/output/test_local_planning/results_info.yaml\")) as results_info_file:\n",
    "    results_info = yaml.safe_load(results_info_file)\n",
    "\n",
    "# turn odometry_error into alpha_1..4\n",
    "results_info['run_parameter_names'] += ['alpha_1', 'alpha_2', 'alpha_3', 'alpha_4']\n",
    "results_info['run_parameter_names'].remove('odometry_error')\n",
    "for i in range(0, 4):\n",
    "    df[f'alpha_{i+1}'] = df['odometry_error'].apply(lambda x: eval(x)[i])\n",
    "del df['odometry_error']\n",
    "\n",
    "df.loc[df.robot_model == 'turtlebot3_waffle_performance_modelling', 'robot_model'] = 'turtle'\n",
    "df.loc[df.robot_model == 'hunter2', 'robot_model'] = 'hunter'\n",
    "\n",
    "run_parameters = [c for c in list(df.columns) if c in results_info['run_parameter_names']]\n",
    "metrics_versions = [c for c in list(df.columns) if '_version' in c]\n",
    "everything_else = ['run_id', 'session_id', 'run_number']\n",
    "metrics = [c for c in df.columns if c not in metrics_versions + run_parameters + everything_else]\n",
    "metrics_and_versions = [c for c in list(df.columns) if '_version' in c or c in metrics]\n",
    "\n",
    "cpu_time_metrics = [c for c in metrics if 'cpu_time' in c]\n",
    "max_memory_metrics = [c for c in metrics if 'max_memory' in c]\n",
    "odometry_metrics = [c for c in metrics if 'odometry_error_alpha_' in c]\n",
    "odometry_mean_metrics = [c for c in metrics if 'odometry_error_alpha_' in c and '_mean' in c]\n",
    "odometry_std_metrics = [c for c in metrics if 'odometry_error_alpha_' in c and '_std' in c]\n",
    "odometry_parameters = [f'alpha_{i}' for i in range(1, 5)]\n",
    "localization_update_metrics = [c for c in metrics if 'localization_update_' in c]\n",
    "localization_update_mean_metrics = [c for c in metrics if 'localization_update_' in c and '_mean' in c]\n",
    "localization_update_translation_mean_metrics = [c for c in metrics if 'localization_update_' in c and '_translation_' in c and '_mean' in c]\n",
    "navigation_metrics = [c for c in metrics if c in ['trajectory_length', 'execution_time', 'success_rate']]\n",
    "\n",
    "# add metrics from existing ones\n",
    "df['mean_velocity'] = df['trajectory_length'] / df['execution_time']\n",
    "navigation_metrics += ['mean_velocity']\n",
    "metrics += ['mean_velocity']\n",
    "metrics_and_versions += ['mean_velocity']\n",
    "\n",
    "# add useful parameters\n",
    "df['session_id'] =  df['run_id'].apply(lambda x:  x.split('_')[1]+'_'+x.split('_')[2]+'_'+x.split('_')[3])\n",
    "df['run_number'] =  df['run_id'].apply(lambda x:  int(x.split('_')[5]))\n",
    "df[max_memory_metrics] = df[max_memory_metrics]/1024**2\n",
    "#df.max_steering_angle_deg = df.max_steering_angle_deg.fillna(90)\n",
    "\n",
    "printmd(\"## Number of Runs\")\n",
    "printmd(f\"    {len(df.run_id.unique())}\")\n",
    "\n",
    "printmd(\"## Run Parameters\")\n",
    "for name in [run_parameter_name for run_parameter_name in run_parameters if 'localization_generator_' not in run_parameter_name]:\n",
    "    values = list(df[name].unique())\n",
    "    printmd(f\"    {name:<70}\", sorted(values))\n",
    "\n",
    "printmd(\"## Metrics\")\n",
    "for name in metrics_and_versions:\n",
    "    if name in metrics_versions:\n",
    "        if len(df[name].unique()) == 1:\n",
    "            printmd(f\"    {name:<70} {sorted(df[name].unique())}\")\n",
    "        else:\n",
    "            printmd(f\"<code><font style='background-color:yellow;font-family:monospace'>{name:<70}{sorted(df[name].unique())} </font></code> ⚠️\")\n",
    "    else:\n",
    "        printmd(f\"    {name:<70} min: {df[name].min(skipna=True):10.4g} {'avg':>15}: {df[name].mean(skipna=True):10.4g} {'max':>15}: {df[name].max(skipna=True):10.4g}]\")"
   ]
  },
  {
   "cell_type": "code",
   "execution_count": null,
   "metadata": {
    "scrolled": false
   },
   "outputs": [],
   "source": [
    "df[['run_id', 'robot_model', 'collision_rate']]"
   ]
  },
  {
   "cell_type": "code",
   "execution_count": null,
   "metadata": {},
   "outputs": [],
   "source": []
  },
  {
   "cell_type": "code",
   "execution_count": null,
   "metadata": {},
   "outputs": [],
   "source": []
  },
  {
   "cell_type": "code",
   "execution_count": null,
   "metadata": {},
   "outputs": [],
   "source": []
  },
  {
   "cell_type": "code",
   "execution_count": null,
   "metadata": {},
   "outputs": [],
   "source": []
  },
  {
   "cell_type": "code",
   "execution_count": null,
   "metadata": {},
   "outputs": [],
   "source": []
  },
  {
   "cell_type": "code",
   "execution_count": null,
   "metadata": {},
   "outputs": [],
   "source": []
  },
  {
   "cell_type": "code",
   "execution_count": null,
   "metadata": {},
   "outputs": [],
   "source": []
  },
  {
   "cell_type": "code",
   "execution_count": null,
   "metadata": {},
   "outputs": [],
   "source": []
  },
  {
   "cell_type": "code",
   "execution_count": null,
   "metadata": {},
   "outputs": [],
   "source": []
  },
  {
   "cell_type": "code",
   "execution_count": null,
   "metadata": {},
   "outputs": [],
   "source": []
  },
  {
   "cell_type": "code",
   "execution_count": null,
   "metadata": {},
   "outputs": [],
   "source": []
  },
  {
   "cell_type": "code",
   "execution_count": null,
   "metadata": {},
   "outputs": [],
   "source": []
  },
  {
   "cell_type": "code",
   "execution_count": null,
   "metadata": {},
   "outputs": [],
   "source": []
  },
  {
   "cell_type": "code",
   "execution_count": null,
   "metadata": {},
   "outputs": [],
   "source": []
  },
  {
   "cell_type": "code",
   "execution_count": null,
   "metadata": {},
   "outputs": [],
   "source": []
  },
  {
   "cell_type": "code",
   "execution_count": null,
   "metadata": {},
   "outputs": [],
   "source": []
  },
  {
   "cell_type": "code",
   "execution_count": null,
   "metadata": {},
   "outputs": [],
   "source": []
  },
  {
   "cell_type": "code",
   "execution_count": null,
   "metadata": {},
   "outputs": [],
   "source": []
  },
  {
   "cell_type": "code",
   "execution_count": null,
   "metadata": {},
   "outputs": [],
   "source": []
  },
  {
   "cell_type": "code",
   "execution_count": null,
   "metadata": {},
   "outputs": [],
   "source": []
  },
  {
   "cell_type": "code",
   "execution_count": null,
   "metadata": {},
   "outputs": [],
   "source": []
  },
  {
   "cell_type": "code",
   "execution_count": null,
   "metadata": {},
   "outputs": [],
   "source": []
  },
  {
   "cell_type": "code",
   "execution_count": null,
   "metadata": {},
   "outputs": [],
   "source": []
  }
 ],
 "metadata": {
  "kernelspec": {
   "display_name": "Python 3 (ipykernel)",
   "language": "python",
   "name": "python3"
  },
  "language_info": {
   "codemirror_mode": {
    "name": "ipython",
    "version": 3
   },
   "file_extension": ".py",
   "mimetype": "text/x-python",
   "name": "python",
   "nbconvert_exporter": "python",
   "pygments_lexer": "ipython3",
   "version": "3.8.10"
  }
 },
 "nbformat": 4,
 "nbformat_minor": 4
}
