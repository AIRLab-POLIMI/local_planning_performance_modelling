{
 "cells": [
  {
   "cell_type": "code",
   "execution_count": 1,
   "metadata": {},
   "outputs": [
    {
     "data": {
      "text/html": [
       "<style>.container { width:100% !important; }</style>"
      ],
      "text/plain": [
       "<IPython.core.display.HTML object>"
      ]
     },
     "metadata": {},
     "output_type": "display_data"
    }
   ],
   "source": [
    "from IPython.core.display import Markdown, display, HTML\n",
    "display(HTML(\"<style>.container { width:100% !important; }</style>\"))\n",
    "import ipywidgets as widgets\n",
    "from ipywidgets import interact, interact_manual\n",
    "\n",
    "import traceback\n",
    "import numpy as np\n",
    "import scipy.stats as ss\n",
    "import yaml\n",
    "import itertools\n",
    "import sys\n",
    "import os\n",
    "import subprocess\n",
    "from os import path\n",
    "import pickle\n",
    "import pandas as pd\n",
    "import matplotlib.pyplot as plt\n",
    "%matplotlib inline\n",
    "%config InlineBackend.figure_format = 'svg'\n",
    "\n",
    "from sklearn.linear_model import LinearRegression, TheilSenRegressor, RANSACRegressor, HuberRegressor\n",
    "from sklearn.metrics import mean_squared_error, r2_score\n",
    "from sklearn.preprocessing import PolynomialFeatures, StandardScaler\n",
    "from sklearn.pipeline import make_pipeline\n",
    "\n",
    "def printmd(*args):\n",
    "    display(Markdown(' '.join(map(str, args))))"
   ]
  },
  {
   "cell_type": "code",
   "execution_count": 2,
   "metadata": {
    "scrolled": false
   },
   "outputs": [],
   "source": [
    "# !ros2 run local_planning_performance_modelling compute_metrics -r \"~/ds/performance_modelling/output/test_local_planning/*\" -s"
   ]
  },
  {
   "cell_type": "code",
   "execution_count": 3,
   "metadata": {
    "scrolled": true
   },
   "outputs": [],
   "source": [
    "# !ros2 run local_planning_performance_modelling compute_metrics -r \"~/ds/performance_modelling/output/test_local_planning_gen_circles/*\" -s"
   ]
  },
  {
   "cell_type": "code",
   "execution_count": 4,
   "metadata": {
    "scrolled": false
   },
   "outputs": [],
   "source": [
    "local_planner_color = {'dwb': 'blue', 'rpp': 'orange', 'teb': 'green', 'rpp_bad': 'yellow'}\n",
    "local_planner_symbol = {'dwb': 'o', 'rpp': '^', 'teb': 'x', 'rpp_bad': 's'}\n",
    "robot_model_color = {'hunter': 'cyan', 'turtle': 'green'}\n",
    "pd.options.display.width = 500\n",
    "pd.options.display.max_rows = 0\n",
    "pd.options.display.float_format = '{:,.3f}'.format\n",
    "plt.rcParams['figure.figsize'] = [10, 10]\n",
    "plt.rcParams['lines.linewidth'] = 2\n",
    "# plt.rcParams['lines.markersize'] = 3\n",
    "# plt.rcParams['lines.marker'] = 'o'\n",
    "\n",
    "# fg_color = 'white'\n",
    "# plt.rcParams['grid.color'] = 'gray'\n",
    "# plt.rcParams['text.color'] = fg_color\n",
    "# plt.rcParams['ytick.color'] = fg_color\n",
    "# plt.rcParams['xtick.color'] = fg_color\n",
    "# plt.rcParams['axes.labelcolor'] = fg_color\n",
    "# plt.rcParams['axes.edgecolor'] = fg_color\n",
    "\n",
    "# bg_color = \"#323a48\"\n",
    "# plt.rcParams['figure.facecolor'] = bg_color\n",
    "# plt.rcParams['axes.facecolor'] = bg_color\n",
    "# plt.rcParams['legend.facecolor'] = bg_color"
   ]
  },
  {
   "cell_type": "code",
   "execution_count": 6,
   "metadata": {
    "scrolled": false
   },
   "outputs": [
    {
     "data": {
      "text/markdown": [
       "## Number of Runs"
      ],
      "text/plain": [
       "<IPython.core.display.Markdown object>"
      ]
     },
     "metadata": {},
     "output_type": "display_data"
    },
    {
     "data": {
      "text/markdown": [
       "    9872"
      ],
      "text/plain": [
       "<IPython.core.display.Markdown object>"
      ]
     },
     "metadata": {},
     "output_type": "display_data"
    },
    {
     "data": {
      "text/markdown": [
       "## Run Parameters"
      ],
      "text/plain": [
       "<IPython.core.display.Markdown object>"
      ]
     },
     "metadata": {},
     "output_type": "display_data"
    },
    {
     "data": {
      "text/markdown": [
       "    amcl_alpha_factor                                                      [0.0, 0.5, 1.0, 2.0]"
      ],
      "text/plain": [
       "<IPython.core.display.Markdown object>"
      ]
     },
     "metadata": {},
     "output_type": "display_data"
    },
    {
     "data": {
      "text/markdown": [
       "    environment_name                                                       ['7A-2', 'airlab', 'fr079', 'intel', 'mexico', 'office_b']"
      ],
      "text/plain": [
       "<IPython.core.display.Markdown object>"
      ]
     },
     "metadata": {},
     "output_type": "display_data"
    },
    {
     "data": {
      "text/markdown": [
       "    global_planner_node                                                    ['navfn', 'smac']"
      ],
      "text/plain": [
       "<IPython.core.display.Markdown object>"
      ]
     },
     "metadata": {},
     "output_type": "display_data"
    },
    {
     "data": {
      "text/markdown": [
       "    local_planner_node                                                     ['dwb', 'rpp', 'teb']"
      ],
      "text/plain": [
       "<IPython.core.display.Markdown object>"
      ]
     },
     "metadata": {},
     "output_type": "display_data"
    },
    {
     "data": {
      "text/markdown": [
       "    localization_node                                                      ['amcl']"
      ],
      "text/plain": [
       "<IPython.core.display.Markdown object>"
      ]
     },
     "metadata": {},
     "output_type": "display_data"
    },
    {
     "data": {
      "text/markdown": [
       "    max_steering_angle_deg                                                 [20.0, 40.0, 90.0]"
      ],
      "text/plain": [
       "<IPython.core.display.Markdown object>"
      ]
     },
     "metadata": {},
     "output_type": "display_data"
    },
    {
     "data": {
      "text/markdown": [
       "    robot_model                                                            ['hunter', 'turtle']"
      ],
      "text/plain": [
       "<IPython.core.display.Markdown object>"
      ]
     },
     "metadata": {},
     "output_type": "display_data"
    },
    {
     "data": {
      "text/markdown": [
       "    run_index                                                              [0, 1, 2, 3, 4, 5, 6, 7, 8, 9, 10, 11, 12, 13, 14, 15, 16, 17, 18, 19, 20, 21, 22, 23, 24, 25, 26, 27, 28, 29]"
      ],
      "text/plain": [
       "<IPython.core.display.Markdown object>"
      ]
     },
     "metadata": {},
     "output_type": "display_data"
    },
    {
     "data": {
      "text/markdown": [
       "    run_duplicate_index                                                    [nan, 1.0, 2.0]"
      ],
      "text/plain": [
       "<IPython.core.display.Markdown object>"
      ]
     },
     "metadata": {},
     "output_type": "display_data"
    },
    {
     "data": {
      "text/markdown": [
       "    beta_1                                                                 [0.0, 0.02, 0.05, 0.1]"
      ],
      "text/plain": [
       "<IPython.core.display.Markdown object>"
      ]
     },
     "metadata": {},
     "output_type": "display_data"
    },
    {
     "data": {
      "text/markdown": [
       "    beta_2                                                                 [0.0]"
      ],
      "text/plain": [
       "<IPython.core.display.Markdown object>"
      ]
     },
     "metadata": {},
     "output_type": "display_data"
    },
    {
     "data": {
      "text/markdown": [
       "    beta_3                                                                 [0.0, 0.02, 0.05, 0.1]"
      ],
      "text/plain": [
       "<IPython.core.display.Markdown object>"
      ]
     },
     "metadata": {},
     "output_type": "display_data"
    },
    {
     "data": {
      "text/markdown": [
       "    beta_4                                                                 [0.0]"
      ],
      "text/plain": [
       "<IPython.core.display.Markdown object>"
      ]
     },
     "metadata": {},
     "output_type": "display_data"
    },
    {
     "data": {
      "text/markdown": [
       "## Metrics"
      ],
      "text/plain": [
       "<IPython.core.display.Markdown object>"
      ]
     },
     "metadata": {},
     "output_type": "display_data"
    },
    {
     "data": {
      "text/markdown": [
       "    collision_rate                                                         min:          0             avg:    0.05176             max:          1             nan:          0"
      ],
      "text/plain": [
       "<IPython.core.display.Markdown object>"
      ]
     },
     "metadata": {},
     "output_type": "display_data"
    },
    {
     "data": {
      "text/markdown": [
       "    collision_time                                                         min:      7.801             avg:      87.63             max:      432.1             nan:       9361"
      ],
      "text/plain": [
       "<IPython.core.display.Markdown object>"
      ]
     },
     "metadata": {},
     "output_type": "display_data"
    },
    {
     "data": {
      "text/markdown": [
       "    collision_rate_version                                                 [3]"
      ],
      "text/plain": [
       "<IPython.core.display.Markdown object>"
      ]
     },
     "metadata": {},
     "output_type": "display_data"
    },
    {
     "data": {
      "text/markdown": [
       "    clearance                                                              min:        nan             avg:        nan             max:        nan             nan:       9872"
      ],
      "text/plain": [
       "<IPython.core.display.Markdown object>"
      ]
     },
     "metadata": {},
     "output_type": "display_data"
    },
    {
     "data": {
      "text/markdown": [
       "    clearance_version                                                      [1]"
      ],
      "text/plain": [
       "<IPython.core.display.Markdown object>"
      ]
     },
     "metadata": {},
     "output_type": "display_data"
    },
    {
     "data": {
      "text/markdown": [
       "    minimum_clearance                                                      min:          0             avg:     0.6013             max:      5.819             nan:          0"
      ],
      "text/plain": [
       "<IPython.core.display.Markdown object>"
      ]
     },
     "metadata": {},
     "output_type": "display_data"
    },
    {
     "data": {
      "text/markdown": [
       "    average_clearance                                                      min:      1.935             avg:      5.014             max:      12.42             nan:          0"
      ],
      "text/plain": [
       "<IPython.core.display.Markdown object>"
      ]
     },
     "metadata": {},
     "output_type": "display_data"
    },
    {
     "data": {
      "text/markdown": [
       "    median_clearance                                                       min:     0.2977             avg:      3.935             max:      11.77             nan:          0"
      ],
      "text/plain": [
       "<IPython.core.display.Markdown object>"
      ]
     },
     "metadata": {},
     "output_type": "display_data"
    },
    {
     "data": {
      "text/markdown": [
       "    maximum_clearance                                                      min:      5.448             avg:      23.17             max:      29.82             nan:          0"
      ],
      "text/plain": [
       "<IPython.core.display.Markdown object>"
      ]
     },
     "metadata": {},
     "output_type": "display_data"
    },
    {
     "data": {
      "text/markdown": [
       "    trajectory_length                                                      min:          0             avg:      19.28             max:      133.9             nan:          0"
      ],
      "text/plain": [
       "<IPython.core.display.Markdown object>"
      ]
     },
     "metadata": {},
     "output_type": "display_data"
    },
    {
     "data": {
      "text/markdown": [
       "    trajectory_length_version                                              [1]"
      ],
      "text/plain": [
       "<IPython.core.display.Markdown object>"
      ]
     },
     "metadata": {},
     "output_type": "display_data"
    },
    {
     "data": {
      "text/markdown": [
       "    execution_time                                                         min:      0.069             avg:      81.18             max:      648.1             nan:          0"
      ],
      "text/plain": [
       "<IPython.core.display.Markdown object>"
      ]
     },
     "metadata": {},
     "output_type": "display_data"
    },
    {
     "data": {
      "text/markdown": [
       "    execution_time_version                                                 [1]"
      ],
      "text/plain": [
       "<IPython.core.display.Markdown object>"
      ]
     },
     "metadata": {},
     "output_type": "display_data"
    },
    {
     "data": {
      "text/markdown": [
       "    success_rate                                                           min:          0             avg:     0.8546             max:          1             nan:          0"
      ],
      "text/plain": [
       "<IPython.core.display.Markdown object>"
      ]
     },
     "metadata": {},
     "output_type": "display_data"
    },
    {
     "data": {
      "text/markdown": [
       "    success_rate_version                                                   [1]"
      ],
      "text/plain": [
       "<IPython.core.display.Markdown object>"
      ]
     },
     "metadata": {},
     "output_type": "display_data"
    },
    {
     "data": {
      "text/markdown": [
       "    odometry_error_alpha_1_mean                                            min:  2.438e-17             avg:    0.05996             max:      6.012             nan:        630"
      ],
      "text/plain": [
       "<IPython.core.display.Markdown object>"
      ]
     },
     "metadata": {},
     "output_type": "display_data"
    },
    {
     "data": {
      "text/markdown": [
       "    odometry_error_alpha_1_std                                             min:          0             avg:    0.07165             max:      28.09             nan:        630"
      ],
      "text/plain": [
       "<IPython.core.display.Markdown object>"
      ]
     },
     "metadata": {},
     "output_type": "display_data"
    },
    {
     "data": {
      "text/markdown": [
       "    odometry_error_alpha_2_mean                                            min:  4.519e-18             avg:    0.07318             max:      12.15             nan:        630"
      ],
      "text/plain": [
       "<IPython.core.display.Markdown object>"
      ]
     },
     "metadata": {},
     "output_type": "display_data"
    },
    {
     "data": {
      "text/markdown": [
       "    odometry_error_alpha_2_std                                             min:          0             avg:     0.1394             max:      33.95             nan:        630"
      ],
      "text/plain": [
       "<IPython.core.display.Markdown object>"
      ]
     },
     "metadata": {},
     "output_type": "display_data"
    },
    {
     "data": {
      "text/markdown": [
       "    odometry_error_alpha_3_mean                                            min:   8.68e-18             avg:    0.06363             max:     0.9427             nan:        630"
      ],
      "text/plain": [
       "<IPython.core.display.Markdown object>"
      ]
     },
     "metadata": {},
     "output_type": "display_data"
    },
    {
     "data": {
      "text/markdown": [
       "    odometry_error_alpha_3_std                                             min:          0             avg:    0.01307             max:      1.442             nan:        630"
      ],
      "text/plain": [
       "<IPython.core.display.Markdown object>"
      ]
     },
     "metadata": {},
     "output_type": "display_data"
    },
    {
     "data": {
      "text/markdown": [
       "    odometry_error_alpha_4_mean                                            min:  9.598e-18             avg:     0.2857             max:      1.372             nan:        630"
      ],
      "text/plain": [
       "<IPython.core.display.Markdown object>"
      ]
     },
     "metadata": {},
     "output_type": "display_data"
    },
    {
     "data": {
      "text/markdown": [
       "    odometry_error_alpha_4_std                                             min:          0             avg:     0.2402             max:      1.723             nan:        630"
      ],
      "text/plain": [
       "<IPython.core.display.Markdown object>"
      ]
     },
     "metadata": {},
     "output_type": "display_data"
    },
    {
     "data": {
      "text/markdown": [
       "    odometry_error_version                                                 [2]"
      ],
      "text/plain": [
       "<IPython.core.display.Markdown object>"
      ]
     },
     "metadata": {},
     "output_type": "display_data"
    },
    {
     "data": {
      "text/markdown": [
       "    localization_update_absolute_translation_error_mean                    min:  0.0009009             avg:    0.09583             max:      2.718             nan:        632"
      ],
      "text/plain": [
       "<IPython.core.display.Markdown object>"
      ]
     },
     "metadata": {},
     "output_type": "display_data"
    },
    {
     "data": {
      "text/markdown": [
       "    localization_update_absolute_translation_error_std                     min:          0             avg:     0.0461             max:      3.722             nan:        632"
      ],
      "text/plain": [
       "<IPython.core.display.Markdown object>"
      ]
     },
     "metadata": {},
     "output_type": "display_data"
    },
    {
     "data": {
      "text/markdown": [
       "    localization_update_absolute_rotation_error_mean                       min:  0.0003113             avg:    0.02299             max:      1.495             nan:        632"
      ],
      "text/plain": [
       "<IPython.core.display.Markdown object>"
      ]
     },
     "metadata": {},
     "output_type": "display_data"
    },
    {
     "data": {
      "text/markdown": [
       "    localization_update_absolute_rotation_error_std                        min:          0             avg:    0.03951             max:      1.348             nan:        632"
      ],
      "text/plain": [
       "<IPython.core.display.Markdown object>"
      ]
     },
     "metadata": {},
     "output_type": "display_data"
    },
    {
     "data": {
      "text/markdown": [
       "    localization_update_relative_translation_error_mean                    min:  0.0005164             avg:    0.01004             max:     0.2224             nan:        632"
      ],
      "text/plain": [
       "<IPython.core.display.Markdown object>"
      ]
     },
     "metadata": {},
     "output_type": "display_data"
    },
    {
     "data": {
      "text/markdown": [
       "    localization_update_relative_translation_error_std                     min:          0             avg:    0.01036             max:      1.124             nan:        632"
      ],
      "text/plain": [
       "<IPython.core.display.Markdown object>"
      ]
     },
     "metadata": {},
     "output_type": "display_data"
    },
    {
     "data": {
      "text/markdown": [
       "    localization_update_relative_rotation_error_mean                       min:  0.0001568             avg:     0.0112             max:     0.4347             nan:        632"
      ],
      "text/plain": [
       "<IPython.core.display.Markdown object>"
      ]
     },
     "metadata": {},
     "output_type": "display_data"
    },
    {
     "data": {
      "text/markdown": [
       "    localization_update_relative_rotation_error_std                        min:          0             avg:    0.04065             max:     0.9476             nan:        632"
      ],
      "text/plain": [
       "<IPython.core.display.Markdown object>"
      ]
     },
     "metadata": {},
     "output_type": "display_data"
    },
    {
     "data": {
      "text/markdown": [
       "    localization_update_normalized_relative_translation_error_mean         min:   0.001581             avg:    0.05904             max:      2.573             nan:        632"
      ],
      "text/plain": [
       "<IPython.core.display.Markdown object>"
      ]
     },
     "metadata": {},
     "output_type": "display_data"
    },
    {
     "data": {
      "text/markdown": [
       "    localization_update_normalized_relative_translation_error_std          min:          0             avg:    0.06856             max:      9.121             nan:        632"
      ],
      "text/plain": [
       "<IPython.core.display.Markdown object>"
      ]
     },
     "metadata": {},
     "output_type": "display_data"
    },
    {
     "data": {
      "text/markdown": [
       "    localization_update_normalized_relative_rotation_error_mean            min:  0.0006716             avg:    0.08126             max:      4.263             nan:        637"
      ],
      "text/plain": [
       "<IPython.core.display.Markdown object>"
      ]
     },
     "metadata": {},
     "output_type": "display_data"
    },
    {
     "data": {
      "text/markdown": [
       "    localization_update_normalized_relative_rotation_error_std             min:          0             avg:     0.2121             max:      12.26             nan:        637"
      ],
      "text/plain": [
       "<IPython.core.display.Markdown object>"
      ]
     },
     "metadata": {},
     "output_type": "display_data"
    },
    {
     "data": {
      "text/markdown": [
       "    localization_update_error_version                                      [4]"
      ],
      "text/plain": [
       "<IPython.core.display.Markdown object>"
      ]
     },
     "metadata": {},
     "output_type": "display_data"
    },
    {
     "data": {
      "text/markdown": [
       "    absolute_translation_error                                             min:  0.0009009             avg:    0.09379             max:     0.5609             nan:        632"
      ],
      "text/plain": [
       "<IPython.core.display.Markdown object>"
      ]
     },
     "metadata": {},
     "output_type": "display_data"
    },
    {
     "data": {
      "text/markdown": [
       "    collisionless_localization_update_absolute_translation_error_std       min:          0             avg:     0.0438             max:     0.4036             nan:        632"
      ],
      "text/plain": [
       "<IPython.core.display.Markdown object>"
      ]
     },
     "metadata": {},
     "output_type": "display_data"
    },
    {
     "data": {
      "text/markdown": [
       "    absolute_rotation_error                                                min:  0.0003113             avg:    0.02076             max:     0.2085             nan:        632"
      ],
      "text/plain": [
       "<IPython.core.display.Markdown object>"
      ]
     },
     "metadata": {},
     "output_type": "display_data"
    },
    {
     "data": {
      "text/markdown": [
       "    collisionless_localization_update_absolute_rotation_error_std          min:          0             avg:    0.03554             max:     0.7018             nan:        632"
      ],
      "text/plain": [
       "<IPython.core.display.Markdown object>"
      ]
     },
     "metadata": {},
     "output_type": "display_data"
    },
    {
     "data": {
      "text/markdown": [
       "    relative_translation_error                                             min:  0.0005164             avg:   0.009976             max:     0.2224             nan:        632"
      ],
      "text/plain": [
       "<IPython.core.display.Markdown object>"
      ]
     },
     "metadata": {},
     "output_type": "display_data"
    },
    {
     "data": {
      "text/markdown": [
       "    collisionless_localization_update_relative_translation_error_std       min:          0             avg:     0.0101             max:      1.124             nan:        632"
      ],
      "text/plain": [
       "<IPython.core.display.Markdown object>"
      ]
     },
     "metadata": {},
     "output_type": "display_data"
    },
    {
     "data": {
      "text/markdown": [
       "    relative_rotation_error                                                min:  0.0001568             avg:    0.01034             max:     0.3534             nan:        632"
      ],
      "text/plain": [
       "<IPython.core.display.Markdown object>"
      ]
     },
     "metadata": {},
     "output_type": "display_data"
    },
    {
     "data": {
      "text/markdown": [
       "    collisionless_localization_update_relative_rotation_error_std          min:          0             avg:    0.03847             max:     0.9476             nan:        632"
      ],
      "text/plain": [
       "<IPython.core.display.Markdown object>"
      ]
     },
     "metadata": {},
     "output_type": "display_data"
    },
    {
     "data": {
      "text/markdown": [
       "    normalized_relative_translation_error                                  min:   0.001581             avg:    0.05578             max:     0.3278             nan:        632"
      ],
      "text/plain": [
       "<IPython.core.display.Markdown object>"
      ]
     },
     "metadata": {},
     "output_type": "display_data"
    },
    {
     "data": {
      "text/markdown": [
       "    collisionless_localization_update_normalized_relative_translation_error_std min:          0             avg:    0.06011             max:     0.8927             nan:        632"
      ],
      "text/plain": [
       "<IPython.core.display.Markdown object>"
      ]
     },
     "metadata": {},
     "output_type": "display_data"
    },
    {
     "data": {
      "text/markdown": [
       "    normalized_relative_rotation_error                                     min:  0.0006716             avg:     0.2268             max:      13.03             nan:        632"
      ],
      "text/plain": [
       "<IPython.core.display.Markdown object>"
      ]
     },
     "metadata": {},
     "output_type": "display_data"
    },
    {
     "data": {
      "text/markdown": [
       "    collisionless_localization_update_normalized_relative_rotation_error_std min:          0             avg:      1.168             max:      46.61             nan:        632"
      ],
      "text/plain": [
       "<IPython.core.display.Markdown object>"
      ]
     },
     "metadata": {},
     "output_type": "display_data"
    },
    {
     "data": {
      "text/markdown": [
       "    collisionless_localization_update_error_version                        [1]"
      ],
      "text/plain": [
       "<IPython.core.display.Markdown object>"
      ]
     },
     "metadata": {},
     "output_type": "display_data"
    },
    {
     "data": {
      "text/markdown": [
       "    localization_update_rate                                               min:     0.2364             avg:      0.917             max:       32.4             nan:        630"
      ],
      "text/plain": [
       "<IPython.core.display.Markdown object>"
      ]
     },
     "metadata": {},
     "output_type": "display_data"
    },
    {
     "data": {
      "text/markdown": [
       "    localization_update_rate_std                                           min:          0             avg:     0.3659             max:      14.34             nan:        630"
      ],
      "text/plain": [
       "<IPython.core.display.Markdown object>"
      ]
     },
     "metadata": {},
     "output_type": "display_data"
    },
    {
     "data": {
      "text/markdown": [
       "    localization_update_rate_version                                       [1]"
      ],
      "text/plain": [
       "<IPython.core.display.Markdown object>"
      ]
     },
     "metadata": {},
     "output_type": "display_data"
    },
    {
     "data": {
      "text/markdown": [
       "    average_translation_velocity                                           min:  5.858e-05             avg:     0.2488             max:       0.35             nan:        533"
      ],
      "text/plain": [
       "<IPython.core.display.Markdown object>"
      ]
     },
     "metadata": {},
     "output_type": "display_data"
    },
    {
     "data": {
      "text/markdown": [
       "    average_rotation_velocity                                              min:   2.57e-05             avg:      0.134             max:     0.9651             nan:        533"
      ],
      "text/plain": [
       "<IPython.core.display.Markdown object>"
      ]
     },
     "metadata": {},
     "output_type": "display_data"
    },
    {
     "data": {
      "text/markdown": [
       "    translation_rotation_product                                           min:  1.505e-09             avg:     0.0281             max:     0.1542             nan:        533"
      ],
      "text/plain": [
       "<IPython.core.display.Markdown object>"
      ]
     },
     "metadata": {},
     "output_type": "display_data"
    },
    {
     "data": {
      "text/markdown": [
       "    average_translation_acceleration                                       min:   8.57e-11             avg:      0.121             max:     0.6255             nan:        538"
      ],
      "text/plain": [
       "<IPython.core.display.Markdown object>"
      ]
     },
     "metadata": {},
     "output_type": "display_data"
    },
    {
     "data": {
      "text/markdown": [
       "    average_rotation_acceleration                                          min:  3.719e-11             avg:     0.1781             max:     0.9988             nan:        538"
      ],
      "text/plain": [
       "<IPython.core.display.Markdown object>"
      ]
     },
     "metadata": {},
     "output_type": "display_data"
    },
    {
     "data": {
      "text/markdown": [
       "    translation_rotation_acceleration_product                              min:  4.953e-21             avg:    0.03085             max:     0.3641             nan:        538"
      ],
      "text/plain": [
       "<IPython.core.display.Markdown object>"
      ]
     },
     "metadata": {},
     "output_type": "display_data"
    },
    {
     "data": {
      "text/markdown": [
       "    average_velocity_atan                                                  min:    0.01885             avg:     0.3585             max:      1.328             nan:        533"
      ],
      "text/plain": [
       "<IPython.core.display.Markdown object>"
      ]
     },
     "metadata": {},
     "output_type": "display_data"
    },
    {
     "data": {
      "text/markdown": [
       "    motion_characteristics_version                                         [4]"
      ],
      "text/plain": [
       "<IPython.core.display.Markdown object>"
      ]
     },
     "metadata": {},
     "output_type": "display_data"
    },
    {
     "data": {
      "text/markdown": [
       "    controller_cpu_time                                                    min:       0.57             avg:      63.69             max:       1031             nan:          0"
      ],
      "text/plain": [
       "<IPython.core.display.Markdown object>"
      ]
     },
     "metadata": {},
     "output_type": "display_data"
    },
    {
     "data": {
      "text/markdown": [
       "    planner_cpu_time                                                       min:       0.32             avg:         20             max:        395             nan:          0"
      ],
      "text/plain": [
       "<IPython.core.display.Markdown object>"
      ]
     },
     "metadata": {},
     "output_type": "display_data"
    },
    {
     "data": {
      "text/markdown": [
       "    system_cpu_time                                                        min:       2.35             avg:      92.43             max:       1303             nan:          0"
      ],
      "text/plain": [
       "<IPython.core.display.Markdown object>"
      ]
     },
     "metadata": {},
     "output_type": "display_data"
    },
    {
     "data": {
      "text/markdown": [
       "    controller_max_memory                                                  min:      21.52             avg:      43.97             max:      78.79             nan:          0"
      ],
      "text/plain": [
       "<IPython.core.display.Markdown object>"
      ]
     },
     "metadata": {},
     "output_type": "display_data"
    },
    {
     "data": {
      "text/markdown": [
       "    planner_max_memory                                                     min:      22.23             avg:      192.4             max:  3.116e+04             nan:          0"
      ],
      "text/plain": [
       "<IPython.core.display.Markdown object>"
      ]
     },
     "metadata": {},
     "output_type": "display_data"
    },
    {
     "data": {
      "text/markdown": [
       "    system_max_memory                                                      min:      132.2             avg:      357.1             max:  3.134e+04             nan:          0"
      ],
      "text/plain": [
       "<IPython.core.display.Markdown object>"
      ]
     },
     "metadata": {},
     "output_type": "display_data"
    },
    {
     "data": {
      "text/markdown": [
       "    cpu_time_and_max_memory_version                                        [1]"
      ],
      "text/plain": [
       "<IPython.core.display.Markdown object>"
      ]
     },
     "metadata": {},
     "output_type": "display_data"
    },
    {
     "data": {
      "text/markdown": [
       "    fixed_rpp                                                              min:          1             avg:          1             max:          1             nan:       7087"
      ],
      "text/plain": [
       "<IPython.core.display.Markdown object>"
      ]
     },
     "metadata": {},
     "output_type": "display_data"
    },
    {
     "data": {
      "text/markdown": [
       "    average_velocity                                                       min:          0             avg:     0.2126             max:     0.2681             nan:          0"
      ],
      "text/plain": [
       "<IPython.core.display.Markdown object>"
      ]
     },
     "metadata": {},
     "output_type": "display_data"
    },
    {
     "data": {
      "text/markdown": [
       "    norm_trajectory_length                                                 min:          0             avg:     0.9852             max:      10.69             nan:          0"
      ],
      "text/plain": [
       "<IPython.core.display.Markdown object>"
      ]
     },
     "metadata": {},
     "output_type": "display_data"
    },
    {
     "data": {
      "text/markdown": [
       "    mean_trajectory_length                                                 min:     0.9084             avg:      21.63             max:      100.8             nan:          0"
      ],
      "text/plain": [
       "<IPython.core.display.Markdown object>"
      ]
     },
     "metadata": {},
     "output_type": "display_data"
    },
    {
     "data": {
      "text/markdown": [
       "    median_trajectory_length                                               min:      0.879             avg:      21.41             max:      100.5             nan:          0"
      ],
      "text/plain": [
       "<IPython.core.display.Markdown object>"
      ]
     },
     "metadata": {},
     "output_type": "display_data"
    },
    {
     "data": {
      "text/markdown": [
       "    norm_trajectory_length_std                                             min:          0             avg:      4.618             max:      14.72             nan:          0"
      ],
      "text/plain": [
       "<IPython.core.display.Markdown object>"
      ]
     },
     "metadata": {},
     "output_type": "display_data"
    },
    {
     "data": {
      "text/markdown": [
       "    norm_trajectory_length_mean                                            min:          0             avg:     0.9227             max:      7.603             nan:          0"
      ],
      "text/plain": [
       "<IPython.core.display.Markdown object>"
      ]
     },
     "metadata": {},
     "output_type": "display_data"
    },
    {
     "data": {
      "text/markdown": [
       "    norm_trajectory_length_median                                          min:          0             avg:      0.946             max:      9.419             nan:          0"
      ],
      "text/plain": [
       "<IPython.core.display.Markdown object>"
      ]
     },
     "metadata": {},
     "output_type": "display_data"
    },
    {
     "data": {
      "text/markdown": [
       "    norm_execution_time                                                    min:  0.0003575             avg:      1.068             max:      12.74             nan:          0"
      ],
      "text/plain": [
       "<IPython.core.display.Markdown object>"
      ]
     },
     "metadata": {},
     "output_type": "display_data"
    }
   ],
   "source": [
    "df = pd.read_csv(path.expanduser(\"~/ds/performance_modelling/output/test_local_planning/results.csv\"))\n",
    "with open(path.expanduser(\"~/ds/performance_modelling/output/test_local_planning/results_info.yaml\")) as results_info_file:\n",
    "    results_info = yaml.safe_load(results_info_file)\n",
    "\n",
    "# df_real = pd.read_csv(path.expanduser(\"~/ds/performance_modelling/output/test_local_planning/results.csv\"))\n",
    "# with open(path.expanduser(\"~/ds/performance_modelling/output/test_local_planning/results_info.yaml\")) as results_real_info_file:\n",
    "#     results_real_info = yaml.safe_load(results_real_info_file)\n",
    "# df_real = df_real[(df_real.amcl_alpha_factor.notna()) & (df_real.robot_model=='turtlebot3_waffle_performance_modelling')]\n",
    "\n",
    "# df_gen = pd.read_csv(path.expanduser(\"~/ds/performance_modelling/output/test_local_planning_gen_circles/results.csv\"))\n",
    "# with open(path.expanduser(\"~/ds/performance_modelling/output/test_local_planning_gen_circles/results_info.yaml\")) as results_gen_info_file:\n",
    "#     results_gen_info = yaml.safe_load(results_gen_info_file)\n",
    "\n",
    "# df = df_gen.append(df_real, sort=True)\n",
    "\n",
    "df.rename(inplace=True, columns={\n",
    "    'collisionless_localization_update_absolute_translation_error_mean': 'absolute_translation_error',\n",
    "    'collisionless_localization_update_absolute_rotation_error_mean': 'absolute_rotation_error',\n",
    "    'collisionless_localization_update_normalized_relative_translation_error_mean': 'normalized_relative_translation_error',\n",
    "    'collisionless_localization_update_normalized_relative_rotation_error_mean': 'normalized_relative_rotation_error',\n",
    "    'collisionless_localization_update_relative_translation_error_mean': 'relative_translation_error',\n",
    "    'collisionless_localization_update_relative_rotation_error_mean': 'relative_rotation_error',\n",
    "    'localization_update_rate_mean': 'localization_update_rate',\n",
    "})\n",
    "\n",
    "# results_info = results_gen_info\n",
    "# results_info['run_parameter_names'] += [i for i in results_real_info['run_parameter_names'] if i not in results_info['run_parameter_names']]\n",
    "\n",
    "# TEMP: only consider real localization\n",
    "df = df[df.localization_node != 'localization_generator']\n",
    "\n",
    "# only consider amcl_alpha_factor if 0.0, 0.5, 1.0, or 2.0\n",
    "# df = df[df.amcl_alpha_factor == 1.0]\n",
    "df = df[df.amcl_alpha_factor.isin([0.0, 0.5, 1.0, 2.0])].copy()\n",
    "\n",
    "# turn odometry_error into beta_1..4\n",
    "results_info['run_parameter_names'] += ['beta_1', 'beta_2', 'beta_3', 'beta_4']\n",
    "results_info['run_parameter_names'].remove('odometry_error')\n",
    "for i in range(0, 4):\n",
    "    df[f'beta_{i+1}'] = df['odometry_error'].apply(lambda x: eval(x)[i])\n",
    "del df['odometry_error']\n",
    "\n",
    "df.loc[df.robot_model == 'turtlebot3_waffle_performance_modelling', 'robot_model'] = 'turtle'\n",
    "df.loc[df.robot_model == 'hunter2', 'robot_model'] = 'hunter'\n",
    "\n",
    "run_parameters = [c for c in list(df.columns) if c in results_info['run_parameter_names']]\n",
    "metrics_versions = [c for c in list(df.columns) if '_version' in c]\n",
    "everything_else = ['run_id', 'session_id', 'run_number', 'goal_index']\n",
    "metrics = [c for c in df.columns if c not in metrics_versions + run_parameters + everything_else]\n",
    "metrics_and_versions = [c for c in list(df.columns) if '_version' in c or c in metrics]\n",
    "\n",
    "cpu_time_metrics = [c for c in metrics if 'cpu_time' in c]\n",
    "max_memory_metrics = [c for c in metrics if 'max_memory' in c]\n",
    "\n",
    "# add useful parameters\n",
    "df['session_id'] =  df['run_id'].apply(lambda x:  x.split('_')[1]+'_'+x.split('_')[2]+'_'+x.split('_')[3])\n",
    "df['run_number'] =  df['run_id'].apply(lambda x:  int(x.split('_')[5]))\n",
    "df[max_memory_metrics] = df[max_memory_metrics]/1024**2\n",
    "df.max_steering_angle_deg = df.max_steering_angle_deg.fillna(90)\n",
    "df[\"run_index_str\"] = df['run_index'].apply(lambda x: str(x))\n",
    "df['goal_index'] = df.environment_name + '_' + df.run_index_str\n",
    "\n",
    "# add metrics from existing ones\n",
    "df['average_velocity'] = df['trajectory_length'] / df['execution_time']\n",
    "df['success_rate'] = df['success_rate'] & (1 - df['collision_rate'])\n",
    "\n",
    "metrics += ['average_velocity']\n",
    "metrics_and_versions += ['average_velocity']\n",
    "\n",
    "# add aggregated data\n",
    "min_trajectory_length_group_df = df.groupby([\"environment_name\", \"run_index\", \"success_rate\"])\n",
    "for (environment_name, run_index, success_rate), group_df in min_trajectory_length_group_df:\n",
    "    df.loc[(df.environment_name == environment_name) & (df.run_index == run_index) & (success_rate), 'min_trajectory_length'] = group_df.trajectory_length.min()\n",
    "    df.loc[(df.environment_name == environment_name) & (df.run_index == run_index) & (success_rate), 'std_trajectory_length'] = group_df.trajectory_length.std()\n",
    "    df.loc[(df.environment_name == environment_name) & (df.run_index == run_index) & (success_rate), 'var_trajectory_length'] = group_df.trajectory_length.var()\n",
    "    df.loc[(df.environment_name == environment_name) & (df.run_index == run_index) & (success_rate), 'mean_trajectory_length'] = group_df.trajectory_length.mean()\n",
    "    df.loc[(df.environment_name == environment_name) & (df.run_index == run_index) & (success_rate), 'median_trajectory_length'] = group_df.trajectory_length.median()\n",
    "df['norm_trajectory_length'] = df.trajectory_length / df.min_trajectory_length\n",
    "df['norm_trajectory_length_std'] = df.trajectory_length / df.min_trajectory_length / df.std_trajectory_length\n",
    "df['norm_trajectory_length_mean'] = df.trajectory_length / df.mean_trajectory_length\n",
    "df['norm_trajectory_length_median'] = df.trajectory_length / df.median_trajectory_length\n",
    "metrics += ['norm_trajectory_length']\n",
    "metrics += ['min_trajectory_length']\n",
    "metrics += ['mean_trajectory_length']\n",
    "metrics += ['median_trajectory_length']\n",
    "metrics += ['norm_trajectory_length_std']\n",
    "metrics += ['norm_trajectory_length_mean']\n",
    "metrics += ['norm_trajectory_length_median']\n",
    "metrics_and_versions += ['norm_trajectory_length']\n",
    "metrics_and_versions += ['mean_trajectory_length']\n",
    "metrics_and_versions += ['median_trajectory_length']\n",
    "metrics_and_versions += ['norm_trajectory_length_std']\n",
    "metrics_and_versions += ['norm_trajectory_length_mean']\n",
    "metrics_and_versions += ['norm_trajectory_length_median']\n",
    "\n",
    "min_execution_time_group_df = df.groupby([\"environment_name\", \"run_index\", \"success_rate\"])\n",
    "for (environment_name, run_index, success_rate), group_df in min_execution_time_group_df:\n",
    "    df.loc[(df.environment_name == environment_name) & (df.run_index == run_index) & (success_rate), 'min_execution_time'] = group_df.execution_time.min()\n",
    "df['norm_execution_time'] = df.execution_time / df.min_execution_time\n",
    "metrics += ['norm_execution_time']\n",
    "metrics_and_versions += ['norm_execution_time']\n",
    "\n",
    "printmd(\"## Number of Runs\")\n",
    "printmd(f\"    {len(df.run_id.unique())}\")\n",
    "\n",
    "printmd(\"## Run Parameters\")\n",
    "for name in [run_parameter_name for run_parameter_name in run_parameters if 'localization_generator_' not in run_parameter_name]:\n",
    "    values = list(df[name].unique())\n",
    "    printmd(f\"    {name:<70}\", sorted(values))\n",
    "\n",
    "printmd(\"## Metrics\")\n",
    "for name in metrics_and_versions:\n",
    "    if name in metrics_versions:\n",
    "        if len(df[name].unique()) == 1:\n",
    "            printmd(f\"    {name:<70} {sorted(df[name].unique())}\")\n",
    "        else:\n",
    "            printmd(f\"<code><font style='background-color:yellow;font-family:monospace'>{name:<70}{sorted(df[name].unique())} </font></code> ⚠️\")\n",
    "    else:\n",
    "        printmd(f\"    {name:<70} min: {df[name].min(skipna=True):10.4g} {'avg':>15}: {df[name].mean(skipna=True):10.4g} {'max':>15}: {df[name].max(skipna=True):10.4g} {'nan':>15}: {sum(df[name].isna()):10.4g}\")"
   ]
  },
  {
   "cell_type": "code",
   "execution_count": null,
   "metadata": {},
   "outputs": [],
   "source": [
    "df.execution_time.sum() /60/60/24"
   ]
  },
  {
   "cell_type": "code",
   "execution_count": null,
   "metadata": {
    "scrolled": false
   },
   "outputs": [],
   "source": [
    "printmd(\"## Overall performance values by robot model, local planner component, kinematic constraints, and localization component\")\n",
    "printmd(\"### Considering all runs (sorted by collisionless success rate)\")\n",
    "df.groupby(['robot_model', 'local_planner_node', 'max_steering_angle_deg', 'localization_node'])[[\"success_rate\", \"collision_rate\", \"average_velocity\", \"norm_trajectory_length\", \"norm_execution_time\"]].agg(['mean', 'count']).sort_values(('success_rate', 'mean'), ascending=False)"
   ]
  },
  {
   "cell_type": "code",
   "execution_count": null,
   "metadata": {
    "scrolled": false
   },
   "outputs": [],
   "source": [
    "printmd(\"### Only considering successful runs (sorted by norm trajectory length)\")\n",
    "df[df.success_rate == 1].groupby(['robot_model', 'local_planner_node', 'max_steering_angle_deg', 'localization_node'])[[\"success_rate\", \"collision_rate\", \"average_velocity\", \"norm_trajectory_length\", \"norm_execution_time\"]].agg(['mean', 'count']).sort_values(('norm_trajectory_length', 'mean'), ascending=True)"
   ]
  },
  {
   "cell_type": "code",
   "execution_count": null,
   "metadata": {
    "scrolled": false
   },
   "outputs": [],
   "source": [
    "printmd(\"### Only considering failed runs (sorted by collision rate)\")\n",
    "df[df.success_rate == 0].groupby(['robot_model', 'local_planner_node', 'max_steering_angle_deg', 'localization_node'])[[\"success_rate\", \"collision_rate\", \"average_velocity\", \"norm_trajectory_length\", \"norm_execution_time\"]].agg(['mean', 'count']).sort_values(('collision_rate', 'mean'), ascending=True)"
   ]
  },
  {
   "cell_type": "code",
   "execution_count": null,
   "metadata": {
    "scrolled": false
   },
   "outputs": [],
   "source": [
    "def bar_plot(metric_name, selected_df, y_columns=['robot_model', 'local_planner_node', 'global_planner_node', 'localization_node'], percentage=False, unit_symbol=None, higher_better=True):\n",
    "    bar_df = selected_df.groupby(y_columns)[metric_name].agg(['mean', 'count']).sort_values(by=('mean'), ascending=higher_better)\n",
    "    ax = (bar_df.sort_values(by=('mean'), ascending=higher_better)* (100 if percentage else 1) ).plot.barh(y=[('mean')], stacked=True, figsize=[10, 5], grid=True, legend=False)\n",
    "    ax.set_xlabel(metric_name.replace('_', ' ').replace(',', ', ') + (f\" [{unit_symbol}]\" if unit_symbol else \"\"))\n",
    "    ax.set_ylabel(ax.get_ylabel().replace('_', ' ').replace(',', ',\\n'))\n",
    "    plt.gcf().set_size_inches([5, 1])\n",
    "    plt.show()"
   ]
  },
  {
   "cell_type": "code",
   "execution_count": null,
   "metadata": {},
   "outputs": [],
   "source": [
    "p = [run_parameter_name for run_parameter_name in run_parameters if 'localization_generator_' not in run_parameter_name and run_parameter_name not in ['run_index', 'run_duplicate_index', 'fixed_rpp']]\n",
    "print(p)\n",
    "df[(df.max_steering_angle_deg == 90.0)][p+['run_id']].groupby(p).count()"
   ]
  },
  {
   "cell_type": "code",
   "execution_count": null,
   "metadata": {
    "scrolled": false
   },
   "outputs": [],
   "source": [
    "printmd(\"# Local Planner performance\")\n",
    "\n",
    "printmd(\"## success rate\")\n",
    "bar_plot(metric_name='success_rate', selected_df=df[(df.max_steering_angle_deg == 90.0)], percentage=True, higher_better=True, unit_symbol='%')\n",
    "\n",
    "printmd(\"## collision_rate\")\n",
    "bar_plot(metric_name='collision_rate', selected_df=df[(df.max_steering_angle_deg == 90.0)], percentage=True, higher_better=False, unit_symbol='%')\n",
    "\n",
    "printmd(\"## average_velocity, only successful runs\")\n",
    "bar_plot(metric_name='average_velocity', selected_df=df[(df.success_rate == 1) & (df.max_steering_angle_deg == 90.0)], higher_better=True, unit_symbol='m/s')\n",
    "\n",
    "printmd(\"## norm_trajectory_length, only successful runs\")\n",
    "bar_plot(metric_name='norm_trajectory_length', selected_df=df[(df.success_rate == 1) & (df.max_steering_angle_deg == 90.0)], higher_better=False, unit_symbol='m/m')\n",
    "\n",
    "printmd(\"## norm_execution_time, only successful runs\")\n",
    "bar_plot(metric_name='norm_execution_time', selected_df=df[(df.success_rate == 1) & (df.max_steering_angle_deg == 90.0)], higher_better=False, unit_symbol='s/s')"
   ]
  },
  {
   "cell_type": "code",
   "execution_count": null,
   "metadata": {
    "scrolled": false
   },
   "outputs": [],
   "source": [
    "printmd(\"# Localization performance\")\n",
    "\n",
    "printmd(\"## absolute_translation_error rate\")\n",
    "bar_plot(metric_name='absolute_translation_error', selected_df=df[(df.max_steering_angle_deg == 90.0)], higher_better=False, unit_symbol='m')\n",
    "\n",
    "printmd(\"## absolute_rotation_error\")\n",
    "bar_plot(metric_name='absolute_rotation_error', selected_df=df[(df.max_steering_angle_deg == 90.0)], higher_better=False, unit_symbol='rad')\n",
    "\n",
    "printmd(\"## normalized_relative_translation_error\")\n",
    "bar_plot(metric_name='normalized_relative_translation_error', selected_df=df[(df.max_steering_angle_deg == 90.0)], higher_better=False, unit_symbol='m/m')\n",
    "\n",
    "printmd(\"## relative_translation_error\")\n",
    "bar_plot(metric_name='relative_translation_error', selected_df=df[(df.max_steering_angle_deg == 90.0)], higher_better=False, unit_symbol='m')\n",
    "\n",
    "printmd(\"## normalized_relative_rotation_error\")\n",
    "bar_plot(metric_name='normalized_relative_rotation_error', selected_df=df[(df.max_steering_angle_deg == 90.0)], higher_better=False, unit_symbol='rad/rad')\n",
    "\n",
    "printmd(\"## relative_rotation_error\")\n",
    "bar_plot(metric_name='relative_rotation_error', selected_df=df[(df.max_steering_angle_deg == 90.0)], higher_better=False, unit_symbol='rad')\n"
   ]
  },
  {
   "cell_type": "code",
   "execution_count": null,
   "metadata": {},
   "outputs": [],
   "source": [
    "df.trajectory_length.hist()"
   ]
  },
  {
   "cell_type": "code",
   "execution_count": null,
   "metadata": {
    "scrolled": false
   },
   "outputs": [],
   "source": [
    "printmd(\"# Localization performance\")\n",
    "\n",
    "# printmd(\"## absolute_translation_error rate\")\n",
    "# bar_plot(metric_name='absolute_translation_error', selected_df=df[(df.max_steering_angle_deg == 90.0)], higher_better=False, unit_symbol='m')\n",
    "# bar_plot(metric_name='absolute_translation_error', selected_df=df[(df.max_steering_angle_deg == 90.0) & (df.trajectory_length > 20)], higher_better=False, unit_symbol='m')\n",
    "\n",
    "# printmd(\"## absolute_rotation_error\")\n",
    "# bar_plot(metric_name='absolute_rotation_error', selected_df=df[(df.max_steering_angle_deg == 90.0)], higher_better=False, unit_symbol='rad')\n",
    "# bar_plot(metric_name='absolute_rotation_error', selected_df=df[(df.max_steering_angle_deg == 90.0) & (df.trajectory_length > 20)], higher_better=False, unit_symbol='rad')\n",
    "\n",
    "d = df[(df.max_steering_angle_deg == 90.) & (df.robot_model == 'turtle') & (df.global_planner_node == 'navfn') & (df.localization_node == 'amcl')].copy()\n",
    "\n",
    "printmd(\"## normalized_relative_translation_error\")\n",
    "bar_plot(metric_name='normalized_relative_translation_error', selected_df=d, higher_better=False, unit_symbol='m')\n",
    "bar_plot(metric_name='normalized_relative_translation_error', selected_df=d[(d.trajectory_length > 20)], higher_better=False, unit_symbol='m')\n",
    "bar_plot(metric_name='normalized_relative_translation_error', selected_df=d[(d.trajectory_length > 30)], higher_better=False, unit_symbol='m')\n",
    "\n",
    "printmd(\"## normalized_relative_rotation_error\")\n",
    "bar_plot(metric_name='normalized_relative_rotation_error', selected_df=d, higher_better=False, unit_symbol='rad')\n",
    "bar_plot(metric_name='normalized_relative_rotation_error', selected_df=d[(d.trajectory_length > 20)], higher_better=False, unit_symbol='rad')\n",
    "bar_plot(metric_name='normalized_relative_rotation_error', selected_df=d[(d.trajectory_length > 30)], higher_better=False, unit_symbol='rad')\n"
   ]
  },
  {
   "cell_type": "code",
   "execution_count": null,
   "metadata": {
    "scrolled": false
   },
   "outputs": [],
   "source": [
    "max_scatter_points = 200\n",
    "def plot_in_out_metrics_bin_width_save(output_metric, input_metrics, bin_widths, min_bin_count, selected_df, out_dir, min_y=0.0, plot_all=True, scatter=True):\n",
    "    max_y = -np.inf\n",
    "#     scatter = False\n",
    "\n",
    "    for i, (input_metric, bin_width) in enumerate(zip(input_metrics, bin_widths)):\n",
    "        fig = plt.figure()\n",
    "\n",
    "        for localization_node in df.localization_node.unique():\n",
    "            for local_planner_node in df.local_planner_node.unique():\n",
    "                \n",
    "                df_lr = selected_df[\n",
    "                    (selected_df.localization_node == localization_node) & \n",
    "                    (selected_df.local_planner_node == local_planner_node) & \n",
    "                    selected_df[input_metric.name].notna() & \n",
    "                    selected_df[output_metric.name].notna()\n",
    "                ].copy()\n",
    "                if len(df_lr[input_metric.name]):\n",
    "                    if scatter:\n",
    "                        n = max(1, int(len(df_lr[input_metric.name])/max_scatter_points))\n",
    "                        plt.scatter(df_lr[input_metric.name][::n], df_lr[output_metric.name][::n], marker='.', s=0.25, color=local_planner_color[local_planner_node])\n",
    "                    \n",
    "                    if bin_width is not None:\n",
    "                        if isinstance(bin_width, str):\n",
    "                            _, bins = np.histogram(df_lr[input_metric.name], bins=bin_width)\n",
    "                        else:\n",
    "                            bins = np.arange(0., input_metric.max() + bin_width, bin_width)\n",
    "\n",
    "                        df_lr['x_range'] = pd.cut(df_lr[input_metric.name], bins, labels=bins[:-1]).astype('float')\n",
    "                        df_lr_g = df_lr.groupby('x_range')[output_metric.name].agg(['mean', 'count'])\n",
    "                        df_lr_g = df_lr_g[ df_lr_g['count'] > min_bin_count ]\n",
    "                        plt.plot(df_lr_g.index, df_lr_g['mean'], f'{local_planner_symbol[local_planner_node]}-', fillstyle='none', mfc=None, label=f'{local_planner_node}', linewidth=1, color=local_planner_color[local_planner_node])\n",
    "                    else:\n",
    "                        df_lr_g = df_lr.groupby(input_metric.name)[output_metric.name].agg(['mean', 'count'])\n",
    "                        df_lr_g = df_lr_g[ df_lr_g['count'] > min_bin_count ]\n",
    "                        plt.plot(df_lr_g.index, df_lr_g['mean'], f'{local_planner_symbol[local_planner_node]}-', fillstyle='none', mfc=None, label=f'{local_planner_node}', linewidth=1, color=local_planner_color[local_planner_node])\n",
    "                    max_y = max(max_y, df_lr_g['mean'].max())\n",
    "\n",
    "        if i == 0:\n",
    "            plt.legend()\n",
    "        plt.grid()\n",
    "        plt.xlabel(input_metric.name.replace('_', ' '))\n",
    "        plt.ylabel(output_metric.name.replace('_', ' '))\n",
    "        plt.ylim([min_y, max_y*1.1])\n",
    "        fig.set_size_inches([4, 4])\n",
    "        if not path.exists(out_dir):\n",
    "            os.makedirs(out_dir)\n",
    "        fig.savefig(out_dir + f\"/{output_metric.name}---{input_metric.name}.pdf\".replace('_', '-'), bbox_inches='tight')\n",
    "        plt.show()\n"
   ]
  },
  {
   "cell_type": "code",
   "execution_count": null,
   "metadata": {
    "scrolled": false
   },
   "outputs": [],
   "source": [
    "printmd(\"## Localization perf from system features\")\n",
    "\n",
    "d = df[(df.max_steering_angle_deg == 90.) & (df.robot_model == 'turtle') & (df.global_planner_node == 'navfn') & (df.localization_node == 'amcl')].copy()\n",
    "min_bin_count = 10\n",
    "input_metrics, bin_widths = zip(*[\n",
    "    [d.trajectory_length, 20], \n",
    "#     [d.average_translation_velocity, 0.02], \n",
    "#     [d.average_velocity_atan, 0.1],\n",
    "#     [d.beta_1, None],\n",
    "])\n",
    "output_metrics = [\n",
    "#     d.absolute_translation_error,\n",
    "#     d.absolute_rotation_error,\n",
    "    d.normalized_relative_translation_error,\n",
    "    d.normalized_relative_rotation_error,\n",
    "]\n",
    "for output_metric in output_metrics:\n",
    "    printmd(f\"### {output_metric.name.replace('_', ' ')}\")\n",
    "    plot_in_out_metrics_bin_width_save(\n",
    "        output_metric=output_metric, \n",
    "        input_metrics=input_metrics, \n",
    "        bin_widths=bin_widths,\n",
    "        min_bin_count=min_bin_count,\n",
    "        selected_df=d,\n",
    "        out_dir=\"thesis_plots/localization\",\n",
    "    )\n"
   ]
  },
  {
   "cell_type": "code",
   "execution_count": null,
   "metadata": {
    "scrolled": false
   },
   "outputs": [],
   "source": [
    "printmd(\"## Localization perf from system features (success_rate == 1)\")\n",
    "\n",
    "d = df[(df.success_rate == 1) & (df.max_steering_angle_deg == 90.) & (df.robot_model == 'turtle') & (df.global_planner_node == 'navfn') & (df.localization_node == 'amcl')].copy()\n",
    "min_bin_count = 10\n",
    "input_metrics, bin_widths = zip(*[\n",
    "    [d.trajectory_length, 20], \n",
    "#     [d.average_translation_velocity, 0.02], \n",
    "#     [d.average_velocity_atan, 0.1],\n",
    "#     [d.beta_1, None],\n",
    "])\n",
    "output_metrics = [\n",
    "#     d.absolute_translation_error,\n",
    "#     d.absolute_rotation_error,\n",
    "    d.normalized_relative_translation_error,\n",
    "    d.normalized_relative_rotation_error,\n",
    "]\n",
    "for output_metric in output_metrics:\n",
    "    printmd(f\"### {output_metric.name.replace('_', ' ')}\")\n",
    "    plot_in_out_metrics_bin_width_save(\n",
    "        output_metric=output_metric, \n",
    "        input_metrics=input_metrics, \n",
    "        bin_widths=bin_widths,\n",
    "        min_bin_count=min_bin_count,\n",
    "        selected_df=d,\n",
    "        out_dir=\"thesis_plots/localization\",\n",
    "    )\n"
   ]
  },
  {
   "cell_type": "code",
   "execution_count": null,
   "metadata": {
    "scrolled": true
   },
   "outputs": [],
   "source": [
    "d = df[(df.success_rate == 1) & (df.max_steering_angle_deg == 90.) & (df.robot_model == 'turtle') & (df.global_planner_node == 'navfn') & (df.localization_node == 'amcl')].copy()\n",
    "d.sort_values(by='normalized_relative_translation_error', ascending=False)[['run_id', 'environment_name', 'normalized_relative_translation_error', 'normalized_relative_rotation_error']]"
   ]
  },
  {
   "cell_type": "code",
   "execution_count": null,
   "metadata": {},
   "outputs": [],
   "source": []
  },
  {
   "cell_type": "code",
   "execution_count": null,
   "metadata": {},
   "outputs": [],
   "source": []
  },
  {
   "cell_type": "code",
   "execution_count": null,
   "metadata": {},
   "outputs": [],
   "source": []
  },
  {
   "cell_type": "code",
   "execution_count": null,
   "metadata": {},
   "outputs": [],
   "source": []
  },
  {
   "cell_type": "code",
   "execution_count": null,
   "metadata": {},
   "outputs": [],
   "source": []
  },
  {
   "cell_type": "code",
   "execution_count": null,
   "metadata": {},
   "outputs": [],
   "source": []
  },
  {
   "cell_type": "code",
   "execution_count": null,
   "metadata": {},
   "outputs": [],
   "source": []
  },
  {
   "cell_type": "code",
   "execution_count": null,
   "metadata": {},
   "outputs": [],
   "source": []
  },
  {
   "cell_type": "code",
   "execution_count": null,
   "metadata": {},
   "outputs": [],
   "source": []
  },
  {
   "cell_type": "code",
   "execution_count": null,
   "metadata": {},
   "outputs": [],
   "source": []
  },
  {
   "cell_type": "code",
   "execution_count": null,
   "metadata": {},
   "outputs": [],
   "source": []
  },
  {
   "cell_type": "code",
   "execution_count": null,
   "metadata": {},
   "outputs": [],
   "source": []
  },
  {
   "cell_type": "code",
   "execution_count": null,
   "metadata": {},
   "outputs": [],
   "source": []
  },
  {
   "cell_type": "code",
   "execution_count": null,
   "metadata": {},
   "outputs": [],
   "source": []
  }
 ],
 "metadata": {
  "kernelspec": {
   "display_name": "Python 3",
   "language": "python",
   "name": "python3"
  },
  "language_info": {
   "codemirror_mode": {
    "name": "ipython",
    "version": 3
   },
   "file_extension": ".py",
   "mimetype": "text/x-python",
   "name": "python",
   "nbconvert_exporter": "python",
   "pygments_lexer": "ipython3",
   "version": "3.8.10"
  }
 },
 "nbformat": 4,
 "nbformat_minor": 4
}
