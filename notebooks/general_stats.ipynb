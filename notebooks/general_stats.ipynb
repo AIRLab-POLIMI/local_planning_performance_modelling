{
 "cells": [
  {
   "cell_type": "code",
   "execution_count": 1,
   "metadata": {},
   "outputs": [
    {
     "data": {
      "text/html": [
       "<style>.container { width:100% !important; }</style>"
      ],
      "text/plain": [
       "<IPython.core.display.HTML object>"
      ]
     },
     "metadata": {},
     "output_type": "display_data"
    }
   ],
   "source": [
    "from IPython.core.display import Markdown, display, HTML\n",
    "display(HTML(\"<style>.container { width:100% !important; }</style>\"))\n",
    "import ipywidgets as widgets\n",
    "from ipywidgets import interact, interact_manual\n",
    "\n",
    "import traceback\n",
    "import numpy as np\n",
    "import scipy.stats as ss\n",
    "import yaml\n",
    "import itertools\n",
    "import sys\n",
    "import os\n",
    "import subprocess\n",
    "from os import path\n",
    "import pickle\n",
    "import pandas as pd\n",
    "pd.options.display.width = 500\n",
    "import matplotlib.pyplot as plt\n",
    "plt.rcParams['figure.figsize'] = [13, 13]\n",
    "\n",
    "from sklearn.linear_model import LinearRegression, TheilSenRegressor, RANSACRegressor, HuberRegressor\n",
    "from sklearn.metrics import mean_squared_error, r2_score\n",
    "from sklearn.preprocessing import PolynomialFeatures, StandardScaler\n",
    "from sklearn.pipeline import make_pipeline\n",
    "\n",
    "def printmd(*args):\n",
    "    display(Markdown(' '.join(map(str, args))))"
   ]
  },
  {
   "cell_type": "code",
   "execution_count": 2,
   "metadata": {
    "scrolled": true
   },
   "outputs": [
    {
     "name": "stdout",
     "output_type": "stream",
     "text": [
      "\u001b[1m\u001b[34mfinished computing metrics\u001b[0m\n",
      "\u001b[1m\u001b[34mfinished writing results\u001b[0m\n",
      "\u001b[1m\u001b[34mruns not completed:\u001b[0m\n",
      "\t/home/enrico/ds/performance_modelling/output/test_local_planning/session_2021-10-27_14-43-25_255613_run_000000076\n"
     ]
    }
   ],
   "source": [
    "!{\"ros2 run local_planning_performance_modelling compute_metrics -s\"}"
   ]
  },
  {
   "cell_type": "code",
   "execution_count": 3,
   "metadata": {},
   "outputs": [],
   "source": [
    "local_planner_color = {'dwb': 'blue', 'rpp': 'orange', 'teb': 'green'}"
   ]
  },
  {
   "cell_type": "code",
   "execution_count": 4,
   "metadata": {
    "scrolled": false
   },
   "outputs": [
    {
     "data": {
      "text/markdown": [
       "## Number of Runs"
      ],
      "text/plain": [
       "<IPython.core.display.Markdown object>"
      ]
     },
     "metadata": {},
     "output_type": "display_data"
    },
    {
     "data": {
      "text/markdown": [
       "    347"
      ],
      "text/plain": [
       "<IPython.core.display.Markdown object>"
      ]
     },
     "metadata": {},
     "output_type": "display_data"
    },
    {
     "data": {
      "text/markdown": [
       "## Run Parameters"
      ],
      "text/plain": [
       "<IPython.core.display.Markdown object>"
      ]
     },
     "metadata": {},
     "output_type": "display_data"
    },
    {
     "data": {
      "text/markdown": [
       "    environment_name                                                       ['7A-2', 'airlab', 'fr079', 'intel', 'mexico', 'office_b']"
      ],
      "text/plain": [
       "<IPython.core.display.Markdown object>"
      ]
     },
     "metadata": {},
     "output_type": "display_data"
    },
    {
     "data": {
      "text/markdown": [
       "    global_planner_node                                                    ['navfn', 'smac']"
      ],
      "text/plain": [
       "<IPython.core.display.Markdown object>"
      ]
     },
     "metadata": {},
     "output_type": "display_data"
    },
    {
     "data": {
      "text/markdown": [
       "    local_planner_node                                                     ['dwb', 'rpp', 'teb']"
      ],
      "text/plain": [
       "<IPython.core.display.Markdown object>"
      ]
     },
     "metadata": {},
     "output_type": "display_data"
    },
    {
     "data": {
      "text/markdown": [
       "    localization_node                                                      ['amcl']"
      ],
      "text/plain": [
       "<IPython.core.display.Markdown object>"
      ]
     },
     "metadata": {},
     "output_type": "display_data"
    },
    {
     "data": {
      "text/markdown": [
       "    max_steering_angle_deg                                                 [20.0, 40.0, 90.0]"
      ],
      "text/plain": [
       "<IPython.core.display.Markdown object>"
      ]
     },
     "metadata": {},
     "output_type": "display_data"
    },
    {
     "data": {
      "text/markdown": [
       "    robot_model                                                            ['hunter2', 'turtlebot3_waffle_performance_modelling']"
      ],
      "text/plain": [
       "<IPython.core.display.Markdown object>"
      ]
     },
     "metadata": {},
     "output_type": "display_data"
    },
    {
     "data": {
      "text/markdown": [
       "    run_index                                                              [0, 1, 2, 3, 4, 5, 6, 7, 8, 9]"
      ],
      "text/plain": [
       "<IPython.core.display.Markdown object>"
      ]
     },
     "metadata": {},
     "output_type": "display_data"
    },
    {
     "data": {
      "text/markdown": [
       "    alpha_1                                                                [0.0, 0.02, 0.05, 0.1]"
      ],
      "text/plain": [
       "<IPython.core.display.Markdown object>"
      ]
     },
     "metadata": {},
     "output_type": "display_data"
    },
    {
     "data": {
      "text/markdown": [
       "    alpha_2                                                                [0.0]"
      ],
      "text/plain": [
       "<IPython.core.display.Markdown object>"
      ]
     },
     "metadata": {},
     "output_type": "display_data"
    },
    {
     "data": {
      "text/markdown": [
       "    alpha_3                                                                [0.0, 0.02, 0.05, 0.1]"
      ],
      "text/plain": [
       "<IPython.core.display.Markdown object>"
      ]
     },
     "metadata": {},
     "output_type": "display_data"
    },
    {
     "data": {
      "text/markdown": [
       "    alpha_4                                                                [0.0]"
      ],
      "text/plain": [
       "<IPython.core.display.Markdown object>"
      ]
     },
     "metadata": {},
     "output_type": "display_data"
    },
    {
     "data": {
      "text/markdown": [
       "    odometry_error                                                         ['[0.0, 0.0, 0.0, 0.0]', '[0.01, 0.0, 0.01, 0.0]', '[0.02, 0.0, 0.02, 0.0]', '[0.05, 0.0, 0.05, 0.0]', '[0.1, 0.0, 0.1, 0.0]', '[2.0, 0.0, 2.0, 0.0]']"
      ],
      "text/plain": [
       "<IPython.core.display.Markdown object>"
      ]
     },
     "metadata": {},
     "output_type": "display_data"
    },
    {
     "data": {
      "text/markdown": [
       "    odometry_mode                                                          ['encoder', 'ground_truth']"
      ],
      "text/plain": [
       "<IPython.core.display.Markdown object>"
      ]
     },
     "metadata": {},
     "output_type": "display_data"
    },
    {
     "data": {
      "text/markdown": [
       "## Metrics"
      ],
      "text/plain": [
       "<IPython.core.display.Markdown object>"
      ]
     },
     "metadata": {},
     "output_type": "display_data"
    },
    {
     "data": {
      "text/markdown": [
       "    controller_cpu_time                                                    min:       1.43             avg:      56.71             max:      695.2]"
      ],
      "text/plain": [
       "<IPython.core.display.Markdown object>"
      ]
     },
     "metadata": {},
     "output_type": "display_data"
    },
    {
     "data": {
      "text/markdown": [
       "    planner_cpu_time                                                       min:       0.39             avg:      29.49             max:      505.9]"
      ],
      "text/plain": [
       "<IPython.core.display.Markdown object>"
      ]
     },
     "metadata": {},
     "output_type": "display_data"
    },
    {
     "data": {
      "text/markdown": [
       "    system_cpu_time                                                        min:       3.41             avg:        100             max:       1375]"
      ],
      "text/plain": [
       "<IPython.core.display.Markdown object>"
      ]
     },
     "metadata": {},
     "output_type": "display_data"
    },
    {
     "data": {
      "text/markdown": [
       "    controller_max_memory                                                  min:    2.4e+07             avg:   4.04e+07             max:  8.086e+07]"
      ],
      "text/plain": [
       "<IPython.core.display.Markdown object>"
      ]
     },
     "metadata": {},
     "output_type": "display_data"
    },
    {
     "data": {
      "text/markdown": [
       "    planner_max_memory                                                     min:  2.623e+07             avg:  3.223e+08             max:  3.056e+10]"
      ],
      "text/plain": [
       "<IPython.core.display.Markdown object>"
      ]
     },
     "metadata": {},
     "output_type": "display_data"
    },
    {
     "data": {
      "text/markdown": [
       "    system_max_memory                                                      min:  1.462e+08             avg:  4.903e+08             max:  3.075e+10]"
      ],
      "text/plain": [
       "<IPython.core.display.Markdown object>"
      ]
     },
     "metadata": {},
     "output_type": "display_data"
    },
    {
     "data": {
      "text/markdown": [
       "    cpu_time_and_max_memory_version                                        [1]"
      ],
      "text/plain": [
       "<IPython.core.display.Markdown object>"
      ]
     },
     "metadata": {},
     "output_type": "display_data"
    },
    {
     "data": {
      "text/markdown": [
       "    trajectory_length_version                                              [1]"
      ],
      "text/plain": [
       "<IPython.core.display.Markdown object>"
      ]
     },
     "metadata": {},
     "output_type": "display_data"
    },
    {
     "data": {
      "text/markdown": [
       "    trajectory_length                                                      min:          0             avg:      20.14             max:      103.4]"
      ],
      "text/plain": [
       "<IPython.core.display.Markdown object>"
      ]
     },
     "metadata": {},
     "output_type": "display_data"
    },
    {
     "data": {
      "text/markdown": [
       "    execution_time_version                                                 [1]"
      ],
      "text/plain": [
       "<IPython.core.display.Markdown object>"
      ]
     },
     "metadata": {},
     "output_type": "display_data"
    },
    {
     "data": {
      "text/markdown": [
       "    execution_time                                                         min:      0.297             avg:      92.32             max:       1182]"
      ],
      "text/plain": [
       "<IPython.core.display.Markdown object>"
      ]
     },
     "metadata": {},
     "output_type": "display_data"
    },
    {
     "data": {
      "text/markdown": [
       "    success_rate_version                                                   [1]"
      ],
      "text/plain": [
       "<IPython.core.display.Markdown object>"
      ]
     },
     "metadata": {},
     "output_type": "display_data"
    },
    {
     "data": {
      "text/markdown": [
       "    success_rate                                                           min:          0             avg:     0.8127             max:          1]"
      ],
      "text/plain": [
       "<IPython.core.display.Markdown object>"
      ]
     },
     "metadata": {},
     "output_type": "display_data"
    },
    {
     "data": {
      "text/markdown": [
       "    odometry_error_alpha_1_mean                                            min:          0             avg:    0.05012             max:      3.245]"
      ],
      "text/plain": [
       "<IPython.core.display.Markdown object>"
      ]
     },
     "metadata": {},
     "output_type": "display_data"
    },
    {
     "data": {
      "text/markdown": [
       "    odometry_error_alpha_1_std                                             min:          0             avg:     0.1468             max:      14.23]"
      ],
      "text/plain": [
       "<IPython.core.display.Markdown object>"
      ]
     },
     "metadata": {},
     "output_type": "display_data"
    },
    {
     "data": {
      "text/markdown": [
       "    odometry_error_alpha_2_mean                                            min:          0             avg:    0.06853             max:      4.537]"
      ],
      "text/plain": [
       "<IPython.core.display.Markdown object>"
      ]
     },
     "metadata": {},
     "output_type": "display_data"
    },
    {
     "data": {
      "text/markdown": [
       "    odometry_error_alpha_2_std                                             min:          0             avg:     0.1624             max:      7.752]"
      ],
      "text/plain": [
       "<IPython.core.display.Markdown object>"
      ]
     },
     "metadata": {},
     "output_type": "display_data"
    },
    {
     "data": {
      "text/markdown": [
       "    odometry_error_alpha_3_mean                                            min:  2.315e-17             avg:    0.02612             max:     0.4992]"
      ],
      "text/plain": [
       "<IPython.core.display.Markdown object>"
      ]
     },
     "metadata": {},
     "output_type": "display_data"
    },
    {
     "data": {
      "text/markdown": [
       "    odometry_error_alpha_3_std                                             min:  1.864e-17             avg:    0.01599             max:     0.7327]"
      ],
      "text/plain": [
       "<IPython.core.display.Markdown object>"
      ]
     },
     "metadata": {},
     "output_type": "display_data"
    },
    {
     "data": {
      "text/markdown": [
       "    odometry_error_alpha_4_mean                                            min:  6.149e-18             avg:     0.0848             max:     0.5667]"
      ],
      "text/plain": [
       "<IPython.core.display.Markdown object>"
      ]
     },
     "metadata": {},
     "output_type": "display_data"
    },
    {
     "data": {
      "text/markdown": [
       "    odometry_error_alpha_4_std                                             min:  1.275e-17             avg:     0.0866             max:      0.621]"
      ],
      "text/plain": [
       "<IPython.core.display.Markdown object>"
      ]
     },
     "metadata": {},
     "output_type": "display_data"
    },
    {
     "data": {
      "text/markdown": [
       "    odometry_error_version                                                 [1]"
      ],
      "text/plain": [
       "<IPython.core.display.Markdown object>"
      ]
     },
     "metadata": {},
     "output_type": "display_data"
    },
    {
     "data": {
      "text/markdown": [
       "    localization_update_absolute_translation_error_mean                    min:  0.0009618             avg:     0.5676             max:       51.9]"
      ],
      "text/plain": [
       "<IPython.core.display.Markdown object>"
      ]
     },
     "metadata": {},
     "output_type": "display_data"
    },
    {
     "data": {
      "text/markdown": [
       "    localization_update_absolute_translation_error_std                     min:  0.0004627             avg:     0.4411             max:      39.83]"
      ],
      "text/plain": [
       "<IPython.core.display.Markdown object>"
      ]
     },
     "metadata": {},
     "output_type": "display_data"
    },
    {
     "data": {
      "text/markdown": [
       "    localization_update_absolute_rotation_error_mean                       min:   0.001959             avg:    0.06296             max:      1.668]"
      ],
      "text/plain": [
       "<IPython.core.display.Markdown object>"
      ]
     },
     "metadata": {},
     "output_type": "display_data"
    },
    {
     "data": {
      "text/markdown": [
       "    localization_update_absolute_rotation_error_std                        min:  0.0002904             avg:    0.06898             max:       1.19]"
      ],
      "text/plain": [
       "<IPython.core.display.Markdown object>"
      ]
     },
     "metadata": {},
     "output_type": "display_data"
    },
    {
     "data": {
      "text/markdown": [
       "    localization_update_relative_translation_error_mean                    min:  0.0006831             avg:   0.009932             max:      0.136]"
      ],
      "text/plain": [
       "<IPython.core.display.Markdown object>"
      ]
     },
     "metadata": {},
     "output_type": "display_data"
    },
    {
     "data": {
      "text/markdown": [
       "    localization_update_relative_translation_error_std                     min:  0.0003619             avg:    0.01317             max:     0.5118]"
      ],
      "text/plain": [
       "<IPython.core.display.Markdown object>"
      ]
     },
     "metadata": {},
     "output_type": "display_data"
    },
    {
     "data": {
      "text/markdown": [
       "    localization_update_relative_rotation_error_mean                       min:  0.0005984             avg:    0.01344             max:     0.2619]"
      ],
      "text/plain": [
       "<IPython.core.display.Markdown object>"
      ]
     },
     "metadata": {},
     "output_type": "display_data"
    },
    {
     "data": {
      "text/markdown": [
       "    localization_update_relative_rotation_error_std                        min:  0.0003118             avg:    0.04043             max:     0.5354]"
      ],
      "text/plain": [
       "<IPython.core.display.Markdown object>"
      ]
     },
     "metadata": {},
     "output_type": "display_data"
    },
    {
     "data": {
      "text/markdown": [
       "    localization_update_normalized_relative_translation_error_mean         min:   0.004089             avg:     0.0664             max:     0.9581]"
      ],
      "text/plain": [
       "<IPython.core.display.Markdown object>"
      ]
     },
     "metadata": {},
     "output_type": "display_data"
    },
    {
     "data": {
      "text/markdown": [
       "    localization_update_normalized_relative_translation_error_std          min:    0.00153             avg:     0.1203             max:      5.165]"
      ],
      "text/plain": [
       "<IPython.core.display.Markdown object>"
      ]
     },
     "metadata": {},
     "output_type": "display_data"
    },
    {
     "data": {
      "text/markdown": [
       "    localization_update_normalized_relative_rotation_error_mean            min:   0.003725             avg:     0.2368             max:      7.546]"
      ],
      "text/plain": [
       "<IPython.core.display.Markdown object>"
      ]
     },
     "metadata": {},
     "output_type": "display_data"
    },
    {
     "data": {
      "text/markdown": [
       "    localization_update_normalized_relative_rotation_error_std             min:   0.002454             avg:          1             max:      33.86]"
      ],
      "text/plain": [
       "<IPython.core.display.Markdown object>"
      ]
     },
     "metadata": {},
     "output_type": "display_data"
    },
    {
     "data": {
      "text/markdown": [
       "    localization_update_error_version                                      [1]"
      ],
      "text/plain": [
       "<IPython.core.display.Markdown object>"
      ]
     },
     "metadata": {},
     "output_type": "display_data"
    },
    {
     "data": {
      "text/markdown": [
       "    localization_update_rate_mean                                          min:     0.4556             avg:     0.9915             max:      4.678]"
      ],
      "text/plain": [
       "<IPython.core.display.Markdown object>"
      ]
     },
     "metadata": {},
     "output_type": "display_data"
    },
    {
     "data": {
      "text/markdown": [
       "    localization_update_rate_std                                           min:    0.04079             avg:     0.4856             max:      14.05]"
      ],
      "text/plain": [
       "<IPython.core.display.Markdown object>"
      ]
     },
     "metadata": {},
     "output_type": "display_data"
    },
    {
     "data": {
      "text/markdown": [
       "    localization_update_rate_version                                       [1]"
      ],
      "text/plain": [
       "<IPython.core.display.Markdown object>"
      ]
     },
     "metadata": {},
     "output_type": "display_data"
    }
   ],
   "source": [
    "df = pd.read_csv(path.expanduser(\"~/ds/performance_modelling/output/test_local_planning/results.csv\"))\n",
    "with open(path.expanduser(\"~/ds/performance_modelling/output/test_local_planning/results_info.yaml\")) as results_info_file:\n",
    "    results_info = yaml.safe_load(results_info_file)\n",
    "\n",
    "run_parameters = [c for c in list(df.columns) if c in results_info['run_parameter_names']]\n",
    "metrics_versions = [c for c in list(df.columns) if '_version' in c]\n",
    "everything_else = ['run_id']\n",
    "metrics = [c for c in df.columns if c not in metrics_versions + run_parameters + everything_else]\n",
    "metrics_and_versions = [c for c in list(df.columns) if '_version' in c or c in metrics]\n",
    "\n",
    "cpu_time_metrics = [c for c in metrics if 'cpu_time' in c]\n",
    "max_memory_metrics = [c for c in metrics if 'max_memory' in c]\n",
    "odometry_metrics = [c for c in metrics if 'odometry_error_alpha_' in c]\n",
    "\n",
    "printmd(\"## Number of Runs\")\n",
    "printmd(f\"    {len(df.run_id.unique())}\")\n",
    "\n",
    "printmd(\"## Run Parameters\")\n",
    "for name in run_parameters:\n",
    "    values = list(df[name][df[name].notnull()].unique())\n",
    "    printmd(f\"    {name:<70}\", sorted(values))\n",
    "\n",
    "printmd(\"## Metrics\")\n",
    "for name in metrics_and_versions:\n",
    "    if name in metrics_versions:\n",
    "        if len(df[name].unique()) == 1:\n",
    "            printmd(f\"    {name:<70} {sorted(df[name].unique())}\")\n",
    "        else:\n",
    "            printmd(f\"<code><font style='background-color:yellow;font-family:monospace'>{name:<70}{sorted(df[name].unique())} </font></code> ⚠️\")\n",
    "    else:\n",
    "        printmd(f\"    {name:<70} min: {df[name].min(skipna=True):10.4g} {'avg':>15}: {df[name].mean(skipna=True):10.4g} {'max':>15}: {df[name].max(skipna=True):10.4g}]\")\n"
   ]
  },
  {
   "cell_type": "code",
   "execution_count": 5,
   "metadata": {
    "scrolled": false
   },
   "outputs": [
    {
     "name": "stdout",
     "output_type": "stream",
     "text": [
      "347\n"
     ]
    }
   ],
   "source": [
    "print(len(df.run_id.unique()))"
   ]
  },
  {
   "cell_type": "code",
   "execution_count": 15,
   "metadata": {
    "scrolled": false
   },
   "outputs": [
    {
     "data": {
      "text/plain": [
       "<matplotlib.axes._subplots.AxesSubplot at 0x7f601f9f0a60>"
      ]
     },
     "execution_count": 15,
     "metadata": {},
     "output_type": "execute_result"
    },
    {
     "data": {
      "image/png": "[encoded data removed]",
      "text/plain": [
       "<Figure size 936x936 with 1 Axes>"
      ]
     },
     "metadata": {
      "needs_background": "light"
     },
     "output_type": "display_data"
    }
   ],
   "source": [
    "df[df.alpha_1.isin([0.0, 0.01, 0.02, 0.05, 0.1])][['alpha_1']].plot(x='alpha_1')"
   ]
  },
  {
   "cell_type": "code",
   "execution_count": 20,
   "metadata": {
    "scrolled": false
   },
   "outputs": [
    {
     "data": {
      "text/html": [
       "<div>\n",
       "<style scoped>\n",
       "    .dataframe tbody tr th:only-of-type {\n",
       "        vertical-align: middle;\n",
       "    }\n",
       "\n",
       "    .dataframe tbody tr th {\n",
       "        vertical-align: top;\n",
       "    }\n",
       "\n",
       "    .dataframe thead th {\n",
       "        text-align: right;\n",
       "    }\n",
       "</style>\n",
       "<table border=\"1\" class=\"dataframe\">\n",
       "  <thead>\n",
       "    <tr style=\"text-align: right;\">\n",
       "      <th></th>\n",
       "      <th>alpha_1</th>\n",
       "      <th>odometry_error_alpha_1_mean</th>\n",
       "      <th>odometry_error_alpha_1_std</th>\n",
       "      <th>odometry_error_alpha_2_mean</th>\n",
       "      <th>odometry_error_alpha_2_std</th>\n",
       "      <th>odometry_error_alpha_3_mean</th>\n",
       "      <th>odometry_error_alpha_3_std</th>\n",
       "      <th>odometry_error_alpha_4_mean</th>\n",
       "      <th>odometry_error_alpha_4_std</th>\n",
       "    </tr>\n",
       "  </thead>\n",
       "  <tbody>\n",
       "    <tr>\n",
       "      <th>64</th>\n",
       "      <td>0.0</td>\n",
       "      <td>3.487432e-17</td>\n",
       "      <td>6.802212e-17</td>\n",
       "      <td>2.667277e-17</td>\n",
       "      <td>1.121182e-16</td>\n",
       "      <td>7.004437e-17</td>\n",
       "      <td>9.151142e-17</td>\n",
       "      <td>3.307642e-16</td>\n",
       "      <td>5.995639e-16</td>\n",
       "    </tr>\n",
       "    <tr>\n",
       "      <th>209</th>\n",
       "      <td>0.0</td>\n",
       "      <td>4.968093e-17</td>\n",
       "      <td>7.261699e-17</td>\n",
       "      <td>2.932207e-17</td>\n",
       "      <td>9.151082e-17</td>\n",
       "      <td>1.045387e-16</td>\n",
       "      <td>1.033942e-16</td>\n",
       "      <td>7.011109e-16</td>\n",
       "      <td>1.039282e-15</td>\n",
       "    </tr>\n",
       "    <tr>\n",
       "      <th>68</th>\n",
       "      <td>0.0</td>\n",
       "      <td>2.631491e-17</td>\n",
       "      <td>5.149173e-17</td>\n",
       "      <td>1.308389e-17</td>\n",
       "      <td>5.251532e-17</td>\n",
       "      <td>7.084279e-17</td>\n",
       "      <td>9.175361e-17</td>\n",
       "      <td>3.990520e-16</td>\n",
       "      <td>7.451753e-16</td>\n",
       "    </tr>\n",
       "    <tr>\n",
       "      <th>189</th>\n",
       "      <td>0.0</td>\n",
       "      <td>2.780592e-17</td>\n",
       "      <td>6.000030e-17</td>\n",
       "      <td>1.383572e-17</td>\n",
       "      <td>4.941656e-17</td>\n",
       "      <td>7.964576e-17</td>\n",
       "      <td>9.318276e-17</td>\n",
       "      <td>3.760773e-16</td>\n",
       "      <td>5.962765e-16</td>\n",
       "    </tr>\n",
       "    <tr>\n",
       "      <th>220</th>\n",
       "      <td>0.0</td>\n",
       "      <td>5.395251e-17</td>\n",
       "      <td>8.845351e-17</td>\n",
       "      <td>6.809593e-18</td>\n",
       "      <td>1.780495e-17</td>\n",
       "      <td>8.615400e-17</td>\n",
       "      <td>9.815627e-17</td>\n",
       "      <td>7.719234e-16</td>\n",
       "      <td>1.189627e-15</td>\n",
       "    </tr>\n",
       "    <tr>\n",
       "      <th>...</th>\n",
       "      <td>...</td>\n",
       "      <td>...</td>\n",
       "      <td>...</td>\n",
       "      <td>...</td>\n",
       "      <td>...</td>\n",
       "      <td>...</td>\n",
       "      <td>...</td>\n",
       "      <td>...</td>\n",
       "      <td>...</td>\n",
       "    </tr>\n",
       "    <tr>\n",
       "      <th>56</th>\n",
       "      <td>0.1</td>\n",
       "      <td>1.045620e-01</td>\n",
       "      <td>3.951158e-02</td>\n",
       "      <td>3.624045e-01</td>\n",
       "      <td>6.027811e-01</td>\n",
       "      <td>1.210619e-01</td>\n",
       "      <td>1.922025e-02</td>\n",
       "      <td>2.611378e-01</td>\n",
       "      <td>2.662692e-01</td>\n",
       "    </tr>\n",
       "    <tr>\n",
       "      <th>201</th>\n",
       "      <td>0.1</td>\n",
       "      <td>2.099315e-01</td>\n",
       "      <td>8.622167e-01</td>\n",
       "      <td>8.528530e-01</td>\n",
       "      <td>5.380674e+00</td>\n",
       "      <td>1.083897e-01</td>\n",
       "      <td>2.798177e-02</td>\n",
       "      <td>3.969469e-01</td>\n",
       "      <td>5.310658e-01</td>\n",
       "    </tr>\n",
       "    <tr>\n",
       "      <th>208</th>\n",
       "      <td>0.1</td>\n",
       "      <td>1.292559e-01</td>\n",
       "      <td>2.999507e-02</td>\n",
       "      <td>2.216791e-01</td>\n",
       "      <td>1.752202e-01</td>\n",
       "      <td>1.191555e-01</td>\n",
       "      <td>1.458070e-02</td>\n",
       "      <td>7.756572e-02</td>\n",
       "      <td>1.624457e-01</td>\n",
       "    </tr>\n",
       "    <tr>\n",
       "      <th>275</th>\n",
       "      <td>0.1</td>\n",
       "      <td>1.033089e-01</td>\n",
       "      <td>4.225810e-02</td>\n",
       "      <td>1.610479e-02</td>\n",
       "      <td>2.653815e-02</td>\n",
       "      <td>1.085605e-01</td>\n",
       "      <td>3.427191e-03</td>\n",
       "      <td>5.311353e-01</td>\n",
       "      <td>5.660879e-01</td>\n",
       "    </tr>\n",
       "    <tr>\n",
       "      <th>45</th>\n",
       "      <td>0.1</td>\n",
       "      <td>9.183306e-02</td>\n",
       "      <td>6.240308e-02</td>\n",
       "      <td>1.296526e-01</td>\n",
       "      <td>2.532775e-01</td>\n",
       "      <td>1.140253e-01</td>\n",
       "      <td>2.047855e-02</td>\n",
       "      <td>4.315963e-01</td>\n",
       "      <td>3.575462e-01</td>\n",
       "    </tr>\n",
       "  </tbody>\n",
       "</table>\n",
       "<p>90 rows × 9 columns</p>\n",
       "</div>"
      ],
      "text/plain": [
       "     alpha_1  odometry_error_alpha_1_mean  odometry_error_alpha_1_std  odometry_error_alpha_2_mean  odometry_error_alpha_2_std  odometry_error_alpha_3_mean  odometry_error_alpha_3_std  odometry_error_alpha_4_mean  odometry_error_alpha_4_std\n",
       "64       0.0                 3.487432e-17                6.802212e-17                 2.667277e-17                1.121182e-16                 7.004437e-17                9.151142e-17                 3.307642e-16                5.995639e-16\n",
       "209      0.0                 4.968093e-17                7.261699e-17                 2.932207e-17                9.151082e-17                 1.045387e-16                1.033942e-16                 7.011109e-16                1.039282e-15\n",
       "68       0.0                 2.631491e-17                5.149173e-17                 1.308389e-17                5.251532e-17                 7.084279e-17                9.175361e-17                 3.990520e-16                7.451753e-16\n",
       "189      0.0                 2.780592e-17                6.000030e-17                 1.383572e-17                4.941656e-17                 7.964576e-17                9.318276e-17                 3.760773e-16                5.962765e-16\n",
       "220      0.0                 5.395251e-17                8.845351e-17                 6.809593e-18                1.780495e-17                 8.615400e-17                9.815627e-17                 7.719234e-16                1.189627e-15\n",
       "..       ...                          ...                         ...                          ...                         ...                          ...                         ...                          ...                         ...\n",
       "56       0.1                 1.045620e-01                3.951158e-02                 3.624045e-01                6.027811e-01                 1.210619e-01                1.922025e-02                 2.611378e-01                2.662692e-01\n",
       "201      0.1                 2.099315e-01                8.622167e-01                 8.528530e-01                5.380674e+00                 1.083897e-01                2.798177e-02                 3.969469e-01                5.310658e-01\n",
       "208      0.1                 1.292559e-01                2.999507e-02                 2.216791e-01                1.752202e-01                 1.191555e-01                1.458070e-02                 7.756572e-02                1.624457e-01\n",
       "275      0.1                 1.033089e-01                4.225810e-02                 1.610479e-02                2.653815e-02                 1.085605e-01                3.427191e-03                 5.311353e-01                5.660879e-01\n",
       "45       0.1                 9.183306e-02                6.240308e-02                 1.296526e-01                2.532775e-01                 1.140253e-01                2.047855e-02                 4.315963e-01                3.575462e-01\n",
       "\n",
       "[90 rows x 9 columns]"
      ]
     },
     "execution_count": 20,
     "metadata": {},
     "output_type": "execute_result"
    }
   ],
   "source": [
    "df[df.alpha_1.notna()][['alpha_1'] + odometry_metrics].sort_values('alpha_1')"
   ]
  },
  {
   "cell_type": "code",
   "execution_count": 8,
   "metadata": {
    "scrolled": true
   },
   "outputs": [
    {
     "data": {
      "text/html": [
       "<div>\n",
       "<style scoped>\n",
       "    .dataframe tbody tr th:only-of-type {\n",
       "        vertical-align: middle;\n",
       "    }\n",
       "\n",
       "    .dataframe tbody tr th {\n",
       "        vertical-align: top;\n",
       "    }\n",
       "\n",
       "    .dataframe thead tr th {\n",
       "        text-align: left;\n",
       "    }\n",
       "\n",
       "    .dataframe thead tr:last-of-type th {\n",
       "        text-align: right;\n",
       "    }\n",
       "</style>\n",
       "<table border=\"1\" class=\"dataframe\">\n",
       "  <thead>\n",
       "    <tr>\n",
       "      <th></th>\n",
       "      <th></th>\n",
       "      <th></th>\n",
       "      <th colspan=\"3\" halign=\"left\">controller_cpu_time</th>\n",
       "      <th colspan=\"3\" halign=\"left\">planner_cpu_time</th>\n",
       "      <th colspan=\"3\" halign=\"left\">system_cpu_time</th>\n",
       "      <th>controller_max_memory</th>\n",
       "      <th>...</th>\n",
       "      <th>localization_update_normalized_relative_rotation_error_mean</th>\n",
       "      <th colspan=\"3\" halign=\"left\">localization_update_normalized_relative_rotation_error_std</th>\n",
       "      <th colspan=\"3\" halign=\"left\">localization_update_rate_mean</th>\n",
       "      <th colspan=\"3\" halign=\"left\">localization_update_rate_std</th>\n",
       "    </tr>\n",
       "    <tr>\n",
       "      <th></th>\n",
       "      <th></th>\n",
       "      <th></th>\n",
       "      <th>min</th>\n",
       "      <th>mean</th>\n",
       "      <th>max</th>\n",
       "      <th>min</th>\n",
       "      <th>mean</th>\n",
       "      <th>max</th>\n",
       "      <th>min</th>\n",
       "      <th>mean</th>\n",
       "      <th>max</th>\n",
       "      <th>min</th>\n",
       "      <th>...</th>\n",
       "      <th>max</th>\n",
       "      <th>min</th>\n",
       "      <th>mean</th>\n",
       "      <th>max</th>\n",
       "      <th>min</th>\n",
       "      <th>mean</th>\n",
       "      <th>max</th>\n",
       "      <th>min</th>\n",
       "      <th>mean</th>\n",
       "      <th>max</th>\n",
       "    </tr>\n",
       "    <tr>\n",
       "      <th>robot_model</th>\n",
       "      <th>local_planner_node</th>\n",
       "      <th>global_planner_node</th>\n",
       "      <th></th>\n",
       "      <th></th>\n",
       "      <th></th>\n",
       "      <th></th>\n",
       "      <th></th>\n",
       "      <th></th>\n",
       "      <th></th>\n",
       "      <th></th>\n",
       "      <th></th>\n",
       "      <th></th>\n",
       "      <th></th>\n",
       "      <th></th>\n",
       "      <th></th>\n",
       "      <th></th>\n",
       "      <th></th>\n",
       "      <th></th>\n",
       "      <th></th>\n",
       "      <th></th>\n",
       "      <th></th>\n",
       "      <th></th>\n",
       "      <th></th>\n",
       "    </tr>\n",
       "  </thead>\n",
       "  <tbody>\n",
       "    <tr>\n",
       "      <th rowspan=\"2\" valign=\"top\">hunter2</th>\n",
       "      <th rowspan=\"2\" valign=\"top\">teb</th>\n",
       "      <th>navfn</th>\n",
       "      <td>42.47</td>\n",
       "      <td>158.187500</td>\n",
       "      <td>409.34</td>\n",
       "      <td>5.66</td>\n",
       "      <td>33.055000</td>\n",
       "      <td>96.16</td>\n",
       "      <td>52.73</td>\n",
       "      <td>206.093333</td>\n",
       "      <td>532.85</td>\n",
       "      <td>68909056</td>\n",
       "      <td>...</td>\n",
       "      <td>0.091080</td>\n",
       "      <td>0.005114</td>\n",
       "      <td>0.071620</td>\n",
       "      <td>0.196569</td>\n",
       "      <td>1.079379</td>\n",
       "      <td>1.589562</td>\n",
       "      <td>4.157143</td>\n",
       "      <td>0.204616</td>\n",
       "      <td>1.389916</td>\n",
       "      <td>7.011186</td>\n",
       "    </tr>\n",
       "    <tr>\n",
       "      <th>smac</th>\n",
       "      <td>3.51</td>\n",
       "      <td>85.566667</td>\n",
       "      <td>209.54</td>\n",
       "      <td>0.72</td>\n",
       "      <td>31.465833</td>\n",
       "      <td>98.88</td>\n",
       "      <td>5.27</td>\n",
       "      <td>125.652500</td>\n",
       "      <td>294.26</td>\n",
       "      <td>68308992</td>\n",
       "      <td>...</td>\n",
       "      <td>0.049614</td>\n",
       "      <td>0.012589</td>\n",
       "      <td>0.057952</td>\n",
       "      <td>0.091005</td>\n",
       "      <td>1.047118</td>\n",
       "      <td>1.566955</td>\n",
       "      <td>2.983500</td>\n",
       "      <td>0.252213</td>\n",
       "      <td>1.257915</td>\n",
       "      <td>4.435241</td>\n",
       "    </tr>\n",
       "    <tr>\n",
       "      <th rowspan=\"4\" valign=\"top\">turtlebot3_waffle_performance_modelling</th>\n",
       "      <th>dwb</th>\n",
       "      <th>navfn</th>\n",
       "      <td>1.43</td>\n",
       "      <td>41.621708</td>\n",
       "      <td>695.21</td>\n",
       "      <td>0.47</td>\n",
       "      <td>28.763488</td>\n",
       "      <td>505.93</td>\n",
       "      <td>3.41</td>\n",
       "      <td>84.534235</td>\n",
       "      <td>1375.48</td>\n",
       "      <td>30645248</td>\n",
       "      <td>...</td>\n",
       "      <td>7.546265</td>\n",
       "      <td>0.002454</td>\n",
       "      <td>1.132113</td>\n",
       "      <td>33.860589</td>\n",
       "      <td>0.455611</td>\n",
       "      <td>0.942418</td>\n",
       "      <td>4.677616</td>\n",
       "      <td>0.040786</td>\n",
       "      <td>0.423705</td>\n",
       "      <td>14.048885</td>\n",
       "    </tr>\n",
       "    <tr>\n",
       "      <th>rpp</th>\n",
       "      <th>navfn</th>\n",
       "      <td>5.00</td>\n",
       "      <td>26.210000</td>\n",
       "      <td>49.23</td>\n",
       "      <td>4.51</td>\n",
       "      <td>24.765000</td>\n",
       "      <td>46.89</td>\n",
       "      <td>13.06</td>\n",
       "      <td>62.386667</td>\n",
       "      <td>115.26</td>\n",
       "      <td>24002560</td>\n",
       "      <td>...</td>\n",
       "      <td>2.603327</td>\n",
       "      <td>0.079629</td>\n",
       "      <td>1.744659</td>\n",
       "      <td>5.524493</td>\n",
       "      <td>0.542105</td>\n",
       "      <td>0.636596</td>\n",
       "      <td>0.722891</td>\n",
       "      <td>0.062434</td>\n",
       "      <td>0.612738</td>\n",
       "      <td>0.812985</td>\n",
       "    </tr>\n",
       "    <tr>\n",
       "      <th rowspan=\"2\" valign=\"top\">teb</th>\n",
       "      <th>navfn</th>\n",
       "      <td>26.97</td>\n",
       "      <td>147.050000</td>\n",
       "      <td>396.55</td>\n",
       "      <td>1.49</td>\n",
       "      <td>32.320000</td>\n",
       "      <td>102.46</td>\n",
       "      <td>30.74</td>\n",
       "      <td>193.142778</td>\n",
       "      <td>529.92</td>\n",
       "      <td>69536768</td>\n",
       "      <td>...</td>\n",
       "      <td>0.321872</td>\n",
       "      <td>0.023840</td>\n",
       "      <td>0.228975</td>\n",
       "      <td>1.544847</td>\n",
       "      <td>0.738462</td>\n",
       "      <td>1.066748</td>\n",
       "      <td>1.266263</td>\n",
       "      <td>0.154560</td>\n",
       "      <td>0.325272</td>\n",
       "      <td>0.509902</td>\n",
       "    </tr>\n",
       "    <tr>\n",
       "      <th>smac</th>\n",
       "      <td>3.90</td>\n",
       "      <td>125.207778</td>\n",
       "      <td>462.75</td>\n",
       "      <td>0.39</td>\n",
       "      <td>35.978333</td>\n",
       "      <td>158.70</td>\n",
       "      <td>5.34</td>\n",
       "      <td>173.020556</td>\n",
       "      <td>673.89</td>\n",
       "      <td>66836480</td>\n",
       "      <td>...</td>\n",
       "      <td>0.485938</td>\n",
       "      <td>0.023635</td>\n",
       "      <td>0.364986</td>\n",
       "      <td>4.067819</td>\n",
       "      <td>0.707407</td>\n",
       "      <td>1.190916</td>\n",
       "      <td>3.334826</td>\n",
       "      <td>0.160241</td>\n",
       "      <td>0.662213</td>\n",
       "      <td>4.175441</td>\n",
       "    </tr>\n",
       "  </tbody>\n",
       "</table>\n",
       "<p>6 rows × 93 columns</p>\n",
       "</div>"
      ],
      "text/plain": [
       "                                                                               controller_cpu_time                     planner_cpu_time                    system_cpu_time                      controller_max_memory  ... localization_update_normalized_relative_rotation_error_mean localization_update_normalized_relative_rotation_error_std                      localization_update_rate_mean                     localization_update_rate_std                     \n",
       "                                                                                               min        mean     max              min       mean     max             min        mean      max                   min  ...                                                         max                                                        min      mean        max                           min      mean       max                          min      mean        max\n",
       "robot_model                             local_planner_node global_planner_node                                                                                                                                         ...                                                                                                                                                                                                                                                \n",
       "hunter2                                 teb                navfn                             42.47  158.187500  409.34             5.66  33.055000   96.16           52.73  206.093333   532.85              68909056  ...                                           0.091080                                                    0.005114          0.071620   0.196569                      1.079379  1.589562  4.157143                     0.204616  1.389916   7.011186\n",
       "                                                           smac                               3.51   85.566667  209.54             0.72  31.465833   98.88            5.27  125.652500   294.26              68308992  ...                                           0.049614                                                    0.012589          0.057952   0.091005                      1.047118  1.566955  2.983500                     0.252213  1.257915   4.435241\n",
       "turtlebot3_waffle_performance_modelling dwb                navfn                              1.43   41.621708  695.21             0.47  28.763488  505.93            3.41   84.534235  1375.48              30645248  ...                                           7.546265                                                    0.002454          1.132113  33.860589                      0.455611  0.942418  4.677616                     0.040786  0.423705  14.048885\n",
       "                                        rpp                navfn                              5.00   26.210000   49.23             4.51  24.765000   46.89           13.06   62.386667   115.26              24002560  ...                                           2.603327                                                    0.079629          1.744659   5.524493                      0.542105  0.636596  0.722891                     0.062434  0.612738   0.812985\n",
       "                                        teb                navfn                             26.97  147.050000  396.55             1.49  32.320000  102.46           30.74  193.142778   529.92              69536768  ...                                           0.321872                                                    0.023840          0.228975   1.544847                      0.738462  1.066748  1.266263                     0.154560  0.325272   0.509902\n",
       "                                                           smac                               3.90  125.207778  462.75             0.39  35.978333  158.70            5.34  173.020556   673.89              66836480  ...                                           0.485938                                                    0.023635          0.364986   4.067819                      0.707407  1.190916  3.334826                     0.160241  0.662213   4.175441\n",
       "\n",
       "[6 rows x 93 columns]"
      ]
     },
     "execution_count": 8,
     "metadata": {},
     "output_type": "execute_result"
    }
   ],
   "source": [
    "df.groupby([df.robot_model, df.local_planner_node, df.global_planner_node])[metrics].agg(['min', 'mean', 'max'])"
   ]
  },
  {
   "cell_type": "code",
   "execution_count": 9,
   "metadata": {
    "scrolled": false
   },
   "outputs": [
    {
     "data": {
      "text/html": [
       "<div>\n",
       "<style scoped>\n",
       "    .dataframe tbody tr th:only-of-type {\n",
       "        vertical-align: middle;\n",
       "    }\n",
       "\n",
       "    .dataframe tbody tr th {\n",
       "        vertical-align: top;\n",
       "    }\n",
       "\n",
       "    .dataframe thead tr th {\n",
       "        text-align: left;\n",
       "    }\n",
       "\n",
       "    .dataframe thead tr:last-of-type th {\n",
       "        text-align: right;\n",
       "    }\n",
       "</style>\n",
       "<table border=\"1\" class=\"dataframe\">\n",
       "  <thead>\n",
       "    <tr>\n",
       "      <th></th>\n",
       "      <th></th>\n",
       "      <th></th>\n",
       "      <th colspan=\"3\" halign=\"left\">controller_cpu_time</th>\n",
       "      <th colspan=\"3\" halign=\"left\">planner_cpu_time</th>\n",
       "      <th colspan=\"3\" halign=\"left\">system_cpu_time</th>\n",
       "    </tr>\n",
       "    <tr>\n",
       "      <th></th>\n",
       "      <th></th>\n",
       "      <th></th>\n",
       "      <th>min</th>\n",
       "      <th>mean</th>\n",
       "      <th>max</th>\n",
       "      <th>min</th>\n",
       "      <th>mean</th>\n",
       "      <th>max</th>\n",
       "      <th>min</th>\n",
       "      <th>mean</th>\n",
       "      <th>max</th>\n",
       "    </tr>\n",
       "    <tr>\n",
       "      <th>robot_model</th>\n",
       "      <th>local_planner_node</th>\n",
       "      <th>global_planner_node</th>\n",
       "      <th></th>\n",
       "      <th></th>\n",
       "      <th></th>\n",
       "      <th></th>\n",
       "      <th></th>\n",
       "      <th></th>\n",
       "      <th></th>\n",
       "      <th></th>\n",
       "      <th></th>\n",
       "    </tr>\n",
       "  </thead>\n",
       "  <tbody>\n",
       "    <tr>\n",
       "      <th rowspan=\"2\" valign=\"top\">turtlebot3_waffle_performance_modelling</th>\n",
       "      <th>rpp</th>\n",
       "      <th>navfn</th>\n",
       "      <td>5.00</td>\n",
       "      <td>26.210000</td>\n",
       "      <td>49.23</td>\n",
       "      <td>4.51</td>\n",
       "      <td>24.765000</td>\n",
       "      <td>46.89</td>\n",
       "      <td>13.06</td>\n",
       "      <td>62.386667</td>\n",
       "      <td>115.26</td>\n",
       "    </tr>\n",
       "    <tr>\n",
       "      <th>dwb</th>\n",
       "      <th>navfn</th>\n",
       "      <td>1.43</td>\n",
       "      <td>41.621708</td>\n",
       "      <td>695.21</td>\n",
       "      <td>0.47</td>\n",
       "      <td>28.763488</td>\n",
       "      <td>505.93</td>\n",
       "      <td>3.41</td>\n",
       "      <td>84.534235</td>\n",
       "      <td>1375.48</td>\n",
       "    </tr>\n",
       "    <tr>\n",
       "      <th>hunter2</th>\n",
       "      <th>teb</th>\n",
       "      <th>smac</th>\n",
       "      <td>3.51</td>\n",
       "      <td>85.566667</td>\n",
       "      <td>209.54</td>\n",
       "      <td>0.72</td>\n",
       "      <td>31.465833</td>\n",
       "      <td>98.88</td>\n",
       "      <td>5.27</td>\n",
       "      <td>125.652500</td>\n",
       "      <td>294.26</td>\n",
       "    </tr>\n",
       "    <tr>\n",
       "      <th rowspan=\"2\" valign=\"top\">turtlebot3_waffle_performance_modelling</th>\n",
       "      <th rowspan=\"2\" valign=\"top\">teb</th>\n",
       "      <th>smac</th>\n",
       "      <td>3.90</td>\n",
       "      <td>125.207778</td>\n",
       "      <td>462.75</td>\n",
       "      <td>0.39</td>\n",
       "      <td>35.978333</td>\n",
       "      <td>158.70</td>\n",
       "      <td>5.34</td>\n",
       "      <td>173.020556</td>\n",
       "      <td>673.89</td>\n",
       "    </tr>\n",
       "    <tr>\n",
       "      <th>navfn</th>\n",
       "      <td>26.97</td>\n",
       "      <td>147.050000</td>\n",
       "      <td>396.55</td>\n",
       "      <td>1.49</td>\n",
       "      <td>32.320000</td>\n",
       "      <td>102.46</td>\n",
       "      <td>30.74</td>\n",
       "      <td>193.142778</td>\n",
       "      <td>529.92</td>\n",
       "    </tr>\n",
       "    <tr>\n",
       "      <th>hunter2</th>\n",
       "      <th>teb</th>\n",
       "      <th>navfn</th>\n",
       "      <td>42.47</td>\n",
       "      <td>158.187500</td>\n",
       "      <td>409.34</td>\n",
       "      <td>5.66</td>\n",
       "      <td>33.055000</td>\n",
       "      <td>96.16</td>\n",
       "      <td>52.73</td>\n",
       "      <td>206.093333</td>\n",
       "      <td>532.85</td>\n",
       "    </tr>\n",
       "  </tbody>\n",
       "</table>\n",
       "</div>"
      ],
      "text/plain": [
       "                                                                               controller_cpu_time                     planner_cpu_time                    system_cpu_time                     \n",
       "                                                                                               min        mean     max              min       mean     max             min        mean      max\n",
       "robot_model                             local_planner_node global_planner_node                                                                                                                 \n",
       "turtlebot3_waffle_performance_modelling rpp                navfn                              5.00   26.210000   49.23             4.51  24.765000   46.89           13.06   62.386667   115.26\n",
       "                                        dwb                navfn                              1.43   41.621708  695.21             0.47  28.763488  505.93            3.41   84.534235  1375.48\n",
       "hunter2                                 teb                smac                               3.51   85.566667  209.54             0.72  31.465833   98.88            5.27  125.652500   294.26\n",
       "turtlebot3_waffle_performance_modelling teb                smac                               3.90  125.207778  462.75             0.39  35.978333  158.70            5.34  173.020556   673.89\n",
       "                                                           navfn                             26.97  147.050000  396.55             1.49  32.320000  102.46           30.74  193.142778   529.92\n",
       "hunter2                                 teb                navfn                             42.47  158.187500  409.34             5.66  33.055000   96.16           52.73  206.093333   532.85"
      ]
     },
     "execution_count": 9,
     "metadata": {},
     "output_type": "execute_result"
    },
    {
     "data": {
      "image/png": "[encoded data removed]",
      "text/plain": [
       "<Figure size 936x936 with 1 Axes>"
      ]
     },
     "metadata": {
      "needs_background": "light"
     },
     "output_type": "display_data"
    }
   ],
   "source": [
    "cpu_time_metrics_df = df.groupby([df.robot_model, df.local_planner_node, df.global_planner_node])[cpu_time_metrics].agg(['min', 'mean', 'max']).sort_values(by=('system_cpu_time', 'mean'))\n",
    "cpu_time_metrics_df.plot.bar(y=('system_cpu_time', 'mean'))\n",
    "cpu_time_metrics_df"
   ]
  },
  {
   "cell_type": "code",
   "execution_count": 10,
   "metadata": {
    "scrolled": false
   },
   "outputs": [
    {
     "data": {
      "text/html": [
       "<div>\n",
       "<style scoped>\n",
       "    .dataframe tbody tr th:only-of-type {\n",
       "        vertical-align: middle;\n",
       "    }\n",
       "\n",
       "    .dataframe tbody tr th {\n",
       "        vertical-align: top;\n",
       "    }\n",
       "\n",
       "    .dataframe thead tr th {\n",
       "        text-align: left;\n",
       "    }\n",
       "\n",
       "    .dataframe thead tr:last-of-type th {\n",
       "        text-align: right;\n",
       "    }\n",
       "</style>\n",
       "<table border=\"1\" class=\"dataframe\">\n",
       "  <thead>\n",
       "    <tr>\n",
       "      <th></th>\n",
       "      <th></th>\n",
       "      <th></th>\n",
       "      <th colspan=\"3\" halign=\"left\">controller_max_memory</th>\n",
       "      <th colspan=\"3\" halign=\"left\">planner_max_memory</th>\n",
       "      <th colspan=\"3\" halign=\"left\">system_max_memory</th>\n",
       "    </tr>\n",
       "    <tr>\n",
       "      <th></th>\n",
       "      <th></th>\n",
       "      <th></th>\n",
       "      <th>min</th>\n",
       "      <th>mean</th>\n",
       "      <th>max</th>\n",
       "      <th>min</th>\n",
       "      <th>mean</th>\n",
       "      <th>max</th>\n",
       "      <th>min</th>\n",
       "      <th>mean</th>\n",
       "      <th>max</th>\n",
       "    </tr>\n",
       "    <tr>\n",
       "      <th>robot_model</th>\n",
       "      <th>local_planner_node</th>\n",
       "      <th>global_planner_node</th>\n",
       "      <th></th>\n",
       "      <th></th>\n",
       "      <th></th>\n",
       "      <th></th>\n",
       "      <th></th>\n",
       "      <th></th>\n",
       "      <th></th>\n",
       "      <th></th>\n",
       "      <th></th>\n",
       "    </tr>\n",
       "  </thead>\n",
       "  <tbody>\n",
       "    <tr>\n",
       "      <th rowspan=\"3\" valign=\"top\">turtlebot3_waffle_performance_modelling</th>\n",
       "      <th>rpp</th>\n",
       "      <th>navfn</th>\n",
       "      <td>22.890625</td>\n",
       "      <td>26.238770</td>\n",
       "      <td>32.753906</td>\n",
       "      <td>25.380859</td>\n",
       "      <td>57.958822</td>\n",
       "      <td>130.758789</td>\n",
       "      <td>139.409180</td>\n",
       "      <td>208.888835</td>\n",
       "      <td>369.644531</td>\n",
       "    </tr>\n",
       "    <tr>\n",
       "      <th>dwb</th>\n",
       "      <th>navfn</th>\n",
       "      <td>29.225586</td>\n",
       "      <td>32.301654</td>\n",
       "      <td>40.315430</td>\n",
       "      <td>25.010742</td>\n",
       "      <td>57.162634</td>\n",
       "      <td>147.778320</td>\n",
       "      <td>143.373047</td>\n",
       "      <td>210.514871</td>\n",
       "      <td>391.328125</td>\n",
       "    </tr>\n",
       "    <tr>\n",
       "      <th>teb</th>\n",
       "      <th>navfn</th>\n",
       "      <td>66.315430</td>\n",
       "      <td>69.627984</td>\n",
       "      <td>77.044922</td>\n",
       "      <td>25.609375</td>\n",
       "      <td>58.357422</td>\n",
       "      <td>132.798828</td>\n",
       "      <td>184.069336</td>\n",
       "      <td>252.851074</td>\n",
       "      <td>415.806641</td>\n",
       "    </tr>\n",
       "    <tr>\n",
       "      <th>hunter2</th>\n",
       "      <th>teb</th>\n",
       "      <th>navfn</th>\n",
       "      <td>65.716797</td>\n",
       "      <td>69.741536</td>\n",
       "      <td>77.118164</td>\n",
       "      <td>25.868164</td>\n",
       "      <td>59.276530</td>\n",
       "      <td>133.355469</td>\n",
       "      <td>183.836914</td>\n",
       "      <td>254.319255</td>\n",
       "      <td>416.774414</td>\n",
       "    </tr>\n",
       "    <tr>\n",
       "      <th>turtlebot3_waffle_performance_modelling</th>\n",
       "      <th>teb</th>\n",
       "      <th>smac</th>\n",
       "      <td>63.740234</td>\n",
       "      <td>68.021810</td>\n",
       "      <td>75.485352</td>\n",
       "      <td>30.892578</td>\n",
       "      <td>1651.488878</td>\n",
       "      <td>28802.347656</td>\n",
       "      <td>187.614258</td>\n",
       "      <td>1843.336751</td>\n",
       "      <td>28979.913086</td>\n",
       "    </tr>\n",
       "    <tr>\n",
       "      <th>hunter2</th>\n",
       "      <th>teb</th>\n",
       "      <th>smac</th>\n",
       "      <td>65.144531</td>\n",
       "      <td>68.496338</td>\n",
       "      <td>76.280273</td>\n",
       "      <td>31.160156</td>\n",
       "      <td>4896.764730</td>\n",
       "      <td>29145.259766</td>\n",
       "      <td>188.694336</td>\n",
       "      <td>5089.505534</td>\n",
       "      <td>29326.842773</td>\n",
       "    </tr>\n",
       "  </tbody>\n",
       "</table>\n",
       "</div>"
      ],
      "text/plain": [
       "                                                                               controller_max_memory                       planner_max_memory                            system_max_memory                           \n",
       "                                                                                                 min       mean        max                min         mean           max               min         mean           max\n",
       "robot_model                             local_planner_node global_planner_node                                                                                                                                       \n",
       "turtlebot3_waffle_performance_modelling rpp                navfn                           22.890625  26.238770  32.753906          25.380859    57.958822    130.758789        139.409180   208.888835    369.644531\n",
       "                                        dwb                navfn                           29.225586  32.301654  40.315430          25.010742    57.162634    147.778320        143.373047   210.514871    391.328125\n",
       "                                        teb                navfn                           66.315430  69.627984  77.044922          25.609375    58.357422    132.798828        184.069336   252.851074    415.806641\n",
       "hunter2                                 teb                navfn                           65.716797  69.741536  77.118164          25.868164    59.276530    133.355469        183.836914   254.319255    416.774414\n",
       "turtlebot3_waffle_performance_modelling teb                smac                            63.740234  68.021810  75.485352          30.892578  1651.488878  28802.347656        187.614258  1843.336751  28979.913086\n",
       "hunter2                                 teb                smac                            65.144531  68.496338  76.280273          31.160156  4896.764730  29145.259766        188.694336  5089.505534  29326.842773"
      ]
     },
     "execution_count": 10,
     "metadata": {},
     "output_type": "execute_result"
    },
    {
     "data": {
      "image/png": "[encoded data removed]",
      "text/plain": [
       "<Figure size 936x936 with 1 Axes>"
      ]
     },
     "metadata": {
      "needs_background": "light"
     },
     "output_type": "display_data"
    }
   ],
   "source": [
    "cpu_time_metrics_df = df.groupby([df.robot_model, df.local_planner_node, df.global_planner_node])[max_memory_metrics].agg(['min', 'mean', 'max']).sort_values(by=('system_max_memory', 'mean'))/1024**2\n",
    "cpu_time_metrics_df.plot.bar(y=('system_max_memory', 'mean'))\n",
    "cpu_time_metrics_df"
   ]
  }
 ],
 "metadata": {
  "kernelspec": {
   "display_name": "Python 3",
   "language": "python",
   "name": "python3"
  },
  "language_info": {
   "codemirror_mode": {
    "name": "ipython",
    "version": 3
   },
   "file_extension": ".py",
   "mimetype": "text/x-python",
   "name": "python",
   "nbconvert_exporter": "python",
   "pygments_lexer": "ipython3",
   "version": "3.8.10"
  }
 },
 "nbformat": 4,
 "nbformat_minor": 4
}
