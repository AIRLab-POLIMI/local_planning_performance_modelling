{
 "cells": [
  {
   "cell_type": "code",
   "execution_count": 1,
   "metadata": {},
   "outputs": [
    {
     "data": {
      "text/html": [
       "<style>.container { width:100% !important; }</style>"
      ],
      "text/plain": [
       "<IPython.core.display.HTML object>"
      ]
     },
     "metadata": {},
     "output_type": "display_data"
    }
   ],
   "source": [
    "from IPython.core.display import Markdown, display, HTML\n",
    "display(HTML(\"<style>.container { width:100% !important; }</style>\"))\n",
    "import ipywidgets as widgets\n",
    "from ipywidgets import interact, interact_manual\n",
    "\n",
    "import traceback\n",
    "import numpy as np\n",
    "import scipy.stats as ss\n",
    "import yaml\n",
    "import itertools\n",
    "import sys\n",
    "import os\n",
    "import subprocess\n",
    "from os import path\n",
    "import pickle\n",
    "import pandas as pd\n",
    "import matplotlib.pyplot as plt\n",
    "%matplotlib inline\n",
    "%config InlineBackend.figure_format = 'svg'\n",
    "\n",
    "from sklearn.linear_model import LinearRegression, TheilSenRegressor, RANSACRegressor, HuberRegressor\n",
    "from sklearn.metrics import mean_squared_error, r2_score\n",
    "from sklearn.preprocessing import PolynomialFeatures, StandardScaler\n",
    "from sklearn.pipeline import make_pipeline\n",
    "\n",
    "def printmd(*args):\n",
    "    display(Markdown(' '.join(map(str, args))))"
   ]
  },
  {
   "cell_type": "code",
   "execution_count": 2,
   "metadata": {
    "scrolled": false
   },
   "outputs": [],
   "source": [
    "# !ros2 run local_planning_performance_modelling compute_metrics -r \"~/ds/performance_modelling/output/test_local_planning_gen_circles/*\" -s"
   ]
  },
  {
   "cell_type": "code",
   "execution_count": 3,
   "metadata": {
    "scrolled": false
   },
   "outputs": [],
   "source": [
    "local_planner_color = {'dwb': 'blue', 'rpp': 'orange', 'teb': 'green'}\n",
    "robot_model_color = {'hunter': 'cyan', 'turtle': 'green'}\n",
    "pd.options.display.width = 500\n",
    "pd.options.display.max_rows = 0\n",
    "pd.options.display.float_format = '{:,.3f}'.format\n",
    "plt.rcParams['figure.figsize'] = [10, 10]\n",
    "plt.rcParams['lines.linewidth'] = 4\n",
    "# plt.rcParams['lines.markersize'] = 3\n",
    "# plt.rcParams['lines.marker'] = 'o'\n",
    "\n",
    "# fg_color = 'white'\n",
    "# plt.rcParams['grid.color'] = 'gray'\n",
    "# plt.rcParams['text.color'] = fg_color\n",
    "# plt.rcParams['ytick.color'] = fg_color\n",
    "# plt.rcParams['xtick.color'] = fg_color\n",
    "# plt.rcParams['axes.labelcolor'] = fg_color\n",
    "# plt.rcParams['axes.edgecolor'] = fg_color\n",
    "\n",
    "# bg_color = \"#323a48\"\n",
    "# plt.rcParams['figure.facecolor'] = bg_color\n",
    "# plt.rcParams['axes.facecolor'] = bg_color\n",
    "# plt.rcParams['legend.facecolor'] = bg_color"
   ]
  },
  {
   "cell_type": "code",
   "execution_count": 4,
   "metadata": {
    "scrolled": false
   },
   "outputs": [
    {
     "data": {
      "text/markdown": [
       "## Number of Runs"
      ],
      "text/plain": [
       "<IPython.core.display.Markdown object>"
      ]
     },
     "metadata": {},
     "output_type": "display_data"
    },
    {
     "data": {
      "text/markdown": [
       "    2374"
      ],
      "text/plain": [
       "<IPython.core.display.Markdown object>"
      ]
     },
     "metadata": {},
     "output_type": "display_data"
    },
    {
     "data": {
      "text/markdown": [
       "## Run Parameters"
      ],
      "text/plain": [
       "<IPython.core.display.Markdown object>"
      ]
     },
     "metadata": {},
     "output_type": "display_data"
    },
    {
     "data": {
      "text/markdown": [
       "    amcl_alpha_factor                                                      [nan, 0.0, 0.5, 0.75, 1.0, 1.5, 2.0]"
      ],
      "text/plain": [
       "<IPython.core.display.Markdown object>"
      ]
     },
     "metadata": {},
     "output_type": "display_data"
    },
    {
     "data": {
      "text/markdown": [
       "    environment_name                                                       ['7A-2', 'airlab', 'fr079', 'intel', 'mexico', 'office_b']"
      ],
      "text/plain": [
       "<IPython.core.display.Markdown object>"
      ]
     },
     "metadata": {},
     "output_type": "display_data"
    },
    {
     "data": {
      "text/markdown": [
       "    global_planner_node                                                    ['navfn', 'smac']"
      ],
      "text/plain": [
       "<IPython.core.display.Markdown object>"
      ]
     },
     "metadata": {},
     "output_type": "display_data"
    },
    {
     "data": {
      "text/markdown": [
       "    local_planner_node                                                     ['dwb', 'rpp', 'teb']"
      ],
      "text/plain": [
       "<IPython.core.display.Markdown object>"
      ]
     },
     "metadata": {},
     "output_type": "display_data"
    },
    {
     "data": {
      "text/markdown": [
       "    localization_node                                                      ['amcl', 'localization_generator']"
      ],
      "text/plain": [
       "<IPython.core.display.Markdown object>"
      ]
     },
     "metadata": {},
     "output_type": "display_data"
    },
    {
     "data": {
      "text/markdown": [
       "    max_steering_angle_deg                                                 [20.0, 40.0, 90.0]"
      ],
      "text/plain": [
       "<IPython.core.display.Markdown object>"
      ]
     },
     "metadata": {},
     "output_type": "display_data"
    },
    {
     "data": {
      "text/markdown": [
       "    robot_model                                                            ['turtle']"
      ],
      "text/plain": [
       "<IPython.core.display.Markdown object>"
      ]
     },
     "metadata": {},
     "output_type": "display_data"
    },
    {
     "data": {
      "text/markdown": [
       "    run_index                                                              [0, 1]"
      ],
      "text/plain": [
       "<IPython.core.display.Markdown object>"
      ]
     },
     "metadata": {},
     "output_type": "display_data"
    },
    {
     "data": {
      "text/markdown": [
       "    alpha_1                                                                [0.0, 0.02, 0.05, 0.1]"
      ],
      "text/plain": [
       "<IPython.core.display.Markdown object>"
      ]
     },
     "metadata": {},
     "output_type": "display_data"
    },
    {
     "data": {
      "text/markdown": [
       "    alpha_2                                                                [0.0]"
      ],
      "text/plain": [
       "<IPython.core.display.Markdown object>"
      ]
     },
     "metadata": {},
     "output_type": "display_data"
    },
    {
     "data": {
      "text/markdown": [
       "    alpha_3                                                                [0.0, 0.02, 0.05, 0.1]"
      ],
      "text/plain": [
       "<IPython.core.display.Markdown object>"
      ]
     },
     "metadata": {},
     "output_type": "display_data"
    },
    {
     "data": {
      "text/markdown": [
       "    alpha_4                                                                [0.0]"
      ],
      "text/plain": [
       "<IPython.core.display.Markdown object>"
      ]
     },
     "metadata": {},
     "output_type": "display_data"
    },
    {
     "data": {
      "text/markdown": [
       "## Metrics"
      ],
      "text/plain": [
       "<IPython.core.display.Markdown object>"
      ]
     },
     "metadata": {},
     "output_type": "display_data"
    },
    {
     "data": {
      "text/markdown": [
       "    controller_cpu_time                                                    min:       0.37             avg:      109.5             max:      667.2]"
      ],
      "text/plain": [
       "<IPython.core.display.Markdown object>"
      ]
     },
     "metadata": {},
     "output_type": "display_data"
    },
    {
     "data": {
      "text/markdown": [
       "    controller_max_memory                                                  min:      16.94             avg:      57.35             max:      78.79]"
      ],
      "text/plain": [
       "<IPython.core.display.Markdown object>"
      ]
     },
     "metadata": {},
     "output_type": "display_data"
    },
    {
     "data": {
      "text/markdown": [
       "    cpu_time_and_max_memory_version                                        [1]"
      ],
      "text/plain": [
       "<IPython.core.display.Markdown object>"
      ]
     },
     "metadata": {},
     "output_type": "display_data"
    },
    {
     "data": {
      "text/markdown": [
       "    execution_time                                                         min:      0.179             avg:       88.4             max:      399.8]"
      ],
      "text/plain": [
       "<IPython.core.display.Markdown object>"
      ]
     },
     "metadata": {},
     "output_type": "display_data"
    },
    {
     "data": {
      "text/markdown": [
       "    execution_time_version                                                 [1]"
      ],
      "text/plain": [
       "<IPython.core.display.Markdown object>"
      ]
     },
     "metadata": {},
     "output_type": "display_data"
    },
    {
     "data": {
      "text/markdown": [
       "    localization_update_absolute_rotation_error_mean                       min:  3.887e-07             avg:    0.02666             max:      1.257]"
      ],
      "text/plain": [
       "<IPython.core.display.Markdown object>"
      ]
     },
     "metadata": {},
     "output_type": "display_data"
    },
    {
     "data": {
      "text/markdown": [
       "    localization_update_absolute_rotation_error_std                        min:          0             avg:    0.04083             max:      1.299]"
      ],
      "text/plain": [
       "<IPython.core.display.Markdown object>"
      ]
     },
     "metadata": {},
     "output_type": "display_data"
    },
    {
     "data": {
      "text/markdown": [
       "    localization_update_absolute_translation_error_mean                    min:   0.003454             avg:     0.1031             max:      1.698]"
      ],
      "text/plain": [
       "<IPython.core.display.Markdown object>"
      ]
     },
     "metadata": {},
     "output_type": "display_data"
    },
    {
     "data": {
      "text/markdown": [
       "    localization_update_absolute_translation_error_std                     min:          0             avg:    0.03048             max:      1.557]"
      ],
      "text/plain": [
       "<IPython.core.display.Markdown object>"
      ]
     },
     "metadata": {},
     "output_type": "display_data"
    },
    {
     "data": {
      "text/markdown": [
       "    localization_update_error_version                                      [1]"
      ],
      "text/plain": [
       "<IPython.core.display.Markdown object>"
      ]
     },
     "metadata": {},
     "output_type": "display_data"
    },
    {
     "data": {
      "text/markdown": [
       "    localization_update_normalized_relative_rotation_error_mean            min:   0.002573             avg:     0.1936             max:      12.29]"
      ],
      "text/plain": [
       "<IPython.core.display.Markdown object>"
      ]
     },
     "metadata": {},
     "output_type": "display_data"
    },
    {
     "data": {
      "text/markdown": [
       "    localization_update_normalized_relative_rotation_error_std             min:          0             avg:     0.8184             max:      43.93]"
      ],
      "text/plain": [
       "<IPython.core.display.Markdown object>"
      ]
     },
     "metadata": {},
     "output_type": "display_data"
    },
    {
     "data": {
      "text/markdown": [
       "    localization_update_normalized_relative_translation_error_mean         min:    0.01071             avg:    0.07366             max:       1.29]"
      ],
      "text/plain": [
       "<IPython.core.display.Markdown object>"
      ]
     },
     "metadata": {},
     "output_type": "display_data"
    },
    {
     "data": {
      "text/markdown": [
       "    localization_update_normalized_relative_translation_error_std          min:          0             avg:    0.07197             max:      9.121]"
      ],
      "text/plain": [
       "<IPython.core.display.Markdown object>"
      ]
     },
     "metadata": {},
     "output_type": "display_data"
    },
    {
     "data": {
      "text/markdown": [
       "    localization_update_rate_mean                                          min:    0.09353             avg:       1.05             max:       32.4]"
      ],
      "text/plain": [
       "<IPython.core.display.Markdown object>"
      ]
     },
     "metadata": {},
     "output_type": "display_data"
    },
    {
     "data": {
      "text/markdown": [
       "    localization_update_rate_std                                           min:          0             avg:     0.2577             max:      14.34]"
      ],
      "text/plain": [
       "<IPython.core.display.Markdown object>"
      ]
     },
     "metadata": {},
     "output_type": "display_data"
    },
    {
     "data": {
      "text/markdown": [
       "    localization_update_rate_version                                       [1]"
      ],
      "text/plain": [
       "<IPython.core.display.Markdown object>"
      ]
     },
     "metadata": {},
     "output_type": "display_data"
    },
    {
     "data": {
      "text/markdown": [
       "    localization_update_relative_rotation_error_mean                       min:  2.441e-07             avg:    0.01629             max:      1.079]"
      ],
      "text/plain": [
       "<IPython.core.display.Markdown object>"
      ]
     },
     "metadata": {},
     "output_type": "display_data"
    },
    {
     "data": {
      "text/markdown": [
       "    localization_update_relative_rotation_error_std                        min:          0             avg:    0.04155             max:     0.8452]"
      ],
      "text/plain": [
       "<IPython.core.display.Markdown object>"
      ]
     },
     "metadata": {},
     "output_type": "display_data"
    },
    {
     "data": {
      "text/markdown": [
       "    localization_update_relative_translation_error_mean                    min:  1.036e-05             avg:    0.01811             max:     0.7297]"
      ],
      "text/plain": [
       "<IPython.core.display.Markdown object>"
      ]
     },
     "metadata": {},
     "output_type": "display_data"
    },
    {
     "data": {
      "text/markdown": [
       "    localization_update_relative_translation_error_std                     min:          0             avg:    0.01375             max:     0.5171]"
      ],
      "text/plain": [
       "<IPython.core.display.Markdown object>"
      ]
     },
     "metadata": {},
     "output_type": "display_data"
    },
    {
     "data": {
      "text/markdown": [
       "    odometry_error_alpha_1_mean                                            min:  1.143e-17             avg:      0.059             max:      4.194]"
      ],
      "text/plain": [
       "<IPython.core.display.Markdown object>"
      ]
     },
     "metadata": {},
     "output_type": "display_data"
    },
    {
     "data": {
      "text/markdown": [
       "    odometry_error_alpha_1_std                                             min:          0             avg:    0.09266             max:       13.9]"
      ],
      "text/plain": [
       "<IPython.core.display.Markdown object>"
      ]
     },
     "metadata": {},
     "output_type": "display_data"
    },
    {
     "data": {
      "text/markdown": [
       "    odometry_error_alpha_2_mean                                            min:  1.522e-18             avg:    0.09383             max:      9.154]"
      ],
      "text/plain": [
       "<IPython.core.display.Markdown object>"
      ]
     },
     "metadata": {},
     "output_type": "display_data"
    },
    {
     "data": {
      "text/markdown": [
       "    odometry_error_alpha_2_std                                             min:          0             avg:     0.1994             max:      18.24]"
      ],
      "text/plain": [
       "<IPython.core.display.Markdown object>"
      ]
     },
     "metadata": {},
     "output_type": "display_data"
    },
    {
     "data": {
      "text/markdown": [
       "    odometry_error_alpha_3_mean                                            min:  3.373e-17             avg:    0.06221             max:     0.8207]"
      ],
      "text/plain": [
       "<IPython.core.display.Markdown object>"
      ]
     },
     "metadata": {},
     "output_type": "display_data"
    },
    {
     "data": {
      "text/markdown": [
       "    odometry_error_alpha_3_std                                             min:          0             avg:    0.01703             max:      1.417]"
      ],
      "text/plain": [
       "<IPython.core.display.Markdown object>"
      ]
     },
     "metadata": {},
     "output_type": "display_data"
    },
    {
     "data": {
      "text/markdown": [
       "    odometry_error_alpha_4_mean                                            min:  3.624e-17             avg:      0.251             max:      1.401]"
      ],
      "text/plain": [
       "<IPython.core.display.Markdown object>"
      ]
     },
     "metadata": {},
     "output_type": "display_data"
    },
    {
     "data": {
      "text/markdown": [
       "    odometry_error_alpha_4_std                                             min:          0             avg:     0.2274             max:      1.809]"
      ],
      "text/plain": [
       "<IPython.core.display.Markdown object>"
      ]
     },
     "metadata": {},
     "output_type": "display_data"
    },
    {
     "data": {
      "text/markdown": [
       "    odometry_error_version                                                 [2]"
      ],
      "text/plain": [
       "<IPython.core.display.Markdown object>"
      ]
     },
     "metadata": {},
     "output_type": "display_data"
    },
    {
     "data": {
      "text/markdown": [
       "    planner_cpu_time                                                       min:       0.32             avg:      30.29             max:      317.3]"
      ],
      "text/plain": [
       "<IPython.core.display.Markdown object>"
      ]
     },
     "metadata": {},
     "output_type": "display_data"
    },
    {
     "data": {
      "text/markdown": [
       "    planner_max_memory                                                     min:       16.6             avg:       1222             max:  3.109e+04]"
      ],
      "text/plain": [
       "<IPython.core.display.Markdown object>"
      ]
     },
     "metadata": {},
     "output_type": "display_data"
    },
    {
     "data": {
      "text/markdown": [
       "    success_rate                                                           min:          0             avg:     0.7005             max:          1]"
      ],
      "text/plain": [
       "<IPython.core.display.Markdown object>"
      ]
     },
     "metadata": {},
     "output_type": "display_data"
    },
    {
     "data": {
      "text/markdown": [
       "    success_rate_version                                                   [1]"
      ],
      "text/plain": [
       "<IPython.core.display.Markdown object>"
      ]
     },
     "metadata": {},
     "output_type": "display_data"
    },
    {
     "data": {
      "text/markdown": [
       "    system_cpu_time                                                        min:       3.27             avg:      155.1             max:      965.1]"
      ],
      "text/plain": [
       "<IPython.core.display.Markdown object>"
      ]
     },
     "metadata": {},
     "output_type": "display_data"
    },
    {
     "data": {
      "text/markdown": [
       "    system_max_memory                                                      min:        123             avg:       1400             max:  3.126e+04]"
      ],
      "text/plain": [
       "<IPython.core.display.Markdown object>"
      ]
     },
     "metadata": {},
     "output_type": "display_data"
    },
    {
     "data": {
      "text/markdown": [
       "    trajectory_length                                                      min:          0             avg:      21.15             max:      94.27]"
      ],
      "text/plain": [
       "<IPython.core.display.Markdown object>"
      ]
     },
     "metadata": {},
     "output_type": "display_data"
    },
    {
     "data": {
      "text/markdown": [
       "    trajectory_length_version                                              [1]"
      ],
      "text/plain": [
       "<IPython.core.display.Markdown object>"
      ]
     },
     "metadata": {},
     "output_type": "display_data"
    },
    {
     "data": {
      "text/markdown": [
       "    mean_velocity                                                          min:          0             avg:     0.2201             max:     0.4909]"
      ],
      "text/plain": [
       "<IPython.core.display.Markdown object>"
      ]
     },
     "metadata": {},
     "output_type": "display_data"
    }
   ],
   "source": [
    "# df = pd.read_csv(path.expanduser(\"~/ds/performance_modelling/output/test_local_planning_all/results.csv\"))\n",
    "# with open(path.expanduser(\"~/ds/performance_modelling/output/test_local_planning_all/results_info.yaml\")) as results_info_file:\n",
    "#     results_info = yaml.safe_load(results_info_file)\n",
    "\n",
    "df_real = pd.read_csv(path.expanduser(\"~/ds/performance_modelling/output/test_local_planning/results.csv\"))\n",
    "with open(path.expanduser(\"~/ds/performance_modelling/output/test_local_planning/results_info.yaml\")) as results_real_info_file:\n",
    "    results_real_info = yaml.safe_load(results_real_info_file)\n",
    "df_real = df_real[(df_real.amcl_alpha_factor.notna()) & (df_real.robot_model=='turtlebot3_waffle_performance_modelling')]\n",
    "\n",
    "df_gen = pd.read_csv(path.expanduser(\"~/ds/performance_modelling/output/test_local_planning_gen_circles/results.csv\"))\n",
    "with open(path.expanduser(\"~/ds/performance_modelling/output/test_local_planning_gen_circles/results_info.yaml\")) as results_gen_info_file:\n",
    "    results_gen_info = yaml.safe_load(results_gen_info_file)\n",
    "\n",
    "df = df_gen.append(df_real, sort=True)\n",
    "\n",
    "results_info = results_gen_info\n",
    "results_info['run_parameter_names'] += [i for i in results_real_info['run_parameter_names'] if i not in results_info['run_parameter_names']]\n",
    "\n",
    "# df = df[df.amcl_alpha_factor.notna()]\n",
    "\n",
    "# turn odometry_error into alpha_1..4\n",
    "results_info['run_parameter_names'] += ['alpha_1', 'alpha_2', 'alpha_3', 'alpha_4']\n",
    "results_info['run_parameter_names'].remove('odometry_error')\n",
    "for i in range(0, 4):\n",
    "    df[f'alpha_{i+1}'] = df['odometry_error'].apply(lambda x: eval(x)[i])\n",
    "del df['odometry_error']\n",
    "\n",
    "df.loc[df.robot_model == 'turtlebot3_waffle_performance_modelling', 'robot_model'] = 'turtle'\n",
    "df.loc[df.robot_model == 'hunter2', 'robot_model'] = 'hunter'\n",
    "\n",
    "run_parameters = [c for c in list(df.columns) if c in results_info['run_parameter_names']]\n",
    "metrics_versions = [c for c in list(df.columns) if '_version' in c]\n",
    "everything_else = ['run_id', 'session_id', 'run_number']\n",
    "metrics = [c for c in df.columns if c not in metrics_versions + run_parameters + everything_else]\n",
    "metrics_and_versions = [c for c in list(df.columns) if '_version' in c or c in metrics]\n",
    "\n",
    "cpu_time_metrics = [c for c in metrics if 'cpu_time' in c]\n",
    "max_memory_metrics = [c for c in metrics if 'max_memory' in c]\n",
    "odometry_metrics = [c for c in metrics if 'odometry_error_alpha_' in c]\n",
    "odometry_mean_metrics = [c for c in metrics if 'odometry_error_alpha_' in c and '_mean' in c]\n",
    "odometry_std_metrics = [c for c in metrics if 'odometry_error_alpha_' in c and '_std' in c]\n",
    "odometry_parameters = [f'alpha_{i}' for i in range(1, 5)]\n",
    "localization_update_metrics = [c for c in metrics if 'localization_update_' in c]\n",
    "localization_update_mean_metrics = [c for c in metrics if 'localization_update_' in c and '_mean' in c]\n",
    "localization_update_translation_mean_metrics = [c for c in metrics if 'localization_update_' in c and '_translation_' in c and '_mean' in c]\n",
    "navigation_metrics = [c for c in metrics if c in ['trajectory_length', 'execution_time', 'success_rate']]\n",
    "\n",
    "# add metrics from existing ones\n",
    "df['mean_velocity'] = df['trajectory_length'] / df['execution_time']\n",
    "navigation_metrics += ['mean_velocity']\n",
    "metrics += ['mean_velocity']\n",
    "metrics_and_versions += ['mean_velocity']\n",
    "\n",
    "# add useful parameters\n",
    "df['session_id'] =  df['run_id'].apply(lambda x:  x.split('_')[1]+'_'+x.split('_')[2]+'_'+x.split('_')[3])\n",
    "df['run_number'] =  df['run_id'].apply(lambda x:  int(x.split('_')[5]))\n",
    "df[max_memory_metrics] = df[max_memory_metrics]/1024**2\n",
    "df.max_steering_angle_deg = df.max_steering_angle_deg.fillna(90)\n",
    "\n",
    "printmd(\"## Number of Runs\")\n",
    "printmd(f\"    {len(df.run_id.unique())}\")\n",
    "\n",
    "printmd(\"## Run Parameters\")\n",
    "for name in [run_parameter_name for run_parameter_name in run_parameters if 'localization_generator_' not in run_parameter_name]:\n",
    "    values = list(df[name].unique())\n",
    "    printmd(f\"    {name:<70}\", sorted(values))\n",
    "\n",
    "printmd(\"## Metrics\")\n",
    "for name in metrics_and_versions:\n",
    "    if name in metrics_versions:\n",
    "        if len(df[name].unique()) == 1:\n",
    "            printmd(f\"    {name:<70} {sorted(df[name].unique())}\")\n",
    "        else:\n",
    "            printmd(f\"<code><font style='background-color:yellow;font-family:monospace'>{name:<70}{sorted(df[name].unique())} </font></code> ⚠️\")\n",
    "    else:\n",
    "        printmd(f\"    {name:<70} min: {df[name].min(skipna=True):10.4g} {'avg':>15}: {df[name].mean(skipna=True):10.4g} {'max':>15}: {df[name].max(skipna=True):10.4g}]\")"
   ]
  },
  {
   "cell_type": "code",
   "execution_count": 20,
   "metadata": {
    "scrolled": true
   },
   "outputs": [
    {
     "name": "stdout",
     "output_type": "stream",
     "text": [
      "['/home/enrico/ds/performance_modelling/output/test_local_planning_gen_circles/session_2022-01-26_14-14-27_448616_run_000000003', '/home/enrico/ds/performance_modelling/output/test_local_planning_gen_circles/session_2022-01-26_14-14-27_448616_run_000000008', '/home/enrico/ds/performance_modelling/output/test_local_planning_gen_circles/session_2022-01-26_14-14-27_448616_run_000000021', '/home/enrico/ds/performance_modelling/output/test_local_planning_gen_circles/session_2022-01-26_14-14-27_448616_run_000000041', '/home/enrico/ds/performance_modelling/output/test_local_planning_gen_circles/session_2022-01-26_14-14-27_448616_run_000000043', '/home/enrico/ds/performance_modelling/output/test_local_planning_gen_circles/session_2022-01-26_14-14-27_448616_run_000000048', '/home/enrico/ds/performance_modelling/output/test_local_planning_gen_circles/session_2022-01-26_14-14-27_448616_run_000000051', '/home/enrico/ds/performance_modelling/output/test_local_planning_gen_circles/session_2022-01-26_14-14-27_448616_run_000000053', '/home/enrico/ds/performance_modelling/output/test_local_planning_gen_circles/session_2022-01-26_14-14-27_448616_run_000000059', '/home/enrico/ds/performance_modelling/output/test_local_planning_gen_circles/session_2022-01-26_14-14-27_448616_run_000000063', '/home/enrico/ds/performance_modelling/output/test_local_planning_gen_circles/session_2022-01-26_14-14-27_448616_run_000000074', '/home/enrico/ds/performance_modelling/output/test_local_planning_gen_circles/session_2022-01-26_14-14-27_448616_run_000000077', '/home/enrico/ds/performance_modelling/output/test_local_planning_gen_circles/session_2022-01-26_14-14-27_448616_run_000000090', '/home/enrico/ds/performance_modelling/output/test_local_planning_gen_circles/session_2022-01-26_14-14-27_448616_run_000000100', '/home/enrico/ds/performance_modelling/output/test_local_planning_gen_circles/session_2022-01-26_14-14-27_448616_run_000000103', '/home/enrico/ds/performance_modelling/output/test_local_planning_gen_circles/session_2022-01-26_14-14-27_448616_run_000000106', '/home/enrico/ds/performance_modelling/output/test_local_planning_gen_circles/session_2022-01-26_14-14-27_448616_run_000000108', '/home/enrico/ds/performance_modelling/output/test_local_planning_gen_circles/session_2022-01-26_14-14-27_448616_run_000000109', '/home/enrico/ds/performance_modelling/output/test_local_planning_gen_circles/session_2022-01-26_14-14-27_448616_run_000000119', '/home/enrico/ds/performance_modelling/output/test_local_planning_gen_circles/session_2022-01-26_14-14-27_448616_run_000000122', '/home/enrico/ds/performance_modelling/output/test_local_planning_gen_circles/session_2022-01-26_14-14-27_448616_run_000000150', '/home/enrico/ds/performance_modelling/output/test_local_planning_gen_circles/session_2022-01-26_14-14-27_448616_run_000000155', '/home/enrico/ds/performance_modelling/output/test_local_planning_gen_circles/session_2022-01-26_14-14-27_448616_run_000000165', '/home/enrico/ds/performance_modelling/output/test_local_planning_gen_circles/session_2022-01-26_14-14-27_448616_run_000000169', '/home/enrico/ds/performance_modelling/output/test_local_planning_gen_circles/session_2022-01-26_14-14-27_448616_run_000000174', '/home/enrico/ds/performance_modelling/output/test_local_planning_gen_circles/session_2022-01-26_14-14-27_448616_run_000000177', '/home/enrico/ds/performance_modelling/output/test_local_planning_gen_circles/session_2022-01-26_14-14-27_448616_run_000000197', '/home/enrico/ds/performance_modelling/output/test_local_planning_gen_circles/session_2022-01-26_14-14-27_448616_run_000000199', '/home/enrico/ds/performance_modelling/output/test_local_planning_gen_circles/session_2022-01-26_14-14-27_448616_run_000000210', '/home/enrico/ds/performance_modelling/output/test_local_planning_gen_circles/session_2022-01-26_14-14-27_448616_run_000000227', '/home/enrico/ds/performance_modelling/output/test_local_planning_gen_circles/session_2022-01-26_14-14-27_448616_run_000000244', '/home/enrico/ds/performance_modelling/output/test_local_planning_gen_circles/session_2022-01-26_14-14-27_448616_run_000000258', '/home/enrico/ds/performance_modelling/output/test_local_planning_gen_circles/session_2022-01-26_14-14-27_448616_run_000000267', '/home/enrico/ds/performance_modelling/output/test_local_planning_gen_circles/session_2022-01-26_14-14-27_448616_run_000000278', '/home/enrico/ds/performance_modelling/output/test_local_planning_gen_circles/session_2022-01-26_14-14-27_448616_run_000000279', '/home/enrico/ds/performance_modelling/output/test_local_planning_gen_circles/session_2022-01-26_14-14-27_448616_run_000000280', '/home/enrico/ds/performance_modelling/output/test_local_planning_gen_circles/session_2022-01-26_14-14-27_448616_run_000000281', '/home/enrico/ds/performance_modelling/output/test_local_planning_gen_circles/session_2022-01-26_14-14-27_448616_run_000000284', '/home/enrico/ds/performance_modelling/output/test_local_planning_gen_circles/session_2022-01-26_14-14-27_448616_run_000000289', '/home/enrico/ds/performance_modelling/output/test_local_planning_gen_circles/session_2022-01-26_14-14-27_448616_run_000000293', '/home/enrico/ds/performance_modelling/output/test_local_planning_gen_circles/session_2022-01-26_14-14-27_448616_run_000000318', '/home/enrico/ds/performance_modelling/output/test_local_planning_gen_circles/session_2022-01-26_14-14-27_448616_run_000000322', '/home/enrico/ds/performance_modelling/output/test_local_planning_gen_circles/session_2022-01-26_14-14-27_448616_run_000000323', '/home/enrico/ds/performance_modelling/output/test_local_planning_gen_circles/session_2022-01-26_14-14-27_448616_run_000000334', '/home/enrico/ds/performance_modelling/output/test_local_planning_gen_circles/session_2022-01-26_14-14-27_448616_run_000000349', '/home/enrico/ds/performance_modelling/output/test_local_planning_gen_circles/session_2022-01-26_14-14-27_448616_run_000000351', '/home/enrico/ds/performance_modelling/output/test_local_planning_gen_circles/session_2022-01-26_14-14-27_448616_run_000000357', '/home/enrico/ds/performance_modelling/output/test_local_planning_gen_circles/session_2022-01-26_14-14-27_448616_run_000000366', '/home/enrico/ds/performance_modelling/output/test_local_planning_gen_circles/session_2022-01-26_14-14-27_448616_run_000000368', '/home/enrico/ds/performance_modelling/output/test_local_planning_gen_circles/session_2022-01-27_09-04-47_061657_run_000000018', '/home/enrico/ds/performance_modelling/output/test_local_planning_gen_circles/session_2022-01-27_09-04-47_061657_run_000000021', '/home/enrico/ds/performance_modelling/output/test_local_planning_gen_circles/session_2022-01-27_09-04-47_061657_run_000000027', '/home/enrico/ds/performance_modelling/output/test_local_planning_gen_circles/session_2022-01-27_09-04-47_061657_run_000000028', '/home/enrico/ds/performance_modelling/output/test_local_planning_gen_circles/session_2022-01-27_09-04-47_061657_run_000000030', '/home/enrico/ds/performance_modelling/output/test_local_planning_gen_circles/session_2022-01-27_09-04-47_061657_run_000000031', '/home/enrico/ds/performance_modelling/output/test_local_planning_gen_circles/session_2022-01-27_09-04-47_061657_run_000000041', '/home/enrico/ds/performance_modelling/output/test_local_planning_gen_circles/session_2022-01-27_09-04-47_061657_run_000000046', '/home/enrico/ds/performance_modelling/output/test_local_planning_gen_circles/session_2022-01-27_09-04-47_061657_run_000000050', '/home/enrico/ds/performance_modelling/output/test_local_planning_gen_circles/session_2022-01-27_09-04-47_061657_run_000000063', '/home/enrico/ds/performance_modelling/output/test_local_planning_gen_circles/session_2022-01-27_09-04-47_061657_run_000000071', '/home/enrico/ds/performance_modelling/output/test_local_planning_gen_circles/session_2022-01-27_09-04-47_061657_run_000000073', '/home/enrico/ds/performance_modelling/output/test_local_planning_gen_circles/session_2022-01-27_09-04-47_061657_run_000000096', '/home/enrico/ds/performance_modelling/output/test_local_planning_gen_circles/session_2022-01-27_09-04-47_061657_run_000000097', '/home/enrico/ds/performance_modelling/output/test_local_planning_gen_circles/session_2022-01-27_09-04-47_061657_run_000000103', '/home/enrico/ds/performance_modelling/output/test_local_planning_gen_circles/session_2022-01-27_09-04-47_061657_run_000000128', '/home/enrico/ds/performance_modelling/output/test_local_planning_gen_circles/session_2022-01-27_09-04-47_061657_run_000000132', '/home/enrico/ds/performance_modelling/output/test_local_planning_gen_circles/session_2022-01-27_09-04-47_061657_run_000000136', '/home/enrico/ds/performance_modelling/output/test_local_planning_gen_circles/session_2022-01-27_09-04-47_061657_run_000000141', '/home/enrico/ds/performance_modelling/output/test_local_planning_gen_circles/session_2022-01-27_09-04-47_061657_run_000000147', '/home/enrico/ds/performance_modelling/output/test_local_planning_gen_circles/session_2022-01-27_09-04-47_061657_run_000000148', '/home/enrico/ds/performance_modelling/output/test_local_planning_gen_circles/session_2022-01-27_09-04-47_061657_run_000000155', '/home/enrico/ds/performance_modelling/output/test_local_planning_gen_circles/session_2022-01-27_09-04-47_061657_run_000000160', '/home/enrico/ds/performance_modelling/output/test_local_planning_gen_circles/session_2022-01-27_09-04-47_061657_run_000000165', '/home/enrico/ds/performance_modelling/output/test_local_planning_gen_circles/session_2022-01-27_09-04-47_061657_run_000000168', '/home/enrico/ds/performance_modelling/output/test_local_planning_gen_circles/session_2022-01-31_11-39-34_849288_run_000000006', '/home/enrico/ds/performance_modelling/output/test_local_planning_gen_circles/session_2022-01-31_18-43-50_761949_run_000000002', '/home/enrico/ds/performance_modelling/output/test_local_planning_gen_circles/session_2022-01-31_18-43-50_761949_run_000000003', '/home/enrico/ds/performance_modelling/output/test_local_planning_gen_circles/session_2022-01-31_18-43-50_761949_run_000000014', '/home/enrico/ds/performance_modelling/output/test_local_planning_gen_circles/session_2022-01-31_18-43-50_761949_run_000000017', '/home/enrico/ds/performance_modelling/output/test_local_planning_gen_circles/session_2022-01-31_18-43-50_761949_run_000000027', '/home/enrico/ds/performance_modelling/output/test_local_planning_gen_circles/session_2022-01-31_18-43-50_761949_run_000000036', '/home/enrico/ds/performance_modelling/output/test_local_planning_gen_circles/session_2022-01-31_18-43-50_761949_run_000000041', '/home/enrico/ds/performance_modelling/output/test_local_planning_gen_circles/session_2022-02-01_07-04-54_923293_run_000000007', '/home/enrico/ds/performance_modelling/output/test_local_planning_gen_circles/session_2022-02-01_07-04-54_923293_run_000000010', '/home/enrico/ds/performance_modelling/output/test_local_planning_gen_circles/session_2022-02-01_07-04-54_923293_run_000000034', '/home/enrico/ds/performance_modelling/output/test_local_planning_gen_circles/session_2022-02-01_07-04-54_923293_run_000000048', '/home/enrico/ds/performance_modelling/output/test_local_planning_gen_circles/session_2022-02-01_07-04-54_923293_run_000000056', '/home/enrico/ds/performance_modelling/output/test_local_planning_gen_circles/session_2022-02-01_07-04-54_923293_run_000000061', '/home/enrico/ds/performance_modelling/output/test_local_planning_gen_circles/session_2022-02-01_07-04-54_923293_run_000000066', '/home/enrico/ds/performance_modelling/output/test_local_planning_gen_circles/session_2022-02-01_07-04-54_923293_run_000000070', '/home/enrico/ds/performance_modelling/output/test_local_planning_gen_circles/session_2022-02-01_07-04-54_923293_run_000000072', '/home/enrico/ds/performance_modelling/output/test_local_planning_gen_circles/session_2022-02-01_07-04-54_923293_run_000000076', '/home/enrico/ds/performance_modelling/output/test_local_planning_gen_circles/session_2022-02-01_07-04-54_923293_run_000000086', '/home/enrico/ds/performance_modelling/output/test_local_planning_gen_circles/session_2022-02-01_07-04-54_923293_run_000000099', '/home/enrico/ds/performance_modelling/output/test_local_planning_gen_circles/session_2022-02-01_07-04-54_923293_run_000000102', '/home/enrico/ds/performance_modelling/output/test_local_planning_gen_circles/session_2022-02-01_07-04-54_923293_run_000000105', '/home/enrico/ds/performance_modelling/output/test_local_planning_gen_circles/session_2022-02-01_07-04-54_923293_run_000000106', '/home/enrico/ds/performance_modelling/output/test_local_planning_gen_circles/session_2022-02-01_07-04-54_923293_run_000000107', '/home/enrico/ds/performance_modelling/output/test_local_planning_gen_circles/session_2022-02-01_07-04-54_923293_run_000000120', '/home/enrico/ds/performance_modelling/output/test_local_planning_gen_circles/session_2022-02-01_07-04-54_923293_run_000000121', '/home/enrico/ds/performance_modelling/output/test_local_planning_gen_circles/session_2022-02-01_07-04-54_923293_run_000000134', '/home/enrico/ds/performance_modelling/output/test_local_planning_gen_circles/session_2022-02-01_07-04-54_923293_run_000000138', '/home/enrico/ds/performance_modelling/output/test_local_planning_gen_circles/session_2022-02-01_07-04-54_923293_run_000000140', '/home/enrico/ds/performance_modelling/output/test_local_planning_gen_circles/session_2022-02-01_07-04-54_923293_run_000000142', '/home/enrico/ds/performance_modelling/output/test_local_planning_gen_circles/session_2022-02-01_07-04-54_923293_run_000000145', '/home/enrico/ds/performance_modelling/output/test_local_planning_gen_circles/session_2022-02-01_07-04-54_923293_run_000000150', '/home/enrico/ds/performance_modelling/output/test_local_planning_gen_circles/session_2022-02-01_07-04-54_923293_run_000000151', '/home/enrico/ds/performance_modelling/output/test_local_planning_gen_circles/session_2022-02-01_07-04-54_923293_run_000000161', '/home/enrico/ds/performance_modelling/output/test_local_planning_gen_circles/session_2022-02-01_07-04-54_923293_run_000000171', '/home/enrico/ds/performance_modelling/output/test_local_planning_gen_circles/session_2022-02-01_07-04-54_923293_run_000000180', '/home/enrico/ds/performance_modelling/output/test_local_planning_gen_circles/session_2022-02-01_07-04-54_923293_run_000000196', '/home/enrico/ds/performance_modelling/output/test_local_planning_gen_circles/session_2022-02-01_07-04-54_923293_run_000000198', '/home/enrico/ds/performance_modelling/output/test_local_planning_gen_circles/session_2022-02-01_13-10-26_871626_run_000000012', '/home/enrico/ds/performance_modelling/output/test_local_planning_gen_circles/session_2022-02-02_11-59-17_127936_run_000000037', '/home/enrico/ds/performance_modelling/output/test_local_planning_gen_circles/session_2022-02-02_11-59-17_127936_run_000000045', '/home/enrico/ds/performance_modelling/output/test_local_planning_gen_circles/session_2022-02-02_11-59-17_127936_run_000000054', '/home/enrico/ds/performance_modelling/output/test_local_planning_gen_circles/session_2022-02-02_11-59-17_127936_run_000000059', '/home/enrico/ds/performance_modelling/output/test_local_planning_gen_circles/session_2022-02-02_11-59-17_127936_run_000000061', '/home/enrico/ds/performance_modelling/output/test_local_planning_gen_circles/session_2022-02-02_11-59-17_127936_run_000000065', '/home/enrico/ds/performance_modelling/output/test_local_planning_gen_circles/session_2022-02-02_11-59-17_127936_run_000000072', '/home/enrico/ds/performance_modelling/output/test_local_planning_gen_circles/session_2022-02-02_11-59-17_127936_run_000000073', '/home/enrico/ds/performance_modelling/output/test_local_planning_gen_circles/session_2022-02-02_11-59-17_127936_run_000000081', '/home/enrico/ds/performance_modelling/output/test_local_planning_gen_circles/session_2022-02-02_11-59-17_127936_run_000000095', '/home/enrico/ds/performance_modelling/output/test_local_planning_gen_circles/session_2022-02-02_11-59-17_127936_run_000000101', '/home/enrico/ds/performance_modelling/output/test_local_planning_gen_circles/session_2022-02-02_11-59-17_127936_run_000000102', '/home/enrico/ds/performance_modelling/output/test_local_planning_gen_circles/session_2022-02-02_11-59-17_127936_run_000000103', '/home/enrico/ds/performance_modelling/output/test_local_planning_gen_circles/session_2022-02-02_11-59-17_127936_run_000000117', '/home/enrico/ds/performance_modelling/output/test_local_planning_gen_circles/session_2022-02-02_11-59-17_127936_run_000000122', '/home/enrico/ds/performance_modelling/output/test_local_planning_gen_circles/session_2022-02-02_18-54-30_240812_run_000000005', '/home/enrico/ds/performance_modelling/output/test_local_planning_gen_circles/session_2022-02-02_18-54-30_240812_run_000000007', '/home/enrico/ds/performance_modelling/output/test_local_planning_gen_circles/session_2022-02-03_08-11-31_971567_run_000000005', '/home/enrico/ds/performance_modelling/output/test_local_planning_gen_circles/session_2022-02-03_08-11-31_971567_run_000000012', '/home/enrico/ds/performance_modelling/output/test_local_planning_gen_circles/session_2022-02-03_08-11-31_971567_run_000000020', '/home/enrico/ds/performance_modelling/output/test_local_planning_gen_circles/session_2022-02-03_08-11-31_971567_run_000000029', '/home/enrico/ds/performance_modelling/output/test_local_planning_gen_circles/session_2022-02-03_08-11-31_971567_run_000000030', '/home/enrico/ds/performance_modelling/output/test_local_planning_gen_circles/session_2022-02-03_08-11-31_971567_run_000000047', '/home/enrico/ds/performance_modelling/output/test_local_planning_gen_circles/session_2022-02-03_08-11-31_971567_run_000000053', '/home/enrico/ds/performance_modelling/output/test_local_planning_gen_circles/session_2022-02-03_08-11-31_971567_run_000000056', '/home/enrico/ds/performance_modelling/output/test_local_planning_gen_circles/session_2022-02-03_08-11-31_971567_run_000000059', '/home/enrico/ds/performance_modelling/output/test_local_planning_gen_circles/session_2022-02-03_08-11-31_971567_run_000000066', '/home/enrico/ds/performance_modelling/output/test_local_planning_gen_circles/session_2022-02-03_08-11-31_971567_run_000000067', '/home/enrico/ds/performance_modelling/output/test_local_planning_gen_circles/session_2022-02-03_08-11-31_971567_run_000000087', '/home/enrico/ds/performance_modelling/output/test_local_planning_gen_circles/session_2022-02-03_08-11-31_971567_run_000000090', '/home/enrico/ds/performance_modelling/output/test_local_planning_gen_circles/session_2022-02-03_08-11-31_971567_run_000000096', '/home/enrico/ds/performance_modelling/output/test_local_planning_gen_circles/session_2022-02-03_08-11-31_971567_run_000000097', '/home/enrico/ds/performance_modelling/output/test_local_planning_gen_circles/session_2022-02-03_08-11-31_971567_run_000000098', '/home/enrico/ds/performance_modelling/output/test_local_planning_gen_circles/session_2022-02-03_08-11-31_971567_run_000000102', '/home/enrico/ds/performance_modelling/output/test_local_planning_gen_circles/session_2022-02-03_08-11-31_971567_run_000000103', '/home/enrico/ds/performance_modelling/output/test_local_planning_gen_circles/session_2022-02-03_08-11-31_971567_run_000000127', '/home/enrico/ds/performance_modelling/output/test_local_planning_gen_circles/session_2022-02-03_08-11-31_971567_run_000000138', '/home/enrico/ds/performance_modelling/output/test_local_planning_gen_circles/session_2022-02-03_13-16-22_113017_run_000000004']\n"
     ]
    }
   ],
   "source": [
    "p_gen = list(map(lambda x: path.join(path.expanduser('~/ds/performance_modelling/output/test_local_planning_gen_circles/'), x), list(df_gen[df_gen.local_planner_node == 'rpp'].run_id)))\n",
    "print(p_gen)"
   ]
  },
  {
   "cell_type": "code",
   "execution_count": 21,
   "metadata": {
    "scrolled": true
   },
   "outputs": [
    {
     "name": "stdout",
     "output_type": "stream",
     "text": [
      "['/home/enrico/ds/performance_modelling/output/test_local_planning/session_2021-11-02_10-33-14_965419_run_000000070', '/home/enrico/ds/performance_modelling/output/test_local_planning/session_2021-11-02_13-54-20_413082_run_000000016', '/home/enrico/ds/performance_modelling/output/test_local_planning/session_2021-11-02_16-44-01_042364_run_000000015', '/home/enrico/ds/performance_modelling/output/test_local_planning/session_2021-11-02_16-44-01_042364_run_000000018', '/home/enrico/ds/performance_modelling/output/test_local_planning/session_2021-11-02_16-44-01_042364_run_000000029', '/home/enrico/ds/performance_modelling/output/test_local_planning/session_2021-11-02_16-44-01_042364_run_000000030', '/home/enrico/ds/performance_modelling/output/test_local_planning/session_2021-11-02_16-44-01_042364_run_000000046', '/home/enrico/ds/performance_modelling/output/test_local_planning/session_2021-11-03_03-23-26_500136_run_000000008', '/home/enrico/ds/performance_modelling/output/test_local_planning/session_2021-11-03_03-23-26_500136_run_000000009', '/home/enrico/ds/performance_modelling/output/test_local_planning/session_2021-11-03_03-23-26_500136_run_000000019', '/home/enrico/ds/performance_modelling/output/test_local_planning/session_2021-11-03_03-23-26_500136_run_000000031', '/home/enrico/ds/performance_modelling/output/test_local_planning/session_2021-11-03_03-23-26_500136_run_000000035', '/home/enrico/ds/performance_modelling/output/test_local_planning/session_2021-11-03_03-23-26_500136_run_000000040', '/home/enrico/ds/performance_modelling/output/test_local_planning/session_2021-11-03_03-23-26_500136_run_000000051', '/home/enrico/ds/performance_modelling/output/test_local_planning/session_2021-11-03_03-23-26_500136_run_000000083', '/home/enrico/ds/performance_modelling/output/test_local_planning/session_2021-11-03_03-23-26_500136_run_000000103', '/home/enrico/ds/performance_modelling/output/test_local_planning/session_2021-11-03_03-23-26_500136_run_000000107', '/home/enrico/ds/performance_modelling/output/test_local_planning/session_2021-11-03_03-23-26_500136_run_000000111', '/home/enrico/ds/performance_modelling/output/test_local_planning/session_2021-11-03_03-23-26_500136_run_000000113', '/home/enrico/ds/performance_modelling/output/test_local_planning/session_2021-11-03_03-23-26_500136_run_000000120', '/home/enrico/ds/performance_modelling/output/test_local_planning/session_2021-11-03_03-23-26_500136_run_000000129', '/home/enrico/ds/performance_modelling/output/test_local_planning/session_2021-11-03_03-23-26_500136_run_000000132', '/home/enrico/ds/performance_modelling/output/test_local_planning/session_2021-11-03_03-23-26_500136_run_000000145', '/home/enrico/ds/performance_modelling/output/test_local_planning/session_2021-11-03_03-23-26_500136_run_000000146', '/home/enrico/ds/performance_modelling/output/test_local_planning/session_2021-11-03_03-23-26_500136_run_000000171', '/home/enrico/ds/performance_modelling/output/test_local_planning/session_2021-11-03_03-23-26_500136_run_000000189', '/home/enrico/ds/performance_modelling/output/test_local_planning/session_2021-11-03_03-23-26_500136_run_000000190', '/home/enrico/ds/performance_modelling/output/test_local_planning/session_2021-11-03_03-23-26_500136_run_000000198', '/home/enrico/ds/performance_modelling/output/test_local_planning/session_2021-11-03_03-23-26_500136_run_000000226', '/home/enrico/ds/performance_modelling/output/test_local_planning/session_2021-11-03_03-23-26_500136_run_000000238', '/home/enrico/ds/performance_modelling/output/test_local_planning/session_2021-11-03_03-23-26_500136_run_000000248', '/home/enrico/ds/performance_modelling/output/test_local_planning/session_2021-11-03_03-23-26_500136_run_000000250', '/home/enrico/ds/performance_modelling/output/test_local_planning/session_2021-11-03_03-23-26_500136_run_000000256', '/home/enrico/ds/performance_modelling/output/test_local_planning/session_2021-11-03_03-23-26_500136_run_000000271', '/home/enrico/ds/performance_modelling/output/test_local_planning/session_2021-11-03_03-23-26_500136_run_000000292', '/home/enrico/ds/performance_modelling/output/test_local_planning/session_2021-11-03_03-23-26_500136_run_000000312', '/home/enrico/ds/performance_modelling/output/test_local_planning/session_2021-11-03_03-23-26_500136_run_000000348', '/home/enrico/ds/performance_modelling/output/test_local_planning/session_2021-11-03_03-23-26_500136_run_000000379', '/home/enrico/ds/performance_modelling/output/test_local_planning/session_2021-11-03_03-23-26_500136_run_000000392', '/home/enrico/ds/performance_modelling/output/test_local_planning/session_2021-11-03_03-23-26_500136_run_000000403', '/home/enrico/ds/performance_modelling/output/test_local_planning/session_2021-11-03_03-23-26_500136_run_000000412', '/home/enrico/ds/performance_modelling/output/test_local_planning/session_2021-11-03_03-23-26_500136_run_000000414', '/home/enrico/ds/performance_modelling/output/test_local_planning/session_2021-11-03_03-23-26_500136_run_000000417', '/home/enrico/ds/performance_modelling/output/test_local_planning/session_2021-11-03_03-23-26_500136_run_000000420', '/home/enrico/ds/performance_modelling/output/test_local_planning/session_2021-11-03_03-23-26_500136_run_000000426', '/home/enrico/ds/performance_modelling/output/test_local_planning/session_2021-11-03_03-23-26_500136_run_000000438', '/home/enrico/ds/performance_modelling/output/test_local_planning/session_2021-11-03_03-23-26_500136_run_000000471', '/home/enrico/ds/performance_modelling/output/test_local_planning/session_2021-11-03_03-23-26_500136_run_000000510', '/home/enrico/ds/performance_modelling/output/test_local_planning/session_2021-11-03_03-23-26_500136_run_000000542', '/home/enrico/ds/performance_modelling/output/test_local_planning/session_2021-11-03_03-23-26_500136_run_000000543', '/home/enrico/ds/performance_modelling/output/test_local_planning/session_2021-11-03_03-23-26_500136_run_000000563', '/home/enrico/ds/performance_modelling/output/test_local_planning/session_2021-11-03_03-23-26_500136_run_000000571', '/home/enrico/ds/performance_modelling/output/test_local_planning/session_2021-11-03_03-23-26_500136_run_000000580', '/home/enrico/ds/performance_modelling/output/test_local_planning/session_2021-11-03_03-23-26_500136_run_000000583', '/home/enrico/ds/performance_modelling/output/test_local_planning/session_2021-11-03_03-23-26_500136_run_000000612', '/home/enrico/ds/performance_modelling/output/test_local_planning/session_2021-11-03_03-23-26_500136_run_000000616', '/home/enrico/ds/performance_modelling/output/test_local_planning/session_2021-11-03_03-23-26_500136_run_000000620', '/home/enrico/ds/performance_modelling/output/test_local_planning/session_2021-11-03_03-23-26_500136_run_000000626', '/home/enrico/ds/performance_modelling/output/test_local_planning/session_2021-11-03_03-23-26_500136_run_000000639', '/home/enrico/ds/performance_modelling/output/test_local_planning/session_2021-11-03_03-23-26_500136_run_000000655', '/home/enrico/ds/performance_modelling/output/test_local_planning/session_2021-11-03_03-23-26_500136_run_000000674', '/home/enrico/ds/performance_modelling/output/test_local_planning/session_2021-11-03_03-23-26_500136_run_000000688', '/home/enrico/ds/performance_modelling/output/test_local_planning/session_2021-11-03_03-23-26_500136_run_000000691', '/home/enrico/ds/performance_modelling/output/test_local_planning/session_2021-11-03_03-23-26_500136_run_000000697', '/home/enrico/ds/performance_modelling/output/test_local_planning/session_2021-11-03_03-23-26_500136_run_000000699', '/home/enrico/ds/performance_modelling/output/test_local_planning/session_2021-11-03_03-23-26_500136_run_000000702', '/home/enrico/ds/performance_modelling/output/test_local_planning/session_2021-11-03_03-23-26_500136_run_000000706', '/home/enrico/ds/performance_modelling/output/test_local_planning/session_2021-11-03_22-12-57_836780_run_000000001', '/home/enrico/ds/performance_modelling/output/test_local_planning/session_2021-11-03_22-12-57_836780_run_000000023', '/home/enrico/ds/performance_modelling/output/test_local_planning/session_2021-11-03_22-12-57_836780_run_000000032', '/home/enrico/ds/performance_modelling/output/test_local_planning/session_2021-11-03_22-12-57_836780_run_000000034', '/home/enrico/ds/performance_modelling/output/test_local_planning/session_2021-11-03_22-12-57_836780_run_000000038', '/home/enrico/ds/performance_modelling/output/test_local_planning/session_2021-11-04_08-00-57_167708_run_000000006', '/home/enrico/ds/performance_modelling/output/test_local_planning/session_2021-11-04_08-00-57_167708_run_000000013', '/home/enrico/ds/performance_modelling/output/test_local_planning/session_2021-11-04_08-00-57_167708_run_000000014', '/home/enrico/ds/performance_modelling/output/test_local_planning/session_2021-11-04_08-00-57_167708_run_000000028', '/home/enrico/ds/performance_modelling/output/test_local_planning/session_2021-11-04_08-00-57_167708_run_000000034', '/home/enrico/ds/performance_modelling/output/test_local_planning/session_2021-11-04_08-00-57_167708_run_000000036', '/home/enrico/ds/performance_modelling/output/test_local_planning/session_2021-11-04_08-00-57_167708_run_000000067', '/home/enrico/ds/performance_modelling/output/test_local_planning/session_2021-11-04_08-00-57_167708_run_000000076', '/home/enrico/ds/performance_modelling/output/test_local_planning/session_2021-11-04_08-00-57_167708_run_000000080', '/home/enrico/ds/performance_modelling/output/test_local_planning/session_2021-11-04_08-00-57_167708_run_000000104', '/home/enrico/ds/performance_modelling/output/test_local_planning/session_2021-11-04_08-00-57_167708_run_000000112', '/home/enrico/ds/performance_modelling/output/test_local_planning/session_2021-11-04_08-00-57_167708_run_000000132', '/home/enrico/ds/performance_modelling/output/test_local_planning/session_2021-11-04_08-00-57_167708_run_000000136', '/home/enrico/ds/performance_modelling/output/test_local_planning/session_2021-11-04_08-00-57_167708_run_000000138', '/home/enrico/ds/performance_modelling/output/test_local_planning/session_2021-11-04_08-00-57_167708_run_000000144', '/home/enrico/ds/performance_modelling/output/test_local_planning/session_2021-11-04_08-00-57_167708_run_000000160', '/home/enrico/ds/performance_modelling/output/test_local_planning/session_2021-11-04_08-00-57_167708_run_000000164', '/home/enrico/ds/performance_modelling/output/test_local_planning/session_2021-11-04_08-00-57_167708_run_000000172', '/home/enrico/ds/performance_modelling/output/test_local_planning/session_2021-11-04_08-00-57_167708_run_000000183', '/home/enrico/ds/performance_modelling/output/test_local_planning/session_2021-11-04_08-00-57_167708_run_000000184', '/home/enrico/ds/performance_modelling/output/test_local_planning/session_2021-11-04_08-00-57_167708_run_000000186', '/home/enrico/ds/performance_modelling/output/test_local_planning/session_2021-11-04_08-00-57_167708_run_000000195', '/home/enrico/ds/performance_modelling/output/test_local_planning/session_2021-11-04_08-00-57_167708_run_000000196', '/home/enrico/ds/performance_modelling/output/test_local_planning/session_2021-11-04_08-00-57_167708_run_000000225', '/home/enrico/ds/performance_modelling/output/test_local_planning/session_2021-11-04_23-03-28_247570_run_000000009', '/home/enrico/ds/performance_modelling/output/test_local_planning/session_2021-11-04_23-03-28_247570_run_000000029', '/home/enrico/ds/performance_modelling/output/test_local_planning/session_2021-11-04_23-03-28_247570_run_000000036', '/home/enrico/ds/performance_modelling/output/test_local_planning/session_2021-11-04_23-03-28_247570_run_000000069', '/home/enrico/ds/performance_modelling/output/test_local_planning/session_2021-11-04_23-03-28_247570_run_000000070', '/home/enrico/ds/performance_modelling/output/test_local_planning/session_2021-11-04_23-03-28_247570_run_000000110', '/home/enrico/ds/performance_modelling/output/test_local_planning/session_2021-11-04_23-03-28_247570_run_000000115', '/home/enrico/ds/performance_modelling/output/test_local_planning/session_2021-11-04_23-03-28_247570_run_000000118', '/home/enrico/ds/performance_modelling/output/test_local_planning/session_2021-11-04_23-03-28_247570_run_000000123', '/home/enrico/ds/performance_modelling/output/test_local_planning/session_2021-11-04_23-03-28_247570_run_000000129', '/home/enrico/ds/performance_modelling/output/test_local_planning/session_2021-11-04_23-03-28_247570_run_000000133', '/home/enrico/ds/performance_modelling/output/test_local_planning/session_2021-11-04_23-03-28_247570_run_000000150', '/home/enrico/ds/performance_modelling/output/test_local_planning/session_2021-11-04_23-03-28_247570_run_000000167', '/home/enrico/ds/performance_modelling/output/test_local_planning/session_2021-11-04_23-03-28_247570_run_000000181', '/home/enrico/ds/performance_modelling/output/test_local_planning/session_2021-11-04_23-03-28_247570_run_000000184', '/home/enrico/ds/performance_modelling/output/test_local_planning/session_2021-11-04_23-03-28_247570_run_000000207', '/home/enrico/ds/performance_modelling/output/test_local_planning/session_2021-11-04_23-03-28_247570_run_000000219', '/home/enrico/ds/performance_modelling/output/test_local_planning/session_2021-11-04_23-03-28_247570_run_000000225', '/home/enrico/ds/performance_modelling/output/test_local_planning/session_2021-11-04_23-03-28_247570_run_000000229', '/home/enrico/ds/performance_modelling/output/test_local_planning/session_2021-11-04_23-03-28_247570_run_000000245', '/home/enrico/ds/performance_modelling/output/test_local_planning/session_2021-11-04_23-03-28_247570_run_000000259', '/home/enrico/ds/performance_modelling/output/test_local_planning/session_2021-11-04_23-03-28_247570_run_000000265', '/home/enrico/ds/performance_modelling/output/test_local_planning/session_2021-11-04_23-03-28_247570_run_000000268', '/home/enrico/ds/performance_modelling/output/test_local_planning/session_2021-11-04_23-03-28_247570_run_000000282', '/home/enrico/ds/performance_modelling/output/test_local_planning/session_2021-11-04_23-03-28_247570_run_000000297', '/home/enrico/ds/performance_modelling/output/test_local_planning/session_2021-11-04_23-03-28_247570_run_000000301', '/home/enrico/ds/performance_modelling/output/test_local_planning/session_2021-11-04_23-03-28_247570_run_000000314', '/home/enrico/ds/performance_modelling/output/test_local_planning/session_2021-11-04_23-03-28_247570_run_000000328', '/home/enrico/ds/performance_modelling/output/test_local_planning/session_2021-11-04_23-03-28_247570_run_000000354', '/home/enrico/ds/performance_modelling/output/test_local_planning/session_2021-11-04_23-03-28_247570_run_000000360', '/home/enrico/ds/performance_modelling/output/test_local_planning/session_2021-11-04_23-03-28_247570_run_000000362', '/home/enrico/ds/performance_modelling/output/test_local_planning/session_2021-11-04_23-03-28_247570_run_000000375', '/home/enrico/ds/performance_modelling/output/test_local_planning/session_2021-11-04_23-03-28_247570_run_000000382', '/home/enrico/ds/performance_modelling/output/test_local_planning/session_2021-11-04_23-03-28_247570_run_000000393', '/home/enrico/ds/performance_modelling/output/test_local_planning/session_2021-11-04_23-03-28_247570_run_000000404', '/home/enrico/ds/performance_modelling/output/test_local_planning/session_2021-11-04_23-03-28_247570_run_000000406', '/home/enrico/ds/performance_modelling/output/test_local_planning/session_2021-11-04_23-03-28_247570_run_000000415', '/home/enrico/ds/performance_modelling/output/test_local_planning/session_2021-11-04_23-03-28_247570_run_000000432', '/home/enrico/ds/performance_modelling/output/test_local_planning/session_2021-11-04_23-03-28_247570_run_000000444', '/home/enrico/ds/performance_modelling/output/test_local_planning/session_2021-11-04_23-03-28_247570_run_000000455', '/home/enrico/ds/performance_modelling/output/test_local_planning/session_2021-11-04_23-03-28_247570_run_000000469', '/home/enrico/ds/performance_modelling/output/test_local_planning/session_2021-11-04_23-03-28_247570_run_000000474', '/home/enrico/ds/performance_modelling/output/test_local_planning/session_2021-11-04_23-03-28_247570_run_000000533', '/home/enrico/ds/performance_modelling/output/test_local_planning/session_2021-11-04_23-03-28_247570_run_000000542', '/home/enrico/ds/performance_modelling/output/test_local_planning/session_2021-11-04_23-03-28_247570_run_000000547', '/home/enrico/ds/performance_modelling/output/test_local_planning/session_2021-11-04_23-03-28_247570_run_000000574', '/home/enrico/ds/performance_modelling/output/test_local_planning/session_2021-11-04_23-03-28_247570_run_000000577', '/home/enrico/ds/performance_modelling/output/test_local_planning/session_2021-11-04_23-03-28_247570_run_000000600', '/home/enrico/ds/performance_modelling/output/test_local_planning/session_2021-11-04_23-03-28_247570_run_000000608', '/home/enrico/ds/performance_modelling/output/test_local_planning/session_2021-11-04_23-03-28_247570_run_000000623', '/home/enrico/ds/performance_modelling/output/test_local_planning/session_2021-11-04_23-03-28_247570_run_000000637', '/home/enrico/ds/performance_modelling/output/test_local_planning/session_2021-11-04_23-03-28_247570_run_000000658', '/home/enrico/ds/performance_modelling/output/test_local_planning/session_2021-11-04_23-03-28_247570_run_000000661', '/home/enrico/ds/performance_modelling/output/test_local_planning/session_2021-11-04_23-03-28_247570_run_000000662', '/home/enrico/ds/performance_modelling/output/test_local_planning/session_2021-11-04_23-03-28_247570_run_000000673']\n"
     ]
    }
   ],
   "source": [
    "p_real = list(map(lambda x: path.join(path.expanduser('~/ds/performance_modelling/output/test_local_planning/'), x), list(df_real[df_real.local_planner_node == 'rpp'].run_id)))\n",
    "print(p_real)"
   ]
  },
  {
   "cell_type": "code",
   "execution_count": 22,
   "metadata": {
    "scrolled": false
   },
   "outputs": [
    {
     "name": "stdout",
     "output_type": "stream",
     "text": [
      "['/home/enrico/tmp/test/session_2022-01-18_12-10-42_573626_run_000000000', '/home/enrico/tmp/test/session_2022-01-18_12-44-09_873705_run_000000000', '/home/enrico/tmp/test/session_2022-01-18_12-44-09_873705_run_000000001', '/home/enrico/tmp/test/session_2022-01-18_12-44-09_873705_run_000000002', '/home/enrico/tmp/test/session_2022-01-18_12-44-09_873705_run_000000003']\n"
     ]
    }
   ],
   "source": [
    "p_test = ['/home/enrico/tmp/test/session_2022-01-18_12-10-42_573626_run_000000000',\n",
    "'/home/enrico/tmp/test/session_2022-01-18_12-44-09_873705_run_000000000',\n",
    "'/home/enrico/tmp/test/session_2022-01-18_12-44-09_873705_run_000000001',\n",
    "'/home/enrico/tmp/test/session_2022-01-18_12-44-09_873705_run_000000002',\n",
    "'/home/enrico/tmp/test/session_2022-01-18_12-44-09_873705_run_000000003']\n",
    "print(p_test)"
   ]
  },
  {
   "cell_type": "code",
   "execution_count": 28,
   "metadata": {
    "scrolled": false
   },
   "outputs": [
    {
     "name": "stdout",
     "output_type": "stream",
     "text": [
      "mv /home/enrico/ds/performance_modelling/output/test_local_planning/session_2021-11-02_10-33-14_965419_run_000000070 ~/tmp/test_local_planning_ex_rpp/\n",
      "mv /home/enrico/ds/performance_modelling/output/test_local_planning/session_2021-11-02_13-54-20_413082_run_000000016 ~/tmp/test_local_planning_ex_rpp/\n",
      "mv /home/enrico/ds/performance_modelling/output/test_local_planning/session_2021-11-02_16-44-01_042364_run_000000015 ~/tmp/test_local_planning_ex_rpp/\n",
      "mv /home/enrico/ds/performance_modelling/output/test_local_planning/session_2021-11-02_16-44-01_042364_run_000000018 ~/tmp/test_local_planning_ex_rpp/\n",
      "mv /home/enrico/ds/performance_modelling/output/test_local_planning/session_2021-11-02_16-44-01_042364_run_000000029 ~/tmp/test_local_planning_ex_rpp/\n",
      "mv /home/enrico/ds/performance_modelling/output/test_local_planning/session_2021-11-02_16-44-01_042364_run_000000030 ~/tmp/test_local_planning_ex_rpp/\n",
      "mv /home/enrico/ds/performance_modelling/output/test_local_planning/session_2021-11-02_16-44-01_042364_run_000000046 ~/tmp/test_local_planning_ex_rpp/\n",
      "mv /home/enrico/ds/performance_modelling/output/test_local_planning/session_2021-11-03_03-23-26_500136_run_000000008 ~/tmp/test_local_planning_ex_rpp/\n",
      "mv /home/enrico/ds/performance_modelling/output/test_local_planning/session_2021-11-03_03-23-26_500136_run_000000009 ~/tmp/test_local_planning_ex_rpp/\n",
      "mv /home/enrico/ds/performance_modelling/output/test_local_planning/session_2021-11-03_03-23-26_500136_run_000000019 ~/tmp/test_local_planning_ex_rpp/\n",
      "mv /home/enrico/ds/performance_modelling/output/test_local_planning/session_2021-11-03_03-23-26_500136_run_000000031 ~/tmp/test_local_planning_ex_rpp/\n",
      "mv /home/enrico/ds/performance_modelling/output/test_local_planning/session_2021-11-03_03-23-26_500136_run_000000035 ~/tmp/test_local_planning_ex_rpp/\n",
      "mv /home/enrico/ds/performance_modelling/output/test_local_planning/session_2021-11-03_03-23-26_500136_run_000000040 ~/tmp/test_local_planning_ex_rpp/\n",
      "mv /home/enrico/ds/performance_modelling/output/test_local_planning/session_2021-11-03_03-23-26_500136_run_000000051 ~/tmp/test_local_planning_ex_rpp/\n",
      "mv /home/enrico/ds/performance_modelling/output/test_local_planning/session_2021-11-03_03-23-26_500136_run_000000083 ~/tmp/test_local_planning_ex_rpp/\n",
      "mv /home/enrico/ds/performance_modelling/output/test_local_planning/session_2021-11-03_03-23-26_500136_run_000000103 ~/tmp/test_local_planning_ex_rpp/\n",
      "mv /home/enrico/ds/performance_modelling/output/test_local_planning/session_2021-11-03_03-23-26_500136_run_000000107 ~/tmp/test_local_planning_ex_rpp/\n",
      "mv /home/enrico/ds/performance_modelling/output/test_local_planning/session_2021-11-03_03-23-26_500136_run_000000111 ~/tmp/test_local_planning_ex_rpp/\n",
      "mv /home/enrico/ds/performance_modelling/output/test_local_planning/session_2021-11-03_03-23-26_500136_run_000000113 ~/tmp/test_local_planning_ex_rpp/\n",
      "mv /home/enrico/ds/performance_modelling/output/test_local_planning/session_2021-11-03_03-23-26_500136_run_000000120 ~/tmp/test_local_planning_ex_rpp/\n",
      "mv /home/enrico/ds/performance_modelling/output/test_local_planning/session_2021-11-03_03-23-26_500136_run_000000129 ~/tmp/test_local_planning_ex_rpp/\n",
      "mv /home/enrico/ds/performance_modelling/output/test_local_planning/session_2021-11-03_03-23-26_500136_run_000000132 ~/tmp/test_local_planning_ex_rpp/\n",
      "mv /home/enrico/ds/performance_modelling/output/test_local_planning/session_2021-11-03_03-23-26_500136_run_000000145 ~/tmp/test_local_planning_ex_rpp/\n",
      "mv /home/enrico/ds/performance_modelling/output/test_local_planning/session_2021-11-03_03-23-26_500136_run_000000146 ~/tmp/test_local_planning_ex_rpp/\n",
      "mv /home/enrico/ds/performance_modelling/output/test_local_planning/session_2021-11-03_03-23-26_500136_run_000000171 ~/tmp/test_local_planning_ex_rpp/\n",
      "mv /home/enrico/ds/performance_modelling/output/test_local_planning/session_2021-11-03_03-23-26_500136_run_000000189 ~/tmp/test_local_planning_ex_rpp/\n",
      "mv /home/enrico/ds/performance_modelling/output/test_local_planning/session_2021-11-03_03-23-26_500136_run_000000190 ~/tmp/test_local_planning_ex_rpp/\n",
      "mv /home/enrico/ds/performance_modelling/output/test_local_planning/session_2021-11-03_03-23-26_500136_run_000000198 ~/tmp/test_local_planning_ex_rpp/\n",
      "mv /home/enrico/ds/performance_modelling/output/test_local_planning/session_2021-11-03_03-23-26_500136_run_000000226 ~/tmp/test_local_planning_ex_rpp/\n",
      "mv /home/enrico/ds/performance_modelling/output/test_local_planning/session_2021-11-03_03-23-26_500136_run_000000238 ~/tmp/test_local_planning_ex_rpp/\n",
      "mv /home/enrico/ds/performance_modelling/output/test_local_planning/session_2021-11-03_03-23-26_500136_run_000000248 ~/tmp/test_local_planning_ex_rpp/\n",
      "mv /home/enrico/ds/performance_modelling/output/test_local_planning/session_2021-11-03_03-23-26_500136_run_000000250 ~/tmp/test_local_planning_ex_rpp/\n",
      "mv /home/enrico/ds/performance_modelling/output/test_local_planning/session_2021-11-03_03-23-26_500136_run_000000256 ~/tmp/test_local_planning_ex_rpp/\n",
      "mv /home/enrico/ds/performance_modelling/output/test_local_planning/session_2021-11-03_03-23-26_500136_run_000000271 ~/tmp/test_local_planning_ex_rpp/\n",
      "mv /home/enrico/ds/performance_modelling/output/test_local_planning/session_2021-11-03_03-23-26_500136_run_000000292 ~/tmp/test_local_planning_ex_rpp/\n",
      "mv /home/enrico/ds/performance_modelling/output/test_local_planning/session_2021-11-03_03-23-26_500136_run_000000312 ~/tmp/test_local_planning_ex_rpp/\n",
      "mv /home/enrico/ds/performance_modelling/output/test_local_planning/session_2021-11-03_03-23-26_500136_run_000000348 ~/tmp/test_local_planning_ex_rpp/\n",
      "mv /home/enrico/ds/performance_modelling/output/test_local_planning/session_2021-11-03_03-23-26_500136_run_000000379 ~/tmp/test_local_planning_ex_rpp/\n",
      "mv /home/enrico/ds/performance_modelling/output/test_local_planning/session_2021-11-03_03-23-26_500136_run_000000392 ~/tmp/test_local_planning_ex_rpp/\n",
      "mv /home/enrico/ds/performance_modelling/output/test_local_planning/session_2021-11-03_03-23-26_500136_run_000000403 ~/tmp/test_local_planning_ex_rpp/\n",
      "mv /home/enrico/ds/performance_modelling/output/test_local_planning/session_2021-11-03_03-23-26_500136_run_000000412 ~/tmp/test_local_planning_ex_rpp/\n",
      "mv /home/enrico/ds/performance_modelling/output/test_local_planning/session_2021-11-03_03-23-26_500136_run_000000414 ~/tmp/test_local_planning_ex_rpp/\n",
      "mv /home/enrico/ds/performance_modelling/output/test_local_planning/session_2021-11-03_03-23-26_500136_run_000000417 ~/tmp/test_local_planning_ex_rpp/\n",
      "mv /home/enrico/ds/performance_modelling/output/test_local_planning/session_2021-11-03_03-23-26_500136_run_000000420 ~/tmp/test_local_planning_ex_rpp/\n",
      "mv /home/enrico/ds/performance_modelling/output/test_local_planning/session_2021-11-03_03-23-26_500136_run_000000426 ~/tmp/test_local_planning_ex_rpp/\n",
      "mv /home/enrico/ds/performance_modelling/output/test_local_planning/session_2021-11-03_03-23-26_500136_run_000000438 ~/tmp/test_local_planning_ex_rpp/\n",
      "mv /home/enrico/ds/performance_modelling/output/test_local_planning/session_2021-11-03_03-23-26_500136_run_000000471 ~/tmp/test_local_planning_ex_rpp/\n",
      "mv /home/enrico/ds/performance_modelling/output/test_local_planning/session_2021-11-03_03-23-26_500136_run_000000510 ~/tmp/test_local_planning_ex_rpp/\n",
      "mv /home/enrico/ds/performance_modelling/output/test_local_planning/session_2021-11-03_03-23-26_500136_run_000000542 ~/tmp/test_local_planning_ex_rpp/\n",
      "mv /home/enrico/ds/performance_modelling/output/test_local_planning/session_2021-11-03_03-23-26_500136_run_000000543 ~/tmp/test_local_planning_ex_rpp/\n",
      "mv /home/enrico/ds/performance_modelling/output/test_local_planning/session_2021-11-03_03-23-26_500136_run_000000563 ~/tmp/test_local_planning_ex_rpp/\n",
      "mv /home/enrico/ds/performance_modelling/output/test_local_planning/session_2021-11-03_03-23-26_500136_run_000000571 ~/tmp/test_local_planning_ex_rpp/\n",
      "mv /home/enrico/ds/performance_modelling/output/test_local_planning/session_2021-11-03_03-23-26_500136_run_000000580 ~/tmp/test_local_planning_ex_rpp/\n",
      "mv /home/enrico/ds/performance_modelling/output/test_local_planning/session_2021-11-03_03-23-26_500136_run_000000583 ~/tmp/test_local_planning_ex_rpp/\n",
      "mv /home/enrico/ds/performance_modelling/output/test_local_planning/session_2021-11-03_03-23-26_500136_run_000000612 ~/tmp/test_local_planning_ex_rpp/\n"
     ]
    },
    {
     "name": "stdout",
     "output_type": "stream",
     "text": [
      "mv /home/enrico/ds/performance_modelling/output/test_local_planning/session_2021-11-03_03-23-26_500136_run_000000616 ~/tmp/test_local_planning_ex_rpp/\n",
      "mv /home/enrico/ds/performance_modelling/output/test_local_planning/session_2021-11-03_03-23-26_500136_run_000000620 ~/tmp/test_local_planning_ex_rpp/\n",
      "mv /home/enrico/ds/performance_modelling/output/test_local_planning/session_2021-11-03_03-23-26_500136_run_000000626 ~/tmp/test_local_planning_ex_rpp/\n",
      "mv /home/enrico/ds/performance_modelling/output/test_local_planning/session_2021-11-03_03-23-26_500136_run_000000639 ~/tmp/test_local_planning_ex_rpp/\n",
      "mv /home/enrico/ds/performance_modelling/output/test_local_planning/session_2021-11-03_03-23-26_500136_run_000000655 ~/tmp/test_local_planning_ex_rpp/\n",
      "mv /home/enrico/ds/performance_modelling/output/test_local_planning/session_2021-11-03_03-23-26_500136_run_000000674 ~/tmp/test_local_planning_ex_rpp/\n",
      "mv /home/enrico/ds/performance_modelling/output/test_local_planning/session_2021-11-03_03-23-26_500136_run_000000688 ~/tmp/test_local_planning_ex_rpp/\n",
      "mv /home/enrico/ds/performance_modelling/output/test_local_planning/session_2021-11-03_03-23-26_500136_run_000000691 ~/tmp/test_local_planning_ex_rpp/\n",
      "mv /home/enrico/ds/performance_modelling/output/test_local_planning/session_2021-11-03_03-23-26_500136_run_000000697 ~/tmp/test_local_planning_ex_rpp/\n",
      "mv /home/enrico/ds/performance_modelling/output/test_local_planning/session_2021-11-03_03-23-26_500136_run_000000699 ~/tmp/test_local_planning_ex_rpp/\n",
      "mv /home/enrico/ds/performance_modelling/output/test_local_planning/session_2021-11-03_03-23-26_500136_run_000000702 ~/tmp/test_local_planning_ex_rpp/\n",
      "mv /home/enrico/ds/performance_modelling/output/test_local_planning/session_2021-11-03_03-23-26_500136_run_000000706 ~/tmp/test_local_planning_ex_rpp/\n",
      "mv /home/enrico/ds/performance_modelling/output/test_local_planning/session_2021-11-03_22-12-57_836780_run_000000001 ~/tmp/test_local_planning_ex_rpp/\n",
      "mv /home/enrico/ds/performance_modelling/output/test_local_planning/session_2021-11-03_22-12-57_836780_run_000000023 ~/tmp/test_local_planning_ex_rpp/\n",
      "mv /home/enrico/ds/performance_modelling/output/test_local_planning/session_2021-11-03_22-12-57_836780_run_000000032 ~/tmp/test_local_planning_ex_rpp/\n",
      "mv /home/enrico/ds/performance_modelling/output/test_local_planning/session_2021-11-03_22-12-57_836780_run_000000034 ~/tmp/test_local_planning_ex_rpp/\n",
      "mv /home/enrico/ds/performance_modelling/output/test_local_planning/session_2021-11-03_22-12-57_836780_run_000000038 ~/tmp/test_local_planning_ex_rpp/\n",
      "mv /home/enrico/ds/performance_modelling/output/test_local_planning/session_2021-11-04_08-00-57_167708_run_000000006 ~/tmp/test_local_planning_ex_rpp/\n",
      "mv /home/enrico/ds/performance_modelling/output/test_local_planning/session_2021-11-04_08-00-57_167708_run_000000013 ~/tmp/test_local_planning_ex_rpp/\n",
      "mv /home/enrico/ds/performance_modelling/output/test_local_planning/session_2021-11-04_08-00-57_167708_run_000000014 ~/tmp/test_local_planning_ex_rpp/\n",
      "mv /home/enrico/ds/performance_modelling/output/test_local_planning/session_2021-11-04_08-00-57_167708_run_000000028 ~/tmp/test_local_planning_ex_rpp/\n",
      "mv /home/enrico/ds/performance_modelling/output/test_local_planning/session_2021-11-04_08-00-57_167708_run_000000034 ~/tmp/test_local_planning_ex_rpp/\n",
      "mv /home/enrico/ds/performance_modelling/output/test_local_planning/session_2021-11-04_08-00-57_167708_run_000000036 ~/tmp/test_local_planning_ex_rpp/\n",
      "mv /home/enrico/ds/performance_modelling/output/test_local_planning/session_2021-11-04_08-00-57_167708_run_000000067 ~/tmp/test_local_planning_ex_rpp/\n",
      "mv /home/enrico/ds/performance_modelling/output/test_local_planning/session_2021-11-04_08-00-57_167708_run_000000076 ~/tmp/test_local_planning_ex_rpp/\n",
      "mv /home/enrico/ds/performance_modelling/output/test_local_planning/session_2021-11-04_08-00-57_167708_run_000000080 ~/tmp/test_local_planning_ex_rpp/\n",
      "mv /home/enrico/ds/performance_modelling/output/test_local_planning/session_2021-11-04_08-00-57_167708_run_000000104 ~/tmp/test_local_planning_ex_rpp/\n",
      "mv /home/enrico/ds/performance_modelling/output/test_local_planning/session_2021-11-04_08-00-57_167708_run_000000112 ~/tmp/test_local_planning_ex_rpp/\n",
      "mv /home/enrico/ds/performance_modelling/output/test_local_planning/session_2021-11-04_08-00-57_167708_run_000000132 ~/tmp/test_local_planning_ex_rpp/\n",
      "mv /home/enrico/ds/performance_modelling/output/test_local_planning/session_2021-11-04_08-00-57_167708_run_000000136 ~/tmp/test_local_planning_ex_rpp/\n",
      "mv /home/enrico/ds/performance_modelling/output/test_local_planning/session_2021-11-04_08-00-57_167708_run_000000138 ~/tmp/test_local_planning_ex_rpp/\n",
      "mv /home/enrico/ds/performance_modelling/output/test_local_planning/session_2021-11-04_08-00-57_167708_run_000000144 ~/tmp/test_local_planning_ex_rpp/\n",
      "mv /home/enrico/ds/performance_modelling/output/test_local_planning/session_2021-11-04_08-00-57_167708_run_000000160 ~/tmp/test_local_planning_ex_rpp/\n",
      "mv /home/enrico/ds/performance_modelling/output/test_local_planning/session_2021-11-04_08-00-57_167708_run_000000164 ~/tmp/test_local_planning_ex_rpp/\n",
      "mv /home/enrico/ds/performance_modelling/output/test_local_planning/session_2021-11-04_08-00-57_167708_run_000000172 ~/tmp/test_local_planning_ex_rpp/\n",
      "mv /home/enrico/ds/performance_modelling/output/test_local_planning/session_2021-11-04_08-00-57_167708_run_000000183 ~/tmp/test_local_planning_ex_rpp/\n",
      "mv /home/enrico/ds/performance_modelling/output/test_local_planning/session_2021-11-04_08-00-57_167708_run_000000184 ~/tmp/test_local_planning_ex_rpp/\n",
      "mv /home/enrico/ds/performance_modelling/output/test_local_planning/session_2021-11-04_08-00-57_167708_run_000000186 ~/tmp/test_local_planning_ex_rpp/\n",
      "mv /home/enrico/ds/performance_modelling/output/test_local_planning/session_2021-11-04_08-00-57_167708_run_000000195 ~/tmp/test_local_planning_ex_rpp/\n",
      "mv /home/enrico/ds/performance_modelling/output/test_local_planning/session_2021-11-04_08-00-57_167708_run_000000196 ~/tmp/test_local_planning_ex_rpp/\n",
      "mv /home/enrico/ds/performance_modelling/output/test_local_planning/session_2021-11-04_08-00-57_167708_run_000000225 ~/tmp/test_local_planning_ex_rpp/\n",
      "mv /home/enrico/ds/performance_modelling/output/test_local_planning/session_2021-11-04_23-03-28_247570_run_000000009 ~/tmp/test_local_planning_ex_rpp/\n",
      "mv /home/enrico/ds/performance_modelling/output/test_local_planning/session_2021-11-04_23-03-28_247570_run_000000029 ~/tmp/test_local_planning_ex_rpp/\n",
      "mv /home/enrico/ds/performance_modelling/output/test_local_planning/session_2021-11-04_23-03-28_247570_run_000000036 ~/tmp/test_local_planning_ex_rpp/\n",
      "mv /home/enrico/ds/performance_modelling/output/test_local_planning/session_2021-11-04_23-03-28_247570_run_000000069 ~/tmp/test_local_planning_ex_rpp/\n",
      "mv /home/enrico/ds/performance_modelling/output/test_local_planning/session_2021-11-04_23-03-28_247570_run_000000070 ~/tmp/test_local_planning_ex_rpp/\n",
      "mv /home/enrico/ds/performance_modelling/output/test_local_planning/session_2021-11-04_23-03-28_247570_run_000000110 ~/tmp/test_local_planning_ex_rpp/\n",
      "mv /home/enrico/ds/performance_modelling/output/test_local_planning/session_2021-11-04_23-03-28_247570_run_000000115 ~/tmp/test_local_planning_ex_rpp/\n",
      "mv /home/enrico/ds/performance_modelling/output/test_local_planning/session_2021-11-04_23-03-28_247570_run_000000118 ~/tmp/test_local_planning_ex_rpp/\n",
      "mv /home/enrico/ds/performance_modelling/output/test_local_planning/session_2021-11-04_23-03-28_247570_run_000000123 ~/tmp/test_local_planning_ex_rpp/\n",
      "mv /home/enrico/ds/performance_modelling/output/test_local_planning/session_2021-11-04_23-03-28_247570_run_000000129 ~/tmp/test_local_planning_ex_rpp/\n",
      "mv /home/enrico/ds/performance_modelling/output/test_local_planning/session_2021-11-04_23-03-28_247570_run_000000133 ~/tmp/test_local_planning_ex_rpp/\n",
      "mv /home/enrico/ds/performance_modelling/output/test_local_planning/session_2021-11-04_23-03-28_247570_run_000000150 ~/tmp/test_local_planning_ex_rpp/\n",
      "mv /home/enrico/ds/performance_modelling/output/test_local_planning/session_2021-11-04_23-03-28_247570_run_000000167 ~/tmp/test_local_planning_ex_rpp/\n",
      "mv /home/enrico/ds/performance_modelling/output/test_local_planning/session_2021-11-04_23-03-28_247570_run_000000181 ~/tmp/test_local_planning_ex_rpp/\n"
     ]
    },
    {
     "name": "stdout",
     "output_type": "stream",
     "text": [
      "mv /home/enrico/ds/performance_modelling/output/test_local_planning/session_2021-11-04_23-03-28_247570_run_000000184 ~/tmp/test_local_planning_ex_rpp/\n",
      "mv /home/enrico/ds/performance_modelling/output/test_local_planning/session_2021-11-04_23-03-28_247570_run_000000207 ~/tmp/test_local_planning_ex_rpp/\n",
      "mv /home/enrico/ds/performance_modelling/output/test_local_planning/session_2021-11-04_23-03-28_247570_run_000000219 ~/tmp/test_local_planning_ex_rpp/\n",
      "mv /home/enrico/ds/performance_modelling/output/test_local_planning/session_2021-11-04_23-03-28_247570_run_000000225 ~/tmp/test_local_planning_ex_rpp/\n",
      "mv /home/enrico/ds/performance_modelling/output/test_local_planning/session_2021-11-04_23-03-28_247570_run_000000229 ~/tmp/test_local_planning_ex_rpp/\n",
      "mv /home/enrico/ds/performance_modelling/output/test_local_planning/session_2021-11-04_23-03-28_247570_run_000000245 ~/tmp/test_local_planning_ex_rpp/\n",
      "mv /home/enrico/ds/performance_modelling/output/test_local_planning/session_2021-11-04_23-03-28_247570_run_000000259 ~/tmp/test_local_planning_ex_rpp/\n",
      "mv /home/enrico/ds/performance_modelling/output/test_local_planning/session_2021-11-04_23-03-28_247570_run_000000265 ~/tmp/test_local_planning_ex_rpp/\n",
      "mv /home/enrico/ds/performance_modelling/output/test_local_planning/session_2021-11-04_23-03-28_247570_run_000000268 ~/tmp/test_local_planning_ex_rpp/\n",
      "mv /home/enrico/ds/performance_modelling/output/test_local_planning/session_2021-11-04_23-03-28_247570_run_000000282 ~/tmp/test_local_planning_ex_rpp/\n",
      "mv /home/enrico/ds/performance_modelling/output/test_local_planning/session_2021-11-04_23-03-28_247570_run_000000297 ~/tmp/test_local_planning_ex_rpp/\n",
      "mv /home/enrico/ds/performance_modelling/output/test_local_planning/session_2021-11-04_23-03-28_247570_run_000000301 ~/tmp/test_local_planning_ex_rpp/\n",
      "mv /home/enrico/ds/performance_modelling/output/test_local_planning/session_2021-11-04_23-03-28_247570_run_000000314 ~/tmp/test_local_planning_ex_rpp/\n",
      "mv /home/enrico/ds/performance_modelling/output/test_local_planning/session_2021-11-04_23-03-28_247570_run_000000328 ~/tmp/test_local_planning_ex_rpp/\n",
      "mv /home/enrico/ds/performance_modelling/output/test_local_planning/session_2021-11-04_23-03-28_247570_run_000000354 ~/tmp/test_local_planning_ex_rpp/\n",
      "mv /home/enrico/ds/performance_modelling/output/test_local_planning/session_2021-11-04_23-03-28_247570_run_000000360 ~/tmp/test_local_planning_ex_rpp/\n",
      "mv /home/enrico/ds/performance_modelling/output/test_local_planning/session_2021-11-04_23-03-28_247570_run_000000362 ~/tmp/test_local_planning_ex_rpp/\n",
      "mv /home/enrico/ds/performance_modelling/output/test_local_planning/session_2021-11-04_23-03-28_247570_run_000000375 ~/tmp/test_local_planning_ex_rpp/\n",
      "mv /home/enrico/ds/performance_modelling/output/test_local_planning/session_2021-11-04_23-03-28_247570_run_000000382 ~/tmp/test_local_planning_ex_rpp/\n",
      "mv /home/enrico/ds/performance_modelling/output/test_local_planning/session_2021-11-04_23-03-28_247570_run_000000393 ~/tmp/test_local_planning_ex_rpp/\n",
      "mv /home/enrico/ds/performance_modelling/output/test_local_planning/session_2021-11-04_23-03-28_247570_run_000000404 ~/tmp/test_local_planning_ex_rpp/\n",
      "mv /home/enrico/ds/performance_modelling/output/test_local_planning/session_2021-11-04_23-03-28_247570_run_000000406 ~/tmp/test_local_planning_ex_rpp/\n",
      "mv /home/enrico/ds/performance_modelling/output/test_local_planning/session_2021-11-04_23-03-28_247570_run_000000415 ~/tmp/test_local_planning_ex_rpp/\n",
      "mv /home/enrico/ds/performance_modelling/output/test_local_planning/session_2021-11-04_23-03-28_247570_run_000000432 ~/tmp/test_local_planning_ex_rpp/\n",
      "mv /home/enrico/ds/performance_modelling/output/test_local_planning/session_2021-11-04_23-03-28_247570_run_000000444 ~/tmp/test_local_planning_ex_rpp/\n",
      "mv /home/enrico/ds/performance_modelling/output/test_local_planning/session_2021-11-04_23-03-28_247570_run_000000455 ~/tmp/test_local_planning_ex_rpp/\n",
      "mv /home/enrico/ds/performance_modelling/output/test_local_planning/session_2021-11-04_23-03-28_247570_run_000000469 ~/tmp/test_local_planning_ex_rpp/\n",
      "mv /home/enrico/ds/performance_modelling/output/test_local_planning/session_2021-11-04_23-03-28_247570_run_000000474 ~/tmp/test_local_planning_ex_rpp/\n",
      "mv /home/enrico/ds/performance_modelling/output/test_local_planning/session_2021-11-04_23-03-28_247570_run_000000533 ~/tmp/test_local_planning_ex_rpp/\n",
      "mv /home/enrico/ds/performance_modelling/output/test_local_planning/session_2021-11-04_23-03-28_247570_run_000000542 ~/tmp/test_local_planning_ex_rpp/\n",
      "mv /home/enrico/ds/performance_modelling/output/test_local_planning/session_2021-11-04_23-03-28_247570_run_000000547 ~/tmp/test_local_planning_ex_rpp/\n",
      "mv /home/enrico/ds/performance_modelling/output/test_local_planning/session_2021-11-04_23-03-28_247570_run_000000574 ~/tmp/test_local_planning_ex_rpp/\n",
      "mv /home/enrico/ds/performance_modelling/output/test_local_planning/session_2021-11-04_23-03-28_247570_run_000000577 ~/tmp/test_local_planning_ex_rpp/\n",
      "mv /home/enrico/ds/performance_modelling/output/test_local_planning/session_2021-11-04_23-03-28_247570_run_000000600 ~/tmp/test_local_planning_ex_rpp/\n",
      "mv /home/enrico/ds/performance_modelling/output/test_local_planning/session_2021-11-04_23-03-28_247570_run_000000608 ~/tmp/test_local_planning_ex_rpp/\n",
      "mv /home/enrico/ds/performance_modelling/output/test_local_planning/session_2021-11-04_23-03-28_247570_run_000000623 ~/tmp/test_local_planning_ex_rpp/\n",
      "mv /home/enrico/ds/performance_modelling/output/test_local_planning/session_2021-11-04_23-03-28_247570_run_000000637 ~/tmp/test_local_planning_ex_rpp/\n",
      "mv /home/enrico/ds/performance_modelling/output/test_local_planning/session_2021-11-04_23-03-28_247570_run_000000658 ~/tmp/test_local_planning_ex_rpp/\n",
      "mv /home/enrico/ds/performance_modelling/output/test_local_planning/session_2021-11-04_23-03-28_247570_run_000000661 ~/tmp/test_local_planning_ex_rpp/\n",
      "mv /home/enrico/ds/performance_modelling/output/test_local_planning/session_2021-11-04_23-03-28_247570_run_000000662 ~/tmp/test_local_planning_ex_rpp/\n",
      "mv /home/enrico/ds/performance_modelling/output/test_local_planning/session_2021-11-04_23-03-28_247570_run_000000673 ~/tmp/test_local_planning_ex_rpp/\n"
     ]
    }
   ],
   "source": [
    "for p in p_real:\n",
    "    if path.exists(p):\n",
    "        !mv {p} -t ~/tmp/test_local_planning_ex_rpp/\n",
    "        print(\"mv\", p, \"~/tmp/test_local_planning_ex_rpp/\")\n",
    "    else:\n",
    "        print(\"file not found\", p)"
   ]
  },
  {
   "cell_type": "code",
   "execution_count": null,
   "metadata": {},
   "outputs": [],
   "source": []
  },
  {
   "cell_type": "code",
   "execution_count": null,
   "metadata": {},
   "outputs": [],
   "source": []
  },
  {
   "cell_type": "code",
   "execution_count": null,
   "metadata": {},
   "outputs": [],
   "source": []
  },
  {
   "cell_type": "code",
   "execution_count": null,
   "metadata": {},
   "outputs": [],
   "source": []
  },
  {
   "cell_type": "code",
   "execution_count": null,
   "metadata": {},
   "outputs": [],
   "source": []
  },
  {
   "cell_type": "code",
   "execution_count": null,
   "metadata": {},
   "outputs": [],
   "source": []
  },
  {
   "cell_type": "code",
   "execution_count": null,
   "metadata": {},
   "outputs": [],
   "source": []
  },
  {
   "cell_type": "code",
   "execution_count": null,
   "metadata": {},
   "outputs": [],
   "source": []
  },
  {
   "cell_type": "code",
   "execution_count": null,
   "metadata": {},
   "outputs": [],
   "source": []
  },
  {
   "cell_type": "code",
   "execution_count": null,
   "metadata": {},
   "outputs": [],
   "source": []
  },
  {
   "cell_type": "code",
   "execution_count": null,
   "metadata": {},
   "outputs": [],
   "source": []
  },
  {
   "cell_type": "code",
   "execution_count": null,
   "metadata": {},
   "outputs": [],
   "source": []
  },
  {
   "cell_type": "code",
   "execution_count": null,
   "metadata": {},
   "outputs": [],
   "source": []
  },
  {
   "cell_type": "code",
   "execution_count": null,
   "metadata": {},
   "outputs": [],
   "source": []
  },
  {
   "cell_type": "code",
   "execution_count": null,
   "metadata": {},
   "outputs": [],
   "source": []
  },
  {
   "cell_type": "code",
   "execution_count": null,
   "metadata": {},
   "outputs": [],
   "source": []
  },
  {
   "cell_type": "code",
   "execution_count": null,
   "metadata": {},
   "outputs": [],
   "source": []
  },
  {
   "cell_type": "code",
   "execution_count": null,
   "metadata": {},
   "outputs": [],
   "source": []
  },
  {
   "cell_type": "code",
   "execution_count": null,
   "metadata": {},
   "outputs": [],
   "source": []
  },
  {
   "cell_type": "code",
   "execution_count": null,
   "metadata": {},
   "outputs": [],
   "source": []
  },
  {
   "cell_type": "code",
   "execution_count": null,
   "metadata": {},
   "outputs": [],
   "source": []
  }
 ],
 "metadata": {
  "kernelspec": {
   "display_name": "Python 3",
   "language": "python",
   "name": "python3"
  },
  "language_info": {
   "codemirror_mode": {
    "name": "ipython",
    "version": 3
   },
   "file_extension": ".py",
   "mimetype": "text/x-python",
   "name": "python",
   "nbconvert_exporter": "python",
   "pygments_lexer": "ipython3",
   "version": "3.8.10"
  }
 },
 "nbformat": 4,
 "nbformat_minor": 4
}
