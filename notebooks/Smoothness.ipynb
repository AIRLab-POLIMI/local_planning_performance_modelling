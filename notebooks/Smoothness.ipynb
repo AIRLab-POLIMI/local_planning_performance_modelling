{
 "cells": [
  {
   "cell_type": "code",
   "execution_count": 1,
   "id": "e5bfd9d7",
   "metadata": {},
   "outputs": [],
   "source": [
    "import math as m\n",
    "import numpy as np\n",
    "import pandas as pd\n",
    "from itertools import islice"
   ]
  },
  {
   "cell_type": "code",
   "execution_count": 32,
   "id": "6206a91c",
   "metadata": {},
   "outputs": [],
   "source": [
    "p1 = [0, 1]\n",
    "p2 = [1, 2]\n",
    "p3 = [2, 1]\n",
    "p4 = [1, 0]\n"
   ]
  },
  {
   "cell_type": "code",
   "execution_count": 33,
   "id": "9cc082a1",
   "metadata": {
    "scrolled": true
   },
   "outputs": [
    {
     "name": "stdout",
     "output_type": "stream",
     "text": [
      "-45.0\n"
     ]
    }
   ],
   "source": [
    "theta = m.atan2(p3[1]-p2[1], p3[0]-p2[0]) \n",
    "print(theta * 180/m.pi)"
   ]
  },
  {
   "cell_type": "code",
   "execution_count": 34,
   "id": "49becde5",
   "metadata": {},
   "outputs": [
    {
     "name": "stdout",
     "output_type": "stream",
     "text": [
      "-135.0\n"
     ]
    }
   ],
   "source": [
    "theta2 = m.atan2(p1[1]-p2[1], p1[0]-p2[0])\n",
    "print(theta2 * 180/m.pi)"
   ]
  },
  {
   "cell_type": "code",
   "execution_count": 35,
   "id": "81c7e56c",
   "metadata": {},
   "outputs": [
    {
     "name": "stdout",
     "output_type": "stream",
     "text": [
      "90.0\n"
     ]
    }
   ],
   "source": [
    "res = theta - theta2\n",
    "print(res * 180/m.pi)"
   ]
  },
  {
   "cell_type": "code",
   "execution_count": 36,
   "id": "225cc628",
   "metadata": {},
   "outputs": [
    {
     "name": "stdout",
     "output_type": "stream",
     "text": [
      "-135.0\n"
     ]
    }
   ],
   "source": [
    "theta3 = m.atan2(p4[1]-p3[1], p4[0]-p3[0]) \n",
    "print(theta3 * 180/m.pi)"
   ]
  },
  {
   "cell_type": "code",
   "execution_count": 37,
   "id": "23db6e58",
   "metadata": {},
   "outputs": [
    {
     "name": "stdout",
     "output_type": "stream",
     "text": [
      "135.0\n"
     ]
    }
   ],
   "source": [
    "theta4 = m.atan2(p2[1]-p3[1], p2[0]-p3[0])\n",
    "print(theta4 * 180/m.pi)"
   ]
  },
  {
   "cell_type": "code",
   "execution_count": 38,
   "id": "1a9e78a5",
   "metadata": {},
   "outputs": [
    {
     "name": "stdout",
     "output_type": "stream",
     "text": [
      "-270.0\n"
     ]
    }
   ],
   "source": [
    "res2 = theta3 - theta4\n",
    "print(res2 *180/m.pi )"
   ]
  },
  {
   "cell_type": "code",
   "execution_count": 52,
   "id": "81082823",
   "metadata": {},
   "outputs": [
    {
     "name": "stdout",
     "output_type": "stream",
     "text": [
      "90.0\n"
     ]
    }
   ],
   "source": [
    "if (abs(res2) > m.pi ):\n",
    "    res2 = res2 < 0 if 2 * m.pi + res2 else 2 * m.pi - res2\n",
    "print(res2 *180/m.pi)"
   ]
  },
  {
   "cell_type": "code",
   "execution_count": 39,
   "id": "3fba5436",
   "metadata": {},
   "outputs": [
    {
     "name": "stdout",
     "output_type": "stream",
     "text": [
      "-180.0\n"
     ]
    }
   ],
   "source": [
    "smooth = res + res2\n",
    "print(smooth*180/m.pi)"
   ]
  },
  {
   "cell_type": "code",
   "execution_count": 40,
   "id": "7e51a115",
   "metadata": {},
   "outputs": [
    {
     "name": "stdout",
     "output_type": "stream",
     "text": [
      "45.0\n"
     ]
    }
   ],
   "source": [
    "theta5 = m.atan2(p3[1]-p4[1], p3[0]-p4[0]) #quando trasli prendi il modulo (altrimenti casino con coordinate negative)\n",
    "print(theta5 * 180/m.pi)"
   ]
  },
  {
   "cell_type": "code",
   "execution_count": 41,
   "id": "96d99a38",
   "metadata": {},
   "outputs": [
    {
     "name": "stdout",
     "output_type": "stream",
     "text": [
      "135.0\n"
     ]
    }
   ],
   "source": [
    "theta6 = m.atan2(p1[1]-p4[1], p1[0]-p4[0])\n",
    "print(theta6*180/m.pi)"
   ]
  },
  {
   "cell_type": "code",
   "execution_count": 42,
   "id": "1337d091",
   "metadata": {},
   "outputs": [
    {
     "name": "stdout",
     "output_type": "stream",
     "text": [
      "-90.0\n"
     ]
    }
   ],
   "source": [
    "res3 = theta5 - theta6\n",
    "print(res3 *180/m.pi )"
   ]
  },
  {
   "cell_type": "code",
   "execution_count": 43,
   "id": "3f18bdf0",
   "metadata": {},
   "outputs": [
    {
     "name": "stdout",
     "output_type": "stream",
     "text": [
      "-270.0\n"
     ]
    }
   ],
   "source": [
    "smooth2 = smooth + res3\n",
    "print(smooth2 *180/m.pi)"
   ]
  },
  {
   "cell_type": "code",
   "execution_count": 62,
   "id": "f038b332",
   "metadata": {},
   "outputs": [
    {
     "name": "stdout",
     "output_type": "stream",
     "text": [
      "Before conversion:  90.0\n",
      "After conversion:  90.0\n"
     ]
    }
   ],
   "source": [
    "# Algorithm\n",
    "\n",
    "# compute the angle given points p1, p2, p3 being p2 the point where the 'turning' happens\n",
    "angle = m.atan2(p3[1]-p2[1], p3[0]-p2[0]) - m.atan2(p1[1]-p2[1], p1[0]-p2[0])\n",
    "print(\"Before conversion: \", angle * 180/m.pi)\n",
    "\n",
    "# if the angle is greater than 180° convert it to a value x such that -pi<x<+pi\n",
    "if (abs(angle) > m.pi ):\n",
    "    angle = 2 * m.pi + angle if angle < 0 else -2 * m.pi + angle\n",
    "print(\"After conversion: \", angle * 180/m.pi)"
   ]
  },
  {
   "cell_type": "code",
   "execution_count": 2,
   "id": "8a0ae55b",
   "metadata": {
    "scrolled": true
   },
   "outputs": [],
   "source": [
    "ground_truth_poses_df = pd.read_csv('/home/emanuele/Desktop/ground_truth_poses.csv')\n",
    "ground_truth_positions = ground_truth_poses_df[['x', 'y']].values\n",
    "deltas = (ground_truth_positions[1:-1] - ground_truth_positions[0:-2])"
   ]
  },
  {
   "cell_type": "code",
   "execution_count": 3,
   "id": "66976be3",
   "metadata": {
    "scrolled": true
   },
   "outputs": [
    {
     "data": {
      "text/html": [
       "<div>\n",
       "<style scoped>\n",
       "    .dataframe tbody tr th:only-of-type {\n",
       "        vertical-align: middle;\n",
       "    }\n",
       "\n",
       "    .dataframe tbody tr th {\n",
       "        vertical-align: top;\n",
       "    }\n",
       "\n",
       "    .dataframe thead th {\n",
       "        text-align: right;\n",
       "    }\n",
       "</style>\n",
       "<table border=\"1\" class=\"dataframe\">\n",
       "  <thead>\n",
       "    <tr style=\"text-align: right;\">\n",
       "      <th></th>\n",
       "      <th>t</th>\n",
       "      <th>x</th>\n",
       "      <th>y</th>\n",
       "      <th>theta</th>\n",
       "      <th>v_x</th>\n",
       "      <th>v_y</th>\n",
       "      <th>v_theta</th>\n",
       "    </tr>\n",
       "  </thead>\n",
       "  <tbody>\n",
       "    <tr>\n",
       "      <th>0</th>\n",
       "      <td>7.271</td>\n",
       "      <td>0</td>\n",
       "      <td>1</td>\n",
       "      <td>1.963334</td>\n",
       "      <td>-0.000200</td>\n",
       "      <td>0.000722</td>\n",
       "      <td>-0.000692</td>\n",
       "    </tr>\n",
       "    <tr>\n",
       "      <th>1</th>\n",
       "      <td>7.321</td>\n",
       "      <td>1</td>\n",
       "      <td>2</td>\n",
       "      <td>1.963333</td>\n",
       "      <td>-0.000245</td>\n",
       "      <td>0.000760</td>\n",
       "      <td>-0.000698</td>\n",
       "    </tr>\n",
       "    <tr>\n",
       "      <th>2</th>\n",
       "      <td>7.371</td>\n",
       "      <td>2</td>\n",
       "      <td>1</td>\n",
       "      <td>1.932275</td>\n",
       "      <td>0.051480</td>\n",
       "      <td>-0.132363</td>\n",
       "      <td>-0.925212</td>\n",
       "    </tr>\n",
       "    <tr>\n",
       "      <th>3</th>\n",
       "      <td>7.421</td>\n",
       "      <td>3</td>\n",
       "      <td>2</td>\n",
       "      <td>1.901164</td>\n",
       "      <td>0.015751</td>\n",
       "      <td>-0.020321</td>\n",
       "      <td>0.121696</td>\n",
       "    </tr>\n",
       "    <tr>\n",
       "      <th>4</th>\n",
       "      <td>NaN</td>\n",
       "      <td>0</td>\n",
       "      <td>0</td>\n",
       "      <td>NaN</td>\n",
       "      <td>NaN</td>\n",
       "      <td>NaN</td>\n",
       "      <td>NaN</td>\n",
       "    </tr>\n",
       "  </tbody>\n",
       "</table>\n",
       "</div>"
      ],
      "text/plain": [
       "       t  x  y     theta       v_x       v_y   v_theta\n",
       "0  7.271  0  1  1.963334 -0.000200  0.000722 -0.000692\n",
       "1  7.321  1  2  1.963333 -0.000245  0.000760 -0.000698\n",
       "2  7.371  2  1  1.932275  0.051480 -0.132363 -0.925212\n",
       "3  7.421  3  2  1.901164  0.015751 -0.020321  0.121696\n",
       "4    NaN  0  0       NaN       NaN       NaN       NaN"
      ]
     },
     "execution_count": 3,
     "metadata": {},
     "output_type": "execute_result"
    }
   ],
   "source": [
    "ground_truth_poses_df"
   ]
  },
  {
   "cell_type": "code",
   "execution_count": 4,
   "id": "a4658d3b",
   "metadata": {},
   "outputs": [
    {
     "data": {
      "text/plain": [
       "array([[0, 1],\n",
       "       [1, 2],\n",
       "       [2, 1],\n",
       "       [3, 2],\n",
       "       [0, 0]])"
      ]
     },
     "execution_count": 4,
     "metadata": {},
     "output_type": "execute_result"
    }
   ],
   "source": [
    "ground_truth_positions"
   ]
  },
  {
   "cell_type": "code",
   "execution_count": 5,
   "id": "795af0b2",
   "metadata": {},
   "outputs": [
    {
     "data": {
      "text/plain": [
       "array([[1, 2],\n",
       "       [2, 1],\n",
       "       [3, 2]])"
      ]
     },
     "execution_count": 5,
     "metadata": {},
     "output_type": "execute_result"
    }
   ],
   "source": [
    "ground_truth_positions[1:-1]"
   ]
  },
  {
   "cell_type": "code",
   "execution_count": 6,
   "id": "4693c893",
   "metadata": {},
   "outputs": [
    {
     "data": {
      "text/plain": [
       "array([[0, 1],\n",
       "       [1, 2],\n",
       "       [2, 1]])"
      ]
     },
     "execution_count": 6,
     "metadata": {},
     "output_type": "execute_result"
    }
   ],
   "source": [
    "ground_truth_positions[0:-2]"
   ]
  },
  {
   "cell_type": "code",
   "execution_count": 7,
   "id": "ffddca19",
   "metadata": {},
   "outputs": [
    {
     "data": {
      "text/plain": [
       "array([[ 1,  1],\n",
       "       [ 1, -1],\n",
       "       [ 1,  1]])"
      ]
     },
     "execution_count": 7,
     "metadata": {},
     "output_type": "execute_result"
    }
   ],
   "source": [
    "deltas"
   ]
  },
  {
   "cell_type": "code",
   "execution_count": 8,
   "id": "1f507642",
   "metadata": {},
   "outputs": [
    {
     "name": "stdout",
     "output_type": "stream",
     "text": [
      "[1, -1, 1]\n"
     ]
    }
   ],
   "source": [
    "y = [el[1] for el in deltas]\n",
    "print(y)"
   ]
  },
  {
   "cell_type": "code",
   "execution_count": 9,
   "id": "5d86427c",
   "metadata": {},
   "outputs": [
    {
     "name": "stdout",
     "output_type": "stream",
     "text": [
      "[[ 1  1]\n",
      " [ 1 -1]\n",
      " [ 1  1]]\n"
     ]
    }
   ],
   "source": [
    "na = np.array(deltas)\n",
    "print(na)"
   ]
  },
  {
   "cell_type": "code",
   "execution_count": 10,
   "id": "cbe36a41",
   "metadata": {},
   "outputs": [
    {
     "name": "stdout",
     "output_type": "stream",
     "text": [
      "[ 1 -1  1]\n"
     ]
    }
   ],
   "source": [
    "print(na[:,1])"
   ]
  },
  {
   "cell_type": "code",
   "execution_count": 11,
   "id": "b9640f69",
   "metadata": {
    "scrolled": true
   },
   "outputs": [
    {
     "name": "stdout",
     "output_type": "stream",
     "text": [
      "[ 1 -1  1]\n"
     ]
    }
   ],
   "source": [
    "ys = na[:,1]\n",
    "print(ys)"
   ]
  },
  {
   "cell_type": "code",
   "execution_count": 12,
   "id": "bec5512b",
   "metadata": {},
   "outputs": [
    {
     "name": "stdout",
     "output_type": "stream",
     "text": [
      "[1 1 1]\n"
     ]
    }
   ],
   "source": [
    "xs = na[:,0]\n",
    "print(xs)"
   ]
  },
  {
   "cell_type": "code",
   "execution_count": 37,
   "id": "7ccbeacc",
   "metadata": {},
   "outputs": [
    {
     "name": "stdout",
     "output_type": "stream",
     "text": [
      "[ 1. -1.  1.]\n"
     ]
    }
   ],
   "source": [
    "div = np.divide(ys, xs)\n",
    "print(div)"
   ]
  },
  {
   "cell_type": "code",
   "execution_count": 38,
   "id": "668b1f46",
   "metadata": {},
   "outputs": [
    {
     "name": "stdout",
     "output_type": "stream",
     "text": [
      "[ 0.78539816 -0.78539816  0.78539816]\n"
     ]
    }
   ],
   "source": [
    "res = np.arctan(div)\n",
    "print(res)"
   ]
  },
  {
   "cell_type": "code",
   "execution_count": 72,
   "id": "ff68e150",
   "metadata": {},
   "outputs": [
    {
     "name": "stdout",
     "output_type": "stream",
     "text": [
      "Adding  0.7853981633974483 to result:  0\n",
      "Current result:  0.7853981633974483\n",
      "Adding  -0.7853981633974483 to result:  0.7853981633974483\n",
      "Current result:  0.0\n",
      "Adding  0.7853981633974483 to result:  0.0\n",
      "Current result:  0.7853981633974483\n",
      "Adding  -0.7853981633974483 to result:  0.7853981633974483\n",
      "Current result:  0.0\n"
     ]
    }
   ],
   "source": [
    "result = 0\n",
    "final = 0\n",
    "for i in range(len(res)-1):\n",
    "    for index in range(2):\n",
    "        print(\"Adding \", res[index], \"to result: \", result)\n",
    "        result += res[index]\n",
    "        print(\"Current result: \", result)\n",
    "    final += np.absolute(result)\n"
   ]
  },
  {
   "cell_type": "code",
   "execution_count": 59,
   "id": "0aa10204",
   "metadata": {},
   "outputs": [
    {
     "ename": "TypeError",
     "evalue": "unsupported operand type(s) for -: 'list' and 'list'",
     "output_type": "error",
     "traceback": [
      "\u001b[0;31m---------------------------------------------------------------------------\u001b[0m",
      "\u001b[0;31mTypeError\u001b[0m                                 Traceback (most recent call last)",
      "Cell \u001b[0;32mIn [59], line 3\u001b[0m\n\u001b[1;32m      1\u001b[0m ground_truth_positions \u001b[38;5;241m=\u001b[39m [[\u001b[38;5;241m0\u001b[39m, \u001b[38;5;241m1\u001b[39m], [\u001b[38;5;241m1\u001b[39m, \u001b[38;5;241m2\u001b[39m], [\u001b[38;5;241m2\u001b[39m, \u001b[38;5;241m1\u001b[39m], [\u001b[38;5;241m3\u001b[39m, \u001b[38;5;241m2\u001b[39m]]\n\u001b[0;32m----> 3\u001b[0m deltas \u001b[38;5;241m=\u001b[39m (\u001b[43mground_truth_positions\u001b[49m\u001b[43m[\u001b[49m\u001b[38;5;241;43m1\u001b[39;49m\u001b[43m:\u001b[49m\u001b[38;5;241;43m-\u001b[39;49m\u001b[38;5;241;43m1\u001b[39;49m\u001b[43m]\u001b[49m\u001b[43m \u001b[49m\u001b[38;5;241;43m-\u001b[39;49m\u001b[43m \u001b[49m\u001b[43mground_truth_positions\u001b[49m\u001b[43m[\u001b[49m\u001b[38;5;241;43m0\u001b[39;49m\u001b[43m:\u001b[49m\u001b[38;5;241;43m-\u001b[39;49m\u001b[38;5;241;43m2\u001b[39;49m\u001b[43m]\u001b[49m)\n\u001b[1;32m      4\u001b[0m sum_of_deltas \u001b[38;5;241m=\u001b[39m np\u001b[38;5;241m.\u001b[39msum(deltas, axis\u001b[38;5;241m=\u001b[39m\u001b[38;5;241m1\u001b[39m)\n\u001b[1;32m      5\u001b[0m curvature \u001b[38;5;241m=\u001b[39m sum_of_deltas\u001b[38;5;241m.\u001b[39msum()\n",
      "\u001b[0;31mTypeError\u001b[0m: unsupported operand type(s) for -: 'list' and 'list'"
     ]
    }
   ],
   "source": [
    "ground_truth_positions = [[0, 1], [1, 2], [2, 1], [3, 2]]\n",
    "\n",
    "deltas = (ground_truth_positions[1:-1] - ground_truth_positions[0:-2])\n",
    "sum_of_deltas = np.sum(deltas, axis=1)\n",
    "curvature = sum_of_deltas.sum()"
   ]
  },
  {
   "cell_type": "code",
   "execution_count": 65,
   "id": "0d8acc6e",
   "metadata": {},
   "outputs": [
    {
     "name": "stdout",
     "output_type": "stream",
     "text": [
      "ciao\n",
      "ciao\n"
     ]
    }
   ],
   "source": [
    "for i in range(2):\n",
    "    print('ciao')"
   ]
  },
  {
   "cell_type": "code",
   "execution_count": null,
   "id": "b020e0ed",
   "metadata": {},
   "outputs": [],
   "source": []
  }
 ],
 "metadata": {
  "kernelspec": {
   "display_name": "Python 3 (ipykernel)",
   "language": "python",
   "name": "python3"
  },
  "language_info": {
   "codemirror_mode": {
    "name": "ipython",
    "version": 3
   },
   "file_extension": ".py",
   "mimetype": "text/x-python",
   "name": "python",
   "nbconvert_exporter": "python",
   "pygments_lexer": "ipython3",
   "version": "3.8.10"
  },
  "vscode": {
   "interpreter": {
    "hash": "e7370f93d1d0cde622a1f8e1c04877d8463912d04d973331ad4851f04de6915a"
   }
  }
 },
 "nbformat": 4,
 "nbformat_minor": 5
}
