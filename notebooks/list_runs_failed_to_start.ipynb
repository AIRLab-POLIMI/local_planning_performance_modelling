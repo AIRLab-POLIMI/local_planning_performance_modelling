{
 "cells": [
  {
   "cell_type": "code",
   "execution_count": 4,
   "metadata": {},
   "outputs": [
    {
     "data": {
      "text/html": [
       "<style>.container { width:100% !important; }</style>"
      ],
      "text/plain": [
       "<IPython.core.display.HTML object>"
      ]
     },
     "metadata": {},
     "output_type": "display_data"
    }
   ],
   "source": [
    "from IPython.core.display import Markdown, display, HTML\n",
    "display(HTML(\"<style>.container { width:100% !important; }</style>\"))\n",
    "import ipywidgets as widgets\n",
    "from ipywidgets import interact, interact_manual\n",
    "\n",
    "import traceback\n",
    "import numpy as np\n",
    "import scipy.stats as ss\n",
    "import yaml\n",
    "import itertools\n",
    "import sys\n",
    "import os\n",
    "import glob\n",
    "import subprocess\n",
    "from os import path\n",
    "import pickle\n",
    "import pandas as pd\n",
    "import matplotlib.pyplot as plt\n",
    "%matplotlib inline\n",
    "%config InlineBackend.figure_format = 'svg'\n",
    "\n",
    "from sklearn.linear_model import LinearRegression, TheilSenRegressor, RANSACRegressor, HuberRegressor\n",
    "from sklearn.metrics import mean_squared_error, r2_score\n",
    "from sklearn.preprocessing import PolynomialFeatures, StandardScaler\n",
    "from sklearn.pipeline import make_pipeline\n",
    "\n",
    "def printmd(*args):\n",
    "    display(Markdown(' '.join(map(str, args))))"
   ]
  },
  {
   "cell_type": "code",
   "execution_count": 39,
   "metadata": {},
   "outputs": [],
   "source": [
    "def is_completed_run_folder(p):\n",
    "    return path.isdir(p) and path.exists(path.join(p, \"RUN_COMPLETED\"))"
   ]
  },
  {
   "cell_type": "code",
   "execution_count": 40,
   "metadata": {},
   "outputs": [],
   "source": [
    "runs_failed_to_complete = list()\n",
    "\n",
    "base_run_folder = path.expanduser(\"~/ds/performance_modelling/output/test_local_planning/*\")\n",
    "run_folders = sorted(list(filter(is_completed_run_folder, glob.glob(path.expanduser(base_run_folder)))))\n",
    "\n",
    "for run_folder in run_folders:\n",
    "    run_events_file_path = path.join(run_folder, \"benchmark_data\", \"run_events.csv\")\n",
    "    run_events_df = pd.read_csv(run_events_file_path, engine='python', sep=', ')\n",
    "    navigation_start_events = run_events_df[run_events_df.event == 'navigation_goal_accepted']\n",
    "    navigation_succeeded_events = run_events_df[(run_events_df.event == 'navigation_succeeded')]\n",
    "    navigation_failed_events = run_events_df[(run_events_df.event == 'navigation_failed')]\n",
    "    if len(navigation_start_events) == 0 or len(navigation_succeeded_events) + len(navigation_failed_events) != 1:\n",
    "        runs_failed_to_complete.append(run_folder)"
   ]
  },
  {
   "cell_type": "code",
   "execution_count": 41,
   "metadata": {
    "scrolled": false
   },
   "outputs": [
    {
     "name": "stdout",
     "output_type": "stream",
     "text": [
      "\n"
     ]
    }
   ],
   "source": [
    "print(' '.join(runs_failed_to_complete))"
   ]
  },
  {
   "cell_type": "code",
   "execution_count": null,
   "metadata": {},
   "outputs": [],
   "source": []
  }
 ],
 "metadata": {
  "kernelspec": {
   "display_name": "Python 3",
   "language": "python",
   "name": "python3"
  },
  "language_info": {
   "codemirror_mode": {
    "name": "ipython",
    "version": 3
   },
   "file_extension": ".py",
   "mimetype": "text/x-python",
   "name": "python",
   "nbconvert_exporter": "python",
   "pygments_lexer": "ipython3",
   "version": "3.8.10"
  }
 },
 "nbformat": 4,
 "nbformat_minor": 4
}
